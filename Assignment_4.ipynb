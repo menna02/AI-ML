{
 "cells": [
  {
   "cell_type": "markdown",
   "metadata": {
    "id": "2a0y9sz6Znvf"
   },
   "source": [
    "### Create a simple class names calculator"
   ]
  },
  {
   "cell_type": "code",
   "execution_count": 3,
   "metadata": {},
   "outputs": [
    {
     "name": "stdout",
     "output_type": "stream",
     "text": [
      "7\n",
      "-1\n",
      "12\n",
      "0.75\n"
     ]
    }
   ],
   "source": [
    "class calculator():\n",
    "    def add(self,num1,num2):\n",
    "        return num1+num2\n",
    "    def sub(self,num1,num2):\n",
    "        return num1-num2\n",
    "    def multiply(self,num1,num2):\n",
    "        return num1*num2\n",
    "    def divide(self,num1,num2):\n",
    "        return num1/num2\n",
    "    \n",
    "calc = calculator()\n",
    "print(calc.add(3,4))\n",
    "print(calc.sub(3,4))\n",
    "print(calc.multiply(3,4))\n",
    "print(calc.divide(3,4))"
   ]
  },
  {
   "cell_type": "markdown",
   "metadata": {
    "id": "h-9hbnhMZrdV"
   },
   "source": [
    "### Create a constructor that prints Welcome message"
   ]
  },
  {
   "cell_type": "code",
   "execution_count": 4,
   "metadata": {},
   "outputs": [
    {
     "name": "stdout",
     "output_type": "stream",
     "text": [
      "Hello World\n"
     ]
    }
   ],
   "source": [
    "class SayHello():\n",
    "    def __init__(self):\n",
    "        print('Hello World')\n",
    "say = SayHello()"
   ]
  },
  {
   "cell_type": "markdown",
   "metadata": {
    "id": "CciUtqOgZtr9"
   },
   "source": [
    "###  Add 2 methods to the class sum & mull"
   ]
  },
  {
   "cell_type": "markdown",
   "metadata": {
    "id": "KX9v_nj0ZwX7"
   },
   "source": [
    "###  The sum method return the sum of 2 arguments x and y"
   ]
  },
  {
   "cell_type": "markdown",
   "metadata": {
    "id": "z-zkBmIzZ1mI"
   },
   "source": [
    "### The mull method return the multiplication of the arguments x and y"
   ]
  },
  {
   "cell_type": "markdown",
   "metadata": {
    "id": "EvC_D3eHZ3mf"
   },
   "source": [
    "###  Take an object from the class"
   ]
  },
  {
   "cell_type": "code",
   "execution_count": 6,
   "metadata": {},
   "outputs": [
    {
     "name": "stdout",
     "output_type": "stream",
     "text": [
      "Hello World\n",
      "7\n",
      "30\n"
     ]
    }
   ],
   "source": [
    "class calculator():\n",
    "    def __init__(self):\n",
    "        print('Hello World')\n",
    "    def add(self,num1,num2):\n",
    "        return num1+num2\n",
    "    def multiply(self,num1,num2):\n",
    "        return num1*num2\n",
    "calc = calculator()\n",
    "print(calc.add(3,4))\n",
    "print(calc.multiply(5,6))"
   ]
  },
  {
   "cell_type": "markdown",
   "metadata": {
    "id": "hY6TnxuoZ9jw"
   },
   "source": [
    "### Explain in few words why we call the self in methods"
   ]
  },
  {
   "cell_type": "markdown",
   "metadata": {},
   "source": [
    "to refer to the object that is currently used. "
   ]
  },
  {
   "cell_type": "markdown",
   "metadata": {
    "id": "KdsHy2_CZ_d_"
   },
   "source": [
    "### What we mean with OOP 4 Pillars"
   ]
  },
  {
   "cell_type": "markdown",
   "metadata": {},
   "source": [
    "Encapsulation, Abstraction, Inheritence, Polymorphism. "
   ]
  },
  {
   "cell_type": "markdown",
   "metadata": {
    "id": "_WkKdEQSaBlt"
   },
   "source": [
    "###  Why we use OOP in our code"
   ]
  },
  {
   "cell_type": "markdown",
   "metadata": {},
   "source": [
    "Bec. it offers reusabilty, code abstraction, and maintainance. "
   ]
  },
  {
   "cell_type": "markdown",
   "metadata": {
    "id": "IdJYRpDlaEca"
   },
   "source": [
    "### Create a new class names SciCalc with 3 methods , sum , mull , power all of them takes 2 argument x, y"
   ]
  },
  {
   "cell_type": "markdown",
   "metadata": {
    "id": "qV1wzT51aHlw"
   },
   "source": [
    "### Sum return the sum of x and y"
   ]
  },
  {
   "cell_type": "markdown",
   "metadata": {
    "id": "EwdGJ1KVaJ9W"
   },
   "source": [
    "###  Mull return the multiplication of x and y"
   ]
  },
  {
   "cell_type": "code",
   "execution_count": 13,
   "metadata": {},
   "outputs": [],
   "source": [
    "class SciCalc():\n",
    "    def sum(self,x,y):\n",
    "        return x+y\n",
    "    def mull(self,x,y):\n",
    "        return x*y\n",
    "    def power(self,x,y):\n",
    "        return x^y"
   ]
  },
  {
   "cell_type": "markdown",
   "metadata": {
    "id": "aNNs5VAzaVZx"
   },
   "source": [
    "### Inherit from the Calc class , now remove the unneeded code the the SciCalc after inheriting\n"
   ]
  },
  {
   "cell_type": "code",
   "execution_count": 18,
   "metadata": {},
   "outputs": [
    {
     "name": "stdout",
     "output_type": "stream",
     "text": [
      "Hello World\n",
      "5\n",
      "8\n"
     ]
    }
   ],
   "source": [
    "class SciCalc(calculator):\n",
    "    def power(self,x,y):\n",
    "        return x**y\n",
    "calc = SciCalc()\n",
    "print(calc.add(2,3))\n",
    "print(calc.power(2,3))\n"
   ]
  },
  {
   "cell_type": "markdown",
   "metadata": {
    "id": "BkMXbHfMaf5S"
   },
   "source": [
    "### Explain in few words what happened after inheriting"
   ]
  },
  {
   "cell_type": "markdown",
   "metadata": {},
   "source": [
    "instead of repeating the same methods again, after using inheritence, only the unique methods are added. "
   ]
  }
 ],
 "metadata": {
  "colab": {
   "private_outputs": true,
   "provenance": []
  },
  "kernelspec": {
   "display_name": "Python 3 (ipykernel)",
   "language": "python",
   "name": "python3"
  },
  "language_info": {
   "codemirror_mode": {
    "name": "ipython",
    "version": 3
   },
   "file_extension": ".py",
   "mimetype": "text/x-python",
   "name": "python",
   "nbconvert_exporter": "python",
   "pygments_lexer": "ipython3",
   "version": "3.9.13"
  }
 },
 "nbformat": 4,
 "nbformat_minor": 1
}
