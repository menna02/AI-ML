{
 "cells": [
  {
   "cell_type": "code",
   "execution_count": 1,
   "id": "7920392b",
   "metadata": {
    "_cell_guid": "b1076dfc-b9ad-4769-8c92-a6c4dae69d19",
    "_uuid": "8f2839f25d086af736a60e9eeb907d3b93b6e0e5",
    "execution": {
     "iopub.execute_input": "2024-04-06T10:23:23.363560Z",
     "iopub.status.busy": "2024-04-06T10:23:23.362731Z",
     "iopub.status.idle": "2024-04-06T10:23:25.441439Z",
     "shell.execute_reply": "2024-04-06T10:23:25.440532Z"
    },
    "papermill": {
     "duration": 2.092233,
     "end_time": "2024-04-06T10:23:25.443964",
     "exception": false,
     "start_time": "2024-04-06T10:23:23.351731",
     "status": "completed"
    },
    "tags": []
   },
   "outputs": [],
   "source": [
    "import numpy as np \n",
    "import pandas as pd\n",
    "import matplotlib.pyplot as plt\n",
    "from sklearn.preprocessing import RobustScaler\n",
    "from sklearn.model_selection import train_test_split\n",
    "from sklearn.linear_model import LinearRegression, SGDRegressor\n",
    "from sklearn.metrics import mean_squared_error, mean_absolute_error"
   ]
  },
  {
   "cell_type": "markdown",
   "id": "68937221",
   "metadata": {
    "papermill": {
     "duration": 0.008177,
     "end_time": "2024-04-06T10:23:25.460729",
     "exception": false,
     "start_time": "2024-04-06T10:23:25.452552",
     "status": "completed"
    },
    "tags": []
   },
   "source": [
    "# **Data Importing**"
   ]
  },
  {
   "cell_type": "code",
   "execution_count": 2,
   "id": "6d4a76ba",
   "metadata": {
    "execution": {
     "iopub.execute_input": "2024-04-06T10:23:25.478783Z",
     "iopub.status.busy": "2024-04-06T10:23:25.478251Z",
     "iopub.status.idle": "2024-04-06T10:23:25.499935Z",
     "shell.execute_reply": "2024-04-06T10:23:25.499146Z"
    },
    "papermill": {
     "duration": 0.033191,
     "end_time": "2024-04-06T10:23:25.502109",
     "exception": false,
     "start_time": "2024-04-06T10:23:25.468918",
     "status": "completed"
    },
    "tags": []
   },
   "outputs": [],
   "source": [
    "data = pd.read_csv(\"/kaggle/input/ann-car-sales-price-prediction/car_purchasing.csv\",encoding='ISO-8859-1')"
   ]
  },
  {
   "cell_type": "code",
   "execution_count": 3,
   "id": "887a7de6",
   "metadata": {
    "execution": {
     "iopub.execute_input": "2024-04-06T10:23:25.519914Z",
     "iopub.status.busy": "2024-04-06T10:23:25.519514Z",
     "iopub.status.idle": "2024-04-06T10:23:25.543292Z",
     "shell.execute_reply": "2024-04-06T10:23:25.542201Z"
    },
    "papermill": {
     "duration": 0.03569,
     "end_time": "2024-04-06T10:23:25.545933",
     "exception": false,
     "start_time": "2024-04-06T10:23:25.510243",
     "status": "completed"
    },
    "tags": []
   },
   "outputs": [
    {
     "data": {
      "text/html": [
       "<div>\n",
       "<style scoped>\n",
       "    .dataframe tbody tr th:only-of-type {\n",
       "        vertical-align: middle;\n",
       "    }\n",
       "\n",
       "    .dataframe tbody tr th {\n",
       "        vertical-align: top;\n",
       "    }\n",
       "\n",
       "    .dataframe thead th {\n",
       "        text-align: right;\n",
       "    }\n",
       "</style>\n",
       "<table border=\"1\" class=\"dataframe\">\n",
       "  <thead>\n",
       "    <tr style=\"text-align: right;\">\n",
       "      <th></th>\n",
       "      <th>customer name</th>\n",
       "      <th>customer e-mail</th>\n",
       "      <th>country</th>\n",
       "      <th>gender</th>\n",
       "      <th>age</th>\n",
       "      <th>annual Salary</th>\n",
       "      <th>credit card debt</th>\n",
       "      <th>net worth</th>\n",
       "      <th>car purchase amount</th>\n",
       "    </tr>\n",
       "  </thead>\n",
       "  <tbody>\n",
       "    <tr>\n",
       "      <th>0</th>\n",
       "      <td>Martina Avila</td>\n",
       "      <td>cubilia.Curae.Phasellus@quisaccumsanconvallis.edu</td>\n",
       "      <td>Bulgaria</td>\n",
       "      <td>0</td>\n",
       "      <td>41.851720</td>\n",
       "      <td>62812.09301</td>\n",
       "      <td>11609.380910</td>\n",
       "      <td>238961.2505</td>\n",
       "      <td>35321.45877</td>\n",
       "    </tr>\n",
       "    <tr>\n",
       "      <th>1</th>\n",
       "      <td>Harlan Barnes</td>\n",
       "      <td>eu.dolor@diam.co.uk</td>\n",
       "      <td>Belize</td>\n",
       "      <td>0</td>\n",
       "      <td>40.870623</td>\n",
       "      <td>66646.89292</td>\n",
       "      <td>9572.957136</td>\n",
       "      <td>530973.9078</td>\n",
       "      <td>45115.52566</td>\n",
       "    </tr>\n",
       "    <tr>\n",
       "      <th>2</th>\n",
       "      <td>Naomi Rodriquez</td>\n",
       "      <td>vulputate.mauris.sagittis@ametconsectetueradip...</td>\n",
       "      <td>Algeria</td>\n",
       "      <td>1</td>\n",
       "      <td>43.152897</td>\n",
       "      <td>53798.55112</td>\n",
       "      <td>11160.355060</td>\n",
       "      <td>638467.1773</td>\n",
       "      <td>42925.70921</td>\n",
       "    </tr>\n",
       "    <tr>\n",
       "      <th>3</th>\n",
       "      <td>Jade Cunningham</td>\n",
       "      <td>malesuada@dignissim.com</td>\n",
       "      <td>Cook Islands</td>\n",
       "      <td>1</td>\n",
       "      <td>58.271369</td>\n",
       "      <td>79370.03798</td>\n",
       "      <td>14426.164850</td>\n",
       "      <td>548599.0524</td>\n",
       "      <td>67422.36313</td>\n",
       "    </tr>\n",
       "    <tr>\n",
       "      <th>4</th>\n",
       "      <td>Cedric Leach</td>\n",
       "      <td>felis.ullamcorper.viverra@egetmollislectus.net</td>\n",
       "      <td>Brazil</td>\n",
       "      <td>1</td>\n",
       "      <td>57.313749</td>\n",
       "      <td>59729.15130</td>\n",
       "      <td>5358.712177</td>\n",
       "      <td>560304.0671</td>\n",
       "      <td>55915.46248</td>\n",
       "    </tr>\n",
       "  </tbody>\n",
       "</table>\n",
       "</div>"
      ],
      "text/plain": [
       "     customer name                                    customer e-mail  \\\n",
       "0    Martina Avila  cubilia.Curae.Phasellus@quisaccumsanconvallis.edu   \n",
       "1    Harlan Barnes                                eu.dolor@diam.co.uk   \n",
       "2  Naomi Rodriquez  vulputate.mauris.sagittis@ametconsectetueradip...   \n",
       "3  Jade Cunningham                            malesuada@dignissim.com   \n",
       "4     Cedric Leach     felis.ullamcorper.viverra@egetmollislectus.net   \n",
       "\n",
       "        country  gender        age  annual Salary  credit card debt  \\\n",
       "0      Bulgaria       0  41.851720    62812.09301      11609.380910   \n",
       "1        Belize       0  40.870623    66646.89292       9572.957136   \n",
       "2       Algeria       1  43.152897    53798.55112      11160.355060   \n",
       "3  Cook Islands       1  58.271369    79370.03798      14426.164850   \n",
       "4        Brazil       1  57.313749    59729.15130       5358.712177   \n",
       "\n",
       "     net worth  car purchase amount  \n",
       "0  238961.2505          35321.45877  \n",
       "1  530973.9078          45115.52566  \n",
       "2  638467.1773          42925.70921  \n",
       "3  548599.0524          67422.36313  \n",
       "4  560304.0671          55915.46248  "
      ]
     },
     "execution_count": 3,
     "metadata": {},
     "output_type": "execute_result"
    }
   ],
   "source": [
    "data.head()"
   ]
  },
  {
   "cell_type": "code",
   "execution_count": 4,
   "id": "24e2701f",
   "metadata": {
    "execution": {
     "iopub.execute_input": "2024-04-06T10:23:25.565139Z",
     "iopub.status.busy": "2024-04-06T10:23:25.564763Z",
     "iopub.status.idle": "2024-04-06T10:23:25.590770Z",
     "shell.execute_reply": "2024-04-06T10:23:25.589649Z"
    },
    "papermill": {
     "duration": 0.038142,
     "end_time": "2024-04-06T10:23:25.593015",
     "exception": false,
     "start_time": "2024-04-06T10:23:25.554873",
     "status": "completed"
    },
    "tags": []
   },
   "outputs": [
    {
     "name": "stdout",
     "output_type": "stream",
     "text": [
      "<class 'pandas.core.frame.DataFrame'>\n",
      "RangeIndex: 500 entries, 0 to 499\n",
      "Data columns (total 9 columns):\n",
      " #   Column               Non-Null Count  Dtype  \n",
      "---  ------               --------------  -----  \n",
      " 0   customer name        500 non-null    object \n",
      " 1   customer e-mail      500 non-null    object \n",
      " 2   country              500 non-null    object \n",
      " 3   gender               500 non-null    int64  \n",
      " 4   age                  500 non-null    float64\n",
      " 5   annual Salary        500 non-null    float64\n",
      " 6   credit card debt     500 non-null    float64\n",
      " 7   net worth            500 non-null    float64\n",
      " 8   car purchase amount  500 non-null    float64\n",
      "dtypes: float64(5), int64(1), object(3)\n",
      "memory usage: 35.3+ KB\n"
     ]
    }
   ],
   "source": [
    "data.info()"
   ]
  },
  {
   "cell_type": "code",
   "execution_count": 5,
   "id": "92a8f1de",
   "metadata": {
    "execution": {
     "iopub.execute_input": "2024-04-06T10:23:25.612298Z",
     "iopub.status.busy": "2024-04-06T10:23:25.611939Z",
     "iopub.status.idle": "2024-04-06T10:23:25.641562Z",
     "shell.execute_reply": "2024-04-06T10:23:25.640569Z"
    },
    "papermill": {
     "duration": 0.04149,
     "end_time": "2024-04-06T10:23:25.643970",
     "exception": false,
     "start_time": "2024-04-06T10:23:25.602480",
     "status": "completed"
    },
    "tags": []
   },
   "outputs": [
    {
     "data": {
      "text/html": [
       "<div>\n",
       "<style scoped>\n",
       "    .dataframe tbody tr th:only-of-type {\n",
       "        vertical-align: middle;\n",
       "    }\n",
       "\n",
       "    .dataframe tbody tr th {\n",
       "        vertical-align: top;\n",
       "    }\n",
       "\n",
       "    .dataframe thead th {\n",
       "        text-align: right;\n",
       "    }\n",
       "</style>\n",
       "<table border=\"1\" class=\"dataframe\">\n",
       "  <thead>\n",
       "    <tr style=\"text-align: right;\">\n",
       "      <th></th>\n",
       "      <th>gender</th>\n",
       "      <th>age</th>\n",
       "      <th>annual Salary</th>\n",
       "      <th>credit card debt</th>\n",
       "      <th>net worth</th>\n",
       "      <th>car purchase amount</th>\n",
       "    </tr>\n",
       "  </thead>\n",
       "  <tbody>\n",
       "    <tr>\n",
       "      <th>count</th>\n",
       "      <td>500.000000</td>\n",
       "      <td>500.000000</td>\n",
       "      <td>500.000000</td>\n",
       "      <td>500.000000</td>\n",
       "      <td>500.000000</td>\n",
       "      <td>500.000000</td>\n",
       "    </tr>\n",
       "    <tr>\n",
       "      <th>mean</th>\n",
       "      <td>0.506000</td>\n",
       "      <td>46.241674</td>\n",
       "      <td>62127.239608</td>\n",
       "      <td>9607.645049</td>\n",
       "      <td>431475.713625</td>\n",
       "      <td>44209.799218</td>\n",
       "    </tr>\n",
       "    <tr>\n",
       "      <th>std</th>\n",
       "      <td>0.500465</td>\n",
       "      <td>7.978862</td>\n",
       "      <td>11703.378228</td>\n",
       "      <td>3489.187973</td>\n",
       "      <td>173536.756340</td>\n",
       "      <td>10773.178744</td>\n",
       "    </tr>\n",
       "    <tr>\n",
       "      <th>min</th>\n",
       "      <td>0.000000</td>\n",
       "      <td>20.000000</td>\n",
       "      <td>20000.000000</td>\n",
       "      <td>100.000000</td>\n",
       "      <td>20000.000000</td>\n",
       "      <td>9000.000000</td>\n",
       "    </tr>\n",
       "    <tr>\n",
       "      <th>25%</th>\n",
       "      <td>0.000000</td>\n",
       "      <td>40.949969</td>\n",
       "      <td>54391.977195</td>\n",
       "      <td>7397.515792</td>\n",
       "      <td>299824.195900</td>\n",
       "      <td>37629.896040</td>\n",
       "    </tr>\n",
       "    <tr>\n",
       "      <th>50%</th>\n",
       "      <td>1.000000</td>\n",
       "      <td>46.049901</td>\n",
       "      <td>62915.497035</td>\n",
       "      <td>9655.035568</td>\n",
       "      <td>426750.120650</td>\n",
       "      <td>43997.783390</td>\n",
       "    </tr>\n",
       "    <tr>\n",
       "      <th>75%</th>\n",
       "      <td>1.000000</td>\n",
       "      <td>51.612263</td>\n",
       "      <td>70117.862005</td>\n",
       "      <td>11798.867487</td>\n",
       "      <td>557324.478725</td>\n",
       "      <td>51254.709517</td>\n",
       "    </tr>\n",
       "    <tr>\n",
       "      <th>max</th>\n",
       "      <td>1.000000</td>\n",
       "      <td>70.000000</td>\n",
       "      <td>100000.000000</td>\n",
       "      <td>20000.000000</td>\n",
       "      <td>1000000.000000</td>\n",
       "      <td>80000.000000</td>\n",
       "    </tr>\n",
       "  </tbody>\n",
       "</table>\n",
       "</div>"
      ],
      "text/plain": [
       "           gender         age  annual Salary  credit card debt  \\\n",
       "count  500.000000  500.000000     500.000000        500.000000   \n",
       "mean     0.506000   46.241674   62127.239608       9607.645049   \n",
       "std      0.500465    7.978862   11703.378228       3489.187973   \n",
       "min      0.000000   20.000000   20000.000000        100.000000   \n",
       "25%      0.000000   40.949969   54391.977195       7397.515792   \n",
       "50%      1.000000   46.049901   62915.497035       9655.035568   \n",
       "75%      1.000000   51.612263   70117.862005      11798.867487   \n",
       "max      1.000000   70.000000  100000.000000      20000.000000   \n",
       "\n",
       "            net worth  car purchase amount  \n",
       "count      500.000000           500.000000  \n",
       "mean    431475.713625         44209.799218  \n",
       "std     173536.756340         10773.178744  \n",
       "min      20000.000000          9000.000000  \n",
       "25%     299824.195900         37629.896040  \n",
       "50%     426750.120650         43997.783390  \n",
       "75%     557324.478725         51254.709517  \n",
       "max    1000000.000000         80000.000000  "
      ]
     },
     "execution_count": 5,
     "metadata": {},
     "output_type": "execute_result"
    }
   ],
   "source": [
    "data.describe()"
   ]
  },
  {
   "cell_type": "code",
   "execution_count": 6,
   "id": "2665f5f5",
   "metadata": {
    "execution": {
     "iopub.execute_input": "2024-04-06T10:23:25.664680Z",
     "iopub.status.busy": "2024-04-06T10:23:25.663755Z",
     "iopub.status.idle": "2024-04-06T10:23:25.672672Z",
     "shell.execute_reply": "2024-04-06T10:23:25.671681Z"
    },
    "papermill": {
     "duration": 0.020696,
     "end_time": "2024-04-06T10:23:25.674915",
     "exception": false,
     "start_time": "2024-04-06T10:23:25.654219",
     "status": "completed"
    },
    "tags": []
   },
   "outputs": [
    {
     "data": {
      "text/plain": [
       "0"
      ]
     },
     "execution_count": 6,
     "metadata": {},
     "output_type": "execute_result"
    }
   ],
   "source": [
    "data.duplicated().sum()"
   ]
  },
  {
   "cell_type": "markdown",
   "id": "42ddf615",
   "metadata": {
    "papermill": {
     "duration": 0.008546,
     "end_time": "2024-04-06T10:23:25.692541",
     "exception": false,
     "start_time": "2024-04-06T10:23:25.683995",
     "status": "completed"
    },
    "tags": []
   },
   "source": [
    "## **Data Preprocessing**"
   ]
  },
  {
   "cell_type": "markdown",
   "id": "9a0dff1e",
   "metadata": {
    "papermill": {
     "duration": 0.008455,
     "end_time": "2024-04-06T10:23:25.709722",
     "exception": false,
     "start_time": "2024-04-06T10:23:25.701267",
     "status": "completed"
    },
    "tags": []
   },
   "source": [
    "#### Feature Selection\n",
    "-- Drop : customer name, customer email, country"
   ]
  },
  {
   "cell_type": "code",
   "execution_count": 7,
   "id": "e9de01a9",
   "metadata": {
    "execution": {
     "iopub.execute_input": "2024-04-06T10:23:25.729538Z",
     "iopub.status.busy": "2024-04-06T10:23:25.728561Z",
     "iopub.status.idle": "2024-04-06T10:23:25.744894Z",
     "shell.execute_reply": "2024-04-06T10:23:25.743791Z"
    },
    "papermill": {
     "duration": 0.029013,
     "end_time": "2024-04-06T10:23:25.747361",
     "exception": false,
     "start_time": "2024-04-06T10:23:25.718348",
     "status": "completed"
    },
    "tags": []
   },
   "outputs": [
    {
     "data": {
      "text/html": [
       "<div>\n",
       "<style scoped>\n",
       "    .dataframe tbody tr th:only-of-type {\n",
       "        vertical-align: middle;\n",
       "    }\n",
       "\n",
       "    .dataframe tbody tr th {\n",
       "        vertical-align: top;\n",
       "    }\n",
       "\n",
       "    .dataframe thead th {\n",
       "        text-align: right;\n",
       "    }\n",
       "</style>\n",
       "<table border=\"1\" class=\"dataframe\">\n",
       "  <thead>\n",
       "    <tr style=\"text-align: right;\">\n",
       "      <th></th>\n",
       "      <th>age</th>\n",
       "      <th>annual Salary</th>\n",
       "      <th>credit card debt</th>\n",
       "      <th>net worth</th>\n",
       "      <th>car purchase amount</th>\n",
       "    </tr>\n",
       "  </thead>\n",
       "  <tbody>\n",
       "    <tr>\n",
       "      <th>0</th>\n",
       "      <td>41.851720</td>\n",
       "      <td>62812.09301</td>\n",
       "      <td>11609.380910</td>\n",
       "      <td>238961.2505</td>\n",
       "      <td>35321.45877</td>\n",
       "    </tr>\n",
       "    <tr>\n",
       "      <th>1</th>\n",
       "      <td>40.870623</td>\n",
       "      <td>66646.89292</td>\n",
       "      <td>9572.957136</td>\n",
       "      <td>530973.9078</td>\n",
       "      <td>45115.52566</td>\n",
       "    </tr>\n",
       "    <tr>\n",
       "      <th>2</th>\n",
       "      <td>43.152897</td>\n",
       "      <td>53798.55112</td>\n",
       "      <td>11160.355060</td>\n",
       "      <td>638467.1773</td>\n",
       "      <td>42925.70921</td>\n",
       "    </tr>\n",
       "    <tr>\n",
       "      <th>3</th>\n",
       "      <td>58.271369</td>\n",
       "      <td>79370.03798</td>\n",
       "      <td>14426.164850</td>\n",
       "      <td>548599.0524</td>\n",
       "      <td>67422.36313</td>\n",
       "    </tr>\n",
       "    <tr>\n",
       "      <th>4</th>\n",
       "      <td>57.313749</td>\n",
       "      <td>59729.15130</td>\n",
       "      <td>5358.712177</td>\n",
       "      <td>560304.0671</td>\n",
       "      <td>55915.46248</td>\n",
       "    </tr>\n",
       "  </tbody>\n",
       "</table>\n",
       "</div>"
      ],
      "text/plain": [
       "         age  annual Salary  credit card debt    net worth  \\\n",
       "0  41.851720    62812.09301      11609.380910  238961.2505   \n",
       "1  40.870623    66646.89292       9572.957136  530973.9078   \n",
       "2  43.152897    53798.55112      11160.355060  638467.1773   \n",
       "3  58.271369    79370.03798      14426.164850  548599.0524   \n",
       "4  57.313749    59729.15130       5358.712177  560304.0671   \n",
       "\n",
       "   car purchase amount  \n",
       "0          35321.45877  \n",
       "1          45115.52566  \n",
       "2          42925.70921  \n",
       "3          67422.36313  \n",
       "4          55915.46248  "
      ]
     },
     "execution_count": 7,
     "metadata": {},
     "output_type": "execute_result"
    }
   ],
   "source": [
    "data = data.drop(columns=['customer name', 'customer e-mail', 'country', 'gender'])\n",
    "data.head()"
   ]
  },
  {
   "cell_type": "markdown",
   "id": "689aa0e1",
   "metadata": {
    "papermill": {
     "duration": 0.009331,
     "end_time": "2024-04-06T10:23:25.766361",
     "exception": false,
     "start_time": "2024-04-06T10:23:25.757030",
     "status": "completed"
    },
    "tags": []
   },
   "source": [
    "### X, y Split"
   ]
  },
  {
   "cell_type": "code",
   "execution_count": 8,
   "id": "50d0377c",
   "metadata": {
    "execution": {
     "iopub.execute_input": "2024-04-06T10:23:25.787196Z",
     "iopub.status.busy": "2024-04-06T10:23:25.786835Z",
     "iopub.status.idle": "2024-04-06T10:23:25.798894Z",
     "shell.execute_reply": "2024-04-06T10:23:25.797809Z"
    },
    "papermill": {
     "duration": 0.025821,
     "end_time": "2024-04-06T10:23:25.802115",
     "exception": false,
     "start_time": "2024-04-06T10:23:25.776294",
     "status": "completed"
    },
    "tags": []
   },
   "outputs": [
    {
     "name": "stdout",
     "output_type": "stream",
     "text": [
      "           age  annual Salary  credit card debt    net worth\n",
      "0    41.851720    62812.09301      11609.380910  238961.2505\n",
      "1    40.870623    66646.89292       9572.957136  530973.9078\n",
      "2    43.152897    53798.55112      11160.355060  638467.1773\n",
      "3    58.271369    79370.03798      14426.164850  548599.0524\n",
      "4    57.313749    59729.15130       5358.712177  560304.0671\n",
      "..         ...            ...               ...          ...\n",
      "495  41.462515    71942.40291       6995.902524  541670.1016\n",
      "496  37.642000    56039.49793      12301.456790  360419.0988\n",
      "497  53.943497    68888.77805      10611.606860  764531.3203\n",
      "498  59.160509    49811.99062      14013.034510  337826.6382\n",
      "499  46.731152    61370.67766       9391.341628  462946.4924\n",
      "\n",
      "[500 rows x 4 columns] 0      35321.45877\n",
      "1      45115.52566\n",
      "2      42925.70921\n",
      "3      67422.36313\n",
      "4      55915.46248\n",
      "          ...     \n",
      "495    48901.44342\n",
      "496    31491.41457\n",
      "497    64147.28888\n",
      "498    45442.15353\n",
      "499    45107.22566\n",
      "Name: car purchase amount, Length: 500, dtype: float64\n"
     ]
    }
   ],
   "source": [
    "X = data[data.columns[:-1]]\n",
    "y = data[data.columns[-1]]\n",
    "print(X, y)"
   ]
  },
  {
   "cell_type": "code",
   "execution_count": 9,
   "id": "2467239e",
   "metadata": {
    "execution": {
     "iopub.execute_input": "2024-04-06T10:23:25.825706Z",
     "iopub.status.busy": "2024-04-06T10:23:25.825013Z",
     "iopub.status.idle": "2024-04-06T10:23:25.830029Z",
     "shell.execute_reply": "2024-04-06T10:23:25.829045Z"
    },
    "papermill": {
     "duration": 0.019186,
     "end_time": "2024-04-06T10:23:25.832228",
     "exception": false,
     "start_time": "2024-04-06T10:23:25.813042",
     "status": "completed"
    },
    "tags": []
   },
   "outputs": [],
   "source": [
    "y = y.values.reshape(-1,1)"
   ]
  },
  {
   "cell_type": "code",
   "execution_count": 10,
   "id": "46bc76bd",
   "metadata": {
    "execution": {
     "iopub.execute_input": "2024-04-06T10:23:25.852616Z",
     "iopub.status.busy": "2024-04-06T10:23:25.852313Z",
     "iopub.status.idle": "2024-04-06T10:23:25.865208Z",
     "shell.execute_reply": "2024-04-06T10:23:25.864109Z"
    },
    "papermill": {
     "duration": 0.025714,
     "end_time": "2024-04-06T10:23:25.867481",
     "exception": false,
     "start_time": "2024-04-06T10:23:25.841767",
     "status": "completed"
    },
    "tags": []
   },
   "outputs": [],
   "source": [
    "r_scaler = RobustScaler()\n",
    "X = r_scaler.fit_transform(X)\n",
    "y = r_scaler.fit_transform(y)"
   ]
  },
  {
   "cell_type": "code",
   "execution_count": 11,
   "id": "f8250279",
   "metadata": {
    "execution": {
     "iopub.execute_input": "2024-04-06T10:23:25.888101Z",
     "iopub.status.busy": "2024-04-06T10:23:25.887473Z",
     "iopub.status.idle": "2024-04-06T10:23:25.894663Z",
     "shell.execute_reply": "2024-04-06T10:23:25.893697Z"
    },
    "papermill": {
     "duration": 0.019753,
     "end_time": "2024-04-06T10:23:25.896849",
     "exception": false,
     "start_time": "2024-04-06T10:23:25.877096",
     "status": "completed"
    },
    "tags": []
   },
   "outputs": [
    {
     "data": {
      "text/plain": [
       "array([[-0.39374091, -0.0065754 ,  0.44403299, -0.72927636],\n",
       "       [-0.48575642,  0.23727733, -0.01864846,  0.40475213],\n",
       "       [-0.27170548, -0.57974136,  0.342013  ,  0.82220126],\n",
       "       ...,\n",
       "       [ 0.74032809,  0.37983752,  0.2173358 ,  1.31177021],\n",
       "       [ 1.22962347, -0.83324446,  0.99015013, -0.34533353],\n",
       "       [ 0.06389349, -0.09823418, -0.05991204,  0.14056828]])"
      ]
     },
     "execution_count": 11,
     "metadata": {},
     "output_type": "execute_result"
    }
   ],
   "source": [
    "X"
   ]
  },
  {
   "cell_type": "code",
   "execution_count": 12,
   "id": "8904d2c7",
   "metadata": {
    "collapsed": true,
    "execution": {
     "iopub.execute_input": "2024-04-06T10:23:25.917227Z",
     "iopub.status.busy": "2024-04-06T10:23:25.916879Z",
     "iopub.status.idle": "2024-04-06T10:23:26.009654Z",
     "shell.execute_reply": "2024-04-06T10:23:26.008716Z"
    },
    "jupyter": {
     "outputs_hidden": true
    },
    "papermill": {
     "duration": 0.106283,
     "end_time": "2024-04-06T10:23:26.012530",
     "exception": false,
     "start_time": "2024-04-06T10:23:25.906247",
     "status": "completed"
    },
    "tags": []
   },
   "outputs": [
    {
     "data": {
      "text/plain": [
       "array([[-6.36803185e-01],\n",
       "       [ 8.20372530e-02],\n",
       "       [-7.86854207e-02],\n",
       "       [ 1.71925875e+00],\n",
       "       [ 8.74704018e-01],\n",
       "       [ 9.25826579e-01],\n",
       "       [-1.10622270e+00],\n",
       "       [ 2.52274959e-01],\n",
       "       [ 2.94743904e-01],\n",
       "       [-4.26301423e-01],\n",
       "       [ 1.10443565e+00],\n",
       "       [-1.25430923e-01],\n",
       "       [-1.12278601e+00],\n",
       "       [ 3.86140502e-01],\n",
       "       [ 4.04574358e-01],\n",
       "       [ 6.61989528e-01],\n",
       "       [-1.60226980e-01],\n",
       "       [-7.05117543e-03],\n",
       "       [ 4.66948792e-02],\n",
       "       [ 7.94854231e-01],\n",
       "       [ 5.23542609e-01],\n",
       "       [-4.37046820e-02],\n",
       "       [ 2.38027233e-01],\n",
       "       [ 1.93596113e-01],\n",
       "       [ 7.93125382e-02],\n",
       "       [ 2.86096195e-02],\n",
       "       [-5.01748481e-01],\n",
       "       [ 3.73890510e-01],\n",
       "       [ 1.05341146e+00],\n",
       "       [-2.51281972e-04],\n",
       "       [-1.93861104e+00],\n",
       "       [ 4.78962403e-02],\n",
       "       [ 1.64157181e+00],\n",
       "       [ 6.96646509e-01],\n",
       "       [-3.07338902e-01],\n",
       "       [ 5.58859740e-01],\n",
       "       [-3.68380002e-01],\n",
       "       [-2.48851541e+00],\n",
       "       [-5.92247326e-01],\n",
       "       [ 7.94536295e-01],\n",
       "       [ 1.32690879e-01],\n",
       "       [-1.78374043e-01],\n",
       "       [-1.17187465e+00],\n",
       "       [-1.18768931e+00],\n",
       "       [ 1.81144878e+00],\n",
       "       [ 1.82955246e+00],\n",
       "       [-7.17956389e-01],\n",
       "       [-4.51699189e-01],\n",
       "       [-4.48779801e-01],\n",
       "       [ 3.47643195e-01],\n",
       "       [-1.23381830e+00],\n",
       "       [ 1.44887174e+00],\n",
       "       [ 3.13323318e-01],\n",
       "       [ 1.74926998e-01],\n",
       "       [-8.82126094e-01],\n",
       "       [ 3.01105563e-01],\n",
       "       [ 2.48306434e-01],\n",
       "       [-1.88830639e-01],\n",
       "       [-4.29361710e-01],\n",
       "       [-8.26431983e-01],\n",
       "       [-4.88054096e-01],\n",
       "       [ 2.55861834e-01],\n",
       "       [ 4.20758054e-01],\n",
       "       [-2.86548039e-01],\n",
       "       [-1.24792695e-01],\n",
       "       [ 6.57414344e-01],\n",
       "       [ 3.01386030e-01],\n",
       "       [-2.32568409e-02],\n",
       "       [ 6.39288368e-01],\n",
       "       [ 3.95976526e-01],\n",
       "       [-9.65648585e-01],\n",
       "       [ 3.94544275e-01],\n",
       "       [-1.53699842e-01],\n",
       "       [ 7.78809568e-02],\n",
       "       [ 6.60100286e-01],\n",
       "       [ 5.10854535e-01],\n",
       "       [-1.93808482e-01],\n",
       "       [ 3.20691201e-02],\n",
       "       [-4.03334657e-01],\n",
       "       [-2.03785117e-01],\n",
       "       [-4.10891643e-01],\n",
       "       [-1.86505483e-01],\n",
       "       [-9.98395939e-01],\n",
       "       [-1.18440675e-01],\n",
       "       [-3.66662362e-01],\n",
       "       [-1.79411700e+00],\n",
       "       [ 8.58391223e-02],\n",
       "       [-5.85536661e-01],\n",
       "       [ 5.09376151e-01],\n",
       "       [-2.28275189e+00],\n",
       "       [-3.70101522e-01],\n",
       "       [ 5.30154715e-01],\n",
       "       [-1.32301456e+00],\n",
       "       [ 1.22369039e+00],\n",
       "       [ 7.39631208e-01],\n",
       "       [-2.93061771e-01],\n",
       "       [ 1.29144793e+00],\n",
       "       [-3.29868376e-01],\n",
       "       [ 6.22168884e-01],\n",
       "       [-1.32853238e-01],\n",
       "       [ 9.86704205e-01],\n",
       "       [-1.56450338e+00],\n",
       "       [-7.60160602e-01],\n",
       "       [-9.14288091e-01],\n",
       "       [ 1.20834383e+00],\n",
       "       [ 1.27748605e-01],\n",
       "       [-6.74795252e-01],\n",
       "       [-6.86628188e-01],\n",
       "       [-1.20449831e+00],\n",
       "       [ 8.05533344e-01],\n",
       "       [ 3.77599911e-01],\n",
       "       [ 1.08939152e+00],\n",
       "       [ 9.76787337e-01],\n",
       "       [ 5.83045942e-01],\n",
       "       [-1.00971464e+00],\n",
       "       [ 1.69713262e+00],\n",
       "       [-1.16681020e-01],\n",
       "       [-1.86869711e-01],\n",
       "       [-1.03113112e-01],\n",
       "       [-6.95540326e-01],\n",
       "       [-1.30943954e-01],\n",
       "       [-1.52974297e-01],\n",
       "       [ 1.13164101e+00],\n",
       "       [ 5.43481324e-01],\n",
       "       [ 7.89562148e-01],\n",
       "       [ 2.30877046e-01],\n",
       "       [ 1.49682091e+00],\n",
       "       [-4.95069636e-01],\n",
       "       [ 6.36161496e-01],\n",
       "       [ 2.51281972e-04],\n",
       "       [ 5.54422018e-01],\n",
       "       [-4.22326411e-01],\n",
       "       [-3.10546295e-01],\n",
       "       [-2.87725810e-01],\n",
       "       [-7.97534298e-01],\n",
       "       [ 3.39445203e-01],\n",
       "       [ 2.71229506e-01],\n",
       "       [-3.36688777e-01],\n",
       "       [-7.75745046e-01],\n",
       "       [-8.29186007e-01],\n",
       "       [ 1.38472697e+00],\n",
       "       [-1.06951581e+00],\n",
       "       [ 3.08867465e-02],\n",
       "       [-5.39620047e-01],\n",
       "       [ 7.08835773e-01],\n",
       "       [ 1.45274769e-01],\n",
       "       [-4.03190030e-01],\n",
       "       [ 2.89042930e-01],\n",
       "       [ 1.19080113e+00],\n",
       "       [-3.71911957e-01],\n",
       "       [-1.18809445e+00],\n",
       "       [ 2.64705460e-01],\n",
       "       [-1.20448907e-01],\n",
       "       [-9.31920275e-01],\n",
       "       [-1.19498217e-01],\n",
       "       [-8.92530238e-01],\n",
       "       [-1.28430890e+00],\n",
       "       [-4.27524926e-01],\n",
       "       [-3.35004739e-01],\n",
       "       [-4.61178189e-01],\n",
       "       [ 9.63509118e-01],\n",
       "       [ 1.80227407e-01],\n",
       "       [-1.04751981e-02],\n",
       "       [ 8.51014985e-01],\n",
       "       [-1.11103213e-01],\n",
       "       [-2.28890643e-01],\n",
       "       [-1.71338634e+00],\n",
       "       [-6.28190464e-01],\n",
       "       [-5.78722780e-01],\n",
       "       [-4.26829971e-01],\n",
       "       [-2.18113751e-01],\n",
       "       [-1.18224234e+00],\n",
       "       [-2.00585344e-02],\n",
       "       [ 9.85920700e-01],\n",
       "       [-2.12385462e-01],\n",
       "       [ 3.70872629e-01],\n",
       "       [-2.00535156e-01],\n",
       "       [ 1.50808523e+00],\n",
       "       [-1.09694626e+00],\n",
       "       [-9.74543087e-01],\n",
       "       [-3.84201247e-01],\n",
       "       [-3.42506129e-01],\n",
       "       [-8.35925477e-01],\n",
       "       [ 1.03104378e+00],\n",
       "       [ 7.62542100e-01],\n",
       "       [-5.40159799e-01],\n",
       "       [-3.28492724e-01],\n",
       "       [-7.48220981e-02],\n",
       "       [ 1.23803387e+00],\n",
       "       [ 1.74876811e-01],\n",
       "       [ 9.23470990e-01],\n",
       "       [-8.97940806e-02],\n",
       "       [-4.49043178e-01],\n",
       "       [ 8.88556751e-02],\n",
       "       [ 8.97746551e-01],\n",
       "       [ 4.73939403e-01],\n",
       "       [ 4.20081159e-01],\n",
       "       [-9.02822385e-01],\n",
       "       [ 3.83288800e-01],\n",
       "       [ 1.60813339e-01],\n",
       "       [-5.80620923e-01],\n",
       "       [-5.38527548e-02],\n",
       "       [-2.44950158e-01],\n",
       "       [ 5.64104985e-01],\n",
       "       [ 3.86968571e-02],\n",
       "       [ 3.31829735e-01],\n",
       "       [ 1.32664017e-01],\n",
       "       [ 7.96532301e-01],\n",
       "       [-8.45467413e-01],\n",
       "       [-1.31267405e-01],\n",
       "       [ 8.16756060e-01],\n",
       "       [ 2.92601234e-01],\n",
       "       [-4.34422483e-02],\n",
       "       [ 4.25447953e-02],\n",
       "       [-4.58959717e-01],\n",
       "       [ 2.79451360e-01],\n",
       "       [ 6.23056001e-02],\n",
       "       [ 1.94166505e-01],\n",
       "       [ 9.22302781e-01],\n",
       "       [-1.70595893e-01],\n",
       "       [ 1.25658132e+00],\n",
       "       [-4.91325360e-01],\n",
       "       [ 2.12442011e-01],\n",
       "       [ 9.14504775e-01],\n",
       "       [ 1.10967679e-01],\n",
       "       [-1.20165623e+00],\n",
       "       [ 1.75541411e-01],\n",
       "       [-1.10061886e+00],\n",
       "       [ 5.40038748e-01],\n",
       "       [-1.45806307e-01],\n",
       "       [ 6.35357040e-01],\n",
       "       [ 3.19222043e-02],\n",
       "       [ 1.50961270e-01],\n",
       "       [ 1.04497806e+00],\n",
       "       [-7.39452941e-02],\n",
       "       [ 4.92072618e-01],\n",
       "       [ 2.21052129e-01],\n",
       "       [ 3.96496218e-01],\n",
       "       [-7.34406957e-02],\n",
       "       [ 3.20885714e-02],\n",
       "       [ 1.70844629e-01],\n",
       "       [ 2.09099898e-01],\n",
       "       [ 9.17540534e-01],\n",
       "       [-8.98378787e-02],\n",
       "       [ 6.10371697e-01],\n",
       "       [-7.23543563e-01],\n",
       "       [ 1.23050961e+00],\n",
       "       [ 1.62651119e+00],\n",
       "       [-9.38151653e-01],\n",
       "       [ 1.56882070e-01],\n",
       "       [ 9.52335801e-01],\n",
       "       [-1.45423708e+00],\n",
       "       [ 3.72983897e-01],\n",
       "       [-5.06712482e-01],\n",
       "       [-4.37596647e-02],\n",
       "       [-1.09400781e+00],\n",
       "       [ 3.19371798e-01],\n",
       "       [-7.88031545e-01],\n",
       "       [-1.96011333e-01],\n",
       "       [ 3.91809613e-01],\n",
       "       [ 5.43696904e-01],\n",
       "       [-9.35630817e-01],\n",
       "       [-2.92711134e-02],\n",
       "       [ 3.15764850e-01],\n",
       "       [ 7.35106765e-01],\n",
       "       [-3.90693276e-01],\n",
       "       [-5.07967197e-01],\n",
       "       [-4.44037795e-01],\n",
       "       [-1.96531926e-01],\n",
       "       [ 1.68010766e+00],\n",
       "       [-2.30908445e+00],\n",
       "       [-3.26511112e-01],\n",
       "       [ 6.39370116e-01],\n",
       "       [ 6.97638470e-01],\n",
       "       [ 5.95907205e-01],\n",
       "       [-3.88418161e-01],\n",
       "       [ 2.95581443e-01],\n",
       "       [ 1.13661214e+00],\n",
       "       [-5.93486128e-01],\n",
       "       [-2.17507562e-01],\n",
       "       [ 5.67522701e-01],\n",
       "       [ 6.62326671e-01],\n",
       "       [-8.19809287e-01],\n",
       "       [-1.07011641e+00],\n",
       "       [ 9.88177065e-01],\n",
       "       [ 4.72948924e-01],\n",
       "       [-1.77795902e-01],\n",
       "       [ 1.77227705e-01],\n",
       "       [ 2.65129045e-01],\n",
       "       [ 1.97290871e+00],\n",
       "       [ 8.47395203e-01],\n",
       "       [ 7.23017025e-01],\n",
       "       [-3.00405379e-01],\n",
       "       [ 5.42119407e-02],\n",
       "       [ 2.15738060e-01],\n",
       "       [-1.14181165e+00],\n",
       "       [-4.29347658e-01],\n",
       "       [-9.17622940e-02],\n",
       "       [-1.05153366e+00],\n",
       "       [ 1.39748121e+00],\n",
       "       [ 1.41293520e+00],\n",
       "       [-1.23026852e-01],\n",
       "       [ 3.41671929e-02],\n",
       "       [ 1.69502866e+00],\n",
       "       [-1.60785063e+00],\n",
       "       [-2.91791835e-01],\n",
       "       [ 8.86164820e-01],\n",
       "       [ 3.99589887e-01],\n",
       "       [-1.10097270e-01],\n",
       "       [-5.07383620e-01],\n",
       "       [ 5.77527451e-01],\n",
       "       [-6.07822784e-01],\n",
       "       [-3.01277516e-01],\n",
       "       [-6.03063069e-01],\n",
       "       [-8.30521938e-02],\n",
       "       [ 2.64240070e+00],\n",
       "       [ 1.21316850e+00],\n",
       "       [ 1.15678274e+00],\n",
       "       [-3.22319085e-01],\n",
       "       [ 1.07479836e+00],\n",
       "       [ 6.59540091e-01],\n",
       "       [ 4.89481808e-01],\n",
       "       [ 1.14696930e+00],\n",
       "       [-1.56828008e+00],\n",
       "       [-2.09902969e-01],\n",
       "       [ 6.97161723e-01],\n",
       "       [-5.47078827e-01],\n",
       "       [-3.62434246e-02],\n",
       "       [-9.43210902e-01],\n",
       "       [-9.15369161e-01],\n",
       "       [-9.47835411e-01],\n",
       "       [ 1.00447338e-01],\n",
       "       [-1.37578773e+00],\n",
       "       [-3.01595725e-01],\n",
       "       [ 6.04995091e-01],\n",
       "       [-2.99906622e-01],\n",
       "       [ 1.36513448e-01],\n",
       "       [-9.66741628e-01],\n",
       "       [-3.35783643e-01],\n",
       "       [-6.83969079e-01],\n",
       "       [-1.50312983e+00],\n",
       "       [-1.12031593e+00],\n",
       "       [ 1.10816096e+00],\n",
       "       [ 4.54397614e-01],\n",
       "       [-6.12020196e-01],\n",
       "       [ 1.76190937e-01],\n",
       "       [-8.59211293e-01],\n",
       "       [ 3.72960058e-01],\n",
       "       [ 3.92746701e-01],\n",
       "       [-1.88640044e-01],\n",
       "       [-1.45145356e+00],\n",
       "       [ 3.12880188e-02],\n",
       "       [ 1.20311979e+00],\n",
       "       [-8.83527831e-02],\n",
       "       [ 2.15631895e-01],\n",
       "       [ 1.07665953e+00],\n",
       "       [-4.37068937e-01],\n",
       "       [-3.46955524e-01],\n",
       "       [ 7.78609140e-01],\n",
       "       [-3.60653797e-01],\n",
       "       [ 2.92579201e-01],\n",
       "       [ 1.53031566e-01],\n",
       "       [-9.56615323e-01],\n",
       "       [-6.07041734e-01],\n",
       "       [ 3.71922890e-01],\n",
       "       [ 3.63900378e-01],\n",
       "       [-5.00166881e-01],\n",
       "       [ 1.99103041e-01],\n",
       "       [ 6.52616580e-01],\n",
       "       [-1.04538097e+00],\n",
       "       [ 1.24501160e+00],\n",
       "       [-2.95222417e-01],\n",
       "       [-4.00150807e-01],\n",
       "       [ 9.37015682e-01],\n",
       "       [ 1.40053733e+00],\n",
       "       [ 8.58951245e-01],\n",
       "       [-5.60051621e-01],\n",
       "       [ 6.22397614e-01],\n",
       "       [ 4.62310297e-01],\n",
       "       [-4.94534442e-01],\n",
       "       [ 2.72897468e-01],\n",
       "       [-1.06107238e+00],\n",
       "       [ 1.21611977e+00],\n",
       "       [-5.77791024e-01],\n",
       "       [ 9.76606978e-01],\n",
       "       [ 5.81607486e-01],\n",
       "       [-5.98096558e-01],\n",
       "       [-9.49342383e-02],\n",
       "       [ 8.20356630e-01],\n",
       "       [-1.27692573e+00],\n",
       "       [ 7.33636453e-01],\n",
       "       [ 2.91599168e-01],\n",
       "       [-2.61380547e-02],\n",
       "       [-1.70130071e-01],\n",
       "       [ 1.40495629e+00],\n",
       "       [-9.71765680e-01],\n",
       "       [ 1.58493448e+00],\n",
       "       [-4.49626353e-01],\n",
       "       [-7.91397102e-02],\n",
       "       [-1.57054075e+00],\n",
       "       [ 1.95240723e+00],\n",
       "       [-5.54283661e-02],\n",
       "       [-4.30039522e-01],\n",
       "       [-9.96562882e-01],\n",
       "       [ 1.45845352e+00],\n",
       "       [ 8.18478786e-02],\n",
       "       [ 2.67226910e-02],\n",
       "       [-1.79617029e+00],\n",
       "       [ 4.39919680e-01],\n",
       "       [ 1.30159073e+00],\n",
       "       [-1.63554570e-01],\n",
       "       [ 1.76498008e-01],\n",
       "       [-4.85962543e-01],\n",
       "       [-7.50919791e-01],\n",
       "       [-9.78374797e-01],\n",
       "       [ 5.91467282e-01],\n",
       "       [-9.73312670e-01],\n",
       "       [-3.34560903e-01],\n",
       "       [-4.27375323e-01],\n",
       "       [-2.50126058e-01],\n",
       "       [ 1.32338902e+00],\n",
       "       [ 3.27893569e-01],\n",
       "       [-2.86443084e-01],\n",
       "       [ 4.08863833e-01],\n",
       "       [-9.23987481e-01],\n",
       "       [ 2.73155594e-01],\n",
       "       [-6.02823612e-01],\n",
       "       [-8.01658857e-02],\n",
       "       [ 3.31678666e-01],\n",
       "       [ 1.17131990e-01],\n",
       "       [-8.76058723e-01],\n",
       "       [-8.65289509e-01],\n",
       "       [-6.25533697e-01],\n",
       "       [-1.06263631e+00],\n",
       "       [ 8.38380893e-01],\n",
       "       [-1.36378976e-01],\n",
       "       [ 4.80162045e-01],\n",
       "       [-6.66090214e-01],\n",
       "       [-7.30359283e-03],\n",
       "       [-3.56904200e-01],\n",
       "       [-2.09200413e-01],\n",
       "       [-1.45786886e+00],\n",
       "       [-9.48761818e-02],\n",
       "       [-3.74036250e-01],\n",
       "       [-1.12679628e+00],\n",
       "       [ 5.98366685e-01],\n",
       "       [ 1.66244238e+00],\n",
       "       [-7.98918900e-02],\n",
       "       [ 3.85350050e-01],\n",
       "       [-1.22530942e+00],\n",
       "       [ 2.84190499e-01],\n",
       "       [ 1.17332837e+00],\n",
       "       [ 9.34821913e-02],\n",
       "       [-2.56867982e+00],\n",
       "       [ 1.47842227e-01],\n",
       "       [-8.09595045e-01],\n",
       "       [ 3.51371783e-01],\n",
       "       [ 1.34077594e-01],\n",
       "       [-2.85924591e-01],\n",
       "       [-6.26844162e-01],\n",
       "       [-1.05990370e+00],\n",
       "       [-4.22370634e-01],\n",
       "       [ 3.17692305e-02],\n",
       "       [ 5.17338375e-01],\n",
       "       [ 6.29188928e-01],\n",
       "       [ 1.27755455e+00],\n",
       "       [-1.14013598e+00],\n",
       "       [-1.20453631e+00],\n",
       "       [ 2.92239017e-01],\n",
       "       [-1.16206530e+00],\n",
       "       [ 1.88418657e+00],\n",
       "       [ 2.97609030e-01],\n",
       "       [-4.86872621e-01],\n",
       "       [ 3.69205766e-02],\n",
       "       [-6.50176641e-01],\n",
       "       [ 8.19797661e-01],\n",
       "       [ 3.21905861e-01],\n",
       "       [-5.99951603e-01],\n",
       "       [-5.49003731e-01],\n",
       "       [ 6.68860322e-01],\n",
       "       [ 6.64351280e-01],\n",
       "       [-1.65335619e+00],\n",
       "       [ 7.47089963e-02],\n",
       "       [ 8.35247660e-01],\n",
       "       [ 9.18350154e-01],\n",
       "       [ 2.52918034e-01],\n",
       "       [-1.84086348e-01],\n",
       "       [-8.39956391e-01],\n",
       "       [-1.47756832e-01],\n",
       "       [ 1.14061157e+00],\n",
       "       [-1.94154047e-01],\n",
       "       [ 6.44954597e-01],\n",
       "       [ 1.18312779e+00],\n",
       "       [ 2.76178524e-01],\n",
       "       [ 1.48189076e+00],\n",
       "       [ 3.59906581e-01],\n",
       "       [-9.17911195e-01],\n",
       "       [ 1.47888303e+00],\n",
       "       [ 1.06010269e-01],\n",
       "       [ 8.14280703e-02]])"
      ]
     },
     "execution_count": 12,
     "metadata": {},
     "output_type": "execute_result"
    }
   ],
   "source": [
    "y"
   ]
  },
  {
   "cell_type": "markdown",
   "id": "28e4a07f",
   "metadata": {
    "papermill": {
     "duration": 0.009607,
     "end_time": "2024-04-06T10:23:26.032173",
     "exception": false,
     "start_time": "2024-04-06T10:23:26.022566",
     "status": "completed"
    },
    "tags": []
   },
   "source": [
    "### Train Test Split"
   ]
  },
  {
   "cell_type": "code",
   "execution_count": 13,
   "id": "a980ef00",
   "metadata": {
    "execution": {
     "iopub.execute_input": "2024-04-06T10:23:26.055508Z",
     "iopub.status.busy": "2024-04-06T10:23:26.054538Z",
     "iopub.status.idle": "2024-04-06T10:23:26.065583Z",
     "shell.execute_reply": "2024-04-06T10:23:26.063966Z"
    },
    "papermill": {
     "duration": 0.02708,
     "end_time": "2024-04-06T10:23:26.069083",
     "exception": false,
     "start_time": "2024-04-06T10:23:26.042003",
     "status": "completed"
    },
    "tags": []
   },
   "outputs": [
    {
     "data": {
      "text/plain": [
       "(50, 4)"
      ]
     },
     "execution_count": 13,
     "metadata": {},
     "output_type": "execute_result"
    }
   ],
   "source": [
    "X_train,X_test,y_train,y_test = train_test_split(X, y, random_state = 42, test_size= 0.1)\n",
    "X_test.shape"
   ]
  },
  {
   "cell_type": "markdown",
   "id": "118a4e80",
   "metadata": {
    "papermill": {
     "duration": 0.014176,
     "end_time": "2024-04-06T10:23:26.096946",
     "exception": false,
     "start_time": "2024-04-06T10:23:26.082770",
     "status": "completed"
    },
    "tags": []
   },
   "source": [
    "## Machine Learning Algorithms"
   ]
  },
  {
   "cell_type": "code",
   "execution_count": 14,
   "id": "7df1ec76",
   "metadata": {
    "execution": {
     "iopub.execute_input": "2024-04-06T10:23:26.124068Z",
     "iopub.status.busy": "2024-04-06T10:23:26.123573Z",
     "iopub.status.idle": "2024-04-06T10:23:26.156412Z",
     "shell.execute_reply": "2024-04-06T10:23:26.155216Z"
    },
    "papermill": {
     "duration": 0.050241,
     "end_time": "2024-04-06T10:23:26.159310",
     "exception": false,
     "start_time": "2024-04-06T10:23:26.109069",
     "status": "completed"
    },
    "tags": []
   },
   "outputs": [
    {
     "data": {
      "text/plain": [
       "0.9999999811362869"
      ]
     },
     "execution_count": 14,
     "metadata": {},
     "output_type": "execute_result"
    }
   ],
   "source": [
    "lr_model = LinearRegression()\n",
    "lr_model.fit(X_train,y_train)\n",
    "lr_model.score(X_train, y_train)"
   ]
  },
  {
   "cell_type": "code",
   "execution_count": 15,
   "id": "2d6b9723",
   "metadata": {
    "execution": {
     "iopub.execute_input": "2024-04-06T10:23:26.188509Z",
     "iopub.status.busy": "2024-04-06T10:23:26.188149Z",
     "iopub.status.idle": "2024-04-06T10:23:26.193372Z",
     "shell.execute_reply": "2024-04-06T10:23:26.192293Z"
    },
    "papermill": {
     "duration": 0.021511,
     "end_time": "2024-04-06T10:23:26.196078",
     "exception": false,
     "start_time": "2024-04-06T10:23:26.174567",
     "status": "completed"
    },
    "tags": []
   },
   "outputs": [],
   "source": [
    "y_pred = lr_model.predict(X_test)\n"
   ]
  },
  {
   "cell_type": "code",
   "execution_count": 16,
   "id": "fbe8e13f",
   "metadata": {
    "execution": {
     "iopub.execute_input": "2024-04-06T10:23:26.225002Z",
     "iopub.status.busy": "2024-04-06T10:23:26.223995Z",
     "iopub.status.idle": "2024-04-06T10:23:26.232313Z",
     "shell.execute_reply": "2024-04-06T10:23:26.231407Z"
    },
    "papermill": {
     "duration": 0.02375,
     "end_time": "2024-04-06T10:23:26.235254",
     "exception": false,
     "start_time": "2024-04-06T10:23:26.211504",
     "status": "completed"
    },
    "tags": []
   },
   "outputs": [
    {
     "data": {
      "text/plain": [
       "1.0840999396037733e-08"
      ]
     },
     "execution_count": 16,
     "metadata": {},
     "output_type": "execute_result"
    }
   ],
   "source": [
    "mse= mean_squared_error(y_test, y_pred)\n",
    "mse"
   ]
  },
  {
   "cell_type": "code",
   "execution_count": 17,
   "id": "8235fe49",
   "metadata": {
    "execution": {
     "iopub.execute_input": "2024-04-06T10:23:26.267229Z",
     "iopub.status.busy": "2024-04-06T10:23:26.266018Z",
     "iopub.status.idle": "2024-04-06T10:23:26.285688Z",
     "shell.execute_reply": "2024-04-06T10:23:26.284683Z"
    },
    "papermill": {
     "duration": 0.03631,
     "end_time": "2024-04-06T10:23:26.288075",
     "exception": false,
     "start_time": "2024-04-06T10:23:26.251765",
     "status": "completed"
    },
    "tags": []
   },
   "outputs": [
    {
     "name": "stderr",
     "output_type": "stream",
     "text": [
      "/opt/conda/lib/python3.10/site-packages/sklearn/utils/validation.py:1143: DataConversionWarning: A column-vector y was passed when a 1d array was expected. Please change the shape of y to (n_samples, ), for example using ravel().\n",
      "  y = column_or_1d(y, warn=True)\n"
     ]
    },
    {
     "data": {
      "text/html": [
       "<style>#sk-container-id-1 {color: black;background-color: white;}#sk-container-id-1 pre{padding: 0;}#sk-container-id-1 div.sk-toggleable {background-color: white;}#sk-container-id-1 label.sk-toggleable__label {cursor: pointer;display: block;width: 100%;margin-bottom: 0;padding: 0.3em;box-sizing: border-box;text-align: center;}#sk-container-id-1 label.sk-toggleable__label-arrow:before {content: \"▸\";float: left;margin-right: 0.25em;color: #696969;}#sk-container-id-1 label.sk-toggleable__label-arrow:hover:before {color: black;}#sk-container-id-1 div.sk-estimator:hover label.sk-toggleable__label-arrow:before {color: black;}#sk-container-id-1 div.sk-toggleable__content {max-height: 0;max-width: 0;overflow: hidden;text-align: left;background-color: #f0f8ff;}#sk-container-id-1 div.sk-toggleable__content pre {margin: 0.2em;color: black;border-radius: 0.25em;background-color: #f0f8ff;}#sk-container-id-1 input.sk-toggleable__control:checked~div.sk-toggleable__content {max-height: 200px;max-width: 100%;overflow: auto;}#sk-container-id-1 input.sk-toggleable__control:checked~label.sk-toggleable__label-arrow:before {content: \"▾\";}#sk-container-id-1 div.sk-estimator input.sk-toggleable__control:checked~label.sk-toggleable__label {background-color: #d4ebff;}#sk-container-id-1 div.sk-label input.sk-toggleable__control:checked~label.sk-toggleable__label {background-color: #d4ebff;}#sk-container-id-1 input.sk-hidden--visually {border: 0;clip: rect(1px 1px 1px 1px);clip: rect(1px, 1px, 1px, 1px);height: 1px;margin: -1px;overflow: hidden;padding: 0;position: absolute;width: 1px;}#sk-container-id-1 div.sk-estimator {font-family: monospace;background-color: #f0f8ff;border: 1px dotted black;border-radius: 0.25em;box-sizing: border-box;margin-bottom: 0.5em;}#sk-container-id-1 div.sk-estimator:hover {background-color: #d4ebff;}#sk-container-id-1 div.sk-parallel-item::after {content: \"\";width: 100%;border-bottom: 1px solid gray;flex-grow: 1;}#sk-container-id-1 div.sk-label:hover label.sk-toggleable__label {background-color: #d4ebff;}#sk-container-id-1 div.sk-serial::before {content: \"\";position: absolute;border-left: 1px solid gray;box-sizing: border-box;top: 0;bottom: 0;left: 50%;z-index: 0;}#sk-container-id-1 div.sk-serial {display: flex;flex-direction: column;align-items: center;background-color: white;padding-right: 0.2em;padding-left: 0.2em;position: relative;}#sk-container-id-1 div.sk-item {position: relative;z-index: 1;}#sk-container-id-1 div.sk-parallel {display: flex;align-items: stretch;justify-content: center;background-color: white;position: relative;}#sk-container-id-1 div.sk-item::before, #sk-container-id-1 div.sk-parallel-item::before {content: \"\";position: absolute;border-left: 1px solid gray;box-sizing: border-box;top: 0;bottom: 0;left: 50%;z-index: -1;}#sk-container-id-1 div.sk-parallel-item {display: flex;flex-direction: column;z-index: 1;position: relative;background-color: white;}#sk-container-id-1 div.sk-parallel-item:first-child::after {align-self: flex-end;width: 50%;}#sk-container-id-1 div.sk-parallel-item:last-child::after {align-self: flex-start;width: 50%;}#sk-container-id-1 div.sk-parallel-item:only-child::after {width: 0;}#sk-container-id-1 div.sk-dashed-wrapped {border: 1px dashed gray;margin: 0 0.4em 0.5em 0.4em;box-sizing: border-box;padding-bottom: 0.4em;background-color: white;}#sk-container-id-1 div.sk-label label {font-family: monospace;font-weight: bold;display: inline-block;line-height: 1.2em;}#sk-container-id-1 div.sk-label-container {text-align: center;}#sk-container-id-1 div.sk-container {/* jupyter's `normalize.less` sets `[hidden] { display: none; }` but bootstrap.min.css set `[hidden] { display: none !important; }` so we also need the `!important` here to be able to override the default hidden behavior on the sphinx rendered scikit-learn.org. See: https://github.com/scikit-learn/scikit-learn/issues/21755 */display: inline-block !important;position: relative;}#sk-container-id-1 div.sk-text-repr-fallback {display: none;}</style><div id=\"sk-container-id-1\" class=\"sk-top-container\"><div class=\"sk-text-repr-fallback\"><pre>SGDRegressor(learning_rate=&#x27;adaptive&#x27;, max_iter=3000, random_state=42)</pre><b>In a Jupyter environment, please rerun this cell to show the HTML representation or trust the notebook. <br />On GitHub, the HTML representation is unable to render, please try loading this page with nbviewer.org.</b></div><div class=\"sk-container\" hidden><div class=\"sk-item\"><div class=\"sk-estimator sk-toggleable\"><input class=\"sk-toggleable__control sk-hidden--visually\" id=\"sk-estimator-id-1\" type=\"checkbox\" checked><label for=\"sk-estimator-id-1\" class=\"sk-toggleable__label sk-toggleable__label-arrow\">SGDRegressor</label><div class=\"sk-toggleable__content\"><pre>SGDRegressor(learning_rate=&#x27;adaptive&#x27;, max_iter=3000, random_state=42)</pre></div></div></div></div></div>"
      ],
      "text/plain": [
       "SGDRegressor(learning_rate='adaptive', max_iter=3000, random_state=42)"
      ]
     },
     "execution_count": 17,
     "metadata": {},
     "output_type": "execute_result"
    }
   ],
   "source": [
    "sgd_model = SGDRegressor(max_iter=3000, learning_rate='adaptive', random_state=42)\n",
    "sgd_model.fit(X_train, y_train)"
   ]
  },
  {
   "cell_type": "code",
   "execution_count": 18,
   "id": "69e1303f",
   "metadata": {
    "execution": {
     "iopub.execute_input": "2024-04-06T10:23:26.314070Z",
     "iopub.status.busy": "2024-04-06T10:23:26.313048Z",
     "iopub.status.idle": "2024-04-06T10:23:26.321573Z",
     "shell.execute_reply": "2024-04-06T10:23:26.320610Z"
    },
    "papermill": {
     "duration": 0.023958,
     "end_time": "2024-04-06T10:23:26.323965",
     "exception": false,
     "start_time": "2024-04-06T10:23:26.300007",
     "status": "completed"
    },
    "tags": []
   },
   "outputs": [
    {
     "data": {
      "text/plain": [
       "0.9999999473807598"
      ]
     },
     "execution_count": 18,
     "metadata": {},
     "output_type": "execute_result"
    }
   ],
   "source": [
    "sgd_model.score(X_train, y_train)"
   ]
  },
  {
   "cell_type": "code",
   "execution_count": 19,
   "id": "c643409a",
   "metadata": {
    "execution": {
     "iopub.execute_input": "2024-04-06T10:23:26.351073Z",
     "iopub.status.busy": "2024-04-06T10:23:26.349909Z",
     "iopub.status.idle": "2024-04-06T10:23:26.359408Z",
     "shell.execute_reply": "2024-04-06T10:23:26.358317Z"
    },
    "papermill": {
     "duration": 0.025725,
     "end_time": "2024-04-06T10:23:26.361810",
     "exception": false,
     "start_time": "2024-04-06T10:23:26.336085",
     "status": "completed"
    },
    "tags": []
   },
   "outputs": [
    {
     "data": {
      "text/plain": [
       "0.9999999456264687"
      ]
     },
     "execution_count": 19,
     "metadata": {},
     "output_type": "execute_result"
    }
   ],
   "source": [
    "sgd_model.score(X_test, y_test)"
   ]
  },
  {
   "cell_type": "code",
   "execution_count": 20,
   "id": "ba98922b",
   "metadata": {
    "execution": {
     "iopub.execute_input": "2024-04-06T10:23:26.396982Z",
     "iopub.status.busy": "2024-04-06T10:23:26.396459Z",
     "iopub.status.idle": "2024-04-06T10:23:26.403769Z",
     "shell.execute_reply": "2024-04-06T10:23:26.402691Z"
    },
    "papermill": {
     "duration": 0.032017,
     "end_time": "2024-04-06T10:23:26.406315",
     "exception": false,
     "start_time": "2024-04-06T10:23:26.374298",
     "status": "completed"
    },
    "tags": []
   },
   "outputs": [],
   "source": [
    "y_pred = sgd_model.predict(X_test)"
   ]
  },
  {
   "cell_type": "code",
   "execution_count": 21,
   "id": "6814f309",
   "metadata": {
    "execution": {
     "iopub.execute_input": "2024-04-06T10:23:26.431292Z",
     "iopub.status.busy": "2024-04-06T10:23:26.430918Z",
     "iopub.status.idle": "2024-04-06T10:23:26.437565Z",
     "shell.execute_reply": "2024-04-06T10:23:26.436431Z"
    },
    "papermill": {
     "duration": 0.021745,
     "end_time": "2024-04-06T10:23:26.439899",
     "exception": false,
     "start_time": "2024-04-06T10:23:26.418154",
     "status": "completed"
    },
    "tags": []
   },
   "outputs": [
    {
     "name": "stdout",
     "output_type": "stream",
     "text": [
      "2.999213973610697e-08\n"
     ]
    }
   ],
   "source": [
    "print(mean_squared_error(y_pred, y_test))"
   ]
  },
  {
   "cell_type": "code",
   "execution_count": null,
   "id": "1f509942",
   "metadata": {
    "papermill": {
     "duration": 0.011339,
     "end_time": "2024-04-06T10:23:26.463168",
     "exception": false,
     "start_time": "2024-04-06T10:23:26.451829",
     "status": "completed"
    },
    "tags": []
   },
   "outputs": [],
   "source": []
  }
 ],
 "metadata": {
  "kaggle": {
   "accelerator": "gpu",
   "dataSources": [
    {
     "datasetId": 2515235,
     "sourceId": 4268549,
     "sourceType": "datasetVersion"
    }
   ],
   "dockerImageVersionId": 30674,
   "isGpuEnabled": true,
   "isInternetEnabled": true,
   "language": "python",
   "sourceType": "notebook"
  },
  "kernelspec": {
   "display_name": "Python 3",
   "language": "python",
   "name": "python3"
  },
  "language_info": {
   "codemirror_mode": {
    "name": "ipython",
    "version": 3
   },
   "file_extension": ".py",
   "mimetype": "text/x-python",
   "name": "python",
   "nbconvert_exporter": "python",
   "pygments_lexer": "ipython3",
   "version": "3.10.13"
  },
  "papermill": {
   "default_parameters": {},
   "duration": 6.69598,
   "end_time": "2024-04-06T10:23:26.996302",
   "environment_variables": {},
   "exception": null,
   "input_path": "__notebook__.ipynb",
   "output_path": "__notebook__.ipynb",
   "parameters": {},
   "start_time": "2024-04-06T10:23:20.300322",
   "version": "2.5.0"
  }
 },
 "nbformat": 4,
 "nbformat_minor": 5
}
