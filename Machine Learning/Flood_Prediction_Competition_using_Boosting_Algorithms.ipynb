{
  "metadata": {
    "kernelspec": {
      "language": "python",
      "display_name": "Python 3",
      "name": "python3"
    },
    "language_info": {
      "name": "python",
      "version": "3.10.13",
      "mimetype": "text/x-python",
      "codemirror_mode": {
        "name": "ipython",
        "version": 3
      },
      "pygments_lexer": "ipython3",
      "nbconvert_exporter": "python",
      "file_extension": ".py"
    },
    "kaggle": {
      "accelerator": "none",
      "dataSources": [
        {
          "sourceId": 73278,
          "databundleVersionId": 8121328,
          "sourceType": "competition"
        }
      ],
      "dockerImageVersionId": 30698,
      "isInternetEnabled": true,
      "language": "python",
      "sourceType": "notebook",
      "isGpuEnabled": false
    },
    "colab": {
      "provenance": [],
      "collapsed_sections": [
        "_v50dErCwBm5",
        "jqG7t3Hu2uAb",
        "Qch69_ya6Od2",
        "Qs8bSWhK7kxO",
        "lsblrmVt8UVA",
        "yuFQpw9l9BbP"
      ],
      "include_colab_link": true
    }
  },
  "nbformat_minor": 0,
  "nbformat": 4,
  "cells": [
    {
      "cell_type": "markdown",
      "metadata": {
        "id": "view-in-github",
        "colab_type": "text"
      },
      "source": [
        "<a href=\"https://colab.research.google.com/github/menna02/AI-ML/blob/main/Machine%20Learning/Flood_Prediction_using_Boosting_Algorithms.ipynb\" target=\"_parent\"><img src=\"https://colab.research.google.com/assets/colab-badge.svg\" alt=\"Open In Colab\"/></a>"
      ]
    },
    {
      "source": [
        "\n",
        "# IMPORTANT: RUN THIS CELL IN ORDER TO IMPORT YOUR KAGGLE DATA SOURCES\n",
        "# TO THE CORRECT LOCATION (/kaggle/input) IN YOUR NOTEBOOK,\n",
        "# THEN FEEL FREE TO DELETE THIS CELL.\n",
        "# NOTE: THIS NOTEBOOK ENVIRONMENT DIFFERS FROM KAGGLE'S PYTHON\n",
        "# ENVIRONMENT SO THERE MAY BE MISSING LIBRARIES USED BY YOUR\n",
        "# NOTEBOOK.\n",
        "\n",
        "import os\n",
        "import sys\n",
        "from tempfile import NamedTemporaryFile\n",
        "from urllib.request import urlopen\n",
        "from urllib.parse import unquote, urlparse\n",
        "from urllib.error import HTTPError\n",
        "from zipfile import ZipFile\n",
        "import tarfile\n",
        "import shutil\n",
        "\n",
        "CHUNK_SIZE = 40960\n",
        "DATA_SOURCE_MAPPING = 'playground-series-s4e5:https%3A%2F%2Fstorage.googleapis.com%2Fkaggle-competitions-data%2Fkaggle-v2%2F73278%2F8121328%2Fbundle%2Farchive.zip%3FX-Goog-Algorithm%3DGOOG4-RSA-SHA256%26X-Goog-Credential%3Dgcp-kaggle-com%2540kaggle-161607.iam.gserviceaccount.com%252F20240530%252Fauto%252Fstorage%252Fgoog4_request%26X-Goog-Date%3D20240530T042643Z%26X-Goog-Expires%3D259200%26X-Goog-SignedHeaders%3Dhost%26X-Goog-Signature%3D42da53be655b3307bb4a676cc11f95f2b2a438376f5b71f74a1fd3f2a940c10c6bfcf9e9ede1db3c774b9374e34b8a25ea05acd161fd2535fe6bb29ebca84fb1567c0c0d371e2cafcd5423f8a64d64b252dca4025c2def33089bdca760ee92bdc415c1c4b6ad11f370c0f78dbb00c17a523f9ce134aff11077275e5ba9cbecd7c72500b28f0fbb6462b5030ebc22f9628f4da932621fe13f53d582bd2660cded6b36801989ddf15f9f93a21901dee5889bccd90893a70db5ed4d20473b614f76932c1a973582564abde07804156f199a9611a005e71915fecb2a996a064151253809080f841a3b116a431294ded83501ebcfe408474136e63f39e37a7393322a'\n",
        "\n",
        "KAGGLE_INPUT_PATH='/kaggle/input'\n",
        "KAGGLE_WORKING_PATH='/kaggle/working'\n",
        "KAGGLE_SYMLINK='kaggle'\n",
        "\n",
        "!umount /kaggle/input/ 2> /dev/null\n",
        "shutil.rmtree('/kaggle/input', ignore_errors=True)\n",
        "os.makedirs(KAGGLE_INPUT_PATH, 0o777, exist_ok=True)\n",
        "os.makedirs(KAGGLE_WORKING_PATH, 0o777, exist_ok=True)\n",
        "\n",
        "try:\n",
        "  os.symlink(KAGGLE_INPUT_PATH, os.path.join(\"..\", 'input'), target_is_directory=True)\n",
        "except FileExistsError:\n",
        "  pass\n",
        "try:\n",
        "  os.symlink(KAGGLE_WORKING_PATH, os.path.join(\"..\", 'working'), target_is_directory=True)\n",
        "except FileExistsError:\n",
        "  pass\n",
        "\n",
        "for data_source_mapping in DATA_SOURCE_MAPPING.split(','):\n",
        "    directory, download_url_encoded = data_source_mapping.split(':')\n",
        "    download_url = unquote(download_url_encoded)\n",
        "    filename = urlparse(download_url).path\n",
        "    destination_path = os.path.join(KAGGLE_INPUT_PATH, directory)\n",
        "    try:\n",
        "        with urlopen(download_url) as fileres, NamedTemporaryFile() as tfile:\n",
        "            total_length = fileres.headers['content-length']\n",
        "            print(f'Downloading {directory}, {total_length} bytes compressed')\n",
        "            dl = 0\n",
        "            data = fileres.read(CHUNK_SIZE)\n",
        "            while len(data) > 0:\n",
        "                dl += len(data)\n",
        "                tfile.write(data)\n",
        "                done = int(50 * dl / int(total_length))\n",
        "                sys.stdout.write(f\"\\r[{'=' * done}{' ' * (50-done)}] {dl} bytes downloaded\")\n",
        "                sys.stdout.flush()\n",
        "                data = fileres.read(CHUNK_SIZE)\n",
        "            if filename.endswith('.zip'):\n",
        "              with ZipFile(tfile) as zfile:\n",
        "                zfile.extractall(destination_path)\n",
        "            else:\n",
        "              with tarfile.open(tfile.name) as tarfile:\n",
        "                tarfile.extractall(destination_path)\n",
        "            print(f'\\nDownloaded and uncompressed: {directory}')\n",
        "    except HTTPError as e:\n",
        "        print(f'Failed to load (likely expired) {download_url} to path {destination_path}')\n",
        "        continue\n",
        "    except OSError as e:\n",
        "        print(f'Failed to load {download_url} to path {destination_path}')\n",
        "        continue\n",
        "\n",
        "print('Data source import complete.')\n"
      ],
      "metadata": {
        "id": "vwJA-TzLwBm2",
        "outputId": "2e0113ff-b1e3-4159-be13-a21ba3a39bcf",
        "colab": {
          "base_uri": "https://localhost:8080/"
        }
      },
      "cell_type": "code",
      "outputs": [
        {
          "output_type": "stream",
          "name": "stdout",
          "text": [
            "Downloading playground-series-s4e5, 29311374 bytes compressed\n",
            "[==================================================] 29311374 bytes downloaded\n",
            "Downloaded and uncompressed: playground-series-s4e5\n",
            "Data source import complete.\n"
          ]
        }
      ],
      "execution_count": null
    },
    {
      "cell_type": "markdown",
      "source": [
        "# Import Needed Libraries"
      ],
      "metadata": {
        "id": "KX-9UlZCwBm4"
      }
    },
    {
      "cell_type": "code",
      "source": [
        "# !pip install pycaret"
      ],
      "metadata": {
        "id": "y0k2QmvRKaXd"
      },
      "execution_count": null,
      "outputs": []
    },
    {
      "cell_type": "code",
      "source": [
        "!pip install catboost"
      ],
      "metadata": {
        "id": "XPQyyKBNwkit",
        "outputId": "b1174fc9-f725-49da-ea4b-33f1f2a29af5",
        "colab": {
          "base_uri": "https://localhost:8080/"
        }
      },
      "execution_count": null,
      "outputs": [
        {
          "output_type": "stream",
          "name": "stdout",
          "text": [
            "Collecting catboost\n",
            "  Downloading catboost-1.2.5-cp310-cp310-manylinux2014_x86_64.whl (98.2 MB)\n",
            "\u001b[2K     \u001b[90m━━━━━━━━━━━━━━━━━━━━━━━━━━━━━━━━━━━━━━━━\u001b[0m \u001b[32m98.2/98.2 MB\u001b[0m \u001b[31m9.3 MB/s\u001b[0m eta \u001b[36m0:00:00\u001b[0m\n",
            "\u001b[?25hRequirement already satisfied: graphviz in /usr/local/lib/python3.10/dist-packages (from catboost) (0.20.3)\n",
            "Requirement already satisfied: matplotlib in /usr/local/lib/python3.10/dist-packages (from catboost) (3.7.1)\n",
            "Requirement already satisfied: numpy>=1.16.0 in /usr/local/lib/python3.10/dist-packages (from catboost) (1.25.2)\n",
            "Requirement already satisfied: pandas>=0.24 in /usr/local/lib/python3.10/dist-packages (from catboost) (2.0.3)\n",
            "Requirement already satisfied: scipy in /usr/local/lib/python3.10/dist-packages (from catboost) (1.11.4)\n",
            "Requirement already satisfied: plotly in /usr/local/lib/python3.10/dist-packages (from catboost) (5.15.0)\n",
            "Requirement already satisfied: six in /usr/local/lib/python3.10/dist-packages (from catboost) (1.16.0)\n",
            "Requirement already satisfied: python-dateutil>=2.8.2 in /usr/local/lib/python3.10/dist-packages (from pandas>=0.24->catboost) (2.8.2)\n",
            "Requirement already satisfied: pytz>=2020.1 in /usr/local/lib/python3.10/dist-packages (from pandas>=0.24->catboost) (2023.4)\n",
            "Requirement already satisfied: tzdata>=2022.1 in /usr/local/lib/python3.10/dist-packages (from pandas>=0.24->catboost) (2024.1)\n",
            "Requirement already satisfied: contourpy>=1.0.1 in /usr/local/lib/python3.10/dist-packages (from matplotlib->catboost) (1.2.1)\n",
            "Requirement already satisfied: cycler>=0.10 in /usr/local/lib/python3.10/dist-packages (from matplotlib->catboost) (0.12.1)\n",
            "Requirement already satisfied: fonttools>=4.22.0 in /usr/local/lib/python3.10/dist-packages (from matplotlib->catboost) (4.51.0)\n",
            "Requirement already satisfied: kiwisolver>=1.0.1 in /usr/local/lib/python3.10/dist-packages (from matplotlib->catboost) (1.4.5)\n",
            "Requirement already satisfied: packaging>=20.0 in /usr/local/lib/python3.10/dist-packages (from matplotlib->catboost) (24.0)\n",
            "Requirement already satisfied: pillow>=6.2.0 in /usr/local/lib/python3.10/dist-packages (from matplotlib->catboost) (9.4.0)\n",
            "Requirement already satisfied: pyparsing>=2.3.1 in /usr/local/lib/python3.10/dist-packages (from matplotlib->catboost) (3.1.2)\n",
            "Requirement already satisfied: tenacity>=6.2.0 in /usr/local/lib/python3.10/dist-packages (from plotly->catboost) (8.3.0)\n",
            "Installing collected packages: catboost\n",
            "Successfully installed catboost-1.2.5\n"
          ]
        }
      ]
    },
    {
      "cell_type": "code",
      "source": [
        "import numpy as np\n",
        "import pandas as pd\n",
        "import matplotlib.pyplot as plt\n",
        "import seaborn as sns\n",
        "\n",
        "from sklearn.preprocessing import MinMaxScaler\n",
        "from sklearn.model_selection import train_test_split, GridSearchCV\n",
        "\n",
        "from sklearn.svm import SVR\n",
        "from sklearn.ensemble import BaggingRegressor, AdaBoostRegressor, VotingRegressor, StackingRegressor\n",
        "from xgboost import XGBRegressor\n",
        "from catboost import CatBoostRegressor\n",
        "from lightgbm import LGBMRegressor\n",
        "\n",
        "from sklearn.metrics import mean_squared_error, r2_score"
      ],
      "metadata": {
        "_uuid": "8f2839f25d086af736a60e9eeb907d3b93b6e0e5",
        "_cell_guid": "b1076dfc-b9ad-4769-8c92-a6c4dae69d19",
        "execution": {
          "iopub.status.busy": "2024-05-30T04:18:00.222558Z",
          "iopub.execute_input": "2024-05-30T04:18:00.222993Z",
          "iopub.status.idle": "2024-05-30T04:18:02.53935Z",
          "shell.execute_reply.started": "2024-05-30T04:18:00.222961Z",
          "shell.execute_reply": "2024-05-30T04:18:02.538085Z"
        },
        "trusted": true,
        "id": "pcOTsLe2wBm5"
      },
      "execution_count": null,
      "outputs": []
    },
    {
      "cell_type": "code",
      "source": [
        "import warnings\n",
        "\n",
        "# Ignore all future warnings\n",
        "warnings.filterwarnings(\"ignore\", category=FutureWarning)"
      ],
      "metadata": {
        "id": "7i787qMbwBm5"
      },
      "execution_count": null,
      "outputs": []
    },
    {
      "cell_type": "markdown",
      "source": [
        "# Read The Dataset"
      ],
      "metadata": {
        "id": "_v50dErCwBm5"
      }
    },
    {
      "cell_type": "code",
      "source": [
        "data = pd.read_csv('/kaggle/input/playground-series-s4e5/train.csv')\n",
        "train = data.copy()\n",
        "train.head(5)"
      ],
      "metadata": {
        "execution": {
          "iopub.status.busy": "2024-05-30T04:18:05.333734Z",
          "iopub.execute_input": "2024-05-30T04:18:05.334886Z",
          "iopub.status.idle": "2024-05-30T04:18:07.544462Z",
          "shell.execute_reply.started": "2024-05-30T04:18:05.334846Z",
          "shell.execute_reply": "2024-05-30T04:18:07.543206Z"
        },
        "trusted": true,
        "id": "Lehze0OEwBm5",
        "outputId": "4a0b4daa-141a-4d19-cef7-1b0a9846e26e",
        "colab": {
          "base_uri": "https://localhost:8080/"
        }
      },
      "execution_count": null,
      "outputs": [
        {
          "output_type": "execute_result",
          "data": {
            "text/plain": [
              "   id  MonsoonIntensity  TopographyDrainage  RiverManagement  Deforestation  \\\n",
              "0   0                 5                   8                5              8   \n",
              "1   1                 6                   7                4              4   \n",
              "2   2                 6                   5                6              7   \n",
              "3   3                 3                   4                6              5   \n",
              "4   4                 5                   3                2              6   \n",
              "\n",
              "   Urbanization  ClimateChange  DamsQuality  Siltation  AgriculturalPractices  \\\n",
              "0             6              4            4          3                      3   \n",
              "1             8              8            3          5                      4   \n",
              "2             3              7            1          5                      4   \n",
              "3             4              8            4          7                      6   \n",
              "4             4              4            3          3                      3   \n",
              "\n",
              "   ...  DrainageSystems  CoastalVulnerability  Landslides  Watersheds  \\\n",
              "0  ...                5                     3           3           5   \n",
              "1  ...                7                     2           0           3   \n",
              "2  ...                7                     3           7           5   \n",
              "3  ...                2                     4           7           4   \n",
              "4  ...                2                     2           6           6   \n",
              "\n",
              "   DeterioratingInfrastructure  PopulationScore  WetlandLoss  \\\n",
              "0                            4                7            5   \n",
              "1                            5                3            3   \n",
              "2                            6                8            2   \n",
              "3                            4                6            5   \n",
              "4                            4                1            2   \n",
              "\n",
              "   InadequatePlanning  PoliticalFactors  FloodProbability  \n",
              "0                   7                 3             0.445  \n",
              "1                   4                 3             0.450  \n",
              "2                   3                 3             0.530  \n",
              "3                   7                 5             0.535  \n",
              "4                   3                 5             0.415  \n",
              "\n",
              "[5 rows x 22 columns]"
            ],
            "text/html": [
              "\n",
              "  <div id=\"df-beef3ca2-aeac-4164-b006-8cb16a4f9420\" class=\"colab-df-container\">\n",
              "    <div>\n",
              "<style scoped>\n",
              "    .dataframe tbody tr th:only-of-type {\n",
              "        vertical-align: middle;\n",
              "    }\n",
              "\n",
              "    .dataframe tbody tr th {\n",
              "        vertical-align: top;\n",
              "    }\n",
              "\n",
              "    .dataframe thead th {\n",
              "        text-align: right;\n",
              "    }\n",
              "</style>\n",
              "<table border=\"1\" class=\"dataframe\">\n",
              "  <thead>\n",
              "    <tr style=\"text-align: right;\">\n",
              "      <th></th>\n",
              "      <th>id</th>\n",
              "      <th>MonsoonIntensity</th>\n",
              "      <th>TopographyDrainage</th>\n",
              "      <th>RiverManagement</th>\n",
              "      <th>Deforestation</th>\n",
              "      <th>Urbanization</th>\n",
              "      <th>ClimateChange</th>\n",
              "      <th>DamsQuality</th>\n",
              "      <th>Siltation</th>\n",
              "      <th>AgriculturalPractices</th>\n",
              "      <th>...</th>\n",
              "      <th>DrainageSystems</th>\n",
              "      <th>CoastalVulnerability</th>\n",
              "      <th>Landslides</th>\n",
              "      <th>Watersheds</th>\n",
              "      <th>DeterioratingInfrastructure</th>\n",
              "      <th>PopulationScore</th>\n",
              "      <th>WetlandLoss</th>\n",
              "      <th>InadequatePlanning</th>\n",
              "      <th>PoliticalFactors</th>\n",
              "      <th>FloodProbability</th>\n",
              "    </tr>\n",
              "  </thead>\n",
              "  <tbody>\n",
              "    <tr>\n",
              "      <th>0</th>\n",
              "      <td>0</td>\n",
              "      <td>5</td>\n",
              "      <td>8</td>\n",
              "      <td>5</td>\n",
              "      <td>8</td>\n",
              "      <td>6</td>\n",
              "      <td>4</td>\n",
              "      <td>4</td>\n",
              "      <td>3</td>\n",
              "      <td>3</td>\n",
              "      <td>...</td>\n",
              "      <td>5</td>\n",
              "      <td>3</td>\n",
              "      <td>3</td>\n",
              "      <td>5</td>\n",
              "      <td>4</td>\n",
              "      <td>7</td>\n",
              "      <td>5</td>\n",
              "      <td>7</td>\n",
              "      <td>3</td>\n",
              "      <td>0.445</td>\n",
              "    </tr>\n",
              "    <tr>\n",
              "      <th>1</th>\n",
              "      <td>1</td>\n",
              "      <td>6</td>\n",
              "      <td>7</td>\n",
              "      <td>4</td>\n",
              "      <td>4</td>\n",
              "      <td>8</td>\n",
              "      <td>8</td>\n",
              "      <td>3</td>\n",
              "      <td>5</td>\n",
              "      <td>4</td>\n",
              "      <td>...</td>\n",
              "      <td>7</td>\n",
              "      <td>2</td>\n",
              "      <td>0</td>\n",
              "      <td>3</td>\n",
              "      <td>5</td>\n",
              "      <td>3</td>\n",
              "      <td>3</td>\n",
              "      <td>4</td>\n",
              "      <td>3</td>\n",
              "      <td>0.450</td>\n",
              "    </tr>\n",
              "    <tr>\n",
              "      <th>2</th>\n",
              "      <td>2</td>\n",
              "      <td>6</td>\n",
              "      <td>5</td>\n",
              "      <td>6</td>\n",
              "      <td>7</td>\n",
              "      <td>3</td>\n",
              "      <td>7</td>\n",
              "      <td>1</td>\n",
              "      <td>5</td>\n",
              "      <td>4</td>\n",
              "      <td>...</td>\n",
              "      <td>7</td>\n",
              "      <td>3</td>\n",
              "      <td>7</td>\n",
              "      <td>5</td>\n",
              "      <td>6</td>\n",
              "      <td>8</td>\n",
              "      <td>2</td>\n",
              "      <td>3</td>\n",
              "      <td>3</td>\n",
              "      <td>0.530</td>\n",
              "    </tr>\n",
              "    <tr>\n",
              "      <th>3</th>\n",
              "      <td>3</td>\n",
              "      <td>3</td>\n",
              "      <td>4</td>\n",
              "      <td>6</td>\n",
              "      <td>5</td>\n",
              "      <td>4</td>\n",
              "      <td>8</td>\n",
              "      <td>4</td>\n",
              "      <td>7</td>\n",
              "      <td>6</td>\n",
              "      <td>...</td>\n",
              "      <td>2</td>\n",
              "      <td>4</td>\n",
              "      <td>7</td>\n",
              "      <td>4</td>\n",
              "      <td>4</td>\n",
              "      <td>6</td>\n",
              "      <td>5</td>\n",
              "      <td>7</td>\n",
              "      <td>5</td>\n",
              "      <td>0.535</td>\n",
              "    </tr>\n",
              "    <tr>\n",
              "      <th>4</th>\n",
              "      <td>4</td>\n",
              "      <td>5</td>\n",
              "      <td>3</td>\n",
              "      <td>2</td>\n",
              "      <td>6</td>\n",
              "      <td>4</td>\n",
              "      <td>4</td>\n",
              "      <td>3</td>\n",
              "      <td>3</td>\n",
              "      <td>3</td>\n",
              "      <td>...</td>\n",
              "      <td>2</td>\n",
              "      <td>2</td>\n",
              "      <td>6</td>\n",
              "      <td>6</td>\n",
              "      <td>4</td>\n",
              "      <td>1</td>\n",
              "      <td>2</td>\n",
              "      <td>3</td>\n",
              "      <td>5</td>\n",
              "      <td>0.415</td>\n",
              "    </tr>\n",
              "  </tbody>\n",
              "</table>\n",
              "<p>5 rows × 22 columns</p>\n",
              "</div>\n",
              "    <div class=\"colab-df-buttons\">\n",
              "\n",
              "  <div class=\"colab-df-container\">\n",
              "    <button class=\"colab-df-convert\" onclick=\"convertToInteractive('df-beef3ca2-aeac-4164-b006-8cb16a4f9420')\"\n",
              "            title=\"Convert this dataframe to an interactive table.\"\n",
              "            style=\"display:none;\">\n",
              "\n",
              "  <svg xmlns=\"http://www.w3.org/2000/svg\" height=\"24px\" viewBox=\"0 -960 960 960\">\n",
              "    <path d=\"M120-120v-720h720v720H120Zm60-500h600v-160H180v160Zm220 220h160v-160H400v160Zm0 220h160v-160H400v160ZM180-400h160v-160H180v160Zm440 0h160v-160H620v160ZM180-180h160v-160H180v160Zm440 0h160v-160H620v160Z\"/>\n",
              "  </svg>\n",
              "    </button>\n",
              "\n",
              "  <style>\n",
              "    .colab-df-container {\n",
              "      display:flex;\n",
              "      gap: 12px;\n",
              "    }\n",
              "\n",
              "    .colab-df-convert {\n",
              "      background-color: #E8F0FE;\n",
              "      border: none;\n",
              "      border-radius: 50%;\n",
              "      cursor: pointer;\n",
              "      display: none;\n",
              "      fill: #1967D2;\n",
              "      height: 32px;\n",
              "      padding: 0 0 0 0;\n",
              "      width: 32px;\n",
              "    }\n",
              "\n",
              "    .colab-df-convert:hover {\n",
              "      background-color: #E2EBFA;\n",
              "      box-shadow: 0px 1px 2px rgba(60, 64, 67, 0.3), 0px 1px 3px 1px rgba(60, 64, 67, 0.15);\n",
              "      fill: #174EA6;\n",
              "    }\n",
              "\n",
              "    .colab-df-buttons div {\n",
              "      margin-bottom: 4px;\n",
              "    }\n",
              "\n",
              "    [theme=dark] .colab-df-convert {\n",
              "      background-color: #3B4455;\n",
              "      fill: #D2E3FC;\n",
              "    }\n",
              "\n",
              "    [theme=dark] .colab-df-convert:hover {\n",
              "      background-color: #434B5C;\n",
              "      box-shadow: 0px 1px 3px 1px rgba(0, 0, 0, 0.15);\n",
              "      filter: drop-shadow(0px 1px 2px rgba(0, 0, 0, 0.3));\n",
              "      fill: #FFFFFF;\n",
              "    }\n",
              "  </style>\n",
              "\n",
              "    <script>\n",
              "      const buttonEl =\n",
              "        document.querySelector('#df-beef3ca2-aeac-4164-b006-8cb16a4f9420 button.colab-df-convert');\n",
              "      buttonEl.style.display =\n",
              "        google.colab.kernel.accessAllowed ? 'block' : 'none';\n",
              "\n",
              "      async function convertToInteractive(key) {\n",
              "        const element = document.querySelector('#df-beef3ca2-aeac-4164-b006-8cb16a4f9420');\n",
              "        const dataTable =\n",
              "          await google.colab.kernel.invokeFunction('convertToInteractive',\n",
              "                                                    [key], {});\n",
              "        if (!dataTable) return;\n",
              "\n",
              "        const docLinkHtml = 'Like what you see? Visit the ' +\n",
              "          '<a target=\"_blank\" href=https://colab.research.google.com/notebooks/data_table.ipynb>data table notebook</a>'\n",
              "          + ' to learn more about interactive tables.';\n",
              "        element.innerHTML = '';\n",
              "        dataTable['output_type'] = 'display_data';\n",
              "        await google.colab.output.renderOutput(dataTable, element);\n",
              "        const docLink = document.createElement('div');\n",
              "        docLink.innerHTML = docLinkHtml;\n",
              "        element.appendChild(docLink);\n",
              "      }\n",
              "    </script>\n",
              "  </div>\n",
              "\n",
              "\n",
              "<div id=\"df-59c9e7ac-32f2-4e02-bdb1-6dcb1b2a11c7\">\n",
              "  <button class=\"colab-df-quickchart\" onclick=\"quickchart('df-59c9e7ac-32f2-4e02-bdb1-6dcb1b2a11c7')\"\n",
              "            title=\"Suggest charts\"\n",
              "            style=\"display:none;\">\n",
              "\n",
              "<svg xmlns=\"http://www.w3.org/2000/svg\" height=\"24px\"viewBox=\"0 0 24 24\"\n",
              "     width=\"24px\">\n",
              "    <g>\n",
              "        <path d=\"M19 3H5c-1.1 0-2 .9-2 2v14c0 1.1.9 2 2 2h14c1.1 0 2-.9 2-2V5c0-1.1-.9-2-2-2zM9 17H7v-7h2v7zm4 0h-2V7h2v10zm4 0h-2v-4h2v4z\"/>\n",
              "    </g>\n",
              "</svg>\n",
              "  </button>\n",
              "\n",
              "<style>\n",
              "  .colab-df-quickchart {\n",
              "      --bg-color: #E8F0FE;\n",
              "      --fill-color: #1967D2;\n",
              "      --hover-bg-color: #E2EBFA;\n",
              "      --hover-fill-color: #174EA6;\n",
              "      --disabled-fill-color: #AAA;\n",
              "      --disabled-bg-color: #DDD;\n",
              "  }\n",
              "\n",
              "  [theme=dark] .colab-df-quickchart {\n",
              "      --bg-color: #3B4455;\n",
              "      --fill-color: #D2E3FC;\n",
              "      --hover-bg-color: #434B5C;\n",
              "      --hover-fill-color: #FFFFFF;\n",
              "      --disabled-bg-color: #3B4455;\n",
              "      --disabled-fill-color: #666;\n",
              "  }\n",
              "\n",
              "  .colab-df-quickchart {\n",
              "    background-color: var(--bg-color);\n",
              "    border: none;\n",
              "    border-radius: 50%;\n",
              "    cursor: pointer;\n",
              "    display: none;\n",
              "    fill: var(--fill-color);\n",
              "    height: 32px;\n",
              "    padding: 0;\n",
              "    width: 32px;\n",
              "  }\n",
              "\n",
              "  .colab-df-quickchart:hover {\n",
              "    background-color: var(--hover-bg-color);\n",
              "    box-shadow: 0 1px 2px rgba(60, 64, 67, 0.3), 0 1px 3px 1px rgba(60, 64, 67, 0.15);\n",
              "    fill: var(--button-hover-fill-color);\n",
              "  }\n",
              "\n",
              "  .colab-df-quickchart-complete:disabled,\n",
              "  .colab-df-quickchart-complete:disabled:hover {\n",
              "    background-color: var(--disabled-bg-color);\n",
              "    fill: var(--disabled-fill-color);\n",
              "    box-shadow: none;\n",
              "  }\n",
              "\n",
              "  .colab-df-spinner {\n",
              "    border: 2px solid var(--fill-color);\n",
              "    border-color: transparent;\n",
              "    border-bottom-color: var(--fill-color);\n",
              "    animation:\n",
              "      spin 1s steps(1) infinite;\n",
              "  }\n",
              "\n",
              "  @keyframes spin {\n",
              "    0% {\n",
              "      border-color: transparent;\n",
              "      border-bottom-color: var(--fill-color);\n",
              "      border-left-color: var(--fill-color);\n",
              "    }\n",
              "    20% {\n",
              "      border-color: transparent;\n",
              "      border-left-color: var(--fill-color);\n",
              "      border-top-color: var(--fill-color);\n",
              "    }\n",
              "    30% {\n",
              "      border-color: transparent;\n",
              "      border-left-color: var(--fill-color);\n",
              "      border-top-color: var(--fill-color);\n",
              "      border-right-color: var(--fill-color);\n",
              "    }\n",
              "    40% {\n",
              "      border-color: transparent;\n",
              "      border-right-color: var(--fill-color);\n",
              "      border-top-color: var(--fill-color);\n",
              "    }\n",
              "    60% {\n",
              "      border-color: transparent;\n",
              "      border-right-color: var(--fill-color);\n",
              "    }\n",
              "    80% {\n",
              "      border-color: transparent;\n",
              "      border-right-color: var(--fill-color);\n",
              "      border-bottom-color: var(--fill-color);\n",
              "    }\n",
              "    90% {\n",
              "      border-color: transparent;\n",
              "      border-bottom-color: var(--fill-color);\n",
              "    }\n",
              "  }\n",
              "</style>\n",
              "\n",
              "  <script>\n",
              "    async function quickchart(key) {\n",
              "      const quickchartButtonEl =\n",
              "        document.querySelector('#' + key + ' button');\n",
              "      quickchartButtonEl.disabled = true;  // To prevent multiple clicks.\n",
              "      quickchartButtonEl.classList.add('colab-df-spinner');\n",
              "      try {\n",
              "        const charts = await google.colab.kernel.invokeFunction(\n",
              "            'suggestCharts', [key], {});\n",
              "      } catch (error) {\n",
              "        console.error('Error during call to suggestCharts:', error);\n",
              "      }\n",
              "      quickchartButtonEl.classList.remove('colab-df-spinner');\n",
              "      quickchartButtonEl.classList.add('colab-df-quickchart-complete');\n",
              "    }\n",
              "    (() => {\n",
              "      let quickchartButtonEl =\n",
              "        document.querySelector('#df-59c9e7ac-32f2-4e02-bdb1-6dcb1b2a11c7 button');\n",
              "      quickchartButtonEl.style.display =\n",
              "        google.colab.kernel.accessAllowed ? 'block' : 'none';\n",
              "    })();\n",
              "  </script>\n",
              "</div>\n",
              "\n",
              "    </div>\n",
              "  </div>\n"
            ],
            "application/vnd.google.colaboratory.intrinsic+json": {
              "type": "dataframe",
              "variable_name": "train"
            }
          },
          "metadata": {},
          "execution_count": 6
        }
      ]
    },
    {
      "cell_type": "markdown",
      "source": [
        "# EDA and Preprocessing"
      ],
      "metadata": {
        "id": "sFt3hIp8wBm5"
      }
    },
    {
      "cell_type": "code",
      "source": [
        "train.info()"
      ],
      "metadata": {
        "execution": {
          "iopub.status.busy": "2024-05-30T04:18:09.7489Z",
          "iopub.execute_input": "2024-05-30T04:18:09.74937Z",
          "iopub.status.idle": "2024-05-30T04:18:09.797584Z",
          "shell.execute_reply.started": "2024-05-30T04:18:09.749331Z",
          "shell.execute_reply": "2024-05-30T04:18:09.796478Z"
        },
        "trusted": true,
        "id": "sgL8aDdywBm6",
        "outputId": "30d458e5-f134-41ea-b32a-13db5c8c52d9",
        "colab": {
          "base_uri": "https://localhost:8080/"
        }
      },
      "execution_count": null,
      "outputs": [
        {
          "output_type": "stream",
          "name": "stdout",
          "text": [
            "<class 'pandas.core.frame.DataFrame'>\n",
            "RangeIndex: 1117957 entries, 0 to 1117956\n",
            "Data columns (total 22 columns):\n",
            " #   Column                           Non-Null Count    Dtype  \n",
            "---  ------                           --------------    -----  \n",
            " 0   id                               1117957 non-null  int64  \n",
            " 1   MonsoonIntensity                 1117957 non-null  int64  \n",
            " 2   TopographyDrainage               1117957 non-null  int64  \n",
            " 3   RiverManagement                  1117957 non-null  int64  \n",
            " 4   Deforestation                    1117957 non-null  int64  \n",
            " 5   Urbanization                     1117957 non-null  int64  \n",
            " 6   ClimateChange                    1117957 non-null  int64  \n",
            " 7   DamsQuality                      1117957 non-null  int64  \n",
            " 8   Siltation                        1117957 non-null  int64  \n",
            " 9   AgriculturalPractices            1117957 non-null  int64  \n",
            " 10  Encroachments                    1117957 non-null  int64  \n",
            " 11  IneffectiveDisasterPreparedness  1117957 non-null  int64  \n",
            " 12  DrainageSystems                  1117957 non-null  int64  \n",
            " 13  CoastalVulnerability             1117957 non-null  int64  \n",
            " 14  Landslides                       1117957 non-null  int64  \n",
            " 15  Watersheds                       1117957 non-null  int64  \n",
            " 16  DeterioratingInfrastructure      1117957 non-null  int64  \n",
            " 17  PopulationScore                  1117957 non-null  int64  \n",
            " 18  WetlandLoss                      1117957 non-null  int64  \n",
            " 19  InadequatePlanning               1117957 non-null  int64  \n",
            " 20  PoliticalFactors                 1117957 non-null  int64  \n",
            " 21  FloodProbability                 1117957 non-null  float64\n",
            "dtypes: float64(1), int64(21)\n",
            "memory usage: 187.6 MB\n"
          ]
        }
      ]
    },
    {
      "cell_type": "code",
      "source": [
        "train.isna().sum()"
      ],
      "metadata": {
        "execution": {
          "iopub.status.busy": "2024-05-30T04:18:23.394453Z",
          "iopub.execute_input": "2024-05-30T04:18:23.394836Z",
          "iopub.status.idle": "2024-05-30T04:18:23.433791Z",
          "shell.execute_reply.started": "2024-05-30T04:18:23.394807Z",
          "shell.execute_reply": "2024-05-30T04:18:23.432635Z"
        },
        "trusted": true,
        "id": "4-V_bT6_wBm6",
        "outputId": "8347178a-e276-43de-cb0b-b7894bde3013",
        "colab": {
          "base_uri": "https://localhost:8080/"
        }
      },
      "execution_count": null,
      "outputs": [
        {
          "output_type": "execute_result",
          "data": {
            "text/plain": [
              "id                                 0\n",
              "MonsoonIntensity                   0\n",
              "TopographyDrainage                 0\n",
              "RiverManagement                    0\n",
              "Deforestation                      0\n",
              "Urbanization                       0\n",
              "ClimateChange                      0\n",
              "DamsQuality                        0\n",
              "Siltation                          0\n",
              "AgriculturalPractices              0\n",
              "Encroachments                      0\n",
              "IneffectiveDisasterPreparedness    0\n",
              "DrainageSystems                    0\n",
              "CoastalVulnerability               0\n",
              "Landslides                         0\n",
              "Watersheds                         0\n",
              "DeterioratingInfrastructure        0\n",
              "PopulationScore                    0\n",
              "WetlandLoss                        0\n",
              "InadequatePlanning                 0\n",
              "PoliticalFactors                   0\n",
              "FloodProbability                   0\n",
              "dtype: int64"
            ]
          },
          "metadata": {},
          "execution_count": 8
        }
      ]
    },
    {
      "cell_type": "markdown",
      "source": [
        "* the data has no Nans\n",
        "* there are no object columns, so no need for encoding"
      ],
      "metadata": {
        "id": "W4ErODKTwBm6"
      }
    },
    {
      "cell_type": "code",
      "source": [
        "train.describe().T"
      ],
      "metadata": {
        "execution": {
          "iopub.status.busy": "2024-05-30T04:18:32.560346Z",
          "iopub.execute_input": "2024-05-30T04:18:32.56078Z",
          "iopub.status.idle": "2024-05-30T04:18:33.471084Z",
          "shell.execute_reply.started": "2024-05-30T04:18:32.560745Z",
          "shell.execute_reply": "2024-05-30T04:18:33.469834Z"
        },
        "trusted": true,
        "id": "85umTRdswBm6",
        "outputId": "5ccc1722-1729-49cd-be6c-6ac9ce04aff9",
        "colab": {
          "base_uri": "https://localhost:8080/",
          "height": 759
        }
      },
      "execution_count": null,
      "outputs": [
        {
          "output_type": "execute_result",
          "data": {
            "text/plain": [
              "                                     count           mean            std  \\\n",
              "id                               1117957.0  558978.000000  322726.531784   \n",
              "MonsoonIntensity                 1117957.0       4.921450       2.056387   \n",
              "TopographyDrainage               1117957.0       4.926671       2.093879   \n",
              "RiverManagement                  1117957.0       4.955322       2.072186   \n",
              "Deforestation                    1117957.0       4.942240       2.051689   \n",
              "Urbanization                     1117957.0       4.942517       2.083391   \n",
              "ClimateChange                    1117957.0       4.934093       2.057742   \n",
              "DamsQuality                      1117957.0       4.955878       2.083063   \n",
              "Siltation                        1117957.0       4.927791       2.065992   \n",
              "AgriculturalPractices            1117957.0       4.942619       2.068545   \n",
              "Encroachments                    1117957.0       4.949230       2.083324   \n",
              "IneffectiveDisasterPreparedness  1117957.0       4.945239       2.078141   \n",
              "DrainageSystems                  1117957.0       4.946893       2.072333   \n",
              "CoastalVulnerability             1117957.0       4.953999       2.088899   \n",
              "Landslides                       1117957.0       4.931376       2.078287   \n",
              "Watersheds                       1117957.0       4.929032       2.082395   \n",
              "DeterioratingInfrastructure      1117957.0       4.925907       2.064813   \n",
              "PopulationScore                  1117957.0       4.927520       2.074176   \n",
              "WetlandLoss                      1117957.0       4.950859       2.068696   \n",
              "InadequatePlanning               1117957.0       4.940587       2.081123   \n",
              "PoliticalFactors                 1117957.0       4.939004       2.090350   \n",
              "FloodProbability                 1117957.0       0.504480       0.051026   \n",
              "\n",
              "                                   min        25%         50%        75%  \\\n",
              "id                               0.000  279489.00  558978.000  838467.00   \n",
              "MonsoonIntensity                 0.000       3.00       5.000       6.00   \n",
              "TopographyDrainage               0.000       3.00       5.000       6.00   \n",
              "RiverManagement                  0.000       4.00       5.000       6.00   \n",
              "Deforestation                    0.000       4.00       5.000       6.00   \n",
              "Urbanization                     0.000       3.00       5.000       6.00   \n",
              "ClimateChange                    0.000       3.00       5.000       6.00   \n",
              "DamsQuality                      0.000       4.00       5.000       6.00   \n",
              "Siltation                        0.000       3.00       5.000       6.00   \n",
              "AgriculturalPractices            0.000       3.00       5.000       6.00   \n",
              "Encroachments                    0.000       4.00       5.000       6.00   \n",
              "IneffectiveDisasterPreparedness  0.000       3.00       5.000       6.00   \n",
              "DrainageSystems                  0.000       4.00       5.000       6.00   \n",
              "CoastalVulnerability             0.000       3.00       5.000       6.00   \n",
              "Landslides                       0.000       3.00       5.000       6.00   \n",
              "Watersheds                       0.000       3.00       5.000       6.00   \n",
              "DeterioratingInfrastructure      0.000       3.00       5.000       6.00   \n",
              "PopulationScore                  0.000       3.00       5.000       6.00   \n",
              "WetlandLoss                      0.000       4.00       5.000       6.00   \n",
              "InadequatePlanning               0.000       3.00       5.000       6.00   \n",
              "PoliticalFactors                 0.000       3.00       5.000       6.00   \n",
              "FloodProbability                 0.285       0.47       0.505       0.54   \n",
              "\n",
              "                                         max  \n",
              "id                               1117956.000  \n",
              "MonsoonIntensity                      16.000  \n",
              "TopographyDrainage                    18.000  \n",
              "RiverManagement                       16.000  \n",
              "Deforestation                         17.000  \n",
              "Urbanization                          17.000  \n",
              "ClimateChange                         17.000  \n",
              "DamsQuality                           16.000  \n",
              "Siltation                             16.000  \n",
              "AgriculturalPractices                 16.000  \n",
              "Encroachments                         18.000  \n",
              "IneffectiveDisasterPreparedness       16.000  \n",
              "DrainageSystems                       17.000  \n",
              "CoastalVulnerability                  17.000  \n",
              "Landslides                            16.000  \n",
              "Watersheds                            16.000  \n",
              "DeterioratingInfrastructure           17.000  \n",
              "PopulationScore                       18.000  \n",
              "WetlandLoss                           19.000  \n",
              "InadequatePlanning                    16.000  \n",
              "PoliticalFactors                      16.000  \n",
              "FloodProbability                       0.725  "
            ],
            "text/html": [
              "\n",
              "  <div id=\"df-351ce53c-5543-4282-bb34-f35f573764fe\" class=\"colab-df-container\">\n",
              "    <div>\n",
              "<style scoped>\n",
              "    .dataframe tbody tr th:only-of-type {\n",
              "        vertical-align: middle;\n",
              "    }\n",
              "\n",
              "    .dataframe tbody tr th {\n",
              "        vertical-align: top;\n",
              "    }\n",
              "\n",
              "    .dataframe thead th {\n",
              "        text-align: right;\n",
              "    }\n",
              "</style>\n",
              "<table border=\"1\" class=\"dataframe\">\n",
              "  <thead>\n",
              "    <tr style=\"text-align: right;\">\n",
              "      <th></th>\n",
              "      <th>count</th>\n",
              "      <th>mean</th>\n",
              "      <th>std</th>\n",
              "      <th>min</th>\n",
              "      <th>25%</th>\n",
              "      <th>50%</th>\n",
              "      <th>75%</th>\n",
              "      <th>max</th>\n",
              "    </tr>\n",
              "  </thead>\n",
              "  <tbody>\n",
              "    <tr>\n",
              "      <th>id</th>\n",
              "      <td>1117957.0</td>\n",
              "      <td>558978.000000</td>\n",
              "      <td>322726.531784</td>\n",
              "      <td>0.000</td>\n",
              "      <td>279489.00</td>\n",
              "      <td>558978.000</td>\n",
              "      <td>838467.00</td>\n",
              "      <td>1117956.000</td>\n",
              "    </tr>\n",
              "    <tr>\n",
              "      <th>MonsoonIntensity</th>\n",
              "      <td>1117957.0</td>\n",
              "      <td>4.921450</td>\n",
              "      <td>2.056387</td>\n",
              "      <td>0.000</td>\n",
              "      <td>3.00</td>\n",
              "      <td>5.000</td>\n",
              "      <td>6.00</td>\n",
              "      <td>16.000</td>\n",
              "    </tr>\n",
              "    <tr>\n",
              "      <th>TopographyDrainage</th>\n",
              "      <td>1117957.0</td>\n",
              "      <td>4.926671</td>\n",
              "      <td>2.093879</td>\n",
              "      <td>0.000</td>\n",
              "      <td>3.00</td>\n",
              "      <td>5.000</td>\n",
              "      <td>6.00</td>\n",
              "      <td>18.000</td>\n",
              "    </tr>\n",
              "    <tr>\n",
              "      <th>RiverManagement</th>\n",
              "      <td>1117957.0</td>\n",
              "      <td>4.955322</td>\n",
              "      <td>2.072186</td>\n",
              "      <td>0.000</td>\n",
              "      <td>4.00</td>\n",
              "      <td>5.000</td>\n",
              "      <td>6.00</td>\n",
              "      <td>16.000</td>\n",
              "    </tr>\n",
              "    <tr>\n",
              "      <th>Deforestation</th>\n",
              "      <td>1117957.0</td>\n",
              "      <td>4.942240</td>\n",
              "      <td>2.051689</td>\n",
              "      <td>0.000</td>\n",
              "      <td>4.00</td>\n",
              "      <td>5.000</td>\n",
              "      <td>6.00</td>\n",
              "      <td>17.000</td>\n",
              "    </tr>\n",
              "    <tr>\n",
              "      <th>Urbanization</th>\n",
              "      <td>1117957.0</td>\n",
              "      <td>4.942517</td>\n",
              "      <td>2.083391</td>\n",
              "      <td>0.000</td>\n",
              "      <td>3.00</td>\n",
              "      <td>5.000</td>\n",
              "      <td>6.00</td>\n",
              "      <td>17.000</td>\n",
              "    </tr>\n",
              "    <tr>\n",
              "      <th>ClimateChange</th>\n",
              "      <td>1117957.0</td>\n",
              "      <td>4.934093</td>\n",
              "      <td>2.057742</td>\n",
              "      <td>0.000</td>\n",
              "      <td>3.00</td>\n",
              "      <td>5.000</td>\n",
              "      <td>6.00</td>\n",
              "      <td>17.000</td>\n",
              "    </tr>\n",
              "    <tr>\n",
              "      <th>DamsQuality</th>\n",
              "      <td>1117957.0</td>\n",
              "      <td>4.955878</td>\n",
              "      <td>2.083063</td>\n",
              "      <td>0.000</td>\n",
              "      <td>4.00</td>\n",
              "      <td>5.000</td>\n",
              "      <td>6.00</td>\n",
              "      <td>16.000</td>\n",
              "    </tr>\n",
              "    <tr>\n",
              "      <th>Siltation</th>\n",
              "      <td>1117957.0</td>\n",
              "      <td>4.927791</td>\n",
              "      <td>2.065992</td>\n",
              "      <td>0.000</td>\n",
              "      <td>3.00</td>\n",
              "      <td>5.000</td>\n",
              "      <td>6.00</td>\n",
              "      <td>16.000</td>\n",
              "    </tr>\n",
              "    <tr>\n",
              "      <th>AgriculturalPractices</th>\n",
              "      <td>1117957.0</td>\n",
              "      <td>4.942619</td>\n",
              "      <td>2.068545</td>\n",
              "      <td>0.000</td>\n",
              "      <td>3.00</td>\n",
              "      <td>5.000</td>\n",
              "      <td>6.00</td>\n",
              "      <td>16.000</td>\n",
              "    </tr>\n",
              "    <tr>\n",
              "      <th>Encroachments</th>\n",
              "      <td>1117957.0</td>\n",
              "      <td>4.949230</td>\n",
              "      <td>2.083324</td>\n",
              "      <td>0.000</td>\n",
              "      <td>4.00</td>\n",
              "      <td>5.000</td>\n",
              "      <td>6.00</td>\n",
              "      <td>18.000</td>\n",
              "    </tr>\n",
              "    <tr>\n",
              "      <th>IneffectiveDisasterPreparedness</th>\n",
              "      <td>1117957.0</td>\n",
              "      <td>4.945239</td>\n",
              "      <td>2.078141</td>\n",
              "      <td>0.000</td>\n",
              "      <td>3.00</td>\n",
              "      <td>5.000</td>\n",
              "      <td>6.00</td>\n",
              "      <td>16.000</td>\n",
              "    </tr>\n",
              "    <tr>\n",
              "      <th>DrainageSystems</th>\n",
              "      <td>1117957.0</td>\n",
              "      <td>4.946893</td>\n",
              "      <td>2.072333</td>\n",
              "      <td>0.000</td>\n",
              "      <td>4.00</td>\n",
              "      <td>5.000</td>\n",
              "      <td>6.00</td>\n",
              "      <td>17.000</td>\n",
              "    </tr>\n",
              "    <tr>\n",
              "      <th>CoastalVulnerability</th>\n",
              "      <td>1117957.0</td>\n",
              "      <td>4.953999</td>\n",
              "      <td>2.088899</td>\n",
              "      <td>0.000</td>\n",
              "      <td>3.00</td>\n",
              "      <td>5.000</td>\n",
              "      <td>6.00</td>\n",
              "      <td>17.000</td>\n",
              "    </tr>\n",
              "    <tr>\n",
              "      <th>Landslides</th>\n",
              "      <td>1117957.0</td>\n",
              "      <td>4.931376</td>\n",
              "      <td>2.078287</td>\n",
              "      <td>0.000</td>\n",
              "      <td>3.00</td>\n",
              "      <td>5.000</td>\n",
              "      <td>6.00</td>\n",
              "      <td>16.000</td>\n",
              "    </tr>\n",
              "    <tr>\n",
              "      <th>Watersheds</th>\n",
              "      <td>1117957.0</td>\n",
              "      <td>4.929032</td>\n",
              "      <td>2.082395</td>\n",
              "      <td>0.000</td>\n",
              "      <td>3.00</td>\n",
              "      <td>5.000</td>\n",
              "      <td>6.00</td>\n",
              "      <td>16.000</td>\n",
              "    </tr>\n",
              "    <tr>\n",
              "      <th>DeterioratingInfrastructure</th>\n",
              "      <td>1117957.0</td>\n",
              "      <td>4.925907</td>\n",
              "      <td>2.064813</td>\n",
              "      <td>0.000</td>\n",
              "      <td>3.00</td>\n",
              "      <td>5.000</td>\n",
              "      <td>6.00</td>\n",
              "      <td>17.000</td>\n",
              "    </tr>\n",
              "    <tr>\n",
              "      <th>PopulationScore</th>\n",
              "      <td>1117957.0</td>\n",
              "      <td>4.927520</td>\n",
              "      <td>2.074176</td>\n",
              "      <td>0.000</td>\n",
              "      <td>3.00</td>\n",
              "      <td>5.000</td>\n",
              "      <td>6.00</td>\n",
              "      <td>18.000</td>\n",
              "    </tr>\n",
              "    <tr>\n",
              "      <th>WetlandLoss</th>\n",
              "      <td>1117957.0</td>\n",
              "      <td>4.950859</td>\n",
              "      <td>2.068696</td>\n",
              "      <td>0.000</td>\n",
              "      <td>4.00</td>\n",
              "      <td>5.000</td>\n",
              "      <td>6.00</td>\n",
              "      <td>19.000</td>\n",
              "    </tr>\n",
              "    <tr>\n",
              "      <th>InadequatePlanning</th>\n",
              "      <td>1117957.0</td>\n",
              "      <td>4.940587</td>\n",
              "      <td>2.081123</td>\n",
              "      <td>0.000</td>\n",
              "      <td>3.00</td>\n",
              "      <td>5.000</td>\n",
              "      <td>6.00</td>\n",
              "      <td>16.000</td>\n",
              "    </tr>\n",
              "    <tr>\n",
              "      <th>PoliticalFactors</th>\n",
              "      <td>1117957.0</td>\n",
              "      <td>4.939004</td>\n",
              "      <td>2.090350</td>\n",
              "      <td>0.000</td>\n",
              "      <td>3.00</td>\n",
              "      <td>5.000</td>\n",
              "      <td>6.00</td>\n",
              "      <td>16.000</td>\n",
              "    </tr>\n",
              "    <tr>\n",
              "      <th>FloodProbability</th>\n",
              "      <td>1117957.0</td>\n",
              "      <td>0.504480</td>\n",
              "      <td>0.051026</td>\n",
              "      <td>0.285</td>\n",
              "      <td>0.47</td>\n",
              "      <td>0.505</td>\n",
              "      <td>0.54</td>\n",
              "      <td>0.725</td>\n",
              "    </tr>\n",
              "  </tbody>\n",
              "</table>\n",
              "</div>\n",
              "    <div class=\"colab-df-buttons\">\n",
              "\n",
              "  <div class=\"colab-df-container\">\n",
              "    <button class=\"colab-df-convert\" onclick=\"convertToInteractive('df-351ce53c-5543-4282-bb34-f35f573764fe')\"\n",
              "            title=\"Convert this dataframe to an interactive table.\"\n",
              "            style=\"display:none;\">\n",
              "\n",
              "  <svg xmlns=\"http://www.w3.org/2000/svg\" height=\"24px\" viewBox=\"0 -960 960 960\">\n",
              "    <path d=\"M120-120v-720h720v720H120Zm60-500h600v-160H180v160Zm220 220h160v-160H400v160Zm0 220h160v-160H400v160ZM180-400h160v-160H180v160Zm440 0h160v-160H620v160ZM180-180h160v-160H180v160Zm440 0h160v-160H620v160Z\"/>\n",
              "  </svg>\n",
              "    </button>\n",
              "\n",
              "  <style>\n",
              "    .colab-df-container {\n",
              "      display:flex;\n",
              "      gap: 12px;\n",
              "    }\n",
              "\n",
              "    .colab-df-convert {\n",
              "      background-color: #E8F0FE;\n",
              "      border: none;\n",
              "      border-radius: 50%;\n",
              "      cursor: pointer;\n",
              "      display: none;\n",
              "      fill: #1967D2;\n",
              "      height: 32px;\n",
              "      padding: 0 0 0 0;\n",
              "      width: 32px;\n",
              "    }\n",
              "\n",
              "    .colab-df-convert:hover {\n",
              "      background-color: #E2EBFA;\n",
              "      box-shadow: 0px 1px 2px rgba(60, 64, 67, 0.3), 0px 1px 3px 1px rgba(60, 64, 67, 0.15);\n",
              "      fill: #174EA6;\n",
              "    }\n",
              "\n",
              "    .colab-df-buttons div {\n",
              "      margin-bottom: 4px;\n",
              "    }\n",
              "\n",
              "    [theme=dark] .colab-df-convert {\n",
              "      background-color: #3B4455;\n",
              "      fill: #D2E3FC;\n",
              "    }\n",
              "\n",
              "    [theme=dark] .colab-df-convert:hover {\n",
              "      background-color: #434B5C;\n",
              "      box-shadow: 0px 1px 3px 1px rgba(0, 0, 0, 0.15);\n",
              "      filter: drop-shadow(0px 1px 2px rgba(0, 0, 0, 0.3));\n",
              "      fill: #FFFFFF;\n",
              "    }\n",
              "  </style>\n",
              "\n",
              "    <script>\n",
              "      const buttonEl =\n",
              "        document.querySelector('#df-351ce53c-5543-4282-bb34-f35f573764fe button.colab-df-convert');\n",
              "      buttonEl.style.display =\n",
              "        google.colab.kernel.accessAllowed ? 'block' : 'none';\n",
              "\n",
              "      async function convertToInteractive(key) {\n",
              "        const element = document.querySelector('#df-351ce53c-5543-4282-bb34-f35f573764fe');\n",
              "        const dataTable =\n",
              "          await google.colab.kernel.invokeFunction('convertToInteractive',\n",
              "                                                    [key], {});\n",
              "        if (!dataTable) return;\n",
              "\n",
              "        const docLinkHtml = 'Like what you see? Visit the ' +\n",
              "          '<a target=\"_blank\" href=https://colab.research.google.com/notebooks/data_table.ipynb>data table notebook</a>'\n",
              "          + ' to learn more about interactive tables.';\n",
              "        element.innerHTML = '';\n",
              "        dataTable['output_type'] = 'display_data';\n",
              "        await google.colab.output.renderOutput(dataTable, element);\n",
              "        const docLink = document.createElement('div');\n",
              "        docLink.innerHTML = docLinkHtml;\n",
              "        element.appendChild(docLink);\n",
              "      }\n",
              "    </script>\n",
              "  </div>\n",
              "\n",
              "\n",
              "<div id=\"df-8eeab5ce-22d7-4823-bed0-991b1918de92\">\n",
              "  <button class=\"colab-df-quickchart\" onclick=\"quickchart('df-8eeab5ce-22d7-4823-bed0-991b1918de92')\"\n",
              "            title=\"Suggest charts\"\n",
              "            style=\"display:none;\">\n",
              "\n",
              "<svg xmlns=\"http://www.w3.org/2000/svg\" height=\"24px\"viewBox=\"0 0 24 24\"\n",
              "     width=\"24px\">\n",
              "    <g>\n",
              "        <path d=\"M19 3H5c-1.1 0-2 .9-2 2v14c0 1.1.9 2 2 2h14c1.1 0 2-.9 2-2V5c0-1.1-.9-2-2-2zM9 17H7v-7h2v7zm4 0h-2V7h2v10zm4 0h-2v-4h2v4z\"/>\n",
              "    </g>\n",
              "</svg>\n",
              "  </button>\n",
              "\n",
              "<style>\n",
              "  .colab-df-quickchart {\n",
              "      --bg-color: #E8F0FE;\n",
              "      --fill-color: #1967D2;\n",
              "      --hover-bg-color: #E2EBFA;\n",
              "      --hover-fill-color: #174EA6;\n",
              "      --disabled-fill-color: #AAA;\n",
              "      --disabled-bg-color: #DDD;\n",
              "  }\n",
              "\n",
              "  [theme=dark] .colab-df-quickchart {\n",
              "      --bg-color: #3B4455;\n",
              "      --fill-color: #D2E3FC;\n",
              "      --hover-bg-color: #434B5C;\n",
              "      --hover-fill-color: #FFFFFF;\n",
              "      --disabled-bg-color: #3B4455;\n",
              "      --disabled-fill-color: #666;\n",
              "  }\n",
              "\n",
              "  .colab-df-quickchart {\n",
              "    background-color: var(--bg-color);\n",
              "    border: none;\n",
              "    border-radius: 50%;\n",
              "    cursor: pointer;\n",
              "    display: none;\n",
              "    fill: var(--fill-color);\n",
              "    height: 32px;\n",
              "    padding: 0;\n",
              "    width: 32px;\n",
              "  }\n",
              "\n",
              "  .colab-df-quickchart:hover {\n",
              "    background-color: var(--hover-bg-color);\n",
              "    box-shadow: 0 1px 2px rgba(60, 64, 67, 0.3), 0 1px 3px 1px rgba(60, 64, 67, 0.15);\n",
              "    fill: var(--button-hover-fill-color);\n",
              "  }\n",
              "\n",
              "  .colab-df-quickchart-complete:disabled,\n",
              "  .colab-df-quickchart-complete:disabled:hover {\n",
              "    background-color: var(--disabled-bg-color);\n",
              "    fill: var(--disabled-fill-color);\n",
              "    box-shadow: none;\n",
              "  }\n",
              "\n",
              "  .colab-df-spinner {\n",
              "    border: 2px solid var(--fill-color);\n",
              "    border-color: transparent;\n",
              "    border-bottom-color: var(--fill-color);\n",
              "    animation:\n",
              "      spin 1s steps(1) infinite;\n",
              "  }\n",
              "\n",
              "  @keyframes spin {\n",
              "    0% {\n",
              "      border-color: transparent;\n",
              "      border-bottom-color: var(--fill-color);\n",
              "      border-left-color: var(--fill-color);\n",
              "    }\n",
              "    20% {\n",
              "      border-color: transparent;\n",
              "      border-left-color: var(--fill-color);\n",
              "      border-top-color: var(--fill-color);\n",
              "    }\n",
              "    30% {\n",
              "      border-color: transparent;\n",
              "      border-left-color: var(--fill-color);\n",
              "      border-top-color: var(--fill-color);\n",
              "      border-right-color: var(--fill-color);\n",
              "    }\n",
              "    40% {\n",
              "      border-color: transparent;\n",
              "      border-right-color: var(--fill-color);\n",
              "      border-top-color: var(--fill-color);\n",
              "    }\n",
              "    60% {\n",
              "      border-color: transparent;\n",
              "      border-right-color: var(--fill-color);\n",
              "    }\n",
              "    80% {\n",
              "      border-color: transparent;\n",
              "      border-right-color: var(--fill-color);\n",
              "      border-bottom-color: var(--fill-color);\n",
              "    }\n",
              "    90% {\n",
              "      border-color: transparent;\n",
              "      border-bottom-color: var(--fill-color);\n",
              "    }\n",
              "  }\n",
              "</style>\n",
              "\n",
              "  <script>\n",
              "    async function quickchart(key) {\n",
              "      const quickchartButtonEl =\n",
              "        document.querySelector('#' + key + ' button');\n",
              "      quickchartButtonEl.disabled = true;  // To prevent multiple clicks.\n",
              "      quickchartButtonEl.classList.add('colab-df-spinner');\n",
              "      try {\n",
              "        const charts = await google.colab.kernel.invokeFunction(\n",
              "            'suggestCharts', [key], {});\n",
              "      } catch (error) {\n",
              "        console.error('Error during call to suggestCharts:', error);\n",
              "      }\n",
              "      quickchartButtonEl.classList.remove('colab-df-spinner');\n",
              "      quickchartButtonEl.classList.add('colab-df-quickchart-complete');\n",
              "    }\n",
              "    (() => {\n",
              "      let quickchartButtonEl =\n",
              "        document.querySelector('#df-8eeab5ce-22d7-4823-bed0-991b1918de92 button');\n",
              "      quickchartButtonEl.style.display =\n",
              "        google.colab.kernel.accessAllowed ? 'block' : 'none';\n",
              "    })();\n",
              "  </script>\n",
              "</div>\n",
              "\n",
              "    </div>\n",
              "  </div>\n"
            ],
            "application/vnd.google.colaboratory.intrinsic+json": {
              "type": "dataframe",
              "summary": "{\n  \"name\": \"train\",\n  \"rows\": 22,\n  \"fields\": [\n    {\n      \"column\": \"count\",\n      \"properties\": {\n        \"dtype\": \"number\",\n        \"std\": 0.0,\n        \"min\": 1117957.0,\n        \"max\": 1117957.0,\n        \"num_unique_values\": 1,\n        \"samples\": [\n          1117957.0\n        ],\n        \"semantic_type\": \"\",\n        \"description\": \"\"\n      }\n    },\n    {\n      \"column\": \"mean\",\n      \"properties\": {\n        \"dtype\": \"number\",\n        \"std\": 119173.50196999978,\n        \"min\": 0.5044803243774135,\n        \"max\": 558978.0,\n        \"num_unique_values\": 22,\n        \"samples\": [\n          558978.0\n        ],\n        \"semantic_type\": \"\",\n        \"description\": \"\"\n      }\n    },\n    {\n      \"column\": \"std\",\n      \"properties\": {\n        \"dtype\": \"number\",\n        \"std\": 68805.105967937,\n        \"min\": 0.05102609532324065,\n        \"max\": 322726.53178374824,\n        \"num_unique_values\": 22,\n        \"samples\": [\n          322726.53178374824\n        ],\n        \"semantic_type\": \"\",\n        \"description\": \"\"\n      }\n    },\n    {\n      \"column\": \"min\",\n      \"properties\": {\n        \"dtype\": \"number\",\n        \"std\": 0.06076220416134897,\n        \"min\": 0.0,\n        \"max\": 0.285,\n        \"num_unique_values\": 2,\n        \"samples\": [\n          0.285\n        ],\n        \"semantic_type\": \"\",\n        \"description\": \"\"\n      }\n    },\n    {\n      \"column\": \"25%\",\n      \"properties\": {\n        \"dtype\": \"number\",\n        \"std\": 59586.580187209875,\n        \"min\": 0.47,\n        \"max\": 279489.0,\n        \"num_unique_values\": 4,\n        \"samples\": [\n          3.0\n        ],\n        \"semantic_type\": \"\",\n        \"description\": \"\"\n      }\n    },\n    {\n      \"column\": \"50%\",\n      \"properties\": {\n        \"dtype\": \"number\",\n        \"std\": 119173.48966239487,\n        \"min\": 0.505,\n        \"max\": 558978.0,\n        \"num_unique_values\": 3,\n        \"samples\": [\n          558978.0\n        ],\n        \"semantic_type\": \"\",\n        \"description\": \"\"\n      }\n    },\n    {\n      \"column\": \"75%\",\n      \"properties\": {\n        \"dtype\": \"number\",\n        \"std\": 178760.54127220935,\n        \"min\": 0.54,\n        \"max\": 838467.0,\n        \"num_unique_values\": 3,\n        \"samples\": [\n          838467.0\n        ],\n        \"semantic_type\": \"\",\n        \"description\": \"\"\n      }\n    },\n    {\n      \"column\": \"max\",\n      \"properties\": {\n        \"dtype\": \"number\",\n        \"std\": 238345.61166051007,\n        \"min\": 0.725,\n        \"max\": 1117956.0,\n        \"num_unique_values\": 6,\n        \"samples\": [\n          1117956.0\n        ],\n        \"semantic_type\": \"\",\n        \"description\": \"\"\n      }\n    }\n  ]\n}"
            }
          },
          "metadata": {},
          "execution_count": 9
        }
      ]
    },
    {
      "cell_type": "markdown",
      "source": [
        "* The features kinda have the same distribution"
      ],
      "metadata": {
        "id": "JmuPc8avwBm6"
      }
    },
    {
      "cell_type": "markdown",
      "source": [
        "### Data Visualization"
      ],
      "metadata": {
        "id": "zonbSYnV2ikV"
      }
    },
    {
      "cell_type": "markdown",
      "source": [
        "#### Feature 1: MonsoonIntensity\n",
        "\n",
        "A monsoon is a seasonal change in the direction of the prevailing, or strongest, winds of a region. Monsoons cause wet and dry seasons throughout much of the tropics."
      ],
      "metadata": {
        "id": "jqG7t3Hu2uAb"
      }
    },
    {
      "cell_type": "code",
      "source": [
        "train['MonsoonIntensity'].describe()"
      ],
      "metadata": {
        "id": "CicE3wnzwBm7",
        "colab": {
          "base_uri": "https://localhost:8080/"
        },
        "outputId": "ad0aef51-1147-45e2-a36e-301f04987a2a"
      },
      "execution_count": null,
      "outputs": [
        {
          "output_type": "execute_result",
          "data": {
            "text/plain": [
              "count    1.117957e+06\n",
              "mean     4.921450e+00\n",
              "std      2.056387e+00\n",
              "min      0.000000e+00\n",
              "25%      3.000000e+00\n",
              "50%      5.000000e+00\n",
              "75%      6.000000e+00\n",
              "max      1.600000e+01\n",
              "Name: MonsoonIntensity, dtype: float64"
            ]
          },
          "metadata": {},
          "execution_count": 10
        }
      ]
    },
    {
      "cell_type": "code",
      "source": [
        "train['MonsoonIntensity'].value_counts().sort_values()"
      ],
      "metadata": {
        "colab": {
          "base_uri": "https://localhost:8080/"
        },
        "id": "PimHrfXv3cNh",
        "outputId": "d8d91b1f-1c16-4165-a530-cb3f8c645425"
      },
      "execution_count": null,
      "outputs": [
        {
          "output_type": "execute_result",
          "data": {
            "text/plain": [
              "MonsoonIntensity\n",
              "16        42\n",
              "15       169\n",
              "14       391\n",
              "13       729\n",
              "12      2062\n",
              "0       5431\n",
              "11      5851\n",
              "10     14040\n",
              "1      28946\n",
              "9      33515\n",
              "8      65954\n",
              "2      86683\n",
              "7     109210\n",
              "3     160574\n",
              "6     169080\n",
              "4     214344\n",
              "5     220936\n",
              "Name: count, dtype: int64"
            ]
          },
          "metadata": {},
          "execution_count": 11
        }
      ]
    },
    {
      "cell_type": "markdown",
      "source": [
        "* The feature is categorical with range(0,16)"
      ],
      "metadata": {
        "id": "3DfTsMTv3oXM"
      }
    },
    {
      "cell_type": "code",
      "source": [
        "plt.figure(figsize=(10,6))\n",
        "sns.histplot(x=train['MonsoonIntensity'], bins=17)\n",
        "plt.title(\"The distribution of MonsoonIntensity Feature\")\n",
        "plt.ylabel(\"\")\n",
        "plt.show()"
      ],
      "metadata": {
        "colab": {
          "base_uri": "https://localhost:8080/"
        },
        "id": "nbiTAQ_S3hgp",
        "outputId": "114e669f-51f6-4ed6-98dc-ae7f70f232f4"
      },
      "execution_count": null,
      "outputs": [
        {
          "output_type": "display_data",
          "data": {
            "text/plain": [
              "<Figure size 1000x600 with 1 Axes>"
            ],
            "image/png": "[encoded data removed]"
          },
          "metadata": {}
        }
      ]
    },
    {
      "cell_type": "markdown",
      "source": [
        "* The '16' Category could be considered as an outlier because of its minority when compared to '5' category"
      ],
      "metadata": {
        "id": "fqYjFlgt4RXw"
      }
    },
    {
      "cell_type": "code",
      "source": [
        "train = train.drop((train[train['MonsoonIntensity']==16]).index, axis=0)"
      ],
      "metadata": {
        "id": "V6JXmOSZ4RIa"
      },
      "execution_count": null,
      "outputs": []
    },
    {
      "cell_type": "code",
      "source": [
        "train['MonsoonIntensity'].describe()"
      ],
      "metadata": {
        "colab": {
          "base_uri": "https://localhost:8080/"
        },
        "id": "aE7q7QBs4DBN",
        "outputId": "f209290a-dfd9-454e-86f4-8a5923ad0f97"
      },
      "execution_count": null,
      "outputs": [
        {
          "output_type": "execute_result",
          "data": {
            "text/plain": [
              "count    1.117915e+06\n",
              "mean     4.921034e+00\n",
              "std      2.055304e+00\n",
              "min      0.000000e+00\n",
              "25%      3.000000e+00\n",
              "50%      5.000000e+00\n",
              "75%      6.000000e+00\n",
              "max      1.500000e+01\n",
              "Name: MonsoonIntensity, dtype: float64"
            ]
          },
          "metadata": {},
          "execution_count": 14
        }
      ]
    },
    {
      "cell_type": "code",
      "source": [],
      "metadata": {
        "id": "-FXuXxyM5g0_"
      },
      "execution_count": null,
      "outputs": []
    },
    {
      "cell_type": "markdown",
      "source": [
        "#### Feature 2 : TopographyDrainage\n",
        "\n",
        "Drainage pattern is the pattern formed by the streams, rivers, and lakes in a particular drainage area. They are governed by the topography of the land"
      ],
      "metadata": {
        "id": "Qch69_ya6Od2"
      }
    },
    {
      "cell_type": "code",
      "source": [
        "train['TopographyDrainage'].describe()"
      ],
      "metadata": {
        "colab": {
          "base_uri": "https://localhost:8080/"
        },
        "outputId": "0b57913b-f0f3-4d3f-e985-20306716e2f6",
        "id": "SVHOCKnN6Od2"
      },
      "execution_count": null,
      "outputs": [
        {
          "output_type": "execute_result",
          "data": {
            "text/plain": [
              "count    1.117915e+06\n",
              "mean     4.926688e+00\n",
              "std      2.093874e+00\n",
              "min      0.000000e+00\n",
              "25%      3.000000e+00\n",
              "50%      5.000000e+00\n",
              "75%      6.000000e+00\n",
              "max      1.800000e+01\n",
              "Name: TopographyDrainage, dtype: float64"
            ]
          },
          "metadata": {},
          "execution_count": 15
        }
      ]
    },
    {
      "cell_type": "code",
      "source": [
        "train['TopographyDrainage'].value_counts().sort_values()"
      ],
      "metadata": {
        "colab": {
          "base_uri": "https://localhost:8080/"
        },
        "outputId": "8589dc18-4962-4814-cb64-d46ef3a4ccd7",
        "id": "NVycqeRd6Od3"
      },
      "execution_count": null,
      "outputs": [
        {
          "output_type": "execute_result",
          "data": {
            "text/plain": [
              "TopographyDrainage\n",
              "18         3\n",
              "17        10\n",
              "16        42\n",
              "15       106\n",
              "14       333\n",
              "13       705\n",
              "12      2199\n",
              "0       5541\n",
              "11      6177\n",
              "10     15523\n",
              "1      29418\n",
              "9      37544\n",
              "8      71997\n",
              "2      90054\n",
              "7     102676\n",
              "6     158999\n",
              "3     161982\n",
              "4     213360\n",
              "5     221246\n",
              "Name: count, dtype: int64"
            ]
          },
          "metadata": {},
          "execution_count": 16
        }
      ]
    },
    {
      "cell_type": "markdown",
      "source": [
        "* The feature is categorical with range(0,18)"
      ],
      "metadata": {
        "id": "akU1o5-Y6Od3"
      }
    },
    {
      "cell_type": "code",
      "source": [
        "plt.figure(figsize=(10,6))\n",
        "sns.histplot(x=train['TopographyDrainage'], bins=19)\n",
        "plt.title(\"The distribution of TopographyDrainage Feature\")\n",
        "plt.ylabel(\"\")\n",
        "plt.show()"
      ],
      "metadata": {
        "colab": {
          "base_uri": "https://localhost:8080/"
        },
        "outputId": "a84eb9e4-a0ca-4c5e-888d-ce89829e90c1",
        "id": "o10hJddy6Od3"
      },
      "execution_count": null,
      "outputs": [
        {
          "output_type": "display_data",
          "data": {
            "text/plain": [
              "<Figure size 1000x600 with 1 Axes>"
            ],
            "image/png": "[encoded data removed]"
          },
          "metadata": {}
        }
      ]
    },
    {
      "cell_type": "markdown",
      "source": [
        "* The '18','16','17'  Category could be considered as an outlier because of its minority when compared to '5' category"
      ],
      "metadata": {
        "id": "vg9DsNtU6Od4"
      }
    },
    {
      "cell_type": "code",
      "source": [
        "train = train.drop((train[train['TopographyDrainage']==16]).index, axis=0)\n",
        "train = train.drop((train[train['TopographyDrainage']==17]).index, axis=0)\n",
        "train = train.drop((train[train['TopographyDrainage']==18]).index, axis=0)\n"
      ],
      "metadata": {
        "id": "GapBPdHz6Od4"
      },
      "execution_count": null,
      "outputs": []
    },
    {
      "cell_type": "code",
      "source": [
        "train.info()"
      ],
      "metadata": {
        "colab": {
          "base_uri": "https://localhost:8080/"
        },
        "outputId": "01f43f09-7179-4de3-b770-90923957cb80",
        "id": "hQLKArne6Od4"
      },
      "execution_count": null,
      "outputs": [
        {
          "output_type": "stream",
          "name": "stdout",
          "text": [
            "<class 'pandas.core.frame.DataFrame'>\n",
            "Index: 1117860 entries, 0 to 1117956\n",
            "Data columns (total 22 columns):\n",
            " #   Column                           Non-Null Count    Dtype  \n",
            "---  ------                           --------------    -----  \n",
            " 0   id                               1117860 non-null  int64  \n",
            " 1   MonsoonIntensity                 1117860 non-null  int64  \n",
            " 2   TopographyDrainage               1117860 non-null  int64  \n",
            " 3   RiverManagement                  1117860 non-null  int64  \n",
            " 4   Deforestation                    1117860 non-null  int64  \n",
            " 5   Urbanization                     1117860 non-null  int64  \n",
            " 6   ClimateChange                    1117860 non-null  int64  \n",
            " 7   DamsQuality                      1117860 non-null  int64  \n",
            " 8   Siltation                        1117860 non-null  int64  \n",
            " 9   AgriculturalPractices            1117860 non-null  int64  \n",
            " 10  Encroachments                    1117860 non-null  int64  \n",
            " 11  IneffectiveDisasterPreparedness  1117860 non-null  int64  \n",
            " 12  DrainageSystems                  1117860 non-null  int64  \n",
            " 13  CoastalVulnerability             1117860 non-null  int64  \n",
            " 14  Landslides                       1117860 non-null  int64  \n",
            " 15  Watersheds                       1117860 non-null  int64  \n",
            " 16  DeterioratingInfrastructure      1117860 non-null  int64  \n",
            " 17  PopulationScore                  1117860 non-null  int64  \n",
            " 18  WetlandLoss                      1117860 non-null  int64  \n",
            " 19  InadequatePlanning               1117860 non-null  int64  \n",
            " 20  PoliticalFactors                 1117860 non-null  int64  \n",
            " 21  FloodProbability                 1117860 non-null  float64\n",
            "dtypes: float64(1), int64(21)\n",
            "memory usage: 196.2 MB\n"
          ]
        }
      ]
    },
    {
      "cell_type": "markdown",
      "source": [
        "#### Feature 3 : RiverManagement\n",
        "\n",
        "River Management is defined as the management of water resources of a basin as part of the natural ecosystem and in relation to their socio-economic setting."
      ],
      "metadata": {
        "id": "Qs8bSWhK7kxO"
      }
    },
    {
      "cell_type": "code",
      "source": [
        "train['RiverManagement'].describe()"
      ],
      "metadata": {
        "colab": {
          "base_uri": "https://localhost:8080/"
        },
        "outputId": "35d7fc71-7c40-4c97-8e4d-f010dcd3f1f3",
        "id": "yH3EP8Xc7kxd"
      },
      "execution_count": null,
      "outputs": [
        {
          "output_type": "execute_result",
          "data": {
            "text/plain": [
              "count    1.117860e+06\n",
              "mean     4.955313e+00\n",
              "std      2.072169e+00\n",
              "min      0.000000e+00\n",
              "25%      4.000000e+00\n",
              "50%      5.000000e+00\n",
              "75%      6.000000e+00\n",
              "max      1.600000e+01\n",
              "Name: RiverManagement, dtype: float64"
            ]
          },
          "metadata": {},
          "execution_count": 20
        }
      ]
    },
    {
      "cell_type": "code",
      "source": [
        "train['RiverManagement'].value_counts().sort_values()"
      ],
      "metadata": {
        "colab": {
          "base_uri": "https://localhost:8080/"
        },
        "outputId": "785d87bb-c648-4085-bd50-e762be96e7a7",
        "id": "IBIjQO137kxd"
      },
      "execution_count": null,
      "outputs": [
        {
          "output_type": "execute_result",
          "data": {
            "text/plain": [
              "RiverManagement\n",
              "16        43\n",
              "15        92\n",
              "14       297\n",
              "13       715\n",
              "12      2120\n",
              "0       5407\n",
              "11      5773\n",
              "10     15168\n",
              "1      28869\n",
              "9      36227\n",
              "8      71195\n",
              "2      83772\n",
              "7     108524\n",
              "3     160032\n",
              "6     167357\n",
              "4     214065\n",
              "5     218204\n",
              "Name: count, dtype: int64"
            ]
          },
          "metadata": {},
          "execution_count": 21
        }
      ]
    },
    {
      "cell_type": "markdown",
      "source": [
        "* The feature is categorical with range(0,16)"
      ],
      "metadata": {
        "id": "iFM3SAGh7kxd"
      }
    },
    {
      "cell_type": "code",
      "source": [
        "plt.figure(figsize=(10,6))\n",
        "sns.histplot(x=train['RiverManagement'], bins=17)\n",
        "plt.title(\"The distribution of RiverManagement Feature\")\n",
        "plt.ylabel(\"\")\n",
        "plt.show()"
      ],
      "metadata": {
        "colab": {
          "base_uri": "https://localhost:8080/"
        },
        "outputId": "bced2b10-bfc1-40f4-fc9f-65ab639c3159",
        "id": "oMheYCjv7kxd"
      },
      "execution_count": null,
      "outputs": [
        {
          "output_type": "display_data",
          "data": {
            "text/plain": [
              "<Figure size 1000x600 with 1 Axes>"
            ],
            "image/png": "[encoded data removed]"
          },
          "metadata": {}
        }
      ]
    },
    {
      "cell_type": "markdown",
      "source": [
        "* The '16','15'  Category could be considered as an outlier because of its minority when compared to '5' category"
      ],
      "metadata": {
        "id": "kSuvGMlR7kxd"
      }
    },
    {
      "cell_type": "code",
      "source": [
        "train = train.drop((train[train['RiverManagement']==16]).index, axis=0)\n",
        "train = train.drop((train[train['RiverManagement']==15]).index, axis=0)"
      ],
      "metadata": {
        "id": "gXiu7-1K7kxe"
      },
      "execution_count": null,
      "outputs": []
    },
    {
      "cell_type": "code",
      "source": [
        "train.info()"
      ],
      "metadata": {
        "colab": {
          "base_uri": "https://localhost:8080/"
        },
        "outputId": "0fc7db8c-d93b-4d4b-971a-1110bf47dff0",
        "id": "QH78TsYA7kxe"
      },
      "execution_count": null,
      "outputs": [
        {
          "output_type": "stream",
          "name": "stdout",
          "text": [
            "<class 'pandas.core.frame.DataFrame'>\n",
            "Index: 1117725 entries, 0 to 1117956\n",
            "Data columns (total 22 columns):\n",
            " #   Column                           Non-Null Count    Dtype  \n",
            "---  ------                           --------------    -----  \n",
            " 0   id                               1117725 non-null  int64  \n",
            " 1   MonsoonIntensity                 1117725 non-null  int64  \n",
            " 2   TopographyDrainage               1117725 non-null  int64  \n",
            " 3   RiverManagement                  1117725 non-null  int64  \n",
            " 4   Deforestation                    1117725 non-null  int64  \n",
            " 5   Urbanization                     1117725 non-null  int64  \n",
            " 6   ClimateChange                    1117725 non-null  int64  \n",
            " 7   DamsQuality                      1117725 non-null  int64  \n",
            " 8   Siltation                        1117725 non-null  int64  \n",
            " 9   AgriculturalPractices            1117725 non-null  int64  \n",
            " 10  Encroachments                    1117725 non-null  int64  \n",
            " 11  IneffectiveDisasterPreparedness  1117725 non-null  int64  \n",
            " 12  DrainageSystems                  1117725 non-null  int64  \n",
            " 13  CoastalVulnerability             1117725 non-null  int64  \n",
            " 14  Landslides                       1117725 non-null  int64  \n",
            " 15  Watersheds                       1117725 non-null  int64  \n",
            " 16  DeterioratingInfrastructure      1117725 non-null  int64  \n",
            " 17  PopulationScore                  1117725 non-null  int64  \n",
            " 18  WetlandLoss                      1117725 non-null  int64  \n",
            " 19  InadequatePlanning               1117725 non-null  int64  \n",
            " 20  PoliticalFactors                 1117725 non-null  int64  \n",
            " 21  FloodProbability                 1117725 non-null  float64\n",
            "dtypes: float64(1), int64(21)\n",
            "memory usage: 196.1 MB\n"
          ]
        }
      ]
    },
    {
      "cell_type": "code",
      "source": [],
      "metadata": {
        "id": "9Uiv47JJ8T6f"
      },
      "execution_count": null,
      "outputs": []
    },
    {
      "cell_type": "markdown",
      "source": [
        "#### Feature 4 : Deforestation\n",
        "\n",
        "Deforestation is the purposeful clearing of forested land"
      ],
      "metadata": {
        "id": "lsblrmVt8UVA"
      }
    },
    {
      "cell_type": "code",
      "source": [
        "train['Deforestation'].describe()"
      ],
      "metadata": {
        "colab": {
          "base_uri": "https://localhost:8080/"
        },
        "outputId": "cb014a3c-e7c2-44e4-b427-aaf3c1f41fca",
        "id": "XJ6-jOX48UVA"
      },
      "execution_count": null,
      "outputs": [
        {
          "output_type": "execute_result",
          "data": {
            "text/plain": [
              "count    1.117725e+06\n",
              "mean     4.942298e+00\n",
              "std      2.051647e+00\n",
              "min      0.000000e+00\n",
              "25%      4.000000e+00\n",
              "50%      5.000000e+00\n",
              "75%      6.000000e+00\n",
              "max      1.700000e+01\n",
              "Name: Deforestation, dtype: float64"
            ]
          },
          "metadata": {},
          "execution_count": 25
        }
      ]
    },
    {
      "cell_type": "code",
      "source": [
        "train['Deforestation'].value_counts().sort_values()"
      ],
      "metadata": {
        "colab": {
          "base_uri": "https://localhost:8080/"
        },
        "outputId": "d71c21d4-d525-4799-baef-576e9fb1de31",
        "id": "_MASe8V_8UVB"
      },
      "execution_count": null,
      "outputs": [
        {
          "output_type": "execute_result",
          "data": {
            "text/plain": [
              "Deforestation\n",
              "17         6\n",
              "16        35\n",
              "15       115\n",
              "14       293\n",
              "13       705\n",
              "12      2079\n",
              "0       5324\n",
              "11      5704\n",
              "10     13964\n",
              "1      26869\n",
              "9      34580\n",
              "8      69223\n",
              "2      85928\n",
              "7     109021\n",
              "3     157294\n",
              "6     169148\n",
              "5     217750\n",
              "4     219687\n",
              "Name: count, dtype: int64"
            ]
          },
          "metadata": {},
          "execution_count": 26
        }
      ]
    },
    {
      "cell_type": "markdown",
      "source": [
        "* The feature is categorical with range(0,17)"
      ],
      "metadata": {
        "id": "y82ltiEo8UVB"
      }
    },
    {
      "cell_type": "code",
      "source": [
        "plt.figure(figsize=(10,6))\n",
        "sns.histplot(x=train['Deforestation'], bins=18)\n",
        "plt.title(\"The distribution of Deforestation Feature\")\n",
        "plt.ylabel(\"\")\n",
        "plt.show()"
      ],
      "metadata": {
        "colab": {
          "base_uri": "https://localhost:8080/"
        },
        "outputId": "610a263d-e6ce-408b-e778-49f531659280",
        "id": "XRsdTiay8UVB"
      },
      "execution_count": null,
      "outputs": [
        {
          "output_type": "display_data",
          "data": {
            "text/plain": [
              "<Figure size 1000x600 with 1 Axes>"
            ],
            "image/png": "[encoded data removed]"
          },
          "metadata": {}
        }
      ]
    },
    {
      "cell_type": "markdown",
      "source": [
        "* The '16','17'  Category could be considered as an outlier because of its minority when compared to '5' category"
      ],
      "metadata": {
        "id": "Dvdf_CMr8UVB"
      }
    },
    {
      "cell_type": "code",
      "source": [
        "train = train.drop((train[train['Deforestation']==16]).index, axis=0)\n",
        "train = train.drop((train[train['Deforestation']==17]).index, axis=0)"
      ],
      "metadata": {
        "id": "22yQ4awC8UVB"
      },
      "execution_count": null,
      "outputs": []
    },
    {
      "cell_type": "code",
      "source": [
        "train.info()"
      ],
      "metadata": {
        "colab": {
          "base_uri": "https://localhost:8080/"
        },
        "outputId": "6ff546d6-bdcf-4841-af25-c67680436782",
        "id": "k5VTTPCE8UVB"
      },
      "execution_count": null,
      "outputs": [
        {
          "output_type": "stream",
          "name": "stdout",
          "text": [
            "<class 'pandas.core.frame.DataFrame'>\n",
            "Index: 1117684 entries, 0 to 1117956\n",
            "Data columns (total 22 columns):\n",
            " #   Column                           Non-Null Count    Dtype  \n",
            "---  ------                           --------------    -----  \n",
            " 0   id                               1117684 non-null  int64  \n",
            " 1   MonsoonIntensity                 1117684 non-null  int64  \n",
            " 2   TopographyDrainage               1117684 non-null  int64  \n",
            " 3   RiverManagement                  1117684 non-null  int64  \n",
            " 4   Deforestation                    1117684 non-null  int64  \n",
            " 5   Urbanization                     1117684 non-null  int64  \n",
            " 6   ClimateChange                    1117684 non-null  int64  \n",
            " 7   DamsQuality                      1117684 non-null  int64  \n",
            " 8   Siltation                        1117684 non-null  int64  \n",
            " 9   AgriculturalPractices            1117684 non-null  int64  \n",
            " 10  Encroachments                    1117684 non-null  int64  \n",
            " 11  IneffectiveDisasterPreparedness  1117684 non-null  int64  \n",
            " 12  DrainageSystems                  1117684 non-null  int64  \n",
            " 13  CoastalVulnerability             1117684 non-null  int64  \n",
            " 14  Landslides                       1117684 non-null  int64  \n",
            " 15  Watersheds                       1117684 non-null  int64  \n",
            " 16  DeterioratingInfrastructure      1117684 non-null  int64  \n",
            " 17  PopulationScore                  1117684 non-null  int64  \n",
            " 18  WetlandLoss                      1117684 non-null  int64  \n",
            " 19  InadequatePlanning               1117684 non-null  int64  \n",
            " 20  PoliticalFactors                 1117684 non-null  int64  \n",
            " 21  FloodProbability                 1117684 non-null  float64\n",
            "dtypes: float64(1), int64(21)\n",
            "memory usage: 196.1 MB\n"
          ]
        }
      ]
    },
    {
      "cell_type": "code",
      "source": [],
      "metadata": {
        "id": "o2AKZVwt86qX"
      },
      "execution_count": null,
      "outputs": []
    },
    {
      "cell_type": "markdown",
      "source": [
        "#### Feature 5 : Urbanization\n",
        "\n",
        "Urbanization is the population shift from rural to urban areas"
      ],
      "metadata": {
        "id": "yuFQpw9l9BbP"
      }
    },
    {
      "cell_type": "code",
      "source": [
        "train['Urbanization'].describe()"
      ],
      "metadata": {
        "colab": {
          "base_uri": "https://localhost:8080/"
        },
        "outputId": "80a5dc20-f331-4f6e-a4d8-75a566f4c9a1",
        "id": "nPOQBZy09BbQ"
      },
      "execution_count": null,
      "outputs": [
        {
          "output_type": "execute_result",
          "data": {
            "text/plain": [
              "count    1.117684e+06\n",
              "mean     4.942587e+00\n",
              "std      2.083336e+00\n",
              "min      0.000000e+00\n",
              "25%      3.000000e+00\n",
              "50%      5.000000e+00\n",
              "75%      6.000000e+00\n",
              "max      1.700000e+01\n",
              "Name: Urbanization, dtype: float64"
            ]
          },
          "metadata": {},
          "execution_count": 30
        }
      ]
    },
    {
      "cell_type": "code",
      "source": [
        "train['Urbanization'].value_counts().sort_values()"
      ],
      "metadata": {
        "colab": {
          "base_uri": "https://localhost:8080/"
        },
        "outputId": "bec47aa8-f89e-45a4-a01f-37fd4c1dfa63",
        "id": "j9LkGXaN9BbQ"
      },
      "execution_count": null,
      "outputs": [
        {
          "output_type": "execute_result",
          "data": {
            "text/plain": [
              "Urbanization\n",
              "17         7\n",
              "16        36\n",
              "15       137\n",
              "14       313\n",
              "13       791\n",
              "12      2210\n",
              "0       5344\n",
              "11      5688\n",
              "10     15684\n",
              "1      29661\n",
              "9      36847\n",
              "8      69280\n",
              "2      86090\n",
              "7     107671\n",
              "3     162187\n",
              "6     166658\n",
              "4     212403\n",
              "5     216677\n",
              "Name: count, dtype: int64"
            ]
          },
          "metadata": {},
          "execution_count": 31
        }
      ]
    },
    {
      "cell_type": "markdown",
      "source": [
        "* The feature is categorical with range(0,17)"
      ],
      "metadata": {
        "id": "fUAGsgSd9BbQ"
      }
    },
    {
      "cell_type": "code",
      "source": [
        "plt.figure(figsize=(10,6))\n",
        "sns.histplot(x=train['Urbanization'], bins=18)\n",
        "plt.title(\"The distribution of Urbanization Feature\")\n",
        "plt.ylabel(\"\")\n",
        "plt.show()"
      ],
      "metadata": {
        "colab": {
          "base_uri": "https://localhost:8080/"
        },
        "outputId": "f69ae308-5cc1-47e7-f33b-501f994f8c36",
        "id": "T6GaGyr49BbQ"
      },
      "execution_count": null,
      "outputs": [
        {
          "output_type": "display_data",
          "data": {
            "text/plain": [
              "<Figure size 1000x600 with 1 Axes>"
            ],
            "image/png": "[encoded data removed]"
          },
          "metadata": {}
        }
      ]
    },
    {
      "cell_type": "markdown",
      "source": [
        "* The '16','17'  Category could be considered as an outlier because of its minority when compared to '5' category"
      ],
      "metadata": {
        "id": "BdghrBUa9BbQ"
      }
    },
    {
      "cell_type": "code",
      "source": [
        "train = train.drop((train[train['Urbanization']==16]).index, axis=0)\n",
        "train = train.drop((train[train['Urbanization']==17]).index, axis=0)"
      ],
      "metadata": {
        "id": "j1nTvROD9BbR"
      },
      "execution_count": null,
      "outputs": []
    },
    {
      "cell_type": "code",
      "source": [
        "train.info()"
      ],
      "metadata": {
        "colab": {
          "base_uri": "https://localhost:8080/"
        },
        "outputId": "7818b072-78b2-4f2d-f9f6-1ec34b4546e4",
        "id": "uRTiEgZE9BbR"
      },
      "execution_count": null,
      "outputs": [
        {
          "output_type": "stream",
          "name": "stdout",
          "text": [
            "<class 'pandas.core.frame.DataFrame'>\n",
            "Index: 1117641 entries, 0 to 1117956\n",
            "Data columns (total 22 columns):\n",
            " #   Column                           Non-Null Count    Dtype  \n",
            "---  ------                           --------------    -----  \n",
            " 0   id                               1117641 non-null  int64  \n",
            " 1   MonsoonIntensity                 1117641 non-null  int64  \n",
            " 2   TopographyDrainage               1117641 non-null  int64  \n",
            " 3   RiverManagement                  1117641 non-null  int64  \n",
            " 4   Deforestation                    1117641 non-null  int64  \n",
            " 5   Urbanization                     1117641 non-null  int64  \n",
            " 6   ClimateChange                    1117641 non-null  int64  \n",
            " 7   DamsQuality                      1117641 non-null  int64  \n",
            " 8   Siltation                        1117641 non-null  int64  \n",
            " 9   AgriculturalPractices            1117641 non-null  int64  \n",
            " 10  Encroachments                    1117641 non-null  int64  \n",
            " 11  IneffectiveDisasterPreparedness  1117641 non-null  int64  \n",
            " 12  DrainageSystems                  1117641 non-null  int64  \n",
            " 13  CoastalVulnerability             1117641 non-null  int64  \n",
            " 14  Landslides                       1117641 non-null  int64  \n",
            " 15  Watersheds                       1117641 non-null  int64  \n",
            " 16  DeterioratingInfrastructure      1117641 non-null  int64  \n",
            " 17  PopulationScore                  1117641 non-null  int64  \n",
            " 18  WetlandLoss                      1117641 non-null  int64  \n",
            " 19  InadequatePlanning               1117641 non-null  int64  \n",
            " 20  PoliticalFactors                 1117641 non-null  int64  \n",
            " 21  FloodProbability                 1117641 non-null  float64\n",
            "dtypes: float64(1), int64(21)\n",
            "memory usage: 196.1 MB\n"
          ]
        }
      ]
    },
    {
      "cell_type": "code",
      "source": [],
      "metadata": {
        "id": "aM1WGCoP9BbR"
      },
      "execution_count": null,
      "outputs": []
    },
    {
      "cell_type": "markdown",
      "source": [
        "#### Feature 6 : ClimateChange\n",
        "\n",
        "Climate change refers to long-term shifts in temperatures and weather patterns."
      ],
      "metadata": {
        "id": "gPZQFZtP9f7U"
      }
    },
    {
      "cell_type": "code",
      "source": [
        "train['ClimateChange'].describe()"
      ],
      "metadata": {
        "colab": {
          "base_uri": "https://localhost:8080/"
        },
        "outputId": "b4812bd2-7b5f-49d5-c155-85d6e78fe715",
        "id": "JHRfASJo9f7V"
      },
      "execution_count": null,
      "outputs": [
        {
          "output_type": "execute_result",
          "data": {
            "text/plain": [
              "count    1.117641e+06\n",
              "mean     4.934167e+00\n",
              "std      2.057654e+00\n",
              "min      0.000000e+00\n",
              "25%      3.000000e+00\n",
              "50%      5.000000e+00\n",
              "75%      6.000000e+00\n",
              "max      1.700000e+01\n",
              "Name: ClimateChange, dtype: float64"
            ]
          },
          "metadata": {},
          "execution_count": 35
        }
      ]
    },
    {
      "cell_type": "code",
      "source": [
        "train['ClimateChange'].value_counts().sort_values()"
      ],
      "metadata": {
        "colab": {
          "base_uri": "https://localhost:8080/"
        },
        "outputId": "f250a0df-6704-4209-bb01-1b1eb322dcd9",
        "id": "ufvvcJ3Q9f7V"
      },
      "execution_count": null,
      "outputs": [
        {
          "output_type": "execute_result",
          "data": {
            "text/plain": [
              "ClimateChange\n",
              "17         3\n",
              "16        35\n",
              "15        96\n",
              "14       260\n",
              "13       727\n",
              "12      2063\n",
              "0       5343\n",
              "11      5514\n",
              "10     14453\n",
              "1      27303\n",
              "9      34673\n",
              "8      69158\n",
              "2      88128\n",
              "7     107774\n",
              "3     159687\n",
              "6     169276\n",
              "4     214210\n",
              "5     218938\n",
              "Name: count, dtype: int64"
            ]
          },
          "metadata": {},
          "execution_count": 36
        }
      ]
    },
    {
      "cell_type": "markdown",
      "source": [
        "* The feature is categorical with range(0,17)"
      ],
      "metadata": {
        "id": "-6Q8SEs29f7V"
      }
    },
    {
      "cell_type": "code",
      "source": [
        "plt.figure(figsize=(10,6))\n",
        "sns.histplot(x=train['ClimateChange'], bins=18)\n",
        "plt.title(\"The distribution of ClimateChange Feature\")\n",
        "plt.ylabel(\"\")\n",
        "plt.show()"
      ],
      "metadata": {
        "colab": {
          "base_uri": "https://localhost:8080/",
          "height": 562
        },
        "outputId": "21b59958-ba30-4cfe-9018-de47fe62316b",
        "id": "gJ3ypNjs9f7V"
      },
      "execution_count": null,
      "outputs": [
        {
          "output_type": "display_data",
          "data": {
            "text/plain": [
              "<Figure size 1000x600 with 1 Axes>"
            ],
            "image/png": "[encoded data removed]"
          },
          "metadata": {}
        }
      ]
    },
    {
      "cell_type": "markdown",
      "source": [
        "* The '16','17', '15'  Category could be considered as an outlier because of its minority when compared to '5' category"
      ],
      "metadata": {
        "id": "6aTjywwX9f7W"
      }
    },
    {
      "cell_type": "code",
      "source": [
        "train = train.drop((train[train['ClimateChange']==16]).index, axis=0)\n",
        "train = train.drop((train[train['ClimateChange']==17]).index, axis=0)\n",
        "train = train.drop((train[train['ClimateChange']==15]).index, axis=0)"
      ],
      "metadata": {
        "id": "ywBtLBNQ9f7W"
      },
      "execution_count": null,
      "outputs": []
    },
    {
      "cell_type": "code",
      "source": [
        "train.info()"
      ],
      "metadata": {
        "colab": {
          "base_uri": "https://localhost:8080/"
        },
        "outputId": "45250287-bc10-4259-ac8a-f539a5d72440",
        "id": "QX3_aJ5K9f7W"
      },
      "execution_count": null,
      "outputs": [
        {
          "output_type": "stream",
          "name": "stdout",
          "text": [
            "<class 'pandas.core.frame.DataFrame'>\n",
            "Index: 1117507 entries, 0 to 1117956\n",
            "Data columns (total 22 columns):\n",
            " #   Column                           Non-Null Count    Dtype  \n",
            "---  ------                           --------------    -----  \n",
            " 0   id                               1117507 non-null  int64  \n",
            " 1   MonsoonIntensity                 1117507 non-null  int64  \n",
            " 2   TopographyDrainage               1117507 non-null  int64  \n",
            " 3   RiverManagement                  1117507 non-null  int64  \n",
            " 4   Deforestation                    1117507 non-null  int64  \n",
            " 5   Urbanization                     1117507 non-null  int64  \n",
            " 6   ClimateChange                    1117507 non-null  int64  \n",
            " 7   DamsQuality                      1117507 non-null  int64  \n",
            " 8   Siltation                        1117507 non-null  int64  \n",
            " 9   AgriculturalPractices            1117507 non-null  int64  \n",
            " 10  Encroachments                    1117507 non-null  int64  \n",
            " 11  IneffectiveDisasterPreparedness  1117507 non-null  int64  \n",
            " 12  DrainageSystems                  1117507 non-null  int64  \n",
            " 13  CoastalVulnerability             1117507 non-null  int64  \n",
            " 14  Landslides                       1117507 non-null  int64  \n",
            " 15  Watersheds                       1117507 non-null  int64  \n",
            " 16  DeterioratingInfrastructure      1117507 non-null  int64  \n",
            " 17  PopulationScore                  1117507 non-null  int64  \n",
            " 18  WetlandLoss                      1117507 non-null  int64  \n",
            " 19  InadequatePlanning               1117507 non-null  int64  \n",
            " 20  PoliticalFactors                 1117507 non-null  int64  \n",
            " 21  FloodProbability                 1117507 non-null  float64\n",
            "dtypes: float64(1), int64(21)\n",
            "memory usage: 196.1 MB\n"
          ]
        }
      ]
    },
    {
      "cell_type": "markdown",
      "source": [
        "#### The rest of the features"
      ],
      "metadata": {
        "id": "BjvKJRSfB-Pl"
      }
    },
    {
      "cell_type": "code",
      "source": [
        "# Drop the ID feature\n",
        "train = train.drop(columns=['id'], axis=1)"
      ],
      "metadata": {
        "id": "N4T9f6uOCPyE"
      },
      "execution_count": null,
      "outputs": []
    },
    {
      "cell_type": "code",
      "source": [
        "# Dropping the outlier values from all features\n",
        "for i in train.columns:\n",
        "  if train[i].describe()['max']>15:\n",
        "    for c in range(16,int(train[i].describe()['max'])):\n",
        "      # print(train[train[i]==c])\n",
        "      train = train.drop((train[train[i]==c]).index, axis=0)\n",
        "train.info()"
      ],
      "metadata": {
        "colab": {
          "base_uri": "https://localhost:8080/"
        },
        "id": "xHtxIYr9CEtL",
        "outputId": "b1c24559-942b-4a7f-95c8-b819ca3322db"
      },
      "execution_count": null,
      "outputs": [
        {
          "output_type": "stream",
          "name": "stdout",
          "text": [
            "<class 'pandas.core.frame.DataFrame'>\n",
            "Index: 1117257 entries, 0 to 1117956\n",
            "Data columns (total 21 columns):\n",
            " #   Column                           Non-Null Count    Dtype  \n",
            "---  ------                           --------------    -----  \n",
            " 0   MonsoonIntensity                 1117257 non-null  int64  \n",
            " 1   TopographyDrainage               1117257 non-null  int64  \n",
            " 2   RiverManagement                  1117257 non-null  int64  \n",
            " 3   Deforestation                    1117257 non-null  int64  \n",
            " 4   Urbanization                     1117257 non-null  int64  \n",
            " 5   ClimateChange                    1117257 non-null  int64  \n",
            " 6   DamsQuality                      1117257 non-null  int64  \n",
            " 7   Siltation                        1117257 non-null  int64  \n",
            " 8   AgriculturalPractices            1117257 non-null  int64  \n",
            " 9   Encroachments                    1117257 non-null  int64  \n",
            " 10  IneffectiveDisasterPreparedness  1117257 non-null  int64  \n",
            " 11  DrainageSystems                  1117257 non-null  int64  \n",
            " 12  CoastalVulnerability             1117257 non-null  int64  \n",
            " 13  Landslides                       1117257 non-null  int64  \n",
            " 14  Watersheds                       1117257 non-null  int64  \n",
            " 15  DeterioratingInfrastructure      1117257 non-null  int64  \n",
            " 16  PopulationScore                  1117257 non-null  int64  \n",
            " 17  WetlandLoss                      1117257 non-null  int64  \n",
            " 18  InadequatePlanning               1117257 non-null  int64  \n",
            " 19  PoliticalFactors                 1117257 non-null  int64  \n",
            " 20  FloodProbability                 1117257 non-null  float64\n",
            "dtypes: float64(1), int64(20)\n",
            "memory usage: 187.5 MB\n"
          ]
        }
      ]
    },
    {
      "cell_type": "markdown",
      "source": [
        "## Data Prepration"
      ],
      "metadata": {
        "id": "Do_IhhKPM-it"
      }
    },
    {
      "cell_type": "markdown",
      "source": [
        "#### X, y Splitting"
      ],
      "metadata": {
        "id": "cuyVTZWSDwFN"
      }
    },
    {
      "cell_type": "code",
      "source": [
        "X = train.iloc[:,:-1]\n",
        "y = train.iloc[:,-1]\n",
        "print('X shape',X.shape)\n",
        "print('y shape',y.shape)\n"
      ],
      "metadata": {
        "colab": {
          "base_uri": "https://localhost:8080/"
        },
        "id": "-NK8-m55D7ew",
        "outputId": "a6efd1eb-b0c5-42ea-9f32-fe9151e16742"
      },
      "execution_count": null,
      "outputs": [
        {
          "output_type": "stream",
          "name": "stdout",
          "text": [
            "X shape (1117257, 20)\n",
            "y shape (1117257,)\n"
          ]
        }
      ]
    },
    {
      "cell_type": "markdown",
      "source": [
        "#### Train Test Split"
      ],
      "metadata": {
        "id": "qhfbzIjzENae"
      }
    },
    {
      "cell_type": "code",
      "source": [
        "X_train,X_test, y_train,y_test = train_test_split(X, y, test_size=0.1, random_state=42)\n",
        "print('X_train shape',X_train.shape)\n",
        "print('y_train shape',y_train.shape)\n",
        "print('X_test shape',X_test.shape)\n",
        "print('y_test shape',y_test.shape)"
      ],
      "metadata": {
        "colab": {
          "base_uri": "https://localhost:8080/"
        },
        "id": "LSC7cSgeEQO-",
        "outputId": "7eecb258-d4fb-4883-ec14-d936097a13c3"
      },
      "execution_count": null,
      "outputs": [
        {
          "output_type": "stream",
          "name": "stdout",
          "text": [
            "X_train shape (1005531, 20)\n",
            "y_train shape (1005531,)\n",
            "X_test shape (111726, 20)\n",
            "y_test shape (111726,)\n"
          ]
        }
      ]
    },
    {
      "cell_type": "markdown",
      "source": [
        "#### Train Data Scaling\n",
        "* The data ranges are not large, so I will use MinMaxScaler"
      ],
      "metadata": {
        "id": "PwnSmBGxEs00"
      }
    },
    {
      "cell_type": "code",
      "source": [
        "scaler = MinMaxScaler()\n",
        "X_train = scaler.fit_transform(X_train)\n",
        "X_test = scaler.transform(X_test)"
      ],
      "metadata": {
        "id": "gxv9FITyFArD"
      },
      "execution_count": null,
      "outputs": []
    },
    {
      "cell_type": "markdown",
      "source": [
        "# Implementing different Models"
      ],
      "metadata": {
        "id": "hFTJEK2NFfoL"
      }
    },
    {
      "cell_type": "markdown",
      "source": [
        "##### 1- LGBM Regressor\n",
        "[Documentation Link](https://lightgbm.readthedocs.io/en/latest/pythonapi/lightgbm.LGBMRegressor.html)"
      ],
      "metadata": {
        "id": "5_gHjKeQFnGw"
      }
    },
    {
      "cell_type": "code",
      "source": [
        "lgbm = LGBMRegressor(learning_rate=0.1, n_estimators=1000, random_state=42)\n",
        "lgbm.fit(X_train, y_train)\n",
        "print(\"Train Accuracy:\",lgbm.score(X_train, y_train))\n",
        "y_pred = lgbm.predict(X_test)\n",
        "print(\"Test Accuracy:\",lgbm.score(X_train, y_train))\n",
        "print(\"Mean Squared Error:\",mean_squared_error(y_test, y_pred))\n",
        "print(\"R2 Score:\",r2_score(y_test, y_pred))"
      ],
      "metadata": {
        "colab": {
          "base_uri": "https://localhost:8080/"
        },
        "id": "Qlx6J5hZF4TI",
        "outputId": "9efe5e04-fe69-498f-82d8-7019c0320f71"
      },
      "execution_count": null,
      "outputs": [
        {
          "output_type": "stream",
          "name": "stdout",
          "text": [
            "[LightGBM] [Info] Auto-choosing row-wise multi-threading, the overhead of testing was 0.189278 seconds.\n",
            "You can set `force_row_wise=true` to remove the overhead.\n",
            "And if memory is not enough, you can set `force_col_wise=true`.\n",
            "[LightGBM] [Info] Total Bins 329\n",
            "[LightGBM] [Info] Number of data points in the train set: 1005531, number of used features: 20\n",
            "[LightGBM] [Info] Start training from score 0.504460\n",
            "Train Accuracy: 0.8479305399138604\n",
            "Test Accuracy: 0.8479305399138604\n",
            "Mean Squared Error: 0.00042201083731053255\n",
            "R2 Score: 0.8381729291148131\n"
          ]
        }
      ]
    },
    {
      "cell_type": "markdown",
      "source": [
        "##### 2- Extra Gradiant Boost Regressor\n",
        "[Documentation Link](https://xgboost.readthedocs.io/en/stable/parameter.html)"
      ],
      "metadata": {
        "id": "9cHmd90QGCBx"
      }
    },
    {
      "cell_type": "code",
      "source": [
        "xgbr = XGBRegressor(n_estimators=3000, random_state=42, learning_rate=0.01)\n",
        "xgbr.fit(X_train, y_train)\n",
        "print(\"Train Accuracy:\",xgbr.score(X_train, y_train))\n",
        "y_pred = xgbr.predict(X_test)\n",
        "print(\"Test Accuracy:\",xgbr.score(X_test, y_test))\n",
        "print(\"Mean Squared Error:\",mean_squared_error(y_test, y_pred))\n",
        "print(\"R2 Score:\",r2_score(y_test, y_pred))"
      ],
      "metadata": {
        "colab": {
          "base_uri": "https://localhost:8080/"
        },
        "outputId": "7f18a18b-535a-46bf-939e-c08e9f252113",
        "id": "utwnHfESGCBx"
      },
      "execution_count": null,
      "outputs": [
        {
          "output_type": "stream",
          "name": "stdout",
          "text": [
            "Train Accuracy: 0.8514944918537246\n",
            "Test Accuracy: 0.8402455595658953\n",
            "Mean Squared Error: 0.000416605854650264\n",
            "R2 Score: 0.8402455595658953\n"
          ]
        }
      ]
    },
    {
      "cell_type": "markdown",
      "source": [
        "##### 3- Cat Boost Regressor\n",
        "[Documentation Link](https://catboost.ai/en/docs/concepts/python-reference_catboostregressor)"
      ],
      "metadata": {
        "id": "qC1u8nW9Gux6"
      }
    },
    {
      "cell_type": "code",
      "source": [
        "catboost = CatBoostRegressor(learning_rate=0.1,random_seed=42, n_estimators=1000)\n",
        "catboost.fit(X_train, y_train)\n"
      ],
      "metadata": {
        "colab": {
          "base_uri": "https://localhost:8080/"
        },
        "collapsed": true,
        "id": "f3HyyGgvHZcn",
        "outputId": "941a6306-2b0a-429e-f5f9-6881f01d8097"
      },
      "execution_count": null,
      "outputs": [
        {
          "output_type": "stream",
          "name": "stdout",
          "text": [
            "0:\tlearn: 0.0502833\ttotal: 253ms\tremaining: 4m 13s\n",
            "1:\tlearn: 0.0495603\ttotal: 444ms\tremaining: 3m 41s\n",
            "2:\tlearn: 0.0488471\ttotal: 626ms\tremaining: 3m 27s\n",
            "3:\tlearn: 0.0481835\ttotal: 818ms\tremaining: 3m 23s\n",
            "4:\tlearn: 0.0475537\ttotal: 995ms\tremaining: 3m 18s\n",
            "5:\tlearn: 0.0469251\ttotal: 1.2s\tremaining: 3m 19s\n",
            "6:\tlearn: 0.0463236\ttotal: 1.53s\tremaining: 3m 36s\n",
            "7:\tlearn: 0.0457452\ttotal: 1.82s\tremaining: 3m 45s\n",
            "8:\tlearn: 0.0451732\ttotal: 2.15s\tremaining: 3m 56s\n",
            "9:\tlearn: 0.0446069\ttotal: 2.47s\tremaining: 4m 5s\n",
            "10:\tlearn: 0.0441013\ttotal: 2.75s\tremaining: 4m 7s\n",
            "11:\tlearn: 0.0436039\ttotal: 3.05s\tremaining: 4m 11s\n",
            "12:\tlearn: 0.0431111\ttotal: 3.34s\tremaining: 4m 13s\n",
            "13:\tlearn: 0.0426361\ttotal: 3.61s\tremaining: 4m 14s\n",
            "14:\tlearn: 0.0421637\ttotal: 3.89s\tremaining: 4m 15s\n",
            "15:\tlearn: 0.0416979\ttotal: 4.18s\tremaining: 4m 17s\n",
            "16:\tlearn: 0.0412416\ttotal: 4.42s\tremaining: 4m 15s\n",
            "17:\tlearn: 0.0408208\ttotal: 4.58s\tremaining: 4m 9s\n",
            "18:\tlearn: 0.0404049\ttotal: 4.74s\tremaining: 4m 4s\n",
            "19:\tlearn: 0.0399962\ttotal: 4.92s\tremaining: 4m 1s\n",
            "20:\tlearn: 0.0395994\ttotal: 5.09s\tremaining: 3m 57s\n",
            "21:\tlearn: 0.0392044\ttotal: 5.25s\tremaining: 3m 53s\n",
            "22:\tlearn: 0.0388196\ttotal: 5.41s\tremaining: 3m 49s\n",
            "23:\tlearn: 0.0384501\ttotal: 5.57s\tremaining: 3m 46s\n",
            "24:\tlearn: 0.0380920\ttotal: 5.72s\tremaining: 3m 43s\n",
            "25:\tlearn: 0.0377291\ttotal: 5.88s\tremaining: 3m 40s\n",
            "26:\tlearn: 0.0373784\ttotal: 6.05s\tremaining: 3m 37s\n",
            "27:\tlearn: 0.0370490\ttotal: 6.21s\tremaining: 3m 35s\n",
            "28:\tlearn: 0.0367170\ttotal: 6.37s\tremaining: 3m 33s\n",
            "29:\tlearn: 0.0363838\ttotal: 6.53s\tremaining: 3m 31s\n",
            "30:\tlearn: 0.0360776\ttotal: 6.71s\tremaining: 3m 29s\n",
            "31:\tlearn: 0.0357741\ttotal: 6.88s\tremaining: 3m 27s\n",
            "32:\tlearn: 0.0354757\ttotal: 7.05s\tremaining: 3m 26s\n",
            "33:\tlearn: 0.0351913\ttotal: 7.21s\tremaining: 3m 24s\n",
            "34:\tlearn: 0.0349153\ttotal: 7.38s\tremaining: 3m 23s\n",
            "35:\tlearn: 0.0346397\ttotal: 7.54s\tremaining: 3m 21s\n",
            "36:\tlearn: 0.0343699\ttotal: 7.7s\tremaining: 3m 20s\n",
            "37:\tlearn: 0.0341085\ttotal: 7.85s\tremaining: 3m 18s\n",
            "38:\tlearn: 0.0338495\ttotal: 8.02s\tremaining: 3m 17s\n",
            "39:\tlearn: 0.0335953\ttotal: 8.17s\tremaining: 3m 16s\n",
            "40:\tlearn: 0.0333476\ttotal: 8.33s\tremaining: 3m 14s\n",
            "41:\tlearn: 0.0331122\ttotal: 8.51s\tremaining: 3m 14s\n",
            "42:\tlearn: 0.0328815\ttotal: 8.74s\tremaining: 3m 14s\n",
            "43:\tlearn: 0.0326584\ttotal: 9.03s\tremaining: 3m 16s\n",
            "44:\tlearn: 0.0324340\ttotal: 9.3s\tremaining: 3m 17s\n",
            "45:\tlearn: 0.0322115\ttotal: 9.55s\tremaining: 3m 18s\n",
            "46:\tlearn: 0.0319966\ttotal: 9.8s\tremaining: 3m 18s\n",
            "47:\tlearn: 0.0317960\ttotal: 10.1s\tremaining: 3m 19s\n",
            "48:\tlearn: 0.0315952\ttotal: 10.4s\tremaining: 3m 20s\n",
            "49:\tlearn: 0.0313969\ttotal: 10.6s\tremaining: 3m 21s\n",
            "50:\tlearn: 0.0311976\ttotal: 10.8s\tremaining: 3m 21s\n",
            "51:\tlearn: 0.0309970\ttotal: 11.1s\tremaining: 3m 22s\n",
            "52:\tlearn: 0.0308055\ttotal: 11.4s\tremaining: 3m 23s\n",
            "53:\tlearn: 0.0306171\ttotal: 11.7s\tremaining: 3m 25s\n",
            "54:\tlearn: 0.0304390\ttotal: 12s\tremaining: 3m 25s\n",
            "55:\tlearn: 0.0302617\ttotal: 12.2s\tremaining: 3m 25s\n",
            "56:\tlearn: 0.0300857\ttotal: 12.3s\tremaining: 3m 23s\n",
            "57:\tlearn: 0.0299125\ttotal: 12.5s\tremaining: 3m 22s\n",
            "58:\tlearn: 0.0297380\ttotal: 12.6s\tremaining: 3m 20s\n",
            "59:\tlearn: 0.0295654\ttotal: 12.7s\tremaining: 3m 19s\n",
            "60:\tlearn: 0.0293985\ttotal: 12.9s\tremaining: 3m 18s\n",
            "61:\tlearn: 0.0292371\ttotal: 13.1s\tremaining: 3m 17s\n",
            "62:\tlearn: 0.0290778\ttotal: 13.2s\tremaining: 3m 16s\n",
            "63:\tlearn: 0.0289189\ttotal: 13.4s\tremaining: 3m 15s\n",
            "64:\tlearn: 0.0287638\ttotal: 13.5s\tremaining: 3m 14s\n",
            "65:\tlearn: 0.0286099\ttotal: 13.6s\tremaining: 3m 13s\n",
            "66:\tlearn: 0.0284579\ttotal: 13.8s\tremaining: 3m 12s\n",
            "67:\tlearn: 0.0283140\ttotal: 13.9s\tremaining: 3m 11s\n",
            "68:\tlearn: 0.0281738\ttotal: 14.1s\tremaining: 3m 10s\n",
            "69:\tlearn: 0.0280309\ttotal: 14.2s\tremaining: 3m 9s\n",
            "70:\tlearn: 0.0278944\ttotal: 14.4s\tremaining: 3m 8s\n",
            "71:\tlearn: 0.0277604\ttotal: 14.7s\tremaining: 3m 9s\n",
            "72:\tlearn: 0.0276274\ttotal: 14.9s\tremaining: 3m 9s\n",
            "73:\tlearn: 0.0274947\ttotal: 15.2s\tremaining: 3m 9s\n",
            "74:\tlearn: 0.0273632\ttotal: 15.4s\tremaining: 3m 10s\n",
            "75:\tlearn: 0.0272325\ttotal: 15.7s\tremaining: 3m 11s\n",
            "76:\tlearn: 0.0271064\ttotal: 16s\tremaining: 3m 11s\n",
            "77:\tlearn: 0.0269845\ttotal: 16.3s\tremaining: 3m 12s\n",
            "78:\tlearn: 0.0268670\ttotal: 16.5s\tremaining: 3m 12s\n",
            "79:\tlearn: 0.0267508\ttotal: 16.8s\tremaining: 3m 13s\n",
            "80:\tlearn: 0.0266383\ttotal: 17.1s\tremaining: 3m 13s\n",
            "81:\tlearn: 0.0265276\ttotal: 17.3s\tremaining: 3m 14s\n",
            "82:\tlearn: 0.0264184\ttotal: 17.6s\tremaining: 3m 14s\n",
            "83:\tlearn: 0.0263098\ttotal: 17.9s\tremaining: 3m 14s\n",
            "84:\tlearn: 0.0262037\ttotal: 18s\tremaining: 3m 14s\n",
            "85:\tlearn: 0.0261007\ttotal: 18.2s\tremaining: 3m 13s\n",
            "86:\tlearn: 0.0259987\ttotal: 18.3s\tremaining: 3m 12s\n",
            "87:\tlearn: 0.0259000\ttotal: 18.5s\tremaining: 3m 11s\n",
            "88:\tlearn: 0.0258026\ttotal: 18.6s\tremaining: 3m 10s\n",
            "89:\tlearn: 0.0257044\ttotal: 18.8s\tremaining: 3m 9s\n",
            "90:\tlearn: 0.0256082\ttotal: 18.9s\tremaining: 3m 8s\n",
            "91:\tlearn: 0.0255129\ttotal: 19.1s\tremaining: 3m 8s\n",
            "92:\tlearn: 0.0254196\ttotal: 19.2s\tremaining: 3m 7s\n",
            "93:\tlearn: 0.0253317\ttotal: 19.3s\tremaining: 3m 6s\n",
            "94:\tlearn: 0.0252465\ttotal: 19.5s\tremaining: 3m 5s\n",
            "95:\tlearn: 0.0251632\ttotal: 19.6s\tremaining: 3m 5s\n",
            "96:\tlearn: 0.0250799\ttotal: 19.8s\tremaining: 3m 4s\n",
            "97:\tlearn: 0.0249965\ttotal: 19.9s\tremaining: 3m 3s\n",
            "98:\tlearn: 0.0249175\ttotal: 20.1s\tremaining: 3m 2s\n",
            "99:\tlearn: 0.0248396\ttotal: 20.2s\tremaining: 3m 1s\n",
            "100:\tlearn: 0.0247625\ttotal: 20.4s\tremaining: 3m 1s\n",
            "101:\tlearn: 0.0246847\ttotal: 20.5s\tremaining: 3m\n",
            "102:\tlearn: 0.0246114\ttotal: 20.7s\tremaining: 3m\n",
            "103:\tlearn: 0.0245390\ttotal: 20.8s\tremaining: 2m 59s\n",
            "104:\tlearn: 0.0244653\ttotal: 21s\tremaining: 2m 58s\n",
            "105:\tlearn: 0.0243941\ttotal: 21.1s\tremaining: 2m 58s\n",
            "106:\tlearn: 0.0243252\ttotal: 21.2s\tremaining: 2m 57s\n",
            "107:\tlearn: 0.0242562\ttotal: 21.4s\tremaining: 2m 56s\n",
            "108:\tlearn: 0.0241892\ttotal: 21.5s\tremaining: 2m 56s\n",
            "109:\tlearn: 0.0241240\ttotal: 21.7s\tremaining: 2m 55s\n",
            "110:\tlearn: 0.0240588\ttotal: 21.8s\tremaining: 2m 54s\n",
            "111:\tlearn: 0.0239929\ttotal: 22s\tremaining: 2m 54s\n",
            "112:\tlearn: 0.0239309\ttotal: 22.1s\tremaining: 2m 53s\n",
            "113:\tlearn: 0.0238668\ttotal: 22.3s\tremaining: 2m 53s\n",
            "114:\tlearn: 0.0238053\ttotal: 22.4s\tremaining: 2m 52s\n",
            "115:\tlearn: 0.0237439\ttotal: 22.6s\tremaining: 2m 51s\n",
            "116:\tlearn: 0.0236829\ttotal: 22.7s\tremaining: 2m 51s\n",
            "117:\tlearn: 0.0236232\ttotal: 22.8s\tremaining: 2m 50s\n",
            "118:\tlearn: 0.0235666\ttotal: 23s\tremaining: 2m 50s\n",
            "119:\tlearn: 0.0235131\ttotal: 23.1s\tremaining: 2m 49s\n",
            "120:\tlearn: 0.0234584\ttotal: 23.3s\tremaining: 2m 49s\n",
            "121:\tlearn: 0.0234048\ttotal: 23.4s\tremaining: 2m 48s\n",
            "122:\tlearn: 0.0233522\ttotal: 23.6s\tremaining: 2m 48s\n",
            "123:\tlearn: 0.0232998\ttotal: 23.7s\tremaining: 2m 47s\n",
            "124:\tlearn: 0.0232485\ttotal: 23.8s\tremaining: 2m 46s\n",
            "125:\tlearn: 0.0231983\ttotal: 24s\tremaining: 2m 46s\n",
            "126:\tlearn: 0.0231487\ttotal: 24.1s\tremaining: 2m 45s\n",
            "127:\tlearn: 0.0231000\ttotal: 24.2s\tremaining: 2m 45s\n",
            "128:\tlearn: 0.0230514\ttotal: 24.4s\tremaining: 2m 44s\n",
            "129:\tlearn: 0.0230030\ttotal: 24.5s\tremaining: 2m 44s\n",
            "130:\tlearn: 0.0229556\ttotal: 24.7s\tremaining: 2m 43s\n",
            "131:\tlearn: 0.0229089\ttotal: 24.8s\tremaining: 2m 43s\n",
            "132:\tlearn: 0.0228631\ttotal: 25s\tremaining: 2m 42s\n",
            "133:\tlearn: 0.0228188\ttotal: 25.1s\tremaining: 2m 42s\n",
            "134:\tlearn: 0.0227744\ttotal: 25.2s\tremaining: 2m 41s\n",
            "135:\tlearn: 0.0227318\ttotal: 25.4s\tremaining: 2m 41s\n",
            "136:\tlearn: 0.0226893\ttotal: 25.5s\tremaining: 2m 40s\n",
            "137:\tlearn: 0.0226468\ttotal: 25.7s\tremaining: 2m 40s\n",
            "138:\tlearn: 0.0226059\ttotal: 25.8s\tremaining: 2m 39s\n",
            "139:\tlearn: 0.0225655\ttotal: 25.9s\tremaining: 2m 39s\n",
            "140:\tlearn: 0.0225260\ttotal: 26.1s\tremaining: 2m 38s\n",
            "141:\tlearn: 0.0224861\ttotal: 26.2s\tremaining: 2m 38s\n",
            "142:\tlearn: 0.0224474\ttotal: 26.4s\tremaining: 2m 38s\n",
            "143:\tlearn: 0.0224091\ttotal: 26.5s\tremaining: 2m 37s\n",
            "144:\tlearn: 0.0223712\ttotal: 26.7s\tremaining: 2m 37s\n",
            "145:\tlearn: 0.0223347\ttotal: 26.8s\tremaining: 2m 36s\n",
            "146:\tlearn: 0.0222999\ttotal: 26.9s\tremaining: 2m 36s\n",
            "147:\tlearn: 0.0222646\ttotal: 27.1s\tremaining: 2m 35s\n",
            "148:\tlearn: 0.0222296\ttotal: 27.2s\tremaining: 2m 35s\n",
            "149:\tlearn: 0.0221955\ttotal: 27.3s\tremaining: 2m 34s\n",
            "150:\tlearn: 0.0221616\ttotal: 27.5s\tremaining: 2m 34s\n",
            "151:\tlearn: 0.0221279\ttotal: 27.6s\tremaining: 2m 34s\n",
            "152:\tlearn: 0.0220945\ttotal: 27.8s\tremaining: 2m 33s\n",
            "153:\tlearn: 0.0220627\ttotal: 27.9s\tremaining: 2m 33s\n",
            "154:\tlearn: 0.0220314\ttotal: 28.2s\tremaining: 2m 33s\n",
            "155:\tlearn: 0.0220009\ttotal: 28.4s\tremaining: 2m 33s\n",
            "156:\tlearn: 0.0219705\ttotal: 28.8s\tremaining: 2m 34s\n",
            "157:\tlearn: 0.0219406\ttotal: 29s\tremaining: 2m 34s\n",
            "158:\tlearn: 0.0219115\ttotal: 29.3s\tremaining: 2m 34s\n",
            "159:\tlearn: 0.0218828\ttotal: 29.5s\tremaining: 2m 35s\n",
            "160:\tlearn: 0.0218543\ttotal: 29.8s\tremaining: 2m 35s\n",
            "161:\tlearn: 0.0218265\ttotal: 30s\tremaining: 2m 35s\n",
            "162:\tlearn: 0.0217987\ttotal: 30.3s\tremaining: 2m 35s\n",
            "163:\tlearn: 0.0217714\ttotal: 30.5s\tremaining: 2m 35s\n",
            "164:\tlearn: 0.0217450\ttotal: 30.8s\tremaining: 2m 35s\n",
            "165:\tlearn: 0.0217189\ttotal: 31s\tremaining: 2m 35s\n",
            "166:\tlearn: 0.0216930\ttotal: 31.3s\tremaining: 2m 36s\n",
            "167:\tlearn: 0.0216676\ttotal: 31.5s\tremaining: 2m 35s\n",
            "168:\tlearn: 0.0216426\ttotal: 31.6s\tremaining: 2m 35s\n",
            "169:\tlearn: 0.0216175\ttotal: 31.8s\tremaining: 2m 35s\n",
            "170:\tlearn: 0.0215935\ttotal: 31.9s\tremaining: 2m 34s\n",
            "171:\tlearn: 0.0215703\ttotal: 32.1s\tremaining: 2m 34s\n",
            "172:\tlearn: 0.0215475\ttotal: 32.2s\tremaining: 2m 33s\n",
            "173:\tlearn: 0.0215250\ttotal: 32.3s\tremaining: 2m 33s\n",
            "174:\tlearn: 0.0215025\ttotal: 32.5s\tremaining: 2m 33s\n",
            "175:\tlearn: 0.0214802\ttotal: 32.6s\tremaining: 2m 32s\n",
            "176:\tlearn: 0.0214583\ttotal: 32.7s\tremaining: 2m 32s\n",
            "177:\tlearn: 0.0214367\ttotal: 32.9s\tremaining: 2m 31s\n",
            "178:\tlearn: 0.0214155\ttotal: 33s\tremaining: 2m 31s\n",
            "179:\tlearn: 0.0213948\ttotal: 33.2s\tremaining: 2m 31s\n",
            "180:\tlearn: 0.0213739\ttotal: 33.3s\tremaining: 2m 30s\n",
            "181:\tlearn: 0.0213534\ttotal: 33.4s\tremaining: 2m 30s\n",
            "182:\tlearn: 0.0213333\ttotal: 33.6s\tremaining: 2m 30s\n",
            "183:\tlearn: 0.0213137\ttotal: 33.7s\tremaining: 2m 29s\n",
            "184:\tlearn: 0.0212946\ttotal: 33.9s\tremaining: 2m 29s\n",
            "185:\tlearn: 0.0212756\ttotal: 34s\tremaining: 2m 28s\n",
            "186:\tlearn: 0.0212569\ttotal: 34.2s\tremaining: 2m 28s\n",
            "187:\tlearn: 0.0212385\ttotal: 34.3s\tremaining: 2m 28s\n",
            "188:\tlearn: 0.0212208\ttotal: 34.4s\tremaining: 2m 27s\n",
            "189:\tlearn: 0.0212032\ttotal: 34.6s\tremaining: 2m 27s\n",
            "190:\tlearn: 0.0211859\ttotal: 34.7s\tremaining: 2m 26s\n",
            "191:\tlearn: 0.0211689\ttotal: 34.8s\tremaining: 2m 26s\n",
            "192:\tlearn: 0.0211519\ttotal: 35s\tremaining: 2m 26s\n",
            "193:\tlearn: 0.0211353\ttotal: 35.1s\tremaining: 2m 25s\n",
            "194:\tlearn: 0.0211193\ttotal: 35.3s\tremaining: 2m 25s\n",
            "195:\tlearn: 0.0211032\ttotal: 35.4s\tremaining: 2m 25s\n",
            "196:\tlearn: 0.0210874\ttotal: 35.5s\tremaining: 2m 24s\n",
            "197:\tlearn: 0.0210719\ttotal: 35.7s\tremaining: 2m 24s\n",
            "198:\tlearn: 0.0210564\ttotal: 35.8s\tremaining: 2m 24s\n",
            "199:\tlearn: 0.0210413\ttotal: 36s\tremaining: 2m 23s\n",
            "200:\tlearn: 0.0210265\ttotal: 36.1s\tremaining: 2m 23s\n",
            "201:\tlearn: 0.0210118\ttotal: 36.2s\tremaining: 2m 23s\n",
            "202:\tlearn: 0.0209972\ttotal: 36.4s\tremaining: 2m 22s\n",
            "203:\tlearn: 0.0209830\ttotal: 36.5s\tremaining: 2m 22s\n",
            "204:\tlearn: 0.0209693\ttotal: 36.6s\tremaining: 2m 22s\n",
            "205:\tlearn: 0.0209559\ttotal: 36.8s\tremaining: 2m 21s\n",
            "206:\tlearn: 0.0209426\ttotal: 37s\tremaining: 2m 21s\n",
            "207:\tlearn: 0.0209296\ttotal: 37.1s\tremaining: 2m 21s\n",
            "208:\tlearn: 0.0209169\ttotal: 37.2s\tremaining: 2m 20s\n",
            "209:\tlearn: 0.0209043\ttotal: 37.3s\tremaining: 2m 20s\n",
            "210:\tlearn: 0.0208920\ttotal: 37.5s\tremaining: 2m 20s\n",
            "211:\tlearn: 0.0208796\ttotal: 37.6s\tremaining: 2m 19s\n",
            "212:\tlearn: 0.0208675\ttotal: 37.7s\tremaining: 2m 19s\n",
            "213:\tlearn: 0.0208554\ttotal: 37.9s\tremaining: 2m 19s\n",
            "214:\tlearn: 0.0208433\ttotal: 38s\tremaining: 2m 18s\n",
            "215:\tlearn: 0.0208314\ttotal: 38.2s\tremaining: 2m 18s\n",
            "216:\tlearn: 0.0208197\ttotal: 38.3s\tremaining: 2m 18s\n",
            "217:\tlearn: 0.0208082\ttotal: 38.4s\tremaining: 2m 17s\n",
            "218:\tlearn: 0.0207971\ttotal: 38.6s\tremaining: 2m 17s\n",
            "219:\tlearn: 0.0207860\ttotal: 38.7s\tremaining: 2m 17s\n",
            "220:\tlearn: 0.0207747\ttotal: 38.8s\tremaining: 2m 16s\n",
            "221:\tlearn: 0.0207638\ttotal: 39s\tremaining: 2m 16s\n",
            "222:\tlearn: 0.0207532\ttotal: 39.1s\tremaining: 2m 16s\n",
            "223:\tlearn: 0.0207427\ttotal: 39.2s\tremaining: 2m 15s\n",
            "224:\tlearn: 0.0207324\ttotal: 39.4s\tremaining: 2m 15s\n",
            "225:\tlearn: 0.0207222\ttotal: 39.5s\tremaining: 2m 15s\n",
            "226:\tlearn: 0.0207123\ttotal: 39.6s\tremaining: 2m 14s\n",
            "227:\tlearn: 0.0207026\ttotal: 39.7s\tremaining: 2m 14s\n",
            "228:\tlearn: 0.0206926\ttotal: 39.9s\tremaining: 2m 14s\n",
            "229:\tlearn: 0.0206830\ttotal: 40.1s\tremaining: 2m 14s\n",
            "230:\tlearn: 0.0206736\ttotal: 40.2s\tremaining: 2m 13s\n",
            "231:\tlearn: 0.0206643\ttotal: 40.3s\tremaining: 2m 13s\n",
            "232:\tlearn: 0.0206549\ttotal: 40.5s\tremaining: 2m 13s\n",
            "233:\tlearn: 0.0206460\ttotal: 40.6s\tremaining: 2m 12s\n",
            "234:\tlearn: 0.0206372\ttotal: 40.7s\tremaining: 2m 12s\n",
            "235:\tlearn: 0.0206284\ttotal: 40.9s\tremaining: 2m 12s\n",
            "236:\tlearn: 0.0206195\ttotal: 41s\tremaining: 2m 12s\n",
            "237:\tlearn: 0.0206110\ttotal: 41.1s\tremaining: 2m 11s\n",
            "238:\tlearn: 0.0206024\ttotal: 41.3s\tremaining: 2m 11s\n",
            "239:\tlearn: 0.0205940\ttotal: 41.4s\tremaining: 2m 11s\n",
            "240:\tlearn: 0.0205857\ttotal: 41.7s\tremaining: 2m 11s\n",
            "241:\tlearn: 0.0205777\ttotal: 41.9s\tremaining: 2m 11s\n",
            "242:\tlearn: 0.0205695\ttotal: 42.1s\tremaining: 2m 11s\n",
            "243:\tlearn: 0.0205616\ttotal: 42.4s\tremaining: 2m 11s\n",
            "244:\tlearn: 0.0205539\ttotal: 42.6s\tremaining: 2m 11s\n",
            "245:\tlearn: 0.0205462\ttotal: 42.8s\tremaining: 2m 11s\n",
            "246:\tlearn: 0.0205385\ttotal: 43.1s\tremaining: 2m 11s\n",
            "247:\tlearn: 0.0205311\ttotal: 43.4s\tremaining: 2m 11s\n",
            "248:\tlearn: 0.0205237\ttotal: 43.6s\tremaining: 2m 11s\n",
            "249:\tlearn: 0.0205164\ttotal: 43.8s\tremaining: 2m 11s\n",
            "250:\tlearn: 0.0205092\ttotal: 44.1s\tremaining: 2m 11s\n",
            "251:\tlearn: 0.0205021\ttotal: 44.3s\tremaining: 2m 11s\n",
            "252:\tlearn: 0.0204950\ttotal: 44.6s\tremaining: 2m 11s\n",
            "253:\tlearn: 0.0204881\ttotal: 44.7s\tremaining: 2m 11s\n",
            "254:\tlearn: 0.0204813\ttotal: 44.9s\tremaining: 2m 11s\n",
            "255:\tlearn: 0.0204746\ttotal: 45s\tremaining: 2m 10s\n",
            "256:\tlearn: 0.0204681\ttotal: 45.1s\tremaining: 2m 10s\n",
            "257:\tlearn: 0.0204616\ttotal: 45.3s\tremaining: 2m 10s\n",
            "258:\tlearn: 0.0204551\ttotal: 45.4s\tremaining: 2m 9s\n",
            "259:\tlearn: 0.0204488\ttotal: 45.5s\tremaining: 2m 9s\n",
            "260:\tlearn: 0.0204425\ttotal: 45.7s\tremaining: 2m 9s\n",
            "261:\tlearn: 0.0204363\ttotal: 45.8s\tremaining: 2m 8s\n",
            "262:\tlearn: 0.0204301\ttotal: 45.9s\tremaining: 2m 8s\n",
            "263:\tlearn: 0.0204241\ttotal: 46.1s\tremaining: 2m 8s\n",
            "264:\tlearn: 0.0204181\ttotal: 46.2s\tremaining: 2m 8s\n",
            "265:\tlearn: 0.0204122\ttotal: 46.3s\tremaining: 2m 7s\n",
            "266:\tlearn: 0.0204064\ttotal: 46.5s\tremaining: 2m 7s\n",
            "267:\tlearn: 0.0204007\ttotal: 46.6s\tremaining: 2m 7s\n",
            "268:\tlearn: 0.0203951\ttotal: 46.7s\tremaining: 2m 6s\n",
            "269:\tlearn: 0.0203895\ttotal: 46.9s\tremaining: 2m 6s\n",
            "270:\tlearn: 0.0203842\ttotal: 47s\tremaining: 2m 6s\n",
            "271:\tlearn: 0.0203789\ttotal: 47.1s\tremaining: 2m 6s\n",
            "272:\tlearn: 0.0203735\ttotal: 47.3s\tremaining: 2m 5s\n",
            "273:\tlearn: 0.0203683\ttotal: 47.4s\tremaining: 2m 5s\n",
            "274:\tlearn: 0.0203633\ttotal: 47.5s\tremaining: 2m 5s\n",
            "275:\tlearn: 0.0203582\ttotal: 47.7s\tremaining: 2m 5s\n",
            "276:\tlearn: 0.0203531\ttotal: 47.8s\tremaining: 2m 4s\n",
            "277:\tlearn: 0.0203482\ttotal: 47.9s\tremaining: 2m 4s\n",
            "278:\tlearn: 0.0203434\ttotal: 48.1s\tremaining: 2m 4s\n",
            "279:\tlearn: 0.0203386\ttotal: 48.2s\tremaining: 2m 3s\n",
            "280:\tlearn: 0.0203338\ttotal: 48.3s\tremaining: 2m 3s\n",
            "281:\tlearn: 0.0203289\ttotal: 48.5s\tremaining: 2m 3s\n",
            "282:\tlearn: 0.0203242\ttotal: 48.6s\tremaining: 2m 3s\n",
            "283:\tlearn: 0.0203197\ttotal: 48.7s\tremaining: 2m 2s\n",
            "284:\tlearn: 0.0203153\ttotal: 48.9s\tremaining: 2m 2s\n",
            "285:\tlearn: 0.0203109\ttotal: 49s\tremaining: 2m 2s\n",
            "286:\tlearn: 0.0203066\ttotal: 49.1s\tremaining: 2m 2s\n",
            "287:\tlearn: 0.0203024\ttotal: 49.2s\tremaining: 2m 1s\n",
            "288:\tlearn: 0.0202979\ttotal: 49.4s\tremaining: 2m 1s\n",
            "289:\tlearn: 0.0202938\ttotal: 49.5s\tremaining: 2m 1s\n",
            "290:\tlearn: 0.0202897\ttotal: 49.7s\tremaining: 2m\n",
            "291:\tlearn: 0.0202853\ttotal: 49.8s\tremaining: 2m\n",
            "292:\tlearn: 0.0202811\ttotal: 50s\tremaining: 2m\n",
            "293:\tlearn: 0.0202771\ttotal: 50.1s\tremaining: 2m\n",
            "294:\tlearn: 0.0202731\ttotal: 50.2s\tremaining: 2m\n",
            "295:\tlearn: 0.0202693\ttotal: 50.3s\tremaining: 1m 59s\n",
            "296:\tlearn: 0.0202654\ttotal: 50.5s\tremaining: 1m 59s\n",
            "297:\tlearn: 0.0202617\ttotal: 50.6s\tremaining: 1m 59s\n",
            "298:\tlearn: 0.0202580\ttotal: 50.7s\tremaining: 1m 58s\n",
            "299:\tlearn: 0.0202544\ttotal: 50.9s\tremaining: 1m 58s\n",
            "300:\tlearn: 0.0202508\ttotal: 51s\tremaining: 1m 58s\n",
            "301:\tlearn: 0.0202472\ttotal: 51.1s\tremaining: 1m 58s\n",
            "302:\tlearn: 0.0202436\ttotal: 51.3s\tremaining: 1m 57s\n",
            "303:\tlearn: 0.0202402\ttotal: 51.4s\tremaining: 1m 57s\n",
            "304:\tlearn: 0.0202368\ttotal: 51.5s\tremaining: 1m 57s\n",
            "305:\tlearn: 0.0202333\ttotal: 51.6s\tremaining: 1m 57s\n",
            "306:\tlearn: 0.0202301\ttotal: 51.8s\tremaining: 1m 56s\n",
            "307:\tlearn: 0.0202267\ttotal: 51.9s\tremaining: 1m 56s\n",
            "308:\tlearn: 0.0202236\ttotal: 52s\tremaining: 1m 56s\n",
            "309:\tlearn: 0.0202205\ttotal: 52.2s\tremaining: 1m 56s\n",
            "310:\tlearn: 0.0202174\ttotal: 52.3s\tremaining: 1m 55s\n",
            "311:\tlearn: 0.0202142\ttotal: 52.4s\tremaining: 1m 55s\n",
            "312:\tlearn: 0.0202112\ttotal: 52.6s\tremaining: 1m 55s\n",
            "313:\tlearn: 0.0202083\ttotal: 52.7s\tremaining: 1m 55s\n",
            "314:\tlearn: 0.0202054\ttotal: 52.8s\tremaining: 1m 54s\n",
            "315:\tlearn: 0.0202022\ttotal: 53s\tremaining: 1m 54s\n",
            "316:\tlearn: 0.0201993\ttotal: 53.1s\tremaining: 1m 54s\n",
            "317:\tlearn: 0.0201965\ttotal: 53.2s\tremaining: 1m 54s\n",
            "318:\tlearn: 0.0201936\ttotal: 53.3s\tremaining: 1m 53s\n",
            "319:\tlearn: 0.0201907\ttotal: 53.5s\tremaining: 1m 53s\n",
            "320:\tlearn: 0.0201878\ttotal: 53.7s\tremaining: 1m 53s\n",
            "321:\tlearn: 0.0201852\ttotal: 53.8s\tremaining: 1m 53s\n",
            "322:\tlearn: 0.0201824\ttotal: 53.9s\tremaining: 1m 52s\n",
            "323:\tlearn: 0.0201797\ttotal: 54s\tremaining: 1m 52s\n",
            "324:\tlearn: 0.0201771\ttotal: 54.2s\tremaining: 1m 52s\n",
            "325:\tlearn: 0.0201745\ttotal: 54.3s\tremaining: 1m 52s\n",
            "326:\tlearn: 0.0201720\ttotal: 54.4s\tremaining: 1m 51s\n",
            "327:\tlearn: 0.0201694\ttotal: 54.5s\tremaining: 1m 51s\n",
            "328:\tlearn: 0.0201669\ttotal: 54.8s\tremaining: 1m 51s\n",
            "329:\tlearn: 0.0201644\ttotal: 55s\tremaining: 1m 51s\n",
            "330:\tlearn: 0.0201618\ttotal: 55.2s\tremaining: 1m 51s\n",
            "331:\tlearn: 0.0201595\ttotal: 55.5s\tremaining: 1m 51s\n",
            "332:\tlearn: 0.0201571\ttotal: 55.7s\tremaining: 1m 51s\n",
            "333:\tlearn: 0.0201548\ttotal: 56s\tremaining: 1m 51s\n",
            "334:\tlearn: 0.0201525\ttotal: 56.3s\tremaining: 1m 51s\n",
            "335:\tlearn: 0.0201503\ttotal: 56.5s\tremaining: 1m 51s\n",
            "336:\tlearn: 0.0201480\ttotal: 56.7s\tremaining: 1m 51s\n",
            "337:\tlearn: 0.0201458\ttotal: 57s\tremaining: 1m 51s\n",
            "338:\tlearn: 0.0201436\ttotal: 57.2s\tremaining: 1m 51s\n",
            "339:\tlearn: 0.0201415\ttotal: 57.5s\tremaining: 1m 51s\n",
            "340:\tlearn: 0.0201393\ttotal: 57.8s\tremaining: 1m 51s\n",
            "341:\tlearn: 0.0201372\ttotal: 58s\tremaining: 1m 51s\n",
            "342:\tlearn: 0.0201352\ttotal: 58.2s\tremaining: 1m 51s\n",
            "343:\tlearn: 0.0201331\ttotal: 58.3s\tremaining: 1m 51s\n",
            "344:\tlearn: 0.0201310\ttotal: 58.5s\tremaining: 1m 50s\n",
            "345:\tlearn: 0.0201291\ttotal: 58.6s\tremaining: 1m 50s\n",
            "346:\tlearn: 0.0201272\ttotal: 58.7s\tremaining: 1m 50s\n",
            "347:\tlearn: 0.0201253\ttotal: 58.8s\tremaining: 1m 50s\n",
            "348:\tlearn: 0.0201235\ttotal: 59s\tremaining: 1m 50s\n",
            "349:\tlearn: 0.0201213\ttotal: 59.1s\tremaining: 1m 49s\n",
            "350:\tlearn: 0.0201195\ttotal: 59.3s\tremaining: 1m 49s\n",
            "351:\tlearn: 0.0201177\ttotal: 59.4s\tremaining: 1m 49s\n",
            "352:\tlearn: 0.0201155\ttotal: 59.5s\tremaining: 1m 49s\n",
            "353:\tlearn: 0.0201137\ttotal: 59.7s\tremaining: 1m 48s\n",
            "354:\tlearn: 0.0201119\ttotal: 59.8s\tremaining: 1m 48s\n",
            "355:\tlearn: 0.0201101\ttotal: 60s\tremaining: 1m 48s\n",
            "356:\tlearn: 0.0201083\ttotal: 1m\tremaining: 1m 48s\n",
            "357:\tlearn: 0.0201066\ttotal: 1m\tremaining: 1m 47s\n",
            "358:\tlearn: 0.0201049\ttotal: 1m\tremaining: 1m 47s\n",
            "359:\tlearn: 0.0201032\ttotal: 1m\tremaining: 1m 47s\n",
            "360:\tlearn: 0.0201016\ttotal: 1m\tremaining: 1m 47s\n",
            "361:\tlearn: 0.0201000\ttotal: 1m\tremaining: 1m 47s\n",
            "362:\tlearn: 0.0200984\ttotal: 1m\tremaining: 1m 46s\n",
            "363:\tlearn: 0.0200969\ttotal: 1m\tremaining: 1m 46s\n",
            "364:\tlearn: 0.0200953\ttotal: 1m 1s\tremaining: 1m 46s\n",
            "365:\tlearn: 0.0200936\ttotal: 1m 1s\tremaining: 1m 46s\n",
            "366:\tlearn: 0.0200921\ttotal: 1m 1s\tremaining: 1m 45s\n",
            "367:\tlearn: 0.0200906\ttotal: 1m 1s\tremaining: 1m 45s\n",
            "368:\tlearn: 0.0200891\ttotal: 1m 1s\tremaining: 1m 45s\n",
            "369:\tlearn: 0.0200875\ttotal: 1m 1s\tremaining: 1m 45s\n",
            "370:\tlearn: 0.0200859\ttotal: 1m 1s\tremaining: 1m 44s\n",
            "371:\tlearn: 0.0200845\ttotal: 1m 2s\tremaining: 1m 44s\n",
            "372:\tlearn: 0.0200830\ttotal: 1m 2s\tremaining: 1m 44s\n",
            "373:\tlearn: 0.0200816\ttotal: 1m 2s\tremaining: 1m 44s\n",
            "374:\tlearn: 0.0200801\ttotal: 1m 2s\tremaining: 1m 44s\n",
            "375:\tlearn: 0.0200788\ttotal: 1m 2s\tremaining: 1m 43s\n",
            "376:\tlearn: 0.0200774\ttotal: 1m 2s\tremaining: 1m 43s\n",
            "377:\tlearn: 0.0200761\ttotal: 1m 2s\tremaining: 1m 43s\n",
            "378:\tlearn: 0.0200747\ttotal: 1m 2s\tremaining: 1m 43s\n",
            "379:\tlearn: 0.0200733\ttotal: 1m 3s\tremaining: 1m 42s\n",
            "380:\tlearn: 0.0200720\ttotal: 1m 3s\tremaining: 1m 42s\n",
            "381:\tlearn: 0.0200706\ttotal: 1m 3s\tremaining: 1m 42s\n",
            "382:\tlearn: 0.0200693\ttotal: 1m 3s\tremaining: 1m 42s\n",
            "383:\tlearn: 0.0200681\ttotal: 1m 3s\tremaining: 1m 42s\n",
            "384:\tlearn: 0.0200668\ttotal: 1m 3s\tremaining: 1m 41s\n",
            "385:\tlearn: 0.0200656\ttotal: 1m 3s\tremaining: 1m 41s\n",
            "386:\tlearn: 0.0200644\ttotal: 1m 3s\tremaining: 1m 41s\n",
            "387:\tlearn: 0.0200631\ttotal: 1m 4s\tremaining: 1m 41s\n",
            "388:\tlearn: 0.0200619\ttotal: 1m 4s\tremaining: 1m 40s\n",
            "389:\tlearn: 0.0200608\ttotal: 1m 4s\tremaining: 1m 40s\n",
            "390:\tlearn: 0.0200596\ttotal: 1m 4s\tremaining: 1m 40s\n",
            "391:\tlearn: 0.0200585\ttotal: 1m 4s\tremaining: 1m 40s\n",
            "392:\tlearn: 0.0200573\ttotal: 1m 4s\tremaining: 1m 40s\n",
            "393:\tlearn: 0.0200562\ttotal: 1m 4s\tremaining: 1m 39s\n",
            "394:\tlearn: 0.0200550\ttotal: 1m 5s\tremaining: 1m 39s\n",
            "395:\tlearn: 0.0200539\ttotal: 1m 5s\tremaining: 1m 39s\n",
            "396:\tlearn: 0.0200529\ttotal: 1m 5s\tremaining: 1m 39s\n",
            "397:\tlearn: 0.0200517\ttotal: 1m 5s\tremaining: 1m 38s\n",
            "398:\tlearn: 0.0200507\ttotal: 1m 5s\tremaining: 1m 38s\n",
            "399:\tlearn: 0.0200495\ttotal: 1m 5s\tremaining: 1m 38s\n",
            "400:\tlearn: 0.0200485\ttotal: 1m 5s\tremaining: 1m 38s\n",
            "401:\tlearn: 0.0200474\ttotal: 1m 6s\tremaining: 1m 38s\n",
            "402:\tlearn: 0.0200464\ttotal: 1m 6s\tremaining: 1m 37s\n",
            "403:\tlearn: 0.0200454\ttotal: 1m 6s\tremaining: 1m 37s\n",
            "404:\tlearn: 0.0200445\ttotal: 1m 6s\tremaining: 1m 37s\n",
            "405:\tlearn: 0.0200433\ttotal: 1m 6s\tremaining: 1m 37s\n",
            "406:\tlearn: 0.0200422\ttotal: 1m 6s\tremaining: 1m 37s\n",
            "407:\tlearn: 0.0200413\ttotal: 1m 6s\tremaining: 1m 36s\n",
            "408:\tlearn: 0.0200403\ttotal: 1m 6s\tremaining: 1m 36s\n",
            "409:\tlearn: 0.0200394\ttotal: 1m 7s\tremaining: 1m 36s\n",
            "410:\tlearn: 0.0200384\ttotal: 1m 7s\tremaining: 1m 36s\n",
            "411:\tlearn: 0.0200375\ttotal: 1m 7s\tremaining: 1m 36s\n",
            "412:\tlearn: 0.0200365\ttotal: 1m 7s\tremaining: 1m 35s\n",
            "413:\tlearn: 0.0200356\ttotal: 1m 7s\tremaining: 1m 35s\n",
            "414:\tlearn: 0.0200347\ttotal: 1m 7s\tremaining: 1m 35s\n",
            "415:\tlearn: 0.0200336\ttotal: 1m 7s\tremaining: 1m 35s\n",
            "416:\tlearn: 0.0200324\ttotal: 1m 8s\tremaining: 1m 35s\n",
            "417:\tlearn: 0.0200315\ttotal: 1m 8s\tremaining: 1m 35s\n",
            "418:\tlearn: 0.0200307\ttotal: 1m 8s\tremaining: 1m 34s\n",
            "419:\tlearn: 0.0200298\ttotal: 1m 8s\tremaining: 1m 34s\n",
            "420:\tlearn: 0.0200290\ttotal: 1m 8s\tremaining: 1m 34s\n",
            "421:\tlearn: 0.0200281\ttotal: 1m 9s\tremaining: 1m 34s\n",
            "422:\tlearn: 0.0200274\ttotal: 1m 9s\tremaining: 1m 34s\n",
            "423:\tlearn: 0.0200265\ttotal: 1m 9s\tremaining: 1m 34s\n",
            "424:\tlearn: 0.0200257\ttotal: 1m 9s\tremaining: 1m 34s\n",
            "425:\tlearn: 0.0200248\ttotal: 1m 10s\tremaining: 1m 34s\n",
            "426:\tlearn: 0.0200240\ttotal: 1m 10s\tremaining: 1m 34s\n",
            "427:\tlearn: 0.0200233\ttotal: 1m 10s\tremaining: 1m 34s\n",
            "428:\tlearn: 0.0200225\ttotal: 1m 10s\tremaining: 1m 34s\n",
            "429:\tlearn: 0.0200217\ttotal: 1m 11s\tremaining: 1m 34s\n",
            "430:\tlearn: 0.0200210\ttotal: 1m 11s\tremaining: 1m 34s\n",
            "431:\tlearn: 0.0200202\ttotal: 1m 11s\tremaining: 1m 34s\n",
            "432:\tlearn: 0.0200194\ttotal: 1m 11s\tremaining: 1m 33s\n",
            "433:\tlearn: 0.0200187\ttotal: 1m 11s\tremaining: 1m 33s\n",
            "434:\tlearn: 0.0200180\ttotal: 1m 12s\tremaining: 1m 33s\n",
            "435:\tlearn: 0.0200173\ttotal: 1m 12s\tremaining: 1m 33s\n",
            "436:\tlearn: 0.0200166\ttotal: 1m 12s\tremaining: 1m 33s\n",
            "437:\tlearn: 0.0200159\ttotal: 1m 12s\tremaining: 1m 32s\n",
            "438:\tlearn: 0.0200152\ttotal: 1m 12s\tremaining: 1m 32s\n",
            "439:\tlearn: 0.0200144\ttotal: 1m 12s\tremaining: 1m 32s\n",
            "440:\tlearn: 0.0200137\ttotal: 1m 12s\tremaining: 1m 32s\n",
            "441:\tlearn: 0.0200128\ttotal: 1m 12s\tremaining: 1m 32s\n",
            "442:\tlearn: 0.0200120\ttotal: 1m 13s\tremaining: 1m 31s\n",
            "443:\tlearn: 0.0200113\ttotal: 1m 13s\tremaining: 1m 31s\n",
            "444:\tlearn: 0.0200106\ttotal: 1m 13s\tremaining: 1m 31s\n",
            "445:\tlearn: 0.0200098\ttotal: 1m 13s\tremaining: 1m 31s\n",
            "446:\tlearn: 0.0200091\ttotal: 1m 13s\tremaining: 1m 31s\n",
            "447:\tlearn: 0.0200085\ttotal: 1m 13s\tremaining: 1m 30s\n",
            "448:\tlearn: 0.0200078\ttotal: 1m 13s\tremaining: 1m 30s\n",
            "449:\tlearn: 0.0200072\ttotal: 1m 14s\tremaining: 1m 30s\n",
            "450:\tlearn: 0.0200066\ttotal: 1m 14s\tremaining: 1m 30s\n",
            "451:\tlearn: 0.0200060\ttotal: 1m 14s\tremaining: 1m 30s\n",
            "452:\tlearn: 0.0200054\ttotal: 1m 14s\tremaining: 1m 29s\n",
            "453:\tlearn: 0.0200048\ttotal: 1m 14s\tremaining: 1m 29s\n",
            "454:\tlearn: 0.0200042\ttotal: 1m 14s\tremaining: 1m 29s\n",
            "455:\tlearn: 0.0200036\ttotal: 1m 14s\tremaining: 1m 29s\n",
            "456:\tlearn: 0.0200030\ttotal: 1m 14s\tremaining: 1m 28s\n",
            "457:\tlearn: 0.0200024\ttotal: 1m 15s\tremaining: 1m 28s\n",
            "458:\tlearn: 0.0200018\ttotal: 1m 15s\tremaining: 1m 28s\n",
            "459:\tlearn: 0.0200013\ttotal: 1m 15s\tremaining: 1m 28s\n",
            "460:\tlearn: 0.0200007\ttotal: 1m 15s\tremaining: 1m 28s\n",
            "461:\tlearn: 0.0200001\ttotal: 1m 15s\tremaining: 1m 27s\n",
            "462:\tlearn: 0.0199995\ttotal: 1m 15s\tremaining: 1m 27s\n",
            "463:\tlearn: 0.0199989\ttotal: 1m 15s\tremaining: 1m 27s\n",
            "464:\tlearn: 0.0199984\ttotal: 1m 15s\tremaining: 1m 27s\n",
            "465:\tlearn: 0.0199978\ttotal: 1m 16s\tremaining: 1m 27s\n",
            "466:\tlearn: 0.0199971\ttotal: 1m 16s\tremaining: 1m 27s\n",
            "467:\tlearn: 0.0199966\ttotal: 1m 16s\tremaining: 1m 26s\n",
            "468:\tlearn: 0.0199961\ttotal: 1m 16s\tremaining: 1m 26s\n",
            "469:\tlearn: 0.0199956\ttotal: 1m 16s\tremaining: 1m 26s\n",
            "470:\tlearn: 0.0199950\ttotal: 1m 16s\tremaining: 1m 26s\n",
            "471:\tlearn: 0.0199946\ttotal: 1m 16s\tremaining: 1m 25s\n",
            "472:\tlearn: 0.0199941\ttotal: 1m 16s\tremaining: 1m 25s\n",
            "473:\tlearn: 0.0199936\ttotal: 1m 17s\tremaining: 1m 25s\n",
            "474:\tlearn: 0.0199930\ttotal: 1m 17s\tremaining: 1m 25s\n",
            "475:\tlearn: 0.0199925\ttotal: 1m 17s\tremaining: 1m 25s\n",
            "476:\tlearn: 0.0199920\ttotal: 1m 17s\tremaining: 1m 25s\n",
            "477:\tlearn: 0.0199915\ttotal: 1m 17s\tremaining: 1m 24s\n",
            "478:\tlearn: 0.0199909\ttotal: 1m 17s\tremaining: 1m 24s\n",
            "479:\tlearn: 0.0199905\ttotal: 1m 17s\tremaining: 1m 24s\n",
            "480:\tlearn: 0.0199900\ttotal: 1m 18s\tremaining: 1m 24s\n",
            "481:\tlearn: 0.0199895\ttotal: 1m 18s\tremaining: 1m 24s\n",
            "482:\tlearn: 0.0199890\ttotal: 1m 18s\tremaining: 1m 23s\n",
            "483:\tlearn: 0.0199886\ttotal: 1m 18s\tremaining: 1m 23s\n",
            "484:\tlearn: 0.0199880\ttotal: 1m 18s\tremaining: 1m 23s\n",
            "485:\tlearn: 0.0199875\ttotal: 1m 18s\tremaining: 1m 23s\n",
            "486:\tlearn: 0.0199869\ttotal: 1m 18s\tremaining: 1m 23s\n",
            "487:\tlearn: 0.0199864\ttotal: 1m 18s\tremaining: 1m 22s\n",
            "488:\tlearn: 0.0199858\ttotal: 1m 19s\tremaining: 1m 22s\n",
            "489:\tlearn: 0.0199853\ttotal: 1m 19s\tremaining: 1m 22s\n",
            "490:\tlearn: 0.0199848\ttotal: 1m 19s\tremaining: 1m 22s\n",
            "491:\tlearn: 0.0199844\ttotal: 1m 19s\tremaining: 1m 22s\n",
            "492:\tlearn: 0.0199839\ttotal: 1m 19s\tremaining: 1m 21s\n",
            "493:\tlearn: 0.0199834\ttotal: 1m 19s\tremaining: 1m 21s\n",
            "494:\tlearn: 0.0199829\ttotal: 1m 19s\tremaining: 1m 21s\n",
            "495:\tlearn: 0.0199823\ttotal: 1m 20s\tremaining: 1m 21s\n",
            "496:\tlearn: 0.0199818\ttotal: 1m 20s\tremaining: 1m 21s\n",
            "497:\tlearn: 0.0199814\ttotal: 1m 20s\tremaining: 1m 20s\n",
            "498:\tlearn: 0.0199810\ttotal: 1m 20s\tremaining: 1m 20s\n",
            "499:\tlearn: 0.0199805\ttotal: 1m 20s\tremaining: 1m 20s\n",
            "500:\tlearn: 0.0199801\ttotal: 1m 20s\tremaining: 1m 20s\n",
            "501:\tlearn: 0.0199797\ttotal: 1m 20s\tremaining: 1m 20s\n",
            "502:\tlearn: 0.0199794\ttotal: 1m 20s\tremaining: 1m 19s\n",
            "503:\tlearn: 0.0199789\ttotal: 1m 21s\tremaining: 1m 19s\n",
            "504:\tlearn: 0.0199785\ttotal: 1m 21s\tremaining: 1m 19s\n",
            "505:\tlearn: 0.0199781\ttotal: 1m 21s\tremaining: 1m 19s\n",
            "506:\tlearn: 0.0199777\ttotal: 1m 21s\tremaining: 1m 19s\n",
            "507:\tlearn: 0.0199772\ttotal: 1m 21s\tremaining: 1m 18s\n",
            "508:\tlearn: 0.0199766\ttotal: 1m 21s\tremaining: 1m 18s\n",
            "509:\tlearn: 0.0199762\ttotal: 1m 22s\tremaining: 1m 18s\n",
            "510:\tlearn: 0.0199756\ttotal: 1m 22s\tremaining: 1m 18s\n",
            "511:\tlearn: 0.0199751\ttotal: 1m 22s\tremaining: 1m 18s\n",
            "512:\tlearn: 0.0199746\ttotal: 1m 22s\tremaining: 1m 18s\n",
            "513:\tlearn: 0.0199742\ttotal: 1m 23s\tremaining: 1m 18s\n",
            "514:\tlearn: 0.0199738\ttotal: 1m 23s\tremaining: 1m 18s\n",
            "515:\tlearn: 0.0199733\ttotal: 1m 23s\tremaining: 1m 18s\n",
            "516:\tlearn: 0.0199729\ttotal: 1m 23s\tremaining: 1m 18s\n",
            "517:\tlearn: 0.0199726\ttotal: 1m 23s\tremaining: 1m 18s\n",
            "518:\tlearn: 0.0199723\ttotal: 1m 24s\tremaining: 1m 18s\n",
            "519:\tlearn: 0.0199718\ttotal: 1m 24s\tremaining: 1m 17s\n",
            "520:\tlearn: 0.0199714\ttotal: 1m 24s\tremaining: 1m 17s\n",
            "521:\tlearn: 0.0199711\ttotal: 1m 24s\tremaining: 1m 17s\n",
            "522:\tlearn: 0.0199707\ttotal: 1m 25s\tremaining: 1m 17s\n",
            "523:\tlearn: 0.0199704\ttotal: 1m 25s\tremaining: 1m 17s\n",
            "524:\tlearn: 0.0199701\ttotal: 1m 25s\tremaining: 1m 17s\n",
            "525:\tlearn: 0.0199697\ttotal: 1m 25s\tremaining: 1m 16s\n",
            "526:\tlearn: 0.0199693\ttotal: 1m 25s\tremaining: 1m 16s\n",
            "527:\tlearn: 0.0199690\ttotal: 1m 25s\tremaining: 1m 16s\n",
            "528:\tlearn: 0.0199685\ttotal: 1m 25s\tremaining: 1m 16s\n",
            "529:\tlearn: 0.0199681\ttotal: 1m 25s\tremaining: 1m 16s\n",
            "530:\tlearn: 0.0199677\ttotal: 1m 26s\tremaining: 1m 15s\n",
            "531:\tlearn: 0.0199673\ttotal: 1m 26s\tremaining: 1m 15s\n",
            "532:\tlearn: 0.0199669\ttotal: 1m 26s\tremaining: 1m 15s\n",
            "533:\tlearn: 0.0199666\ttotal: 1m 26s\tremaining: 1m 15s\n",
            "534:\tlearn: 0.0199662\ttotal: 1m 26s\tremaining: 1m 15s\n",
            "535:\tlearn: 0.0199658\ttotal: 1m 26s\tremaining: 1m 15s\n",
            "536:\tlearn: 0.0199655\ttotal: 1m 26s\tremaining: 1m 14s\n",
            "537:\tlearn: 0.0199651\ttotal: 1m 26s\tremaining: 1m 14s\n",
            "538:\tlearn: 0.0199648\ttotal: 1m 27s\tremaining: 1m 14s\n",
            "539:\tlearn: 0.0199643\ttotal: 1m 27s\tremaining: 1m 14s\n",
            "540:\tlearn: 0.0199640\ttotal: 1m 27s\tremaining: 1m 14s\n",
            "541:\tlearn: 0.0199637\ttotal: 1m 27s\tremaining: 1m 13s\n",
            "542:\tlearn: 0.0199634\ttotal: 1m 27s\tremaining: 1m 13s\n",
            "543:\tlearn: 0.0199629\ttotal: 1m 27s\tremaining: 1m 13s\n",
            "544:\tlearn: 0.0199626\ttotal: 1m 27s\tremaining: 1m 13s\n",
            "545:\tlearn: 0.0199623\ttotal: 1m 27s\tremaining: 1m 13s\n",
            "546:\tlearn: 0.0199619\ttotal: 1m 28s\tremaining: 1m 12s\n",
            "547:\tlearn: 0.0199616\ttotal: 1m 28s\tremaining: 1m 12s\n",
            "548:\tlearn: 0.0199612\ttotal: 1m 28s\tremaining: 1m 12s\n",
            "549:\tlearn: 0.0199608\ttotal: 1m 28s\tremaining: 1m 12s\n",
            "550:\tlearn: 0.0199605\ttotal: 1m 28s\tremaining: 1m 12s\n",
            "551:\tlearn: 0.0199602\ttotal: 1m 28s\tremaining: 1m 12s\n",
            "552:\tlearn: 0.0199600\ttotal: 1m 28s\tremaining: 1m 11s\n",
            "553:\tlearn: 0.0199596\ttotal: 1m 29s\tremaining: 1m 11s\n",
            "554:\tlearn: 0.0199593\ttotal: 1m 29s\tremaining: 1m 11s\n",
            "555:\tlearn: 0.0199590\ttotal: 1m 29s\tremaining: 1m 11s\n",
            "556:\tlearn: 0.0199586\ttotal: 1m 29s\tremaining: 1m 11s\n",
            "557:\tlearn: 0.0199582\ttotal: 1m 29s\tremaining: 1m 10s\n",
            "558:\tlearn: 0.0199579\ttotal: 1m 29s\tremaining: 1m 10s\n",
            "559:\tlearn: 0.0199576\ttotal: 1m 29s\tremaining: 1m 10s\n",
            "560:\tlearn: 0.0199571\ttotal: 1m 29s\tremaining: 1m 10s\n",
            "561:\tlearn: 0.0199568\ttotal: 1m 30s\tremaining: 1m 10s\n",
            "562:\tlearn: 0.0199564\ttotal: 1m 30s\tremaining: 1m 10s\n",
            "563:\tlearn: 0.0199561\ttotal: 1m 30s\tremaining: 1m 9s\n",
            "564:\tlearn: 0.0199559\ttotal: 1m 30s\tremaining: 1m 9s\n",
            "565:\tlearn: 0.0199555\ttotal: 1m 30s\tremaining: 1m 9s\n",
            "566:\tlearn: 0.0199552\ttotal: 1m 30s\tremaining: 1m 9s\n",
            "567:\tlearn: 0.0199549\ttotal: 1m 30s\tremaining: 1m 9s\n",
            "568:\tlearn: 0.0199547\ttotal: 1m 30s\tremaining: 1m 8s\n",
            "569:\tlearn: 0.0199544\ttotal: 1m 31s\tremaining: 1m 8s\n",
            "570:\tlearn: 0.0199540\ttotal: 1m 31s\tremaining: 1m 8s\n",
            "571:\tlearn: 0.0199537\ttotal: 1m 31s\tremaining: 1m 8s\n",
            "572:\tlearn: 0.0199534\ttotal: 1m 31s\tremaining: 1m 8s\n",
            "573:\tlearn: 0.0199531\ttotal: 1m 31s\tremaining: 1m 7s\n",
            "574:\tlearn: 0.0199529\ttotal: 1m 31s\tremaining: 1m 7s\n",
            "575:\tlearn: 0.0199525\ttotal: 1m 31s\tremaining: 1m 7s\n",
            "576:\tlearn: 0.0199523\ttotal: 1m 31s\tremaining: 1m 7s\n",
            "577:\tlearn: 0.0199519\ttotal: 1m 32s\tremaining: 1m 7s\n",
            "578:\tlearn: 0.0199514\ttotal: 1m 32s\tremaining: 1m 7s\n",
            "579:\tlearn: 0.0199511\ttotal: 1m 32s\tremaining: 1m 6s\n",
            "580:\tlearn: 0.0199508\ttotal: 1m 32s\tremaining: 1m 6s\n",
            "581:\tlearn: 0.0199505\ttotal: 1m 32s\tremaining: 1m 6s\n",
            "582:\tlearn: 0.0199502\ttotal: 1m 32s\tremaining: 1m 6s\n",
            "583:\tlearn: 0.0199499\ttotal: 1m 32s\tremaining: 1m 6s\n",
            "584:\tlearn: 0.0199497\ttotal: 1m 33s\tremaining: 1m 6s\n",
            "585:\tlearn: 0.0199494\ttotal: 1m 33s\tremaining: 1m 5s\n",
            "586:\tlearn: 0.0199491\ttotal: 1m 33s\tremaining: 1m 5s\n",
            "587:\tlearn: 0.0199488\ttotal: 1m 33s\tremaining: 1m 5s\n",
            "588:\tlearn: 0.0199485\ttotal: 1m 33s\tremaining: 1m 5s\n",
            "589:\tlearn: 0.0199481\ttotal: 1m 33s\tremaining: 1m 5s\n",
            "590:\tlearn: 0.0199477\ttotal: 1m 33s\tremaining: 1m 4s\n",
            "591:\tlearn: 0.0199475\ttotal: 1m 34s\tremaining: 1m 4s\n",
            "592:\tlearn: 0.0199472\ttotal: 1m 34s\tremaining: 1m 4s\n",
            "593:\tlearn: 0.0199470\ttotal: 1m 34s\tremaining: 1m 4s\n",
            "594:\tlearn: 0.0199466\ttotal: 1m 34s\tremaining: 1m 4s\n",
            "595:\tlearn: 0.0199463\ttotal: 1m 34s\tremaining: 1m 4s\n",
            "596:\tlearn: 0.0199461\ttotal: 1m 34s\tremaining: 1m 3s\n",
            "597:\tlearn: 0.0199456\ttotal: 1m 34s\tremaining: 1m 3s\n",
            "598:\tlearn: 0.0199454\ttotal: 1m 35s\tremaining: 1m 3s\n",
            "599:\tlearn: 0.0199450\ttotal: 1m 35s\tremaining: 1m 3s\n",
            "600:\tlearn: 0.0199447\ttotal: 1m 35s\tremaining: 1m 3s\n",
            "601:\tlearn: 0.0199443\ttotal: 1m 35s\tremaining: 1m 3s\n",
            "602:\tlearn: 0.0199440\ttotal: 1m 36s\tremaining: 1m 3s\n",
            "603:\tlearn: 0.0199437\ttotal: 1m 36s\tremaining: 1m 3s\n",
            "604:\tlearn: 0.0199435\ttotal: 1m 36s\tremaining: 1m 3s\n",
            "605:\tlearn: 0.0199433\ttotal: 1m 36s\tremaining: 1m 2s\n",
            "606:\tlearn: 0.0199430\ttotal: 1m 37s\tremaining: 1m 2s\n",
            "607:\tlearn: 0.0199426\ttotal: 1m 37s\tremaining: 1m 2s\n",
            "608:\tlearn: 0.0199424\ttotal: 1m 37s\tremaining: 1m 2s\n",
            "609:\tlearn: 0.0199422\ttotal: 1m 37s\tremaining: 1m 2s\n",
            "610:\tlearn: 0.0199419\ttotal: 1m 37s\tremaining: 1m 2s\n",
            "611:\tlearn: 0.0199417\ttotal: 1m 38s\tremaining: 1m 2s\n",
            "612:\tlearn: 0.0199414\ttotal: 1m 38s\tremaining: 1m 2s\n",
            "613:\tlearn: 0.0199412\ttotal: 1m 38s\tremaining: 1m 2s\n",
            "614:\tlearn: 0.0199409\ttotal: 1m 38s\tremaining: 1m 1s\n",
            "615:\tlearn: 0.0199404\ttotal: 1m 38s\tremaining: 1m 1s\n",
            "616:\tlearn: 0.0199402\ttotal: 1m 39s\tremaining: 1m 1s\n",
            "617:\tlearn: 0.0199397\ttotal: 1m 39s\tremaining: 1m 1s\n",
            "618:\tlearn: 0.0199392\ttotal: 1m 39s\tremaining: 1m 1s\n",
            "619:\tlearn: 0.0199390\ttotal: 1m 39s\tremaining: 1m\n",
            "620:\tlearn: 0.0199386\ttotal: 1m 39s\tremaining: 1m\n",
            "621:\tlearn: 0.0199384\ttotal: 1m 39s\tremaining: 1m\n",
            "622:\tlearn: 0.0199381\ttotal: 1m 39s\tremaining: 1m\n",
            "623:\tlearn: 0.0199380\ttotal: 1m 40s\tremaining: 1m\n",
            "624:\tlearn: 0.0199378\ttotal: 1m 40s\tremaining: 1m\n",
            "625:\tlearn: 0.0199375\ttotal: 1m 40s\tremaining: 59.9s\n",
            "626:\tlearn: 0.0199372\ttotal: 1m 40s\tremaining: 59.8s\n",
            "627:\tlearn: 0.0199369\ttotal: 1m 40s\tremaining: 59.6s\n",
            "628:\tlearn: 0.0199366\ttotal: 1m 40s\tremaining: 59.4s\n",
            "629:\tlearn: 0.0199363\ttotal: 1m 40s\tremaining: 59.2s\n",
            "630:\tlearn: 0.0199361\ttotal: 1m 40s\tremaining: 59s\n",
            "631:\tlearn: 0.0199358\ttotal: 1m 41s\tremaining: 58.9s\n",
            "632:\tlearn: 0.0199355\ttotal: 1m 41s\tremaining: 58.7s\n",
            "633:\tlearn: 0.0199353\ttotal: 1m 41s\tremaining: 58.5s\n",
            "634:\tlearn: 0.0199349\ttotal: 1m 41s\tremaining: 58.4s\n",
            "635:\tlearn: 0.0199347\ttotal: 1m 41s\tremaining: 58.2s\n",
            "636:\tlearn: 0.0199344\ttotal: 1m 41s\tremaining: 58s\n",
            "637:\tlearn: 0.0199342\ttotal: 1m 41s\tremaining: 57.8s\n",
            "638:\tlearn: 0.0199339\ttotal: 1m 42s\tremaining: 57.7s\n",
            "639:\tlearn: 0.0199337\ttotal: 1m 42s\tremaining: 57.5s\n",
            "640:\tlearn: 0.0199334\ttotal: 1m 42s\tremaining: 57.3s\n",
            "641:\tlearn: 0.0199332\ttotal: 1m 42s\tremaining: 57.1s\n",
            "642:\tlearn: 0.0199329\ttotal: 1m 42s\tremaining: 57s\n",
            "643:\tlearn: 0.0199327\ttotal: 1m 42s\tremaining: 56.8s\n",
            "644:\tlearn: 0.0199324\ttotal: 1m 42s\tremaining: 56.6s\n",
            "645:\tlearn: 0.0199322\ttotal: 1m 42s\tremaining: 56.4s\n",
            "646:\tlearn: 0.0199319\ttotal: 1m 43s\tremaining: 56.3s\n",
            "647:\tlearn: 0.0199317\ttotal: 1m 43s\tremaining: 56.1s\n",
            "648:\tlearn: 0.0199315\ttotal: 1m 43s\tremaining: 55.9s\n",
            "649:\tlearn: 0.0199313\ttotal: 1m 43s\tremaining: 55.7s\n",
            "650:\tlearn: 0.0199309\ttotal: 1m 43s\tremaining: 55.6s\n",
            "651:\tlearn: 0.0199307\ttotal: 1m 43s\tremaining: 55.4s\n",
            "652:\tlearn: 0.0199305\ttotal: 1m 43s\tremaining: 55.2s\n",
            "653:\tlearn: 0.0199303\ttotal: 1m 44s\tremaining: 55.1s\n",
            "654:\tlearn: 0.0199301\ttotal: 1m 44s\tremaining: 54.9s\n",
            "655:\tlearn: 0.0199300\ttotal: 1m 44s\tremaining: 54.7s\n",
            "656:\tlearn: 0.0199298\ttotal: 1m 44s\tremaining: 54.5s\n",
            "657:\tlearn: 0.0199295\ttotal: 1m 44s\tremaining: 54.4s\n",
            "658:\tlearn: 0.0199294\ttotal: 1m 44s\tremaining: 54.2s\n",
            "659:\tlearn: 0.0199289\ttotal: 1m 44s\tremaining: 54s\n",
            "660:\tlearn: 0.0199287\ttotal: 1m 44s\tremaining: 53.8s\n",
            "661:\tlearn: 0.0199284\ttotal: 1m 45s\tremaining: 53.7s\n",
            "662:\tlearn: 0.0199281\ttotal: 1m 45s\tremaining: 53.5s\n",
            "663:\tlearn: 0.0199279\ttotal: 1m 45s\tremaining: 53.3s\n",
            "664:\tlearn: 0.0199277\ttotal: 1m 45s\tremaining: 53.2s\n",
            "665:\tlearn: 0.0199274\ttotal: 1m 45s\tremaining: 53s\n",
            "666:\tlearn: 0.0199271\ttotal: 1m 45s\tremaining: 52.8s\n",
            "667:\tlearn: 0.0199269\ttotal: 1m 45s\tremaining: 52.7s\n",
            "668:\tlearn: 0.0199267\ttotal: 1m 46s\tremaining: 52.5s\n",
            "669:\tlearn: 0.0199264\ttotal: 1m 46s\tremaining: 52.3s\n",
            "670:\tlearn: 0.0199261\ttotal: 1m 46s\tremaining: 52.2s\n",
            "671:\tlearn: 0.0199259\ttotal: 1m 46s\tremaining: 52s\n",
            "672:\tlearn: 0.0199257\ttotal: 1m 46s\tremaining: 51.8s\n",
            "673:\tlearn: 0.0199254\ttotal: 1m 46s\tremaining: 51.6s\n",
            "674:\tlearn: 0.0199251\ttotal: 1m 46s\tremaining: 51.5s\n",
            "675:\tlearn: 0.0199250\ttotal: 1m 47s\tremaining: 51.3s\n",
            "676:\tlearn: 0.0199248\ttotal: 1m 47s\tremaining: 51.1s\n",
            "677:\tlearn: 0.0199246\ttotal: 1m 47s\tremaining: 51s\n",
            "678:\tlearn: 0.0199242\ttotal: 1m 47s\tremaining: 50.8s\n",
            "679:\tlearn: 0.0199240\ttotal: 1m 47s\tremaining: 50.6s\n",
            "680:\tlearn: 0.0199238\ttotal: 1m 47s\tremaining: 50.5s\n",
            "681:\tlearn: 0.0199235\ttotal: 1m 47s\tremaining: 50.3s\n",
            "682:\tlearn: 0.0199232\ttotal: 1m 47s\tremaining: 50.1s\n",
            "683:\tlearn: 0.0199230\ttotal: 1m 48s\tremaining: 49.9s\n",
            "684:\tlearn: 0.0199228\ttotal: 1m 48s\tremaining: 49.8s\n",
            "685:\tlearn: 0.0199224\ttotal: 1m 48s\tremaining: 49.6s\n",
            "686:\tlearn: 0.0199221\ttotal: 1m 48s\tremaining: 49.4s\n",
            "687:\tlearn: 0.0199218\ttotal: 1m 48s\tremaining: 49.3s\n",
            "688:\tlearn: 0.0199216\ttotal: 1m 48s\tremaining: 49.2s\n",
            "689:\tlearn: 0.0199214\ttotal: 1m 49s\tremaining: 49.1s\n",
            "690:\tlearn: 0.0199213\ttotal: 1m 49s\tremaining: 48.9s\n",
            "691:\tlearn: 0.0199211\ttotal: 1m 49s\tremaining: 48.8s\n",
            "692:\tlearn: 0.0199209\ttotal: 1m 49s\tremaining: 48.7s\n",
            "693:\tlearn: 0.0199207\ttotal: 1m 50s\tremaining: 48.6s\n",
            "694:\tlearn: 0.0199205\ttotal: 1m 50s\tremaining: 48.4s\n",
            "695:\tlearn: 0.0199202\ttotal: 1m 50s\tremaining: 48.3s\n",
            "696:\tlearn: 0.0199200\ttotal: 1m 50s\tremaining: 48.2s\n",
            "697:\tlearn: 0.0199198\ttotal: 1m 51s\tremaining: 48s\n",
            "698:\tlearn: 0.0199197\ttotal: 1m 51s\tremaining: 47.9s\n",
            "699:\tlearn: 0.0199194\ttotal: 1m 51s\tremaining: 47.8s\n",
            "700:\tlearn: 0.0199191\ttotal: 1m 51s\tremaining: 47.7s\n",
            "701:\tlearn: 0.0199189\ttotal: 1m 52s\tremaining: 47.6s\n",
            "702:\tlearn: 0.0199186\ttotal: 1m 52s\tremaining: 47.4s\n",
            "703:\tlearn: 0.0199184\ttotal: 1m 52s\tremaining: 47.3s\n",
            "704:\tlearn: 0.0199181\ttotal: 1m 52s\tremaining: 47.1s\n",
            "705:\tlearn: 0.0199178\ttotal: 1m 52s\tremaining: 46.9s\n",
            "706:\tlearn: 0.0199176\ttotal: 1m 52s\tremaining: 46.8s\n",
            "707:\tlearn: 0.0199174\ttotal: 1m 52s\tremaining: 46.6s\n",
            "708:\tlearn: 0.0199171\ttotal: 1m 53s\tremaining: 46.4s\n",
            "709:\tlearn: 0.0199169\ttotal: 1m 53s\tremaining: 46.2s\n",
            "710:\tlearn: 0.0199167\ttotal: 1m 53s\tremaining: 46.1s\n",
            "711:\tlearn: 0.0199163\ttotal: 1m 53s\tremaining: 45.9s\n",
            "712:\tlearn: 0.0199160\ttotal: 1m 53s\tremaining: 45.8s\n",
            "713:\tlearn: 0.0199158\ttotal: 1m 53s\tremaining: 45.6s\n",
            "714:\tlearn: 0.0199155\ttotal: 1m 53s\tremaining: 45.4s\n",
            "715:\tlearn: 0.0199152\ttotal: 1m 54s\tremaining: 45.2s\n",
            "716:\tlearn: 0.0199149\ttotal: 1m 54s\tremaining: 45.1s\n",
            "717:\tlearn: 0.0199145\ttotal: 1m 54s\tremaining: 44.9s\n",
            "718:\tlearn: 0.0199143\ttotal: 1m 54s\tremaining: 44.7s\n",
            "719:\tlearn: 0.0199140\ttotal: 1m 54s\tremaining: 44.6s\n",
            "720:\tlearn: 0.0199136\ttotal: 1m 54s\tremaining: 44.4s\n",
            "721:\tlearn: 0.0199133\ttotal: 1m 54s\tremaining: 44.2s\n",
            "722:\tlearn: 0.0199131\ttotal: 1m 55s\tremaining: 44.1s\n",
            "723:\tlearn: 0.0199130\ttotal: 1m 55s\tremaining: 43.9s\n",
            "724:\tlearn: 0.0199128\ttotal: 1m 55s\tremaining: 43.7s\n",
            "725:\tlearn: 0.0199124\ttotal: 1m 55s\tremaining: 43.6s\n",
            "726:\tlearn: 0.0199122\ttotal: 1m 55s\tremaining: 43.4s\n",
            "727:\tlearn: 0.0199121\ttotal: 1m 55s\tremaining: 43.2s\n",
            "728:\tlearn: 0.0199119\ttotal: 1m 55s\tremaining: 43.1s\n",
            "729:\tlearn: 0.0199117\ttotal: 1m 55s\tremaining: 42.9s\n",
            "730:\tlearn: 0.0199115\ttotal: 1m 56s\tremaining: 42.7s\n",
            "731:\tlearn: 0.0199113\ttotal: 1m 56s\tremaining: 42.5s\n",
            "732:\tlearn: 0.0199110\ttotal: 1m 56s\tremaining: 42.4s\n",
            "733:\tlearn: 0.0199108\ttotal: 1m 56s\tremaining: 42.2s\n",
            "734:\tlearn: 0.0199105\ttotal: 1m 56s\tremaining: 42.1s\n",
            "735:\tlearn: 0.0199102\ttotal: 1m 56s\tremaining: 41.9s\n",
            "736:\tlearn: 0.0199098\ttotal: 1m 56s\tremaining: 41.7s\n",
            "737:\tlearn: 0.0199095\ttotal: 1m 57s\tremaining: 41.6s\n",
            "738:\tlearn: 0.0199093\ttotal: 1m 57s\tremaining: 41.4s\n",
            "739:\tlearn: 0.0199092\ttotal: 1m 57s\tremaining: 41.2s\n",
            "740:\tlearn: 0.0199090\ttotal: 1m 57s\tremaining: 41.1s\n",
            "741:\tlearn: 0.0199087\ttotal: 1m 57s\tremaining: 40.9s\n",
            "742:\tlearn: 0.0199085\ttotal: 1m 57s\tremaining: 40.7s\n",
            "743:\tlearn: 0.0199083\ttotal: 1m 57s\tremaining: 40.6s\n",
            "744:\tlearn: 0.0199080\ttotal: 1m 58s\tremaining: 40.4s\n",
            "745:\tlearn: 0.0199076\ttotal: 1m 58s\tremaining: 40.2s\n",
            "746:\tlearn: 0.0199074\ttotal: 1m 58s\tremaining: 40.1s\n",
            "747:\tlearn: 0.0199070\ttotal: 1m 58s\tremaining: 39.9s\n",
            "748:\tlearn: 0.0199066\ttotal: 1m 58s\tremaining: 39.7s\n",
            "749:\tlearn: 0.0199065\ttotal: 1m 58s\tremaining: 39.6s\n",
            "750:\tlearn: 0.0199063\ttotal: 1m 58s\tremaining: 39.4s\n",
            "751:\tlearn: 0.0199059\ttotal: 1m 59s\tremaining: 39.2s\n",
            "752:\tlearn: 0.0199057\ttotal: 1m 59s\tremaining: 39.1s\n",
            "753:\tlearn: 0.0199055\ttotal: 1m 59s\tremaining: 38.9s\n",
            "754:\tlearn: 0.0199050\ttotal: 1m 59s\tremaining: 38.8s\n",
            "755:\tlearn: 0.0199049\ttotal: 1m 59s\tremaining: 38.6s\n",
            "756:\tlearn: 0.0199046\ttotal: 1m 59s\tremaining: 38.4s\n",
            "757:\tlearn: 0.0199042\ttotal: 1m 59s\tremaining: 38.3s\n",
            "758:\tlearn: 0.0199040\ttotal: 2m\tremaining: 38.1s\n",
            "759:\tlearn: 0.0199039\ttotal: 2m\tremaining: 37.9s\n",
            "760:\tlearn: 0.0199038\ttotal: 2m\tremaining: 37.8s\n",
            "761:\tlearn: 0.0199037\ttotal: 2m\tremaining: 37.6s\n",
            "762:\tlearn: 0.0199035\ttotal: 2m\tremaining: 37.4s\n",
            "763:\tlearn: 0.0199033\ttotal: 2m\tremaining: 37.3s\n",
            "764:\tlearn: 0.0199030\ttotal: 2m\tremaining: 37.1s\n",
            "765:\tlearn: 0.0199028\ttotal: 2m\tremaining: 36.9s\n",
            "766:\tlearn: 0.0199025\ttotal: 2m 1s\tremaining: 36.8s\n",
            "767:\tlearn: 0.0199021\ttotal: 2m 1s\tremaining: 36.6s\n",
            "768:\tlearn: 0.0199019\ttotal: 2m 1s\tremaining: 36.5s\n",
            "769:\tlearn: 0.0199016\ttotal: 2m 1s\tremaining: 36.3s\n",
            "770:\tlearn: 0.0199014\ttotal: 2m 1s\tremaining: 36.1s\n",
            "771:\tlearn: 0.0199012\ttotal: 2m 1s\tremaining: 36s\n",
            "772:\tlearn: 0.0199010\ttotal: 2m 1s\tremaining: 35.8s\n",
            "773:\tlearn: 0.0199007\ttotal: 2m 2s\tremaining: 35.6s\n",
            "774:\tlearn: 0.0199003\ttotal: 2m 2s\tremaining: 35.5s\n",
            "775:\tlearn: 0.0199001\ttotal: 2m 2s\tremaining: 35.3s\n",
            "776:\tlearn: 0.0199000\ttotal: 2m 2s\tremaining: 35.2s\n",
            "777:\tlearn: 0.0198997\ttotal: 2m 2s\tremaining: 35.1s\n",
            "778:\tlearn: 0.0198996\ttotal: 2m 3s\tremaining: 34.9s\n",
            "779:\tlearn: 0.0198994\ttotal: 2m 3s\tremaining: 34.8s\n",
            "780:\tlearn: 0.0198993\ttotal: 2m 3s\tremaining: 34.7s\n",
            "781:\tlearn: 0.0198990\ttotal: 2m 3s\tremaining: 34.5s\n",
            "782:\tlearn: 0.0198989\ttotal: 2m 4s\tremaining: 34.4s\n",
            "783:\tlearn: 0.0198986\ttotal: 2m 4s\tremaining: 34.3s\n",
            "784:\tlearn: 0.0198984\ttotal: 2m 4s\tremaining: 34.1s\n",
            "785:\tlearn: 0.0198983\ttotal: 2m 4s\tremaining: 34s\n",
            "786:\tlearn: 0.0198980\ttotal: 2m 5s\tremaining: 33.9s\n",
            "787:\tlearn: 0.0198978\ttotal: 2m 5s\tremaining: 33.7s\n",
            "788:\tlearn: 0.0198977\ttotal: 2m 5s\tremaining: 33.6s\n",
            "789:\tlearn: 0.0198975\ttotal: 2m 5s\tremaining: 33.5s\n",
            "790:\tlearn: 0.0198971\ttotal: 2m 6s\tremaining: 33.3s\n",
            "791:\tlearn: 0.0198969\ttotal: 2m 6s\tremaining: 33.1s\n",
            "792:\tlearn: 0.0198967\ttotal: 2m 6s\tremaining: 33s\n",
            "793:\tlearn: 0.0198964\ttotal: 2m 6s\tremaining: 32.8s\n",
            "794:\tlearn: 0.0198961\ttotal: 2m 6s\tremaining: 32.6s\n",
            "795:\tlearn: 0.0198958\ttotal: 2m 6s\tremaining: 32.5s\n",
            "796:\tlearn: 0.0198955\ttotal: 2m 6s\tremaining: 32.3s\n",
            "797:\tlearn: 0.0198954\ttotal: 2m 7s\tremaining: 32.2s\n",
            "798:\tlearn: 0.0198952\ttotal: 2m 7s\tremaining: 32s\n",
            "799:\tlearn: 0.0198949\ttotal: 2m 7s\tremaining: 31.8s\n",
            "800:\tlearn: 0.0198947\ttotal: 2m 7s\tremaining: 31.7s\n",
            "801:\tlearn: 0.0198943\ttotal: 2m 7s\tremaining: 31.5s\n",
            "802:\tlearn: 0.0198941\ttotal: 2m 7s\tremaining: 31.3s\n",
            "803:\tlearn: 0.0198937\ttotal: 2m 7s\tremaining: 31.2s\n",
            "804:\tlearn: 0.0198935\ttotal: 2m 8s\tremaining: 31s\n",
            "805:\tlearn: 0.0198932\ttotal: 2m 8s\tremaining: 30.9s\n",
            "806:\tlearn: 0.0198930\ttotal: 2m 8s\tremaining: 30.7s\n",
            "807:\tlearn: 0.0198927\ttotal: 2m 8s\tremaining: 30.5s\n",
            "808:\tlearn: 0.0198925\ttotal: 2m 8s\tremaining: 30.4s\n",
            "809:\tlearn: 0.0198922\ttotal: 2m 8s\tremaining: 30.2s\n",
            "810:\tlearn: 0.0198919\ttotal: 2m 8s\tremaining: 30s\n",
            "811:\tlearn: 0.0198917\ttotal: 2m 9s\tremaining: 29.9s\n",
            "812:\tlearn: 0.0198914\ttotal: 2m 9s\tremaining: 29.7s\n",
            "813:\tlearn: 0.0198912\ttotal: 2m 9s\tremaining: 29.6s\n",
            "814:\tlearn: 0.0198911\ttotal: 2m 9s\tremaining: 29.4s\n",
            "815:\tlearn: 0.0198909\ttotal: 2m 9s\tremaining: 29.2s\n",
            "816:\tlearn: 0.0198907\ttotal: 2m 9s\tremaining: 29.1s\n",
            "817:\tlearn: 0.0198906\ttotal: 2m 9s\tremaining: 28.9s\n",
            "818:\tlearn: 0.0198905\ttotal: 2m 9s\tremaining: 28.7s\n",
            "819:\tlearn: 0.0198903\ttotal: 2m 10s\tremaining: 28.6s\n",
            "820:\tlearn: 0.0198900\ttotal: 2m 10s\tremaining: 28.4s\n",
            "821:\tlearn: 0.0198898\ttotal: 2m 10s\tremaining: 28.2s\n",
            "822:\tlearn: 0.0198895\ttotal: 2m 10s\tremaining: 28.1s\n",
            "823:\tlearn: 0.0198892\ttotal: 2m 10s\tremaining: 27.9s\n",
            "824:\tlearn: 0.0198889\ttotal: 2m 10s\tremaining: 27.7s\n",
            "825:\tlearn: 0.0198887\ttotal: 2m 10s\tremaining: 27.6s\n",
            "826:\tlearn: 0.0198883\ttotal: 2m 11s\tremaining: 27.4s\n",
            "827:\tlearn: 0.0198881\ttotal: 2m 11s\tremaining: 27.3s\n",
            "828:\tlearn: 0.0198880\ttotal: 2m 11s\tremaining: 27.1s\n",
            "829:\tlearn: 0.0198876\ttotal: 2m 11s\tremaining: 26.9s\n",
            "830:\tlearn: 0.0198874\ttotal: 2m 11s\tremaining: 26.8s\n",
            "831:\tlearn: 0.0198871\ttotal: 2m 11s\tremaining: 26.6s\n",
            "832:\tlearn: 0.0198869\ttotal: 2m 11s\tremaining: 26.5s\n",
            "833:\tlearn: 0.0198868\ttotal: 2m 12s\tremaining: 26.3s\n",
            "834:\tlearn: 0.0198867\ttotal: 2m 12s\tremaining: 26.1s\n",
            "835:\tlearn: 0.0198863\ttotal: 2m 12s\tremaining: 26s\n",
            "836:\tlearn: 0.0198861\ttotal: 2m 12s\tremaining: 25.8s\n",
            "837:\tlearn: 0.0198859\ttotal: 2m 12s\tremaining: 25.6s\n",
            "838:\tlearn: 0.0198857\ttotal: 2m 12s\tremaining: 25.5s\n",
            "839:\tlearn: 0.0198854\ttotal: 2m 12s\tremaining: 25.3s\n",
            "840:\tlearn: 0.0198853\ttotal: 2m 13s\tremaining: 25.2s\n",
            "841:\tlearn: 0.0198849\ttotal: 2m 13s\tremaining: 25s\n",
            "842:\tlearn: 0.0198847\ttotal: 2m 13s\tremaining: 24.8s\n",
            "843:\tlearn: 0.0198844\ttotal: 2m 13s\tremaining: 24.7s\n",
            "844:\tlearn: 0.0198840\ttotal: 2m 13s\tremaining: 24.5s\n",
            "845:\tlearn: 0.0198839\ttotal: 2m 13s\tremaining: 24.4s\n",
            "846:\tlearn: 0.0198838\ttotal: 2m 13s\tremaining: 24.2s\n",
            "847:\tlearn: 0.0198835\ttotal: 2m 14s\tremaining: 24s\n",
            "848:\tlearn: 0.0198833\ttotal: 2m 14s\tremaining: 23.9s\n",
            "849:\tlearn: 0.0198831\ttotal: 2m 14s\tremaining: 23.7s\n",
            "850:\tlearn: 0.0198828\ttotal: 2m 14s\tremaining: 23.5s\n",
            "851:\tlearn: 0.0198827\ttotal: 2m 14s\tremaining: 23.4s\n",
            "852:\tlearn: 0.0198824\ttotal: 2m 14s\tremaining: 23.2s\n",
            "853:\tlearn: 0.0198822\ttotal: 2m 14s\tremaining: 23.1s\n",
            "854:\tlearn: 0.0198819\ttotal: 2m 15s\tremaining: 22.9s\n",
            "855:\tlearn: 0.0198817\ttotal: 2m 15s\tremaining: 22.7s\n",
            "856:\tlearn: 0.0198815\ttotal: 2m 15s\tremaining: 22.6s\n",
            "857:\tlearn: 0.0198811\ttotal: 2m 15s\tremaining: 22.4s\n",
            "858:\tlearn: 0.0198809\ttotal: 2m 15s\tremaining: 22.3s\n",
            "859:\tlearn: 0.0198805\ttotal: 2m 15s\tremaining: 22.1s\n",
            "860:\tlearn: 0.0198802\ttotal: 2m 15s\tremaining: 22s\n",
            "861:\tlearn: 0.0198800\ttotal: 2m 16s\tremaining: 21.8s\n",
            "862:\tlearn: 0.0198798\ttotal: 2m 16s\tremaining: 21.7s\n",
            "863:\tlearn: 0.0198796\ttotal: 2m 16s\tremaining: 21.5s\n",
            "864:\tlearn: 0.0198794\ttotal: 2m 17s\tremaining: 21.4s\n",
            "865:\tlearn: 0.0198792\ttotal: 2m 17s\tremaining: 21.2s\n",
            "866:\tlearn: 0.0198790\ttotal: 2m 17s\tremaining: 21.1s\n",
            "867:\tlearn: 0.0198789\ttotal: 2m 17s\tremaining: 20.9s\n",
            "868:\tlearn: 0.0198787\ttotal: 2m 17s\tremaining: 20.8s\n",
            "869:\tlearn: 0.0198784\ttotal: 2m 18s\tremaining: 20.7s\n",
            "870:\tlearn: 0.0198781\ttotal: 2m 18s\tremaining: 20.5s\n",
            "871:\tlearn: 0.0198779\ttotal: 2m 18s\tremaining: 20.4s\n",
            "872:\tlearn: 0.0198778\ttotal: 2m 19s\tremaining: 20.2s\n",
            "873:\tlearn: 0.0198777\ttotal: 2m 19s\tremaining: 20.1s\n",
            "874:\tlearn: 0.0198775\ttotal: 2m 19s\tremaining: 19.9s\n",
            "875:\tlearn: 0.0198771\ttotal: 2m 19s\tremaining: 19.8s\n",
            "876:\tlearn: 0.0198770\ttotal: 2m 19s\tremaining: 19.6s\n",
            "877:\tlearn: 0.0198767\ttotal: 2m 19s\tremaining: 19.4s\n",
            "878:\tlearn: 0.0198766\ttotal: 2m 20s\tremaining: 19.3s\n",
            "879:\tlearn: 0.0198763\ttotal: 2m 20s\tremaining: 19.1s\n",
            "880:\tlearn: 0.0198761\ttotal: 2m 20s\tremaining: 19s\n",
            "881:\tlearn: 0.0198759\ttotal: 2m 20s\tremaining: 18.8s\n",
            "882:\tlearn: 0.0198755\ttotal: 2m 20s\tremaining: 18.6s\n",
            "883:\tlearn: 0.0198753\ttotal: 2m 20s\tremaining: 18.5s\n",
            "884:\tlearn: 0.0198751\ttotal: 2m 20s\tremaining: 18.3s\n",
            "885:\tlearn: 0.0198750\ttotal: 2m 21s\tremaining: 18.1s\n",
            "886:\tlearn: 0.0198747\ttotal: 2m 21s\tremaining: 18s\n",
            "887:\tlearn: 0.0198745\ttotal: 2m 21s\tremaining: 17.8s\n",
            "888:\tlearn: 0.0198742\ttotal: 2m 21s\tremaining: 17.7s\n",
            "889:\tlearn: 0.0198740\ttotal: 2m 21s\tremaining: 17.5s\n",
            "890:\tlearn: 0.0198738\ttotal: 2m 21s\tremaining: 17.3s\n",
            "891:\tlearn: 0.0198736\ttotal: 2m 21s\tremaining: 17.2s\n",
            "892:\tlearn: 0.0198733\ttotal: 2m 22s\tremaining: 17s\n",
            "893:\tlearn: 0.0198732\ttotal: 2m 22s\tremaining: 16.9s\n",
            "894:\tlearn: 0.0198730\ttotal: 2m 22s\tremaining: 16.7s\n",
            "895:\tlearn: 0.0198728\ttotal: 2m 22s\tremaining: 16.5s\n",
            "896:\tlearn: 0.0198726\ttotal: 2m 22s\tremaining: 16.4s\n",
            "897:\tlearn: 0.0198722\ttotal: 2m 22s\tremaining: 16.2s\n",
            "898:\tlearn: 0.0198719\ttotal: 2m 22s\tremaining: 16.1s\n",
            "899:\tlearn: 0.0198716\ttotal: 2m 23s\tremaining: 15.9s\n",
            "900:\tlearn: 0.0198715\ttotal: 2m 23s\tremaining: 15.7s\n",
            "901:\tlearn: 0.0198713\ttotal: 2m 23s\tremaining: 15.6s\n",
            "902:\tlearn: 0.0198710\ttotal: 2m 23s\tremaining: 15.4s\n",
            "903:\tlearn: 0.0198709\ttotal: 2m 23s\tremaining: 15.2s\n",
            "904:\tlearn: 0.0198706\ttotal: 2m 23s\tremaining: 15.1s\n",
            "905:\tlearn: 0.0198703\ttotal: 2m 23s\tremaining: 14.9s\n",
            "906:\tlearn: 0.0198701\ttotal: 2m 24s\tremaining: 14.8s\n",
            "907:\tlearn: 0.0198696\ttotal: 2m 24s\tremaining: 14.6s\n",
            "908:\tlearn: 0.0198693\ttotal: 2m 24s\tremaining: 14.4s\n",
            "909:\tlearn: 0.0198691\ttotal: 2m 24s\tremaining: 14.3s\n",
            "910:\tlearn: 0.0198688\ttotal: 2m 24s\tremaining: 14.1s\n",
            "911:\tlearn: 0.0198685\ttotal: 2m 24s\tremaining: 14s\n",
            "912:\tlearn: 0.0198684\ttotal: 2m 24s\tremaining: 13.8s\n",
            "913:\tlearn: 0.0198682\ttotal: 2m 24s\tremaining: 13.6s\n",
            "914:\tlearn: 0.0198679\ttotal: 2m 25s\tremaining: 13.5s\n",
            "915:\tlearn: 0.0198677\ttotal: 2m 25s\tremaining: 13.3s\n",
            "916:\tlearn: 0.0198673\ttotal: 2m 25s\tremaining: 13.2s\n",
            "917:\tlearn: 0.0198670\ttotal: 2m 25s\tremaining: 13s\n",
            "918:\tlearn: 0.0198667\ttotal: 2m 25s\tremaining: 12.8s\n",
            "919:\tlearn: 0.0198665\ttotal: 2m 25s\tremaining: 12.7s\n",
            "920:\tlearn: 0.0198664\ttotal: 2m 25s\tremaining: 12.5s\n",
            "921:\tlearn: 0.0198662\ttotal: 2m 26s\tremaining: 12.4s\n",
            "922:\tlearn: 0.0198660\ttotal: 2m 26s\tremaining: 12.2s\n",
            "923:\tlearn: 0.0198657\ttotal: 2m 26s\tremaining: 12s\n",
            "924:\tlearn: 0.0198654\ttotal: 2m 26s\tremaining: 11.9s\n",
            "925:\tlearn: 0.0198653\ttotal: 2m 26s\tremaining: 11.7s\n",
            "926:\tlearn: 0.0198650\ttotal: 2m 26s\tremaining: 11.6s\n",
            "927:\tlearn: 0.0198648\ttotal: 2m 26s\tremaining: 11.4s\n",
            "928:\tlearn: 0.0198646\ttotal: 2m 27s\tremaining: 11.2s\n",
            "929:\tlearn: 0.0198643\ttotal: 2m 27s\tremaining: 11.1s\n",
            "930:\tlearn: 0.0198641\ttotal: 2m 27s\tremaining: 10.9s\n",
            "931:\tlearn: 0.0198639\ttotal: 2m 27s\tremaining: 10.8s\n",
            "932:\tlearn: 0.0198637\ttotal: 2m 27s\tremaining: 10.6s\n",
            "933:\tlearn: 0.0198633\ttotal: 2m 27s\tremaining: 10.4s\n",
            "934:\tlearn: 0.0198631\ttotal: 2m 27s\tremaining: 10.3s\n",
            "935:\tlearn: 0.0198630\ttotal: 2m 28s\tremaining: 10.1s\n",
            "936:\tlearn: 0.0198629\ttotal: 2m 28s\tremaining: 9.96s\n",
            "937:\tlearn: 0.0198626\ttotal: 2m 28s\tremaining: 9.8s\n",
            "938:\tlearn: 0.0198624\ttotal: 2m 28s\tremaining: 9.64s\n",
            "939:\tlearn: 0.0198621\ttotal: 2m 28s\tremaining: 9.48s\n",
            "940:\tlearn: 0.0198620\ttotal: 2m 28s\tremaining: 9.33s\n",
            "941:\tlearn: 0.0198617\ttotal: 2m 28s\tremaining: 9.17s\n",
            "942:\tlearn: 0.0198613\ttotal: 2m 29s\tremaining: 9.01s\n",
            "943:\tlearn: 0.0198610\ttotal: 2m 29s\tremaining: 8.85s\n",
            "944:\tlearn: 0.0198608\ttotal: 2m 29s\tremaining: 8.69s\n",
            "945:\tlearn: 0.0198604\ttotal: 2m 29s\tremaining: 8.53s\n",
            "946:\tlearn: 0.0198602\ttotal: 2m 29s\tremaining: 8.38s\n",
            "947:\tlearn: 0.0198598\ttotal: 2m 29s\tremaining: 8.23s\n",
            "948:\tlearn: 0.0198596\ttotal: 2m 30s\tremaining: 8.08s\n",
            "949:\tlearn: 0.0198593\ttotal: 2m 30s\tremaining: 7.93s\n",
            "950:\tlearn: 0.0198589\ttotal: 2m 30s\tremaining: 7.77s\n",
            "951:\tlearn: 0.0198587\ttotal: 2m 31s\tremaining: 7.62s\n",
            "952:\tlearn: 0.0198584\ttotal: 2m 31s\tremaining: 7.46s\n",
            "953:\tlearn: 0.0198580\ttotal: 2m 31s\tremaining: 7.31s\n",
            "954:\tlearn: 0.0198579\ttotal: 2m 31s\tremaining: 7.16s\n",
            "955:\tlearn: 0.0198577\ttotal: 2m 32s\tremaining: 7s\n",
            "956:\tlearn: 0.0198577\ttotal: 2m 32s\tremaining: 6.84s\n",
            "957:\tlearn: 0.0198574\ttotal: 2m 32s\tremaining: 6.69s\n",
            "958:\tlearn: 0.0198571\ttotal: 2m 32s\tremaining: 6.54s\n",
            "959:\tlearn: 0.0198570\ttotal: 2m 33s\tremaining: 6.38s\n",
            "960:\tlearn: 0.0198568\ttotal: 2m 33s\tremaining: 6.22s\n",
            "961:\tlearn: 0.0198566\ttotal: 2m 33s\tremaining: 6.06s\n",
            "962:\tlearn: 0.0198564\ttotal: 2m 33s\tremaining: 5.9s\n",
            "963:\tlearn: 0.0198560\ttotal: 2m 33s\tremaining: 5.74s\n",
            "964:\tlearn: 0.0198558\ttotal: 2m 33s\tremaining: 5.58s\n",
            "965:\tlearn: 0.0198557\ttotal: 2m 33s\tremaining: 5.42s\n",
            "966:\tlearn: 0.0198554\ttotal: 2m 34s\tremaining: 5.26s\n",
            "967:\tlearn: 0.0198552\ttotal: 2m 34s\tremaining: 5.1s\n",
            "968:\tlearn: 0.0198550\ttotal: 2m 34s\tremaining: 4.94s\n",
            "969:\tlearn: 0.0198548\ttotal: 2m 34s\tremaining: 4.78s\n",
            "970:\tlearn: 0.0198546\ttotal: 2m 34s\tremaining: 4.62s\n",
            "971:\tlearn: 0.0198544\ttotal: 2m 34s\tremaining: 4.46s\n",
            "972:\tlearn: 0.0198542\ttotal: 2m 34s\tremaining: 4.3s\n",
            "973:\tlearn: 0.0198540\ttotal: 2m 35s\tremaining: 4.14s\n",
            "974:\tlearn: 0.0198538\ttotal: 2m 35s\tremaining: 3.98s\n",
            "975:\tlearn: 0.0198535\ttotal: 2m 35s\tremaining: 3.82s\n",
            "976:\tlearn: 0.0198533\ttotal: 2m 35s\tremaining: 3.66s\n",
            "977:\tlearn: 0.0198532\ttotal: 2m 35s\tremaining: 3.5s\n",
            "978:\tlearn: 0.0198529\ttotal: 2m 35s\tremaining: 3.34s\n",
            "979:\tlearn: 0.0198527\ttotal: 2m 35s\tremaining: 3.18s\n",
            "980:\tlearn: 0.0198525\ttotal: 2m 36s\tremaining: 3.02s\n",
            "981:\tlearn: 0.0198525\ttotal: 2m 36s\tremaining: 2.86s\n",
            "982:\tlearn: 0.0198522\ttotal: 2m 36s\tremaining: 2.7s\n",
            "983:\tlearn: 0.0198520\ttotal: 2m 36s\tremaining: 2.54s\n",
            "984:\tlearn: 0.0198516\ttotal: 2m 36s\tremaining: 2.38s\n",
            "985:\tlearn: 0.0198514\ttotal: 2m 36s\tremaining: 2.23s\n",
            "986:\tlearn: 0.0198512\ttotal: 2m 36s\tremaining: 2.07s\n",
            "987:\tlearn: 0.0198508\ttotal: 2m 37s\tremaining: 1.91s\n",
            "988:\tlearn: 0.0198507\ttotal: 2m 37s\tremaining: 1.75s\n",
            "989:\tlearn: 0.0198505\ttotal: 2m 37s\tremaining: 1.59s\n",
            "990:\tlearn: 0.0198503\ttotal: 2m 37s\tremaining: 1.43s\n",
            "991:\tlearn: 0.0198502\ttotal: 2m 37s\tremaining: 1.27s\n",
            "992:\tlearn: 0.0198500\ttotal: 2m 37s\tremaining: 1.11s\n",
            "993:\tlearn: 0.0198498\ttotal: 2m 37s\tremaining: 953ms\n",
            "994:\tlearn: 0.0198496\ttotal: 2m 38s\tremaining: 794ms\n",
            "995:\tlearn: 0.0198494\ttotal: 2m 38s\tremaining: 635ms\n",
            "996:\tlearn: 0.0198490\ttotal: 2m 38s\tremaining: 476ms\n",
            "997:\tlearn: 0.0198489\ttotal: 2m 38s\tremaining: 318ms\n",
            "998:\tlearn: 0.0198487\ttotal: 2m 38s\tremaining: 159ms\n",
            "999:\tlearn: 0.0198486\ttotal: 2m 38s\tremaining: 0us\n",
            "Train Accuracy of CatBoost: 0.8485817588881682\n",
            "Test Accuracy of CatBoost: 0.8454950255051435\n",
            "Mean Squared Error: 0.0004029163557034096\n",
            "R2 Score of CatBoost: 0.8454950255051435\n"
          ]
        }
      ]
    },
    {
      "cell_type": "code",
      "source": [
        "print(\"Train Accuracy of CatBoost:\",catboost.score(X_train, y_train))\n",
        "y_pred = catboost.predict(X_test)\n",
        "print(\"Test Accuracy of CatBoost:\",catboost.score(X_test, y_test))\n",
        "print(\"Mean Squared Error:\",mean_squared_error(y_test, y_pred))\n",
        "print(\"R2 Score of CatBoost:\",r2_score(y_test, y_pred))"
      ],
      "metadata": {
        "colab": {
          "base_uri": "https://localhost:8080/"
        },
        "id": "6aZhS8_wddhv",
        "outputId": "21127a67-5f59-492e-fc9d-57d1dca0b24f"
      },
      "execution_count": null,
      "outputs": [
        {
          "output_type": "stream",
          "name": "stdout",
          "text": [
            "Train Accuracy of CatBoost: 0.8485817588881682\n",
            "Test Accuracy of CatBoost: 0.8454950255051435\n",
            "Mean Squared Error: 0.0004029163557034096\n",
            "R2 Score of CatBoost: 0.8454950255051435\n"
          ]
        }
      ]
    },
    {
      "cell_type": "markdown",
      "source": [
        "**The best R2 till NOW**\n",
        "\n",
        "This is why I will use it to predict the test Data"
      ],
      "metadata": {
        "id": "POsa6Y01Mcsc"
      }
    },
    {
      "cell_type": "markdown",
      "source": [
        "# Importing the test Data to prepare the submision file"
      ],
      "metadata": {
        "id": "pisZjH5DBz46"
      }
    },
    {
      "cell_type": "code",
      "source": [
        "test = pd.read_csv('/kaggle/input/playground-series-s4e5/test.csv')\n",
        "test.head(5)"
      ],
      "metadata": {
        "colab": {
          "base_uri": "https://localhost:8080/",
          "height": 256
        },
        "id": "DsnHqEI3Ji2W",
        "outputId": "54c50dcb-6d68-458c-e868-c89f04b45fa4"
      },
      "execution_count": null,
      "outputs": [
        {
          "output_type": "execute_result",
          "data": {
            "text/plain": [
              "        id  MonsoonIntensity  TopographyDrainage  RiverManagement  \\\n",
              "0  1117957                 4                   6                3   \n",
              "1  1117958                 4                   4                2   \n",
              "2  1117959                 1                   3                6   \n",
              "3  1117960                 2                   4                4   \n",
              "4  1117961                 6                   3                2   \n",
              "\n",
              "   Deforestation  Urbanization  ClimateChange  DamsQuality  Siltation  \\\n",
              "0              5             6              7            8          7   \n",
              "1              9             5              5            4          7   \n",
              "2              5             7              2            4          6   \n",
              "3              6             4              5            4          3   \n",
              "4              4             6              4            5          5   \n",
              "\n",
              "   AgriculturalPractices  ...  IneffectiveDisasterPreparedness  \\\n",
              "0                      8  ...                                8   \n",
              "1                      5  ...                                2   \n",
              "2                      4  ...                                7   \n",
              "3                      4  ...                                7   \n",
              "4                      3  ...                                4   \n",
              "\n",
              "   DrainageSystems  CoastalVulnerability  Landslides  Watersheds  \\\n",
              "0                5                     7           5           6   \n",
              "1                4                     7           4           5   \n",
              "2                9                     2           5           5   \n",
              "3                8                     4           6           7   \n",
              "4                3                     2           6           4   \n",
              "\n",
              "   DeterioratingInfrastructure  PopulationScore  WetlandLoss  \\\n",
              "0                            3                6            4   \n",
              "1                            1                7            4   \n",
              "2                            2                3            6   \n",
              "3                            6                4            2   \n",
              "4                            6                8            4   \n",
              "\n",
              "   InadequatePlanning  PoliticalFactors  \n",
              "0                   4                 5  \n",
              "1                   4                 3  \n",
              "2                   8                 3  \n",
              "3                   4                 4  \n",
              "4                   5                 5  \n",
              "\n",
              "[5 rows x 21 columns]"
            ],
            "text/html": [
              "\n",
              "  <div id=\"df-a469b6c2-f1ff-4c94-8490-5400ac927ca0\" class=\"colab-df-container\">\n",
              "    <div>\n",
              "<style scoped>\n",
              "    .dataframe tbody tr th:only-of-type {\n",
              "        vertical-align: middle;\n",
              "    }\n",
              "\n",
              "    .dataframe tbody tr th {\n",
              "        vertical-align: top;\n",
              "    }\n",
              "\n",
              "    .dataframe thead th {\n",
              "        text-align: right;\n",
              "    }\n",
              "</style>\n",
              "<table border=\"1\" class=\"dataframe\">\n",
              "  <thead>\n",
              "    <tr style=\"text-align: right;\">\n",
              "      <th></th>\n",
              "      <th>id</th>\n",
              "      <th>MonsoonIntensity</th>\n",
              "      <th>TopographyDrainage</th>\n",
              "      <th>RiverManagement</th>\n",
              "      <th>Deforestation</th>\n",
              "      <th>Urbanization</th>\n",
              "      <th>ClimateChange</th>\n",
              "      <th>DamsQuality</th>\n",
              "      <th>Siltation</th>\n",
              "      <th>AgriculturalPractices</th>\n",
              "      <th>...</th>\n",
              "      <th>IneffectiveDisasterPreparedness</th>\n",
              "      <th>DrainageSystems</th>\n",
              "      <th>CoastalVulnerability</th>\n",
              "      <th>Landslides</th>\n",
              "      <th>Watersheds</th>\n",
              "      <th>DeterioratingInfrastructure</th>\n",
              "      <th>PopulationScore</th>\n",
              "      <th>WetlandLoss</th>\n",
              "      <th>InadequatePlanning</th>\n",
              "      <th>PoliticalFactors</th>\n",
              "    </tr>\n",
              "  </thead>\n",
              "  <tbody>\n",
              "    <tr>\n",
              "      <th>0</th>\n",
              "      <td>1117957</td>\n",
              "      <td>4</td>\n",
              "      <td>6</td>\n",
              "      <td>3</td>\n",
              "      <td>5</td>\n",
              "      <td>6</td>\n",
              "      <td>7</td>\n",
              "      <td>8</td>\n",
              "      <td>7</td>\n",
              "      <td>8</td>\n",
              "      <td>...</td>\n",
              "      <td>8</td>\n",
              "      <td>5</td>\n",
              "      <td>7</td>\n",
              "      <td>5</td>\n",
              "      <td>6</td>\n",
              "      <td>3</td>\n",
              "      <td>6</td>\n",
              "      <td>4</td>\n",
              "      <td>4</td>\n",
              "      <td>5</td>\n",
              "    </tr>\n",
              "    <tr>\n",
              "      <th>1</th>\n",
              "      <td>1117958</td>\n",
              "      <td>4</td>\n",
              "      <td>4</td>\n",
              "      <td>2</td>\n",
              "      <td>9</td>\n",
              "      <td>5</td>\n",
              "      <td>5</td>\n",
              "      <td>4</td>\n",
              "      <td>7</td>\n",
              "      <td>5</td>\n",
              "      <td>...</td>\n",
              "      <td>2</td>\n",
              "      <td>4</td>\n",
              "      <td>7</td>\n",
              "      <td>4</td>\n",
              "      <td>5</td>\n",
              "      <td>1</td>\n",
              "      <td>7</td>\n",
              "      <td>4</td>\n",
              "      <td>4</td>\n",
              "      <td>3</td>\n",
              "    </tr>\n",
              "    <tr>\n",
              "      <th>2</th>\n",
              "      <td>1117959</td>\n",
              "      <td>1</td>\n",
              "      <td>3</td>\n",
              "      <td>6</td>\n",
              "      <td>5</td>\n",
              "      <td>7</td>\n",
              "      <td>2</td>\n",
              "      <td>4</td>\n",
              "      <td>6</td>\n",
              "      <td>4</td>\n",
              "      <td>...</td>\n",
              "      <td>7</td>\n",
              "      <td>9</td>\n",
              "      <td>2</td>\n",
              "      <td>5</td>\n",
              "      <td>5</td>\n",
              "      <td>2</td>\n",
              "      <td>3</td>\n",
              "      <td>6</td>\n",
              "      <td>8</td>\n",
              "      <td>3</td>\n",
              "    </tr>\n",
              "    <tr>\n",
              "      <th>3</th>\n",
              "      <td>1117960</td>\n",
              "      <td>2</td>\n",
              "      <td>4</td>\n",
              "      <td>4</td>\n",
              "      <td>6</td>\n",
              "      <td>4</td>\n",
              "      <td>5</td>\n",
              "      <td>4</td>\n",
              "      <td>3</td>\n",
              "      <td>4</td>\n",
              "      <td>...</td>\n",
              "      <td>7</td>\n",
              "      <td>8</td>\n",
              "      <td>4</td>\n",
              "      <td>6</td>\n",
              "      <td>7</td>\n",
              "      <td>6</td>\n",
              "      <td>4</td>\n",
              "      <td>2</td>\n",
              "      <td>4</td>\n",
              "      <td>4</td>\n",
              "    </tr>\n",
              "    <tr>\n",
              "      <th>4</th>\n",
              "      <td>1117961</td>\n",
              "      <td>6</td>\n",
              "      <td>3</td>\n",
              "      <td>2</td>\n",
              "      <td>4</td>\n",
              "      <td>6</td>\n",
              "      <td>4</td>\n",
              "      <td>5</td>\n",
              "      <td>5</td>\n",
              "      <td>3</td>\n",
              "      <td>...</td>\n",
              "      <td>4</td>\n",
              "      <td>3</td>\n",
              "      <td>2</td>\n",
              "      <td>6</td>\n",
              "      <td>4</td>\n",
              "      <td>6</td>\n",
              "      <td>8</td>\n",
              "      <td>4</td>\n",
              "      <td>5</td>\n",
              "      <td>5</td>\n",
              "    </tr>\n",
              "  </tbody>\n",
              "</table>\n",
              "<p>5 rows × 21 columns</p>\n",
              "</div>\n",
              "    <div class=\"colab-df-buttons\">\n",
              "\n",
              "  <div class=\"colab-df-container\">\n",
              "    <button class=\"colab-df-convert\" onclick=\"convertToInteractive('df-a469b6c2-f1ff-4c94-8490-5400ac927ca0')\"\n",
              "            title=\"Convert this dataframe to an interactive table.\"\n",
              "            style=\"display:none;\">\n",
              "\n",
              "  <svg xmlns=\"http://www.w3.org/2000/svg\" height=\"24px\" viewBox=\"0 -960 960 960\">\n",
              "    <path d=\"M120-120v-720h720v720H120Zm60-500h600v-160H180v160Zm220 220h160v-160H400v160Zm0 220h160v-160H400v160ZM180-400h160v-160H180v160Zm440 0h160v-160H620v160ZM180-180h160v-160H180v160Zm440 0h160v-160H620v160Z\"/>\n",
              "  </svg>\n",
              "    </button>\n",
              "\n",
              "  <style>\n",
              "    .colab-df-container {\n",
              "      display:flex;\n",
              "      gap: 12px;\n",
              "    }\n",
              "\n",
              "    .colab-df-convert {\n",
              "      background-color: #E8F0FE;\n",
              "      border: none;\n",
              "      border-radius: 50%;\n",
              "      cursor: pointer;\n",
              "      display: none;\n",
              "      fill: #1967D2;\n",
              "      height: 32px;\n",
              "      padding: 0 0 0 0;\n",
              "      width: 32px;\n",
              "    }\n",
              "\n",
              "    .colab-df-convert:hover {\n",
              "      background-color: #E2EBFA;\n",
              "      box-shadow: 0px 1px 2px rgba(60, 64, 67, 0.3), 0px 1px 3px 1px rgba(60, 64, 67, 0.15);\n",
              "      fill: #174EA6;\n",
              "    }\n",
              "\n",
              "    .colab-df-buttons div {\n",
              "      margin-bottom: 4px;\n",
              "    }\n",
              "\n",
              "    [theme=dark] .colab-df-convert {\n",
              "      background-color: #3B4455;\n",
              "      fill: #D2E3FC;\n",
              "    }\n",
              "\n",
              "    [theme=dark] .colab-df-convert:hover {\n",
              "      background-color: #434B5C;\n",
              "      box-shadow: 0px 1px 3px 1px rgba(0, 0, 0, 0.15);\n",
              "      filter: drop-shadow(0px 1px 2px rgba(0, 0, 0, 0.3));\n",
              "      fill: #FFFFFF;\n",
              "    }\n",
              "  </style>\n",
              "\n",
              "    <script>\n",
              "      const buttonEl =\n",
              "        document.querySelector('#df-a469b6c2-f1ff-4c94-8490-5400ac927ca0 button.colab-df-convert');\n",
              "      buttonEl.style.display =\n",
              "        google.colab.kernel.accessAllowed ? 'block' : 'none';\n",
              "\n",
              "      async function convertToInteractive(key) {\n",
              "        const element = document.querySelector('#df-a469b6c2-f1ff-4c94-8490-5400ac927ca0');\n",
              "        const dataTable =\n",
              "          await google.colab.kernel.invokeFunction('convertToInteractive',\n",
              "                                                    [key], {});\n",
              "        if (!dataTable) return;\n",
              "\n",
              "        const docLinkHtml = 'Like what you see? Visit the ' +\n",
              "          '<a target=\"_blank\" href=https://colab.research.google.com/notebooks/data_table.ipynb>data table notebook</a>'\n",
              "          + ' to learn more about interactive tables.';\n",
              "        element.innerHTML = '';\n",
              "        dataTable['output_type'] = 'display_data';\n",
              "        await google.colab.output.renderOutput(dataTable, element);\n",
              "        const docLink = document.createElement('div');\n",
              "        docLink.innerHTML = docLinkHtml;\n",
              "        element.appendChild(docLink);\n",
              "      }\n",
              "    </script>\n",
              "  </div>\n",
              "\n",
              "\n",
              "<div id=\"df-b69d259e-e89f-4eb8-a47b-05ce88974304\">\n",
              "  <button class=\"colab-df-quickchart\" onclick=\"quickchart('df-b69d259e-e89f-4eb8-a47b-05ce88974304')\"\n",
              "            title=\"Suggest charts\"\n",
              "            style=\"display:none;\">\n",
              "\n",
              "<svg xmlns=\"http://www.w3.org/2000/svg\" height=\"24px\"viewBox=\"0 0 24 24\"\n",
              "     width=\"24px\">\n",
              "    <g>\n",
              "        <path d=\"M19 3H5c-1.1 0-2 .9-2 2v14c0 1.1.9 2 2 2h14c1.1 0 2-.9 2-2V5c0-1.1-.9-2-2-2zM9 17H7v-7h2v7zm4 0h-2V7h2v10zm4 0h-2v-4h2v4z\"/>\n",
              "    </g>\n",
              "</svg>\n",
              "  </button>\n",
              "\n",
              "<style>\n",
              "  .colab-df-quickchart {\n",
              "      --bg-color: #E8F0FE;\n",
              "      --fill-color: #1967D2;\n",
              "      --hover-bg-color: #E2EBFA;\n",
              "      --hover-fill-color: #174EA6;\n",
              "      --disabled-fill-color: #AAA;\n",
              "      --disabled-bg-color: #DDD;\n",
              "  }\n",
              "\n",
              "  [theme=dark] .colab-df-quickchart {\n",
              "      --bg-color: #3B4455;\n",
              "      --fill-color: #D2E3FC;\n",
              "      --hover-bg-color: #434B5C;\n",
              "      --hover-fill-color: #FFFFFF;\n",
              "      --disabled-bg-color: #3B4455;\n",
              "      --disabled-fill-color: #666;\n",
              "  }\n",
              "\n",
              "  .colab-df-quickchart {\n",
              "    background-color: var(--bg-color);\n",
              "    border: none;\n",
              "    border-radius: 50%;\n",
              "    cursor: pointer;\n",
              "    display: none;\n",
              "    fill: var(--fill-color);\n",
              "    height: 32px;\n",
              "    padding: 0;\n",
              "    width: 32px;\n",
              "  }\n",
              "\n",
              "  .colab-df-quickchart:hover {\n",
              "    background-color: var(--hover-bg-color);\n",
              "    box-shadow: 0 1px 2px rgba(60, 64, 67, 0.3), 0 1px 3px 1px rgba(60, 64, 67, 0.15);\n",
              "    fill: var(--button-hover-fill-color);\n",
              "  }\n",
              "\n",
              "  .colab-df-quickchart-complete:disabled,\n",
              "  .colab-df-quickchart-complete:disabled:hover {\n",
              "    background-color: var(--disabled-bg-color);\n",
              "    fill: var(--disabled-fill-color);\n",
              "    box-shadow: none;\n",
              "  }\n",
              "\n",
              "  .colab-df-spinner {\n",
              "    border: 2px solid var(--fill-color);\n",
              "    border-color: transparent;\n",
              "    border-bottom-color: var(--fill-color);\n",
              "    animation:\n",
              "      spin 1s steps(1) infinite;\n",
              "  }\n",
              "\n",
              "  @keyframes spin {\n",
              "    0% {\n",
              "      border-color: transparent;\n",
              "      border-bottom-color: var(--fill-color);\n",
              "      border-left-color: var(--fill-color);\n",
              "    }\n",
              "    20% {\n",
              "      border-color: transparent;\n",
              "      border-left-color: var(--fill-color);\n",
              "      border-top-color: var(--fill-color);\n",
              "    }\n",
              "    30% {\n",
              "      border-color: transparent;\n",
              "      border-left-color: var(--fill-color);\n",
              "      border-top-color: var(--fill-color);\n",
              "      border-right-color: var(--fill-color);\n",
              "    }\n",
              "    40% {\n",
              "      border-color: transparent;\n",
              "      border-right-color: var(--fill-color);\n",
              "      border-top-color: var(--fill-color);\n",
              "    }\n",
              "    60% {\n",
              "      border-color: transparent;\n",
              "      border-right-color: var(--fill-color);\n",
              "    }\n",
              "    80% {\n",
              "      border-color: transparent;\n",
              "      border-right-color: var(--fill-color);\n",
              "      border-bottom-color: var(--fill-color);\n",
              "    }\n",
              "    90% {\n",
              "      border-color: transparent;\n",
              "      border-bottom-color: var(--fill-color);\n",
              "    }\n",
              "  }\n",
              "</style>\n",
              "\n",
              "  <script>\n",
              "    async function quickchart(key) {\n",
              "      const quickchartButtonEl =\n",
              "        document.querySelector('#' + key + ' button');\n",
              "      quickchartButtonEl.disabled = true;  // To prevent multiple clicks.\n",
              "      quickchartButtonEl.classList.add('colab-df-spinner');\n",
              "      try {\n",
              "        const charts = await google.colab.kernel.invokeFunction(\n",
              "            'suggestCharts', [key], {});\n",
              "      } catch (error) {\n",
              "        console.error('Error during call to suggestCharts:', error);\n",
              "      }\n",
              "      quickchartButtonEl.classList.remove('colab-df-spinner');\n",
              "      quickchartButtonEl.classList.add('colab-df-quickchart-complete');\n",
              "    }\n",
              "    (() => {\n",
              "      let quickchartButtonEl =\n",
              "        document.querySelector('#df-b69d259e-e89f-4eb8-a47b-05ce88974304 button');\n",
              "      quickchartButtonEl.style.display =\n",
              "        google.colab.kernel.accessAllowed ? 'block' : 'none';\n",
              "    })();\n",
              "  </script>\n",
              "</div>\n",
              "\n",
              "    </div>\n",
              "  </div>\n"
            ],
            "application/vnd.google.colaboratory.intrinsic+json": {
              "type": "dataframe",
              "variable_name": "test"
            }
          },
          "metadata": {},
          "execution_count": 55
        }
      ]
    },
    {
      "cell_type": "markdown",
      "source": [
        "### Applying this same scaling to the test data\n"
      ],
      "metadata": {
        "id": "ZFrPmfg4d581"
      }
    },
    {
      "cell_type": "code",
      "source": [
        "scaler = MinMaxScaler()\n",
        "test_scaled = scaler.fit_transform(test.iloc[:,1:])\n",
        "test_scaled"
      ],
      "metadata": {
        "colab": {
          "base_uri": "https://localhost:8080/"
        },
        "id": "Ri-OIiD9d_oM",
        "outputId": "b9064820-0591-4a95-a28b-44323552160e"
      },
      "execution_count": null,
      "outputs": [
        {
          "output_type": "execute_result",
          "data": {
            "text/plain": [
              "array([[0.25      , 0.35294118, 0.1875    , ..., 0.18181818, 0.25      ,\n",
              "        0.3125    ],\n",
              "       [0.25      , 0.23529412, 0.125     , ..., 0.18181818, 0.25      ,\n",
              "        0.1875    ],\n",
              "       [0.0625    , 0.17647059, 0.375     , ..., 0.27272727, 0.5       ,\n",
              "        0.1875    ],\n",
              "       ...,\n",
              "       [0.3125    , 0.41176471, 0.5625    , ..., 0.22727273, 0.3125    ,\n",
              "        0.25      ],\n",
              "       [0.25      , 0.41176471, 0.375     , ..., 0.31818182, 0.3125    ,\n",
              "        0.3125    ],\n",
              "       [0.25      , 0.11764706, 0.3125    , ..., 0.36363636, 0.375     ,\n",
              "        0.1875    ]])"
            ]
          },
          "metadata": {},
          "execution_count": 56
        }
      ]
    },
    {
      "cell_type": "code",
      "source": [
        "y_pred = catboost.predict(test_scaled)"
      ],
      "metadata": {
        "id": "TLkYA93Jd0i0"
      },
      "execution_count": null,
      "outputs": []
    },
    {
      "cell_type": "code",
      "source": [
        "submission = pd.DataFrame({'id': test['id'], 'FloodProbability': y_pred}, columns=['id', 'FloodProbability'])\n",
        "\n",
        "submission.to_csv('submission.csv', index=False)"
      ],
      "metadata": {
        "id": "Bsh-WmOOByOS"
      },
      "execution_count": null,
      "outputs": []
    }
  ]
}
