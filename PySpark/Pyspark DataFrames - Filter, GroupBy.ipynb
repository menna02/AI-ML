{
 "cells": [
  {
   "cell_type": "code",
   "execution_count": 1,
   "metadata": {},
   "outputs": [],
   "source": [
    "from pyspark.sql import SparkSession\n",
    "import pandas as pd"
   ]
  },
  {
   "cell_type": "code",
   "execution_count": 2,
   "metadata": {},
   "outputs": [
    {
     "name": "stderr",
     "output_type": "stream",
     "text": [
      "24/07/16 02:34:29 WARN Utils: Your hostname, mennas-MacBook-Air.local resolves to a loopback address: 127.0.0.1; using 192.168.1.3 instead (on interface en0)\n",
      "24/07/16 02:34:29 WARN Utils: Set SPARK_LOCAL_IP if you need to bind to another address\n",
      "Setting default log level to \"WARN\".\n",
      "To adjust logging level use sc.setLogLevel(newLevel). For SparkR, use setLogLevel(newLevel).\n",
      "24/07/16 02:34:30 WARN NativeCodeLoader: Unable to load native-hadoop library for your platform... using builtin-java classes where applicable\n"
     ]
    },
    {
     "data": {
      "text/html": [
       "\n",
       "            <div>\n",
       "                <p><b>SparkSession - in-memory</b></p>\n",
       "                \n",
       "        <div>\n",
       "            <p><b>SparkContext</b></p>\n",
       "\n",
       "            <p><a href=\"http://192.168.1.3:4040\">Spark UI</a></p>\n",
       "\n",
       "            <dl>\n",
       "              <dt>Version</dt>\n",
       "                <dd><code>v3.5.1</code></dd>\n",
       "              <dt>Master</dt>\n",
       "                <dd><code>local[*]</code></dd>\n",
       "              <dt>AppName</dt>\n",
       "                <dd><code>practice</code></dd>\n",
       "            </dl>\n",
       "        </div>\n",
       "        \n",
       "            </div>\n",
       "        "
      ],
      "text/plain": [
       "<pyspark.sql.session.SparkSession at 0x120b5fc70>"
      ]
     },
     "execution_count": 2,
     "metadata": {},
     "output_type": "execute_result"
    }
   ],
   "source": [
    "spark = SparkSession.builder.appName('practice').getOrCreate()\n",
    "spark"
   ]
  },
  {
   "cell_type": "code",
   "execution_count": 3,
   "metadata": {},
   "outputs": [
    {
     "data": {
      "text/plain": [
       "DataFrame[PassengerId: int, Survived: int, Pclass: int, Name: string, Sex: string, Age: double, SibSp: int, Parch: int, Ticket: string, Fare: double, Cabin: string, Embarked: string]"
      ]
     },
     "execution_count": 3,
     "metadata": {},
     "output_type": "execute_result"
    }
   ],
   "source": [
    "train_df = spark.read.csv('train.csv', header=True, inferSchema=True)\n",
    "train_df"
   ]
  },
  {
   "cell_type": "code",
   "execution_count": 4,
   "metadata": {},
   "outputs": [
    {
     "name": "stdout",
     "output_type": "stream",
     "text": [
      "+-----------+--------+------+--------------------+------+----+-----+-----+----------------+-------+-----+--------+\n",
      "|PassengerId|Survived|Pclass|                Name|   Sex| Age|SibSp|Parch|          Ticket|   Fare|Cabin|Embarked|\n",
      "+-----------+--------+------+--------------------+------+----+-----+-----+----------------+-------+-----+--------+\n",
      "|          1|       0|     3|Braund, Mr. Owen ...|  male|22.0|    1|    0|       A/5 21171|   7.25| NULL|       S|\n",
      "|          2|       1|     1|Cumings, Mrs. Joh...|female|38.0|    1|    0|        PC 17599|71.2833|  C85|       C|\n",
      "|          3|       1|     3|Heikkinen, Miss. ...|female|26.0|    0|    0|STON/O2. 3101282|  7.925| NULL|       S|\n",
      "|          4|       1|     1|Futrelle, Mrs. Ja...|female|35.0|    1|    0|          113803|   53.1| C123|       S|\n",
      "|          5|       0|     3|Allen, Mr. Willia...|  male|35.0|    0|    0|          373450|   8.05| NULL|       S|\n",
      "|          6|       0|     3|    Moran, Mr. James|  male|NULL|    0|    0|          330877| 8.4583| NULL|       Q|\n",
      "|          7|       0|     1|McCarthy, Mr. Tim...|  male|54.0|    0|    0|           17463|51.8625|  E46|       S|\n",
      "|          8|       0|     3|Palsson, Master. ...|  male| 2.0|    3|    1|          349909| 21.075| NULL|       S|\n",
      "|          9|       1|     3|Johnson, Mrs. Osc...|female|27.0|    0|    2|          347742|11.1333| NULL|       S|\n",
      "|         10|       1|     2|Nasser, Mrs. Nich...|female|14.0|    1|    0|          237736|30.0708| NULL|       C|\n",
      "|         11|       1|     3|Sandstrom, Miss. ...|female| 4.0|    1|    1|         PP 9549|   16.7|   G6|       S|\n",
      "|         12|       1|     1|Bonnell, Miss. El...|female|58.0|    0|    0|          113783|  26.55| C103|       S|\n",
      "|         13|       0|     3|Saundercock, Mr. ...|  male|20.0|    0|    0|       A/5. 2151|   8.05| NULL|       S|\n",
      "|         14|       0|     3|Andersson, Mr. An...|  male|39.0|    1|    5|          347082| 31.275| NULL|       S|\n",
      "|         15|       0|     3|Vestrom, Miss. Hu...|female|14.0|    0|    0|          350406| 7.8542| NULL|       S|\n",
      "|         16|       1|     2|Hewlett, Mrs. (Ma...|female|55.0|    0|    0|          248706|   16.0| NULL|       S|\n",
      "|         17|       0|     3|Rice, Master. Eugene|  male| 2.0|    4|    1|          382652| 29.125| NULL|       Q|\n",
      "|         18|       1|     2|Williams, Mr. Cha...|  male|NULL|    0|    0|          244373|   13.0| NULL|       S|\n",
      "|         19|       0|     3|Vander Planke, Mr...|female|31.0|    1|    0|          345763|   18.0| NULL|       S|\n",
      "|         20|       1|     3|Masselmani, Mrs. ...|female|NULL|    0|    0|            2649|  7.225| NULL|       C|\n",
      "+-----------+--------+------+--------------------+------+----+-----+-----+----------------+-------+-----+--------+\n",
      "only showing top 20 rows\n",
      "\n"
     ]
    }
   ],
   "source": [
    "train_df.show()"
   ]
  },
  {
   "cell_type": "markdown",
   "metadata": {},
   "source": [
    "#### Filter Operation"
   ]
  },
  {
   "cell_type": "code",
   "execution_count": 6,
   "metadata": {},
   "outputs": [
    {
     "name": "stdout",
     "output_type": "stream",
     "text": [
      "+-----------+--------+------+--------------------+------+----+-----+-----+----------------+-------+-----+--------+\n",
      "|PassengerId|Survived|Pclass|                Name|   Sex| Age|SibSp|Parch|          Ticket|   Fare|Cabin|Embarked|\n",
      "+-----------+--------+------+--------------------+------+----+-----+-----+----------------+-------+-----+--------+\n",
      "|          2|       1|     1|Cumings, Mrs. Joh...|female|38.0|    1|    0|        PC 17599|71.2833|  C85|       C|\n",
      "|          3|       1|     3|Heikkinen, Miss. ...|female|26.0|    0|    0|STON/O2. 3101282|  7.925| NULL|       S|\n",
      "|          4|       1|     1|Futrelle, Mrs. Ja...|female|35.0|    1|    0|          113803|   53.1| C123|       S|\n",
      "|          5|       0|     3|Allen, Mr. Willia...|  male|35.0|    0|    0|          373450|   8.05| NULL|       S|\n",
      "|          7|       0|     1|McCarthy, Mr. Tim...|  male|54.0|    0|    0|           17463|51.8625|  E46|       S|\n",
      "|          9|       1|     3|Johnson, Mrs. Osc...|female|27.0|    0|    2|          347742|11.1333| NULL|       S|\n",
      "|         12|       1|     1|Bonnell, Miss. El...|female|58.0|    0|    0|          113783|  26.55| C103|       S|\n",
      "|         14|       0|     3|Andersson, Mr. An...|  male|39.0|    1|    5|          347082| 31.275| NULL|       S|\n",
      "|         16|       1|     2|Hewlett, Mrs. (Ma...|female|55.0|    0|    0|          248706|   16.0| NULL|       S|\n",
      "|         19|       0|     3|Vander Planke, Mr...|female|31.0|    1|    0|          345763|   18.0| NULL|       S|\n",
      "|         21|       0|     2|Fynney, Mr. Joseph J|  male|35.0|    0|    0|          239865|   26.0| NULL|       S|\n",
      "|         22|       1|     2|Beesley, Mr. Lawr...|  male|34.0|    0|    0|          248698|   13.0|  D56|       S|\n",
      "|         24|       1|     1|Sloper, Mr. Willi...|  male|28.0|    0|    0|          113788|   35.5|   A6|       S|\n",
      "|         26|       1|     3|Asplund, Mrs. Car...|female|38.0|    1|    5|          347077|31.3875| NULL|       S|\n",
      "|         31|       0|     1|Uruchurtu, Don. M...|  male|40.0|    0|    0|        PC 17601|27.7208| NULL|       C|\n",
      "|         34|       0|     2|Wheadon, Mr. Edwa...|  male|66.0|    0|    0|      C.A. 24579|   10.5| NULL|       S|\n",
      "|         35|       0|     1|Meyer, Mr. Edgar ...|  male|28.0|    1|    0|        PC 17604|82.1708| NULL|       C|\n",
      "|         36|       0|     1|Holverson, Mr. Al...|  male|42.0|    1|    0|          113789|   52.0| NULL|       S|\n",
      "|         41|       0|     3|Ahlin, Mrs. Johan...|female|40.0|    1|    0|            7546|  9.475| NULL|       S|\n",
      "|         42|       0|     2|Turpin, Mrs. Will...|female|27.0|    1|    0|           11668|   21.0| NULL|       S|\n",
      "+-----------+--------+------+--------------------+------+----+-----+-----+----------------+-------+-----+--------+\n",
      "only showing top 20 rows\n",
      "\n"
     ]
    }
   ],
   "source": [
    "# to filter on a condition\n",
    "train_df.filter('Age>25').show()"
   ]
  },
  {
   "cell_type": "code",
   "execution_count": 11,
   "metadata": {},
   "outputs": [
    {
     "name": "stdout",
     "output_type": "stream",
     "text": [
      "+--------------------+----------------+\n",
      "|                Name|          Ticket|\n",
      "+--------------------+----------------+\n",
      "|Cumings, Mrs. Joh...|        PC 17599|\n",
      "|Heikkinen, Miss. ...|STON/O2. 3101282|\n",
      "|Futrelle, Mrs. Ja...|          113803|\n",
      "|Johnson, Mrs. Osc...|          347742|\n",
      "|Nasser, Mrs. Nich...|          237736|\n",
      "|Sandstrom, Miss. ...|         PP 9549|\n",
      "|Bonnell, Miss. El...|          113783|\n",
      "|Hewlett, Mrs. (Ma...|          248706|\n",
      "|Williams, Mr. Cha...|          244373|\n",
      "|Masselmani, Mrs. ...|            2649|\n",
      "|Beesley, Mr. Lawr...|          248698|\n",
      "|\"McGowan, Miss. A...|          330923|\n",
      "|Sloper, Mr. Willi...|          113788|\n",
      "|Asplund, Mrs. Car...|          347077|\n",
      "|\"O'Dwyer, Miss. E...|          330959|\n",
      "|Spencer, Mrs. Wil...|        PC 17569|\n",
      "|Glynn, Miss. Mary...|          335677|\n",
      "|    Mamee, Mr. Hanna|            2677|\n",
      "|Nicola-Yarred, Mi...|            2651|\n",
      "|Laroche, Miss. Si...|   SC/Paris 2123|\n",
      "+--------------------+----------------+\n",
      "only showing top 20 rows\n",
      "\n"
     ]
    }
   ],
   "source": [
    "# after filter on specific condition you can choose specific columns to be shown\n",
    "train_df.filter('Survived==1').select(['Name', 'Ticket']).show()"
   ]
  },
  {
   "cell_type": "code",
   "execution_count": 20,
   "metadata": {},
   "outputs": [
    {
     "name": "stdout",
     "output_type": "stream",
     "text": [
      "+-----------+--------+------+--------------------+------+----+-----+-----+----------------+--------+-----+--------+\n",
      "|PassengerId|Survived|Pclass|                Name|   Sex| Age|SibSp|Parch|          Ticket|    Fare|Cabin|Embarked|\n",
      "+-----------+--------+------+--------------------+------+----+-----+-----+----------------+--------+-----+--------+\n",
      "|          2|       1|     1|Cumings, Mrs. Joh...|female|38.0|    1|    0|        PC 17599| 71.2833|  C85|       C|\n",
      "|          3|       1|     3|Heikkinen, Miss. ...|female|26.0|    0|    0|STON/O2. 3101282|   7.925| NULL|       S|\n",
      "|          4|       1|     1|Futrelle, Mrs. Ja...|female|35.0|    1|    0|          113803|    53.1| C123|       S|\n",
      "|          9|       1|     3|Johnson, Mrs. Osc...|female|27.0|    0|    2|          347742| 11.1333| NULL|       S|\n",
      "|         10|       1|     2|Nasser, Mrs. Nich...|female|14.0|    1|    0|          237736| 30.0708| NULL|       C|\n",
      "|         11|       1|     3|Sandstrom, Miss. ...|female| 4.0|    1|    1|         PP 9549|    16.7|   G6|       S|\n",
      "|         12|       1|     1|Bonnell, Miss. El...|female|58.0|    0|    0|          113783|   26.55| C103|       S|\n",
      "|         16|       1|     2|Hewlett, Mrs. (Ma...|female|55.0|    0|    0|          248706|    16.0| NULL|       S|\n",
      "|         20|       1|     3|Masselmani, Mrs. ...|female|NULL|    0|    0|            2649|   7.225| NULL|       C|\n",
      "|         23|       1|     3|\"McGowan, Miss. A...|female|15.0|    0|    0|          330923|  8.0292| NULL|       Q|\n",
      "|         26|       1|     3|Asplund, Mrs. Car...|female|38.0|    1|    5|          347077| 31.3875| NULL|       S|\n",
      "|         29|       1|     3|\"O'Dwyer, Miss. E...|female|NULL|    0|    0|          330959|  7.8792| NULL|       Q|\n",
      "|         32|       1|     1|Spencer, Mrs. Wil...|female|NULL|    1|    0|        PC 17569|146.5208|  B78|       C|\n",
      "|         33|       1|     3|Glynn, Miss. Mary...|female|NULL|    0|    0|          335677|    7.75| NULL|       Q|\n",
      "|         40|       1|     3|Nicola-Yarred, Mi...|female|14.0|    1|    0|            2651| 11.2417| NULL|       C|\n",
      "|         44|       1|     2|Laroche, Miss. Si...|female| 3.0|    1|    2|   SC/Paris 2123| 41.5792| NULL|       C|\n",
      "|         45|       1|     3|Devaney, Miss. Ma...|female|19.0|    0|    0|          330958|  7.8792| NULL|       Q|\n",
      "|         48|       1|     3|O'Driscoll, Miss....|female|NULL|    0|    0|           14311|    7.75| NULL|       Q|\n",
      "|         53|       1|     1|Harper, Mrs. Henr...|female|49.0|    1|    0|        PC 17572| 76.7292|  D33|       C|\n",
      "|         54|       1|     2|Faunthorpe, Mrs. ...|female|29.0|    1|    0|            2926|    26.0| NULL|       S|\n",
      "+-----------+--------+------+--------------------+------+----+-----+-----+----------------+--------+-----+--------+\n",
      "only showing top 20 rows\n",
      "\n"
     ]
    }
   ],
   "source": [
    "# to filter on multiple conditions\n",
    "train_df.filter((train_df['Survived']==1) & (train_df['Sex']=='female')).show()"
   ]
  },
  {
   "cell_type": "markdown",
   "metadata": {},
   "source": [
    "#### GroupBy Operation"
   ]
  },
  {
   "cell_type": "code",
   "execution_count": 21,
   "metadata": {},
   "outputs": [
    {
     "data": {
      "text/plain": [
       "DataFrame[car_ID: int, symboling: int, CarName: string, fueltype: string, aspiration: string, doornumber: string, carbody: string, drivewheel: string, enginelocation: string, wheelbase: double, carlength: double, carwidth: double, carheight: double, curbweight: int, enginetype: string, cylindernumber: string, enginesize: int, fuelsystem: string, boreratio: double, stroke: double, compressionratio: double, horsepower: int, peakrpm: int, citympg: int, highwaympg: int, price: double]"
      ]
     },
     "execution_count": 21,
     "metadata": {},
     "output_type": "execute_result"
    }
   ],
   "source": [
    "car_prices_df = spark.read.csv('CarPrices.csv', header=True, inferSchema=True)\n",
    "car_prices_df"
   ]
  },
  {
   "cell_type": "code",
   "execution_count": 22,
   "metadata": {},
   "outputs": [
    {
     "name": "stdout",
     "output_type": "stream",
     "text": [
      "root\n",
      " |-- car_ID: integer (nullable = true)\n",
      " |-- symboling: integer (nullable = true)\n",
      " |-- CarName: string (nullable = true)\n",
      " |-- fueltype: string (nullable = true)\n",
      " |-- aspiration: string (nullable = true)\n",
      " |-- doornumber: string (nullable = true)\n",
      " |-- carbody: string (nullable = true)\n",
      " |-- drivewheel: string (nullable = true)\n",
      " |-- enginelocation: string (nullable = true)\n",
      " |-- wheelbase: double (nullable = true)\n",
      " |-- carlength: double (nullable = true)\n",
      " |-- carwidth: double (nullable = true)\n",
      " |-- carheight: double (nullable = true)\n",
      " |-- curbweight: integer (nullable = true)\n",
      " |-- enginetype: string (nullable = true)\n",
      " |-- cylindernumber: string (nullable = true)\n",
      " |-- enginesize: integer (nullable = true)\n",
      " |-- fuelsystem: string (nullable = true)\n",
      " |-- boreratio: double (nullable = true)\n",
      " |-- stroke: double (nullable = true)\n",
      " |-- compressionratio: double (nullable = true)\n",
      " |-- horsepower: integer (nullable = true)\n",
      " |-- peakrpm: integer (nullable = true)\n",
      " |-- citympg: integer (nullable = true)\n",
      " |-- highwaympg: integer (nullable = true)\n",
      " |-- price: double (nullable = true)\n",
      "\n"
     ]
    }
   ],
   "source": [
    "car_prices_df.printSchema()"
   ]
  },
  {
   "cell_type": "code",
   "execution_count": 23,
   "metadata": {},
   "outputs": [
    {
     "name": "stdout",
     "output_type": "stream",
     "text": [
      "+------+--------------------+--------+---------+\n",
      "|car_ID|             CarName|fueltype|    price|\n",
      "+------+--------------------+--------+---------+\n",
      "|     1|  alfa-romero giulia|     gas|  13495.0|\n",
      "|     2| alfa-romero stelvio|     gas|  16500.0|\n",
      "|     3|alfa-romero Quadr...|     gas|  16500.0|\n",
      "|     4|         audi 100 ls|     gas|  13950.0|\n",
      "|     5|          audi 100ls|     gas|  17450.0|\n",
      "|     6|            audi fox|     gas|  15250.0|\n",
      "|     7|          audi 100ls|     gas|  17710.0|\n",
      "|     8|           audi 5000|     gas|  18920.0|\n",
      "|     9|           audi 4000|     gas|  23875.0|\n",
      "|    10| audi 5000s (diesel)|     gas|17859.167|\n",
      "|    11|            bmw 320i|     gas|  16430.0|\n",
      "|    12|            bmw 320i|     gas|  16925.0|\n",
      "|    13|              bmw x1|     gas|  20970.0|\n",
      "|    14|              bmw x3|     gas|  21105.0|\n",
      "|    15|              bmw z4|     gas|  24565.0|\n",
      "|    16|              bmw x4|     gas|  30760.0|\n",
      "|    17|              bmw x5|     gas|  41315.0|\n",
      "|    18|              bmw x3|     gas|  36880.0|\n",
      "|    19|    chevrolet impala|     gas|   5151.0|\n",
      "|    20|chevrolet monte c...|     gas|   6295.0|\n",
      "+------+--------------------+--------+---------+\n",
      "only showing top 20 rows\n",
      "\n"
     ]
    }
   ],
   "source": [
    "# I am going to select some columns to work with\n",
    "car_prices_df = car_prices_df.select(['car_ID', 'CarName','fueltype', 'price' ])\n",
    "car_prices_df.show()"
   ]
  },
  {
   "cell_type": "code",
   "execution_count": 24,
   "metadata": {},
   "outputs": [
    {
     "name": "stdout",
     "output_type": "stream",
     "text": [
      "+--------+-----------+-----------+\n",
      "|fueltype|sum(car_ID)| sum(price)|\n",
      "+--------+-----------+-----------+\n",
      "|     gas|      18603|2404962.667|\n",
      "|  diesel|       2512|   316763.0|\n",
      "+--------+-----------+-----------+\n",
      "\n"
     ]
    }
   ],
   "source": [
    "# to show the sum of prices of each fuel type\n",
    "car_prices_df.groupBy('fueltype').sum().show()"
   ]
  },
  {
   "cell_type": "code",
   "execution_count": 29,
   "metadata": {},
   "outputs": [
    {
     "name": "stdout",
     "output_type": "stream",
     "text": [
      "+--------------------+-----------+------------------+\n",
      "|             CarName|avg(car_ID)|        avg(price)|\n",
      "+--------------------+-----------+------------------+\n",
      "|         audi 100 ls|        4.0|           13950.0|\n",
      "|       dodge rampage|       22.0|            5572.0|\n",
      "|       mitsubishi g4|       82.0|10352.333333333334|\n",
      "|        nissan teana|      105.0|           17199.0|\n",
      "|         nissan note|       98.0|            7999.0|\n",
      "|    maxda glc deluxe|       52.0|            6095.0|\n",
      "|         volvo 244dl|      200.0|           18735.0|\n",
      "|          isuzu MU-X|       44.0|            6785.0|\n",
      "|              bmw x3|       16.0|           28992.5|\n",
      "|       peugeot 604sl|      115.5|           17525.0|\n",
      "|   honda accord cvcc|       34.0|            6529.0|\n",
      "| honda civic 1500 gl|       37.0|            7295.0|\n",
      "|toyota corona har...|      154.0|            6918.0|\n",
      "|          mazda rx-4|       58.5|            8470.0|\n",
      "|              bmw z4|       15.0|           24565.0|\n",
      "|        renault 12tl|      131.0|            9295.0|\n",
      "|          audi 100ls|        6.0|           17580.0|\n",
      "|     porsche cayenne|      129.0|          32714.25|\n",
      "| chevrolet vega 2300|       21.0|            6575.0|\n",
      "|           audi 5000|        8.0|           18920.0|\n",
      "+--------------------+-----------+------------------+\n",
      "only showing top 20 rows\n",
      "\n"
     ]
    }
   ],
   "source": [
    "# to show the average price of each car name\n",
    "car_prices_df.groupBy('CarName').mean().show()"
   ]
  },
  {
   "cell_type": "code",
   "execution_count": 30,
   "metadata": {},
   "outputs": [
    {
     "name": "stdout",
     "output_type": "stream",
     "text": [
      "+--------+-----+\n",
      "|fueltype|count|\n",
      "+--------+-----+\n",
      "|     gas|  185|\n",
      "|  diesel|   20|\n",
      "+--------+-----+\n",
      "\n"
     ]
    }
   ],
   "source": [
    "# to count how many cars in each fuel type\n",
    "car_prices_df.groupBy('fueltype').count().show()\n"
   ]
  },
  {
   "cell_type": "code",
   "execution_count": 31,
   "metadata": {},
   "outputs": [
    {
     "name": "stdout",
     "output_type": "stream",
     "text": [
      "+-----------+\n",
      "| sum(price)|\n",
      "+-----------+\n",
      "|2721725.667|\n",
      "+-----------+\n",
      "\n"
     ]
    }
   ],
   "source": [
    "# to sum the all prices of all cars\n",
    "car_prices_df.agg({'price':'sum'}).show()"
   ]
  },
  {
   "cell_type": "code",
   "execution_count": 32,
   "metadata": {},
   "outputs": [
    {
     "name": "stdout",
     "output_type": "stream",
     "text": [
      "+----------+\n",
      "|max(price)|\n",
      "+----------+\n",
      "|   45400.0|\n",
      "+----------+\n",
      "\n"
     ]
    }
   ],
   "source": [
    "car_prices_df.agg({'price':'max'}).show()\n"
   ]
  },
  {
   "cell_type": "code",
   "execution_count": 33,
   "metadata": {},
   "outputs": [
    {
     "name": "stdout",
     "output_type": "stream",
     "text": [
      "+--------+-----------+----------+\n",
      "|fueltype|max(car_ID)|max(price)|\n",
      "+--------+-----------+----------+\n",
      "|     gas|        205|   45400.0|\n",
      "|  diesel|        204|   31600.0|\n",
      "+--------+-----------+----------+\n",
      "\n"
     ]
    }
   ],
   "source": [
    "car_prices_df.groupBy('fueltype').max().show()"
   ]
  },
  {
   "cell_type": "code",
   "execution_count": null,
   "metadata": {},
   "outputs": [],
   "source": []
  }
 ],
 "metadata": {
  "kernelspec": {
   "display_name": "Python 3",
   "language": "python",
   "name": "python3"
  },
  "language_info": {
   "codemirror_mode": {
    "name": "ipython",
    "version": 3
   },
   "file_extension": ".py",
   "mimetype": "text/x-python",
   "name": "python",
   "nbconvert_exporter": "python",
   "pygments_lexer": "ipython3",
   "version": "3.10.13"
  }
 },
 "nbformat": 4,
 "nbformat_minor": 2
}
