{
 "cells": [
  {
   "cell_type": "markdown",
   "id": "62fc1f64",
   "metadata": {},
   "source": [
    "# Numpy"
   ]
  },
  {
   "cell_type": "code",
   "execution_count": 1,
   "id": "a8b26619",
   "metadata": {},
   "outputs": [],
   "source": [
    "import numpy as np"
   ]
  },
  {
   "cell_type": "code",
   "execution_count": 2,
   "id": "b575fd21",
   "metadata": {},
   "outputs": [
    {
     "name": "stdout",
     "output_type": "stream",
     "text": [
      "[1 2 3]\n",
      "<class 'numpy.ndarray'>\n"
     ]
    }
   ],
   "source": [
    "my_list = [1,2,3]\n",
    "numpy_arr = np.array(my_list)\n",
    "print(numpy_arr)\n",
    "print(type(numpy_arr))"
   ]
  },
  {
   "cell_type": "code",
   "execution_count": 15,
   "id": "8eeb438c",
   "metadata": {},
   "outputs": [
    {
     "data": {
      "text/plain": [
       "array([[1., 1., 1., 1.],\n",
       "       [1., 1., 1., 1.],\n",
       "       [1., 1., 1., 1.]])"
      ]
     },
     "execution_count": 15,
     "metadata": {},
     "output_type": "execute_result"
    }
   ],
   "source": [
    "random_arr = np.empty([3,4])\n",
    "random_arr"
   ]
  },
  {
   "cell_type": "code",
   "execution_count": 19,
   "id": "3a136e03",
   "metadata": {},
   "outputs": [
    {
     "data": {
      "text/plain": [
       "array([[0., 0., 0., 0.],\n",
       "       [0., 0., 0., 0.],\n",
       "       [0., 0., 0., 0.],\n",
       "       [0., 0., 0., 0.],\n",
       "       [0., 0., 0., 0.]])"
      ]
     },
     "execution_count": 19,
     "metadata": {},
     "output_type": "execute_result"
    }
   ],
   "source": [
    "zeros_arr = np.zeros([5,4])\n",
    "zeros_arr"
   ]
  },
  {
   "cell_type": "code",
   "execution_count": 10,
   "id": "ae1ac95b",
   "metadata": {},
   "outputs": [
    {
     "data": {
      "text/plain": [
       "array([[1., 1., 1., 1.],\n",
       "       [1., 1., 1., 1.],\n",
       "       [1., 1., 1., 1.]])"
      ]
     },
     "execution_count": 10,
     "metadata": {},
     "output_type": "execute_result"
    }
   ],
   "source": [
    "ones_arr = np.ones((3,4))\n",
    "ones_arr"
   ]
  },
  {
   "cell_type": "code",
   "execution_count": 20,
   "id": "cd4f6271",
   "metadata": {},
   "outputs": [
    {
     "data": {
      "text/plain": [
       "array([[0., 0., 0., 0.],\n",
       "       [0., 0., 0., 0.],\n",
       "       [0., 0., 0., 0.],\n",
       "       [0., 0., 0., 0.],\n",
       "       [0., 0., 0., 0.],\n",
       "       [1., 1., 1., 1.],\n",
       "       [1., 1., 1., 1.],\n",
       "       [1., 1., 1., 1.]])"
      ]
     },
     "execution_count": 20,
     "metadata": {},
     "output_type": "execute_result"
    }
   ],
   "source": [
    "vertical_arr = np.vstack((zeros_arr,ones_arr))\n",
    "# horizontal_arr = np.hstack((zeros_arr,ones_arr))\n",
    "\n",
    "vertical_arr"
   ]
  },
  {
   "cell_type": "code",
   "execution_count": 14,
   "id": "4d814514",
   "metadata": {},
   "outputs": [
    {
     "data": {
      "text/plain": [
       "array([[0., 0., 0., 0., 1., 1., 1., 1.],\n",
       "       [0., 0., 0., 0., 1., 1., 1., 1.],\n",
       "       [0., 0., 0., 0., 1., 1., 1., 1.]])"
      ]
     },
     "execution_count": 14,
     "metadata": {},
     "output_type": "execute_result"
    }
   ],
   "source": [
    "horizontal_arr"
   ]
  },
  {
   "cell_type": "code",
   "execution_count": 23,
   "id": "87a96b1b",
   "metadata": {},
   "outputs": [
    {
     "name": "stdout",
     "output_type": "stream",
     "text": [
      "3 3\n"
     ]
    }
   ],
   "source": [
    "arr = np.array([[1,3,4,5],[2,6,4,3]])\n",
    "print('3',arr[-1,-1])"
   ]
  },
  {
   "cell_type": "code",
   "execution_count": 92,
   "id": "57c199fc",
   "metadata": {},
   "outputs": [
    {
     "name": "stdout",
     "output_type": "stream",
     "text": [
      "[[ 1  3  4  7]\n",
      " [ 4  6  4  7]\n",
      " [ 3  6  2  8]\n",
      " [ 1  4  5  6]\n",
      " [ 6  3  6  4]\n",
      " [10  9 10  9]]\n",
      "<class 'numpy.ndarray'>\n",
      "[ 5  2  1  3  3 10]\n"
     ]
    }
   ],
   "source": [
    "data = np.array(([1,3,4,7,5],\n",
    "                [4,6,4,7,2],\n",
    "                [3,6,2,8,1],\n",
    "                [1,4,5,6,3],\n",
    "                [6,3,6,4,3],\n",
    "                [10,9,10,9,10])\n",
    "               )\n",
    "x = data[:,:-1]\n",
    "y = data[:,-1]\n",
    "print(x)\n",
    "print(type(y))\n",
    "print(y)"
   ]
  },
  {
   "cell_type": "code",
   "execution_count": 59,
   "id": "7e9cbb56",
   "metadata": {},
   "outputs": [
    {
     "name": "stdout",
     "output_type": "stream",
     "text": [
      "[[1 3 4 7 5]\n",
      " [4 6 4 7 2]\n",
      " [3 6 2 8 1]]\n",
      "\n",
      "[[1 4 5 6 3]\n",
      " [6 3 6 4 3]]\n"
     ]
    }
   ],
   "source": [
    "train = data[:3,:]\n",
    "test = data[3:, :]\n",
    "print(train)\n",
    "print()\n",
    "print(test)"
   ]
  },
  {
   "cell_type": "code",
   "execution_count": 60,
   "id": "8a010736",
   "metadata": {},
   "outputs": [
    {
     "name": "stdout",
     "output_type": "stream",
     "text": [
      "[[1 3 4 7]\n",
      " [4 6 4 7]\n",
      " [3 6 2 8]\n",
      " [1 4 5 6]\n",
      " [6 3 6 4]]\n",
      "[5 2 1 3 3]\n"
     ]
    }
   ],
   "source": [
    "print(x)\n",
    "print(y)"
   ]
  },
  {
   "cell_type": "code",
   "execution_count": 64,
   "id": "42cba406",
   "metadata": {},
   "outputs": [
    {
     "name": "stdout",
     "output_type": "stream",
     "text": [
      "[[1 3 4 7]\n",
      " [4 6 4 7]\n",
      " [3 6 2 8]]\n",
      "\n",
      "[[1 4 5 6]\n",
      " [6 3 6 4]]\n",
      "\n",
      "[5 2 1]\n",
      "\n",
      "[3 3]\n"
     ]
    }
   ],
   "source": [
    "X_train, X_test = x[:3,:], x[3:,:]\n",
    "print(X_train)\n",
    "print()\n",
    "print(X_test)\n",
    "print()\n",
    "\n",
    "y_train, y_test = y[:3],y[3:]\n",
    "print(y_train)\n",
    "print()\n",
    "print(y_test)\n"
   ]
  },
  {
   "cell_type": "code",
   "execution_count": 88,
   "id": "579ddf2f",
   "metadata": {},
   "outputs": [],
   "source": [
    "def split_data(data,perc):\n",
    "    x = data[:,:-1]\n",
    "    y = data[:,-1]\n",
    "    perc = int((perc/100)* len(data))\n",
    "    X_train, X_test = x[:perc,:], x[perc:,:]\n",
    "    y_train, y_test = y[:perc],y[perc:]\n",
    "    return X_train, X_test,y_train, y_test\n",
    "\n"
   ]
  },
  {
   "cell_type": "code",
   "execution_count": 94,
   "id": "ba59e4ef",
   "metadata": {},
   "outputs": [
    {
     "name": "stdout",
     "output_type": "stream",
     "text": [
      "[[ 1  3  4  7  5]\n",
      " [ 4  6  4  7  2]\n",
      " [ 3  6  2  8  1]\n",
      " [ 1  4  5  6  3]\n",
      " [ 6  3  6  4  3]\n",
      " [10  9 10  9 10]]\n",
      "\n",
      "[[1 3 4 7]\n",
      " [4 6 4 7]\n",
      " [3 6 2 8]]\n",
      "\n",
      "[[ 1  4  5  6]\n",
      " [ 6  3  6  4]\n",
      " [10  9 10  9]]\n",
      "\n",
      "[5 2 1]\n",
      "\n",
      "[ 3  3 10]\n",
      "\n",
      "\n"
     ]
    }
   ],
   "source": [
    "print(data)\n",
    "print()\n",
    "X_train, X_test,y_train, y_test = split_data(data,50)\n",
    "print(f'{X_train}\\n\\n{X_test}\\n\\n{y_train}\\n\\n{y_test}\\n\\n')\n"
   ]
  },
  {
   "cell_type": "code",
   "execution_count": 117,
   "id": "812dd981",
   "metadata": {},
   "outputs": [],
   "source": [
    "data = np.array(([1,4],[6,7]))"
   ]
  },
  {
   "cell_type": "code",
   "execution_count": 106,
   "id": "f0ddf892",
   "metadata": {},
   "outputs": [
    {
     "data": {
      "text/plain": [
       "array([[1, 4, 5, 6, 7]])"
      ]
     },
     "execution_count": 106,
     "metadata": {},
     "output_type": "execute_result"
    }
   ],
   "source": [
    "data.shape\n",
    "data.reshape(1,data.shape[0])"
   ]
  },
  {
   "cell_type": "code",
   "execution_count": 110,
   "id": "9b06e6f8",
   "metadata": {},
   "outputs": [
    {
     "name": "stdout",
     "output_type": "stream",
     "text": [
      "(6, 4)\n"
     ]
    }
   ],
   "source": [
    "print(x.shape)"
   ]
  },
  {
   "cell_type": "code",
   "execution_count": 109,
   "id": "5f5b2381",
   "metadata": {},
   "outputs": [
    {
     "data": {
      "text/plain": [
       "(4, 6)"
      ]
     },
     "execution_count": 109,
     "metadata": {},
     "output_type": "execute_result"
    }
   ],
   "source": [
    "(x.T).shape"
   ]
  },
  {
   "cell_type": "code",
   "execution_count": 111,
   "id": "121896f1",
   "metadata": {},
   "outputs": [
    {
     "data": {
      "text/plain": [
       "array([[ 1,  4,  3,  1,  6, 10],\n",
       "       [ 3,  6,  6,  4,  3,  9],\n",
       "       [ 4,  4,  2,  5,  6, 10],\n",
       "       [ 7,  7,  8,  6,  4,  9]])"
      ]
     },
     "execution_count": 111,
     "metadata": {},
     "output_type": "execute_result"
    }
   ],
   "source": [
    "x.T"
   ]
  },
  {
   "cell_type": "code",
   "execution_count": 118,
   "id": "1779aa80",
   "metadata": {},
   "outputs": [
    {
     "data": {
      "text/plain": [
       "-17.0"
      ]
     },
     "execution_count": 118,
     "metadata": {},
     "output_type": "execute_result"
    }
   ],
   "source": [
    "np.linalg.det(data)"
   ]
  },
  {
   "cell_type": "code",
   "execution_count": 126,
   "id": "2655c74b",
   "metadata": {},
   "outputs": [
    {
     "data": {
      "text/plain": [
       "array([[1, 4],\n",
       "       [6, 7]])"
      ]
     },
     "execution_count": 126,
     "metadata": {},
     "output_type": "execute_result"
    }
   ],
   "source": [
    "data"
   ]
  },
  {
   "cell_type": "code",
   "execution_count": 131,
   "id": "0c910b6d",
   "metadata": {},
   "outputs": [
    {
     "data": {
      "text/plain": [
       "array([[1., 0.],\n",
       "       [0., 1.]])"
      ]
     },
     "execution_count": 131,
     "metadata": {},
     "output_type": "execute_result"
    }
   ],
   "source": [
    "np.dot(np.linalg.inv(data),data)"
   ]
  },
  {
   "cell_type": "code",
   "execution_count": 129,
   "id": "9d73a42d",
   "metadata": {},
   "outputs": [
    {
     "data": {
      "text/plain": [
       "array([[-0.41176471,  0.23529412],\n",
       "       [ 0.35294118, -0.05882353]])"
      ]
     },
     "execution_count": 129,
     "metadata": {},
     "output_type": "execute_result"
    }
   ],
   "source": [
    "(np.linalg.inv(data.T)).T"
   ]
  },
  {
   "cell_type": "code",
   "execution_count": null,
   "id": "2387e2b6",
   "metadata": {},
   "outputs": [],
   "source": []
  }
 ],
 "metadata": {
  "kernelspec": {
   "display_name": "Python 3 (ipykernel)",
   "language": "python",
   "name": "python3"
  },
  "language_info": {
   "codemirror_mode": {
    "name": "ipython",
    "version": 3
   },
   "file_extension": ".py",
   "mimetype": "text/x-python",
   "name": "python",
   "nbconvert_exporter": "python",
   "pygments_lexer": "ipython3",
   "version": "3.9.13"
  }
 },
 "nbformat": 4,
 "nbformat_minor": 5
}
