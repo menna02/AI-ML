{
 "cells": [
  {
   "cell_type": "code",
   "execution_count": 33,
   "id": "7eb4614e",
   "metadata": {},
   "outputs": [
    {
     "name": "stdout",
     "output_type": "stream",
     "text": [
      "<class 'list'>\n",
      "<class 'str'>\n",
      "['data', 1]\n",
      "['data', 'in', 'python', 3]\n",
      "4\n",
      "['data', 'in', 'python', ['list', 'inside', 'list']]\n",
      "['data', ['s', 't', 'r', 'i', 'n', 'g'], 'python', ['list', 'inside', 'list']]\n"
     ]
    }
   ],
   "source": [
    "list1 = [\"data\", 1, \"python\", 3]\n",
    "print(type(list1))\n",
    "print(type(list1[2]))\n",
    "print(list1[0:2])\n",
    "list1[1] = \"in\"\n",
    "print(list1)\n",
    "print(len(list1))\n",
    "list1[3] = [\"list\", \"inside\", \"list\"]\n",
    "print(list1)\n",
    "str1 = 'string'\n",
    "list1[1] = list(str1)\n",
    "print(list1)"
   ]
  },
  {
   "cell_type": "code",
   "execution_count": 34,
   "id": "713de365",
   "metadata": {},
   "outputs": [
    {
     "name": "stdout",
     "output_type": "stream",
     "text": [
      "['data', ['s', 't', 'r', 'i', 'n', 'g'], 'python', ['list', 'inside', 'list'], ['another', 'list']]\n",
      "['data', ['s', 't', 'r', 'i', 'n', 'g'], 'python', ['test', 'insert'], ['list', 'inside', 'list'], ['another', 'list']]\n",
      "['data', 'int', ['s', 't', 'r', 'i', 'n', 'g'], 'python', ['test', 'insert'], ['list', 'inside', 'list'], ['another', 'list']]\n",
      "['data', 'int', ['s', 't', 'r', 'i', 'n', 'g'], 'python', ['test', 'insert'], ['list', 'inside', 'list'], ['another', 'list'], 'after', 'extend']\n"
     ]
    }
   ],
   "source": [
    "list2 = ['another' , 'list']\n",
    "list1.append(list2)\n",
    "print(list1)\n",
    "list3 = ['test' , 'insert']\n",
    "list1.insert(3,list3)\n",
    "print(list1)\n",
    "list1.insert(1,'int')\n",
    "print (list1)\n",
    "list4 = ['after' , 'extend']\n",
    "list1.extend(list4)\n",
    "print(list1)\n"
   ]
  },
  {
   "cell_type": "code",
   "execution_count": 35,
   "id": "f306c749",
   "metadata": {},
   "outputs": [
    {
     "name": "stdout",
     "output_type": "stream",
     "text": [
      "['data', 'int', 'python', ['test', 'insert'], ['list', 'inside', 'list'], ['another', 'list'], 'after', 'extend']\n"
     ]
    }
   ],
   "source": [
    "list1.remove(list1[2])\n",
    "print(list1)"
   ]
  },
  {
   "cell_type": "code",
   "execution_count": 28,
   "id": "e54b85d9",
   "metadata": {},
   "outputs": [
    {
     "name": "stdout",
     "output_type": "stream",
     "text": [
      "extend\n",
      "['data', 'int', 'python', ['test', 'insert'], ['list', 'inside', 'list'], ['another', 'list'], 'after']\n"
     ]
    }
   ],
   "source": [
    "print(list1.pop(-1))\n",
    "print(list1)"
   ]
  },
  {
   "cell_type": "code",
   "execution_count": 30,
   "id": "50a13927",
   "metadata": {},
   "outputs": [
    {
     "name": "stdout",
     "output_type": "stream",
     "text": [
      "['data', 'int', 'python', ['test', 'insert'], ['list', 'inside', 'list'], ['another', 'list']]\n"
     ]
    }
   ],
   "source": [
    "del list1[-1]\n",
    "print(list1)"
   ]
  },
  {
   "cell_type": "code",
   "execution_count": 31,
   "id": "dd8f9bc5",
   "metadata": {},
   "outputs": [
    {
     "name": "stdout",
     "output_type": "stream",
     "text": [
      "enter name menna\n",
      "enter id 1\n",
      "your name is : menna, and your id is 1\n"
     ]
    }
   ],
   "source": [
    "name = input('enter name ')\n",
    "id = input('enter id ')\n",
    "print(f'your name is : {name}, and your id is {id}')"
   ]
  },
  {
   "cell_type": "code",
   "execution_count": 33,
   "id": "e983e59e",
   "metadata": {},
   "outputs": [
    {
     "name": "stdout",
     "output_type": "stream",
     "text": [
      "enter the value you wanna delete from this list : \n",
      "['amit', 'learning', 'python', 'machine learning', 'data science', 'deep learning']amit\n",
      "your new list is : \n",
      "['learning', 'python', 'machine learning', 'data science', 'deep learning']\n"
     ]
    }
   ],
   "source": [
    "input_list = ['amit', 'learning' , 'python', 'machine learning' , 'data science' , 'deep learning']\n",
    "value = input(f'enter the value you wanna delete from this list : \\n{input_list}')\n",
    "input_list.remove(value)\n",
    "print(f'your new list is : \\n{input_list}')"
   ]
  },
  {
   "cell_type": "code",
   "execution_count": 41,
   "id": "c82e9b86",
   "metadata": {},
   "outputs": [
    {
     "name": "stdout",
     "output_type": "stream",
     "text": [
      "1\n",
      "[1, 3, 4, 5, 6, 1, 3]\n",
      "[3, 1, 6, 5, 4, 3, 1]\n",
      "[1, 1, 3, 3, 4, 5, 6]\n",
      "[6, 5, 4, 3, 3, 1, 1]\n"
     ]
    }
   ],
   "source": [
    "list2 = [1,3,4,5,6,1,3]\n",
    "print(list2.index(3))\n",
    "print(list2)\n",
    "list2.reverse()\n",
    "print(list2)\n",
    "list2.sort()\n",
    "print(list2)\n",
    "list2.sort(reverse=True)\n",
    "print(list2)"
   ]
  },
  {
   "cell_type": "code",
   "execution_count": 47,
   "id": "50a79182",
   "metadata": {},
   "outputs": [
    {
     "name": "stdout",
     "output_type": "stream",
     "text": [
      "4\n",
      "(['list', 'inside', 'tuple'], 34)\n",
      "([1, 'inside', 'tuple'], 34)\n"
     ]
    }
   ],
   "source": [
    "tuple1 = (1, 4, 5, 'tuple')\n",
    "print(tuple1[1])\n",
    "tuple2 = (['list' , 'inside' , 'tuple'], 34)\n",
    "print(tuple2)\n",
    "tuple2[0][0] = 1\n",
    "print(tuple2)"
   ]
  },
  {
   "cell_type": "code",
   "execution_count": 1,
   "id": "26633a97",
   "metadata": {},
   "outputs": [
    {
     "name": "stdout",
     "output_type": "stream",
     "text": [
      "{'first', 'set'}\n"
     ]
    }
   ],
   "source": [
    "set1 = {'first', 'set', 'first'}\n",
    "print(set1)\n"
   ]
  },
  {
   "cell_type": "code",
   "execution_count": 3,
   "id": "a28c0062",
   "metadata": {},
   "outputs": [
    {
     "name": "stdout",
     "output_type": "stream",
     "text": [
      "1\n"
     ]
    }
   ],
   "source": [
    "dict1 = {'key1':1 , 'key2':2, 'key3':3}\n",
    "print(dict1['key1'])"
   ]
  },
  {
   "cell_type": "code",
   "execution_count": 5,
   "id": "11f5cb16",
   "metadata": {},
   "outputs": [
    {
     "data": {
      "text/plain": [
       "1"
      ]
     },
     "execution_count": 5,
     "metadata": {},
     "output_type": "execute_result"
    }
   ],
   "source": [
    "3//2"
   ]
  },
  {
   "cell_type": "code",
   "execution_count": 18,
   "id": "5e756db3",
   "metadata": {},
   "outputs": [
    {
     "name": "stdout",
     "output_type": "stream",
     "text": [
      "False\n",
      "True\n",
      "True\n",
      "False\n"
     ]
    }
   ],
   "source": [
    "x = 3\n",
    "y = 5\n",
    "print(x > y)\n",
    "print(x is not y)\n",
    "print(not(x>y))\n",
    "print(not(x and y))"
   ]
  },
  {
   "cell_type": "code",
   "execution_count": 23,
   "id": "94735277",
   "metadata": {},
   "outputs": [
    {
     "name": "stdout",
     "output_type": "stream",
     "text": [
      "enter first num: 6\n",
      "enter second num: 12\n",
      "the summation is 18.0\n",
      "the subtraction is -6.0\n",
      "the product is 72.0\n",
      "the division is 0.5\n"
     ]
    }
   ],
   "source": [
    "x = float(input('enter first num: '))\n",
    "y = float(input('enter second num: '))\n",
    "print(f'the summation is {x+y}')\n",
    "print(f'the subtraction is {x-y}')\n",
    "print(f'the product is {x*y}')\n",
    "print(f'the division is {x/y}')"
   ]
  },
  {
   "cell_type": "code",
   "execution_count": 24,
   "id": "3c5e4108",
   "metadata": {},
   "outputs": [
    {
     "name": "stdout",
     "output_type": "stream",
     "text": [
      "b is greater than a\n"
     ]
    }
   ],
   "source": [
    "a =200 \n",
    "b = 300\n",
    "if a>b :\n",
    "    print('a is greater than b')\n",
    "else :\n",
    "    print('b is greater than a')\n",
    "    "
   ]
  },
  {
   "cell_type": "code",
   "execution_count": 25,
   "id": "eb43fd64",
   "metadata": {},
   "outputs": [
    {
     "name": "stdout",
     "output_type": "stream",
     "text": [
      "b is greater than a\n"
     ]
    }
   ],
   "source": [
    "print('a is greater than b') if a>b else print('b is greater than a')"
   ]
  },
  {
   "cell_type": "code",
   "execution_count": 31,
   "id": "48cd6c56",
   "metadata": {},
   "outputs": [
    {
     "name": "stdout",
     "output_type": "stream",
     "text": [
      "Enter your grade: 75\n",
      "B\n"
     ]
    }
   ],
   "source": [
    "grade = int(input('Enter your grade: '))\n",
    "print('A') if grade >= 85 else (print('B') if (grade >=75 and grade < 85)  else(print('C') if (grade >=65 and grade < 75) else (print('D') if (grade >=50 and grade < 65) else (print ('F')))))"
   ]
  },
  {
   "cell_type": "code",
   "execution_count": 39,
   "id": "929060f4",
   "metadata": {},
   "outputs": [
    {
     "name": "stdout",
     "output_type": "stream",
     "text": [
      "data\n",
      "int\n",
      "python\n",
      "['test', 'insert']\n",
      "['list', 'inside', 'list']\n",
      "['another', 'list']\n",
      "after\n",
      "extend\n",
      "\n",
      "no more elements\n"
     ]
    }
   ],
   "source": [
    "for i in list1:\n",
    "    print(i)\n",
    "else :\n",
    "    print('\\nno more elements')"
   ]
  },
  {
   "cell_type": "code",
   "execution_count": 41,
   "id": "cc9b55fb",
   "metadata": {},
   "outputs": [
    {
     "name": "stdout",
     "output_type": "stream",
     "text": [
      "3\n",
      "5\n",
      "7\n"
     ]
    }
   ],
   "source": [
    "for i in range(3, 9, 2):\n",
    "    print(i)"
   ]
  },
  {
   "cell_type": "code",
   "execution_count": 43,
   "id": "f3872cba",
   "metadata": {},
   "outputs": [
    {
     "name": "stdout",
     "output_type": "stream",
     "text": [
      "data\n",
      "int\n",
      "python\n",
      "after\n",
      "extend\n"
     ]
    }
   ],
   "source": [
    "for i in list1:\n",
    "    if(type(i) == list):\n",
    "        continue\n",
    "    print(i)"
   ]
  },
  {
   "cell_type": "code",
   "execution_count": 46,
   "id": "ffb33871",
   "metadata": {},
   "outputs": [
    {
     "name": "stdout",
     "output_type": "stream",
     "text": [
      "A\n",
      "A\n",
      "A\n",
      "A\n",
      "A\n",
      "A\n",
      "A\n",
      "A\n"
     ]
    }
   ],
   "source": [
    "x=[print(\"A\")for i in list1]"
   ]
  },
  {
   "cell_type": "code",
   "execution_count": 52,
   "id": "012e64ea",
   "metadata": {},
   "outputs": [
    {
     "name": "stdout",
     "output_type": "stream",
     "text": [
      "a\n",
      "a\n",
      "a\n",
      "a\n",
      "a\n",
      "a\n",
      "a\n",
      "a\n"
     ]
    }
   ],
   "source": [
    "y=[print('a') for i in list1]\n",
    "# print (y)"
   ]
  },
  {
   "cell_type": "code",
   "execution_count": 55,
   "id": "fa16dd17",
   "metadata": {},
   "outputs": [
    {
     "name": "stdout",
     "output_type": "stream",
     "text": [
      "6\n",
      "5\n",
      "4\n",
      "3\n",
      "2\n"
     ]
    }
   ],
   "source": [
    "x = 6 \n",
    "while x>1:\n",
    "    print(x)\n",
    "    x-=1"
   ]
  },
  {
   "cell_type": "code",
   "execution_count": 62,
   "id": "383e2268",
   "metadata": {},
   "outputs": [
    {
     "name": "stdout",
     "output_type": "stream",
     "text": [
      "0\n",
      "1\n",
      "2\n",
      "3\n",
      "4\n",
      "5\n",
      "6\n",
      "7\n",
      "8\n",
      "9\n"
     ]
    }
   ],
   "source": [
    "for i in range(10):\n",
    "    print(i)"
   ]
  },
  {
   "cell_type": "code",
   "execution_count": null,
   "id": "3c1057d6",
   "metadata": {},
   "outputs": [],
   "source": [
    "while x in range(1,6,1):\n",
    "    print(x)"
   ]
  },
  {
   "cell_type": "code",
   "execution_count": null,
   "id": "7eabeac4",
   "metadata": {},
   "outputs": [],
   "source": []
  }
 ],
 "metadata": {
  "kernelspec": {
   "display_name": "Python 3 (ipykernel)",
   "language": "python",
   "name": "python3"
  },
  "language_info": {
   "codemirror_mode": {
    "name": "ipython",
    "version": 3
   },
   "file_extension": ".py",
   "mimetype": "text/x-python",
   "name": "python",
   "nbconvert_exporter": "python",
   "pygments_lexer": "ipython3",
   "version": "3.9.13"
  }
 },
 "nbformat": 4,
 "nbformat_minor": 5
}
