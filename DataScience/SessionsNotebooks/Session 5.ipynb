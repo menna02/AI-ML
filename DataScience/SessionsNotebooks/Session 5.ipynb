{
 "cells": [
  {
   "cell_type": "markdown",
   "id": "ede63bf9",
   "metadata": {},
   "source": [
    "# OOP Practice"
   ]
  },
  {
   "cell_type": "code",
   "execution_count": 1,
   "id": "55e707c2",
   "metadata": {},
   "outputs": [],
   "source": [
    "from abc import ABC, abstractmethod\n",
    "class shape(ABC):\n",
    "    @abstractmethod\n",
    "    def area(self):\n",
    "        pass"
   ]
  },
  {
   "cell_type": "code",
   "execution_count": 2,
   "id": "18b016ab",
   "metadata": {},
   "outputs": [],
   "source": [
    "import math\n",
    "class circle(shape):\n",
    "    def area(self):\n",
    "        return (self.radius**2)*math.pi\n",
    "    def setRadius(self,radius):\n",
    "        self.radius = radius if radius > 0 else None\n",
    "    def getRadius(self):\n",
    "        return self.radius\n",
    "    "
   ]
  },
  {
   "cell_type": "code",
   "execution_count": 3,
   "id": "e8d97eea",
   "metadata": {},
   "outputs": [],
   "source": [
    "class square(shape):\n",
    "    def setSide(self,side):\n",
    "        self.side = side if side > 0 else None\n",
    "    def getSide(self):\n",
    "        return self.side\n",
    "    def area(self):\n",
    "        return (self.side**2)"
   ]
  },
  {
   "cell_type": "code",
   "execution_count": 4,
   "id": "04e64f5e",
   "metadata": {},
   "outputs": [
    {
     "name": "stdout",
     "output_type": "stream",
     "text": [
      "5\n",
      "78.53981633974483\n",
      "28.274333882308138\n"
     ]
    }
   ],
   "source": [
    "c1 = circle()\n",
    "c1.setRadius(5)\n",
    "c2 = circle()\n",
    "c2.setRadius(3)\n",
    "print(c1.getRadius())\n",
    "print(c1.area())\n",
    "print(c2.area())"
   ]
  },
  {
   "cell_type": "code",
   "execution_count": 5,
   "id": "68377de3",
   "metadata": {},
   "outputs": [
    {
     "name": "stdout",
     "output_type": "stream",
     "text": [
      "16\n",
      "36\n"
     ]
    }
   ],
   "source": [
    "s1 = square()\n",
    "s2 = square()\n",
    "s1.setSide(4)\n",
    "s2.setSide(6)\n",
    "\n",
    "print(s1.area())\n",
    "print(s2.area())"
   ]
  },
  {
   "cell_type": "code",
   "execution_count": 6,
   "id": "1893b856",
   "metadata": {},
   "outputs": [],
   "source": [
    "class ShapeCollection():\n",
    "    def __init__(self):\n",
    "        self.shapes = []\n",
    "        \n",
    "    def addShape(self,shape):\n",
    "        self.shapes.append(shape)\n",
    "        \n",
    "    def totalArea(self):\n",
    "        total = 0\n",
    "        for s in self.shapes:\n",
    "            total+=s.area()\n",
    "        return total"
   ]
  },
  {
   "cell_type": "code",
   "execution_count": 7,
   "id": "3ca2fddd",
   "metadata": {},
   "outputs": [
    {
     "name": "stdout",
     "output_type": "stream",
     "text": [
      "[<__main__.circle object at 0x7fb478307a90>, <__main__.circle object at 0x7fb4783070d0>, <__main__.square object at 0x7fb478307490>, <__main__.square object at 0x7fb478307ee0>]\n",
      "\n",
      "\n",
      "\n",
      "158.81415022205297\n"
     ]
    }
   ],
   "source": [
    "shapecollection = ShapeCollection()\n",
    "shapecollection.addShape(c1)\n",
    "shapecollection.addShape(c2)\n",
    "shapecollection.addShape(s1)\n",
    "shapecollection.addShape(s2)\n",
    "\n",
    "print(shapecollection.shapes)\n",
    "print('\\n\\n')\n",
    "print(shapecollection.totalArea())\n"
   ]
  },
  {
   "cell_type": "markdown",
   "id": "e5bbc337",
   "metadata": {},
   "source": [
    "# Calculator Project"
   ]
  },
  {
   "cell_type": "code",
   "execution_count": 11,
   "id": "00b1affb",
   "metadata": {},
   "outputs": [],
   "source": [
    "class Calculator():\n",
    "    def __init__(self, num1, num2):\n",
    "        self.num1 = num1\n",
    "        self.num2 = num2\n",
    "    def add(self):\n",
    "        return num1+num2\n",
    "    def sub(self):\n",
    "        return num1-num2\n",
    "    def multi(self):\n",
    "        return num1*num2\n",
    "    def div(self):\n",
    "        return num1/num2\n",
    "    def mod(self):\n",
    "        return num1%num2\n",
    "    def tr(self):\n",
    "        return 0.5*num1*num2\n",
    "\n",
    "    "
   ]
  },
  {
   "cell_type": "code",
   "execution_count": 15,
   "id": "df778e29",
   "metadata": {},
   "outputs": [
    {
     "name": "stdout",
     "output_type": "stream",
     "text": [
      "Enter First Number: ٤\n",
      "Enter Second Number: ٤\n",
      "Please select one of the following: \n",
      "            =======================================\n",
      "            + for addition\n",
      "            - for subtraction \n",
      "            * for multiplication \n",
      "            / for division\n",
      "            % for modulus\n",
      "            tr to find the area of a triangle\n",
      "            0 to exit\n",
      "            ========================================\n",
      "            Please enter your chosen operator: \n",
      "٠\n",
      "invalid operator\n",
      "0\n",
      "The Program Terminated\n"
     ]
    }
   ],
   "source": [
    "num1 = int(input('Enter First Number: '))\n",
    "num2 = int(input('Enter Second Number: '))\n",
    "print('''Please select one of the following: \n",
    "            =======================================\n",
    "            + for addition\n",
    "            - for subtraction \n",
    "            * for multiplication \n",
    "            / for division\n",
    "            % for modulus\n",
    "            tr to find the area of a triangle\n",
    "            0 to exit\n",
    "            ========================================\n",
    "            Please enter your chosen operator: ''')\n",
    "calc = Calculator(num1,num2)\n",
    "while True: \n",
    "    op = input()\n",
    "    if op == '+':\n",
    "        print(f'The sum is : {calc.add()}')\n",
    "    elif op == '-':\n",
    "        print(f'The subtraction is : {calc.sub()}')\n",
    "    elif op == '*':\n",
    "        print(f'The product is : {calc.multi()}')\n",
    "    elif op == '/':\n",
    "        print(f'The division is : {calc.div()}')\n",
    "    elif op == '%':\n",
    "        print(f'The mod is : {calc.mod()}')\n",
    "    elif op == 'tr':\n",
    "        print(f'The area of the triangle with base: {num1} and height: {num2} is : {calc.tr()}')\n",
    "    elif op == '0':\n",
    "        print('The Program Terminated')\n",
    "        break\n",
    "    else:\n",
    "        print('invalid operator')"
   ]
  },
  {
   "cell_type": "markdown",
   "id": "f268af14",
   "metadata": {},
   "source": [
    "# Quiz Project"
   ]
  },
  {
   "cell_type": "code",
   "execution_count": 48,
   "id": "7932ded7",
   "metadata": {},
   "outputs": [],
   "source": [
    "class Quiz():\n",
    "\n",
    "    def __init__(self,questions):\n",
    "        self.questions = questions\n",
    "        self.totalScore = 0\n",
    "      \n",
    "    def display_question(self):\n",
    "        for q in questions:\n",
    "            print(f\"{q['question']} \\n {q['answers']}\")\n",
    "            answer = input(\"Enter your answer: \")\n",
    "            self.is_correct(answer, q['correct_answer'])\n",
    "        return self.totalScore\n",
    "    \n",
    "    def is_correct(self,useranswer, correctanswer):\n",
    "        if useranswer == correctanswer:\n",
    "            self.totalScore+=20\n",
    "            print('   Your answer is Correct\\n')\n",
    "        else:\n",
    "            print('   Your answer is Incorrect\\n')\n",
    "      "
   ]
  },
  {
   "cell_type": "code",
   "execution_count": 49,
   "id": "f4a4158f",
   "metadata": {},
   "outputs": [
    {
     "name": "stdout",
     "output_type": "stream",
     "text": [
      "How many hours are there in a day? \n",
      " ['18', '24', '12', '06']\n",
      "Enter your answer: 6\n",
      "   Your answer is Incorrect\n",
      "\n",
      "How many letters are there in the English alphabet? \n",
      " ['25', '27', '26', '28']\n",
      "Enter your answer: 26\n",
      "   Your answer is Correct\n",
      "\n",
      "Name the house made of ice? \n",
      " ['Cave', 'Home', 'Igloo', 'Apartment']\n",
      "Enter your answer: j\n",
      "   Your answer is Incorrect\n",
      "\n",
      "Your total Score is 20\n"
     ]
    }
   ],
   "source": [
    "questions = [\n",
    "{\n",
    "    'question': 'How many hours are there in a day?',\n",
    "    'answers': ['18', '24', '12', '06'],\n",
    "    'correct_answer': '24'\n",
    "},\n",
    "{\n",
    "    'question': 'How many letters are there in the English alphabet?',\n",
    "    'answers': ['25', '27', '26', '28'],\n",
    "    'correct_answer': '26'\n",
    "},\n",
    "{\n",
    "    'question': 'Name the house made of ice?',\n",
    "    'answers': ['Cave', 'Home', 'Igloo', 'Apartment'],\n",
    "    'correct_answer': 'Igloo'\n",
    "}\n",
    "]\n",
    "quiz = Quiz(questions)\n",
    "total = quiz.display_question()\n",
    "print(f\"Your total Score is {total}\")"
   ]
  },
  {
   "cell_type": "code",
   "execution_count": null,
   "id": "3f6cd8da",
   "metadata": {},
   "outputs": [],
   "source": []
  }
 ],
 "metadata": {
  "kernelspec": {
   "display_name": "Python 3 (ipykernel)",
   "language": "python",
   "name": "python3"
  },
  "language_info": {
   "codemirror_mode": {
    "name": "ipython",
    "version": 3
   },
   "file_extension": ".py",
   "mimetype": "text/x-python",
   "name": "python",
   "nbconvert_exporter": "python",
   "pygments_lexer": "ipython3",
   "version": "3.9.13"
  }
 },
 "nbformat": 4,
 "nbformat_minor": 5
}
