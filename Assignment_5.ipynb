{
 "cells": [
  {
   "cell_type": "markdown",
   "metadata": {
    "id": "vj3HPudmuzG-"
   },
   "source": [
    "### Task 1"
   ]
  },
  {
   "cell_type": "markdown",
   "metadata": {
    "id": "Qe_S6JKbuXef"
   },
   "source": [
    "This code defines a simple bank system using Python classes. The `Bank class` manages user accounts, balances, registration, login, balance checking, deposits, and withdrawals. Here's a summary of the functionality:\n",
    "\n",
    "`User Registration`: Allows a user to register by entering a unique username and password. If the username already exists, it prompts the user to choose a different one.\n",
    "\n",
    "`User Login`: Allows a registered user to log in by entering their username and password. If the username and password match, the user is logged in successfully.\n",
    "\n",
    "`Check Balance`: Allows a logged-in user to check their current account balance.\n",
    "\n",
    "`Deposit`: Allows a logged-in user to deposit money into their account. The user enters the deposit amount, which is added to their account balance.\n",
    "\n",
    "`Withdrawal`: Allows a logged-in user to withdraw money from their account, provided they have sufficient balance. The user enters the withdrawal amount, which is deducted from their account balance."
   ]
  },
  {
   "cell_type": "code",
   "execution_count": 1,
   "metadata": {},
   "outputs": [],
   "source": [
    "class Bank():\n",
    "    def __init__(self,name):\n",
    "        self.name = name\n",
    "    \n",
    "    def register(self,users,username,password):\n",
    "        for user in users:\n",
    "            if user['username']==username:\n",
    "                print('The username already exists... Try to login instead.')\n",
    "                return users\n",
    "        users.append({'username':username, 'password':password, 'balance':0})\n",
    "        users = self.login(users, username, password)\n",
    "        return users\n",
    "\n",
    "    def login(self, users, username, password):\n",
    "        for user in users:\n",
    "            if user['username'] == username and user['password']==password:\n",
    "                print(f\"\\nWelcome {user['username']}, \")\n",
    "                while True:\n",
    "                    self.menu()\n",
    "                    option = int(input())\n",
    "                    if option==1:\n",
    "                        self.checkBalance(user)\n",
    "                    elif option==2:\n",
    "                        money = int(input('\\n   Enter your money: '))\n",
    "                        user = self.deposit(user, money)\n",
    "                    elif option==3:\n",
    "                        money = int(input('\\n   Enter your Cash: '))\n",
    "                        user = self.withdrawal(user, money)\n",
    "                    elif option==4:\n",
    "                        print(f'Thanks for using {self.name}')\n",
    "                        return users\n",
    "                    else :\n",
    "                        print('Inavailable Option, Please try again')\n",
    "                return users\n",
    "        print('Incorrect username or password')\n",
    "        \n",
    "    \n",
    "    def checkBalance(self,user):\n",
    "        print(f\"Your Current Balance is : {user['balance']}\")\n",
    "    \n",
    "    def deposit(self, user, money):\n",
    "        user['balance']+=money\n",
    "        print('Your money has been deposited')\n",
    "        print(f\"Your Current Balance is : {user['balance']}\")\n",
    "        return user\n",
    "    \n",
    "    def withdrawal(self, user, money):\n",
    "        if money > user['balance']:\n",
    "            print('You dont have enough balance')\n",
    "        else :\n",
    "            user['balance']-=money\n",
    "            print(f\"Your new balance is : {user['balance']} \\n    Dont forget to take your cash\")\n",
    "        return user\n",
    "    def menu(self):\n",
    "        print(f\"\\nPlease enter a process number: \")\n",
    "        print('1- Check Balance')\n",
    "        print('2- Money Deposit')\n",
    "        print('3- Cash Withdraw')\n",
    "        print('4- Cancel')\n",
    "    \n",
    "\n",
    "    \n"
   ]
  },
  {
   "cell_type": "code",
   "execution_count": 2,
   "metadata": {},
   "outputs": [],
   "source": [
    "users = [\n",
    "    {\n",
    "        'username':'menna02',\n",
    "        'password':'123',\n",
    "        'balance':0\n",
    "        \n",
    "    },\n",
    "]\n",
    "bank = Bank('CIB')\n"
   ]
  },
  {
   "cell_type": "code",
   "execution_count": 3,
   "metadata": {},
   "outputs": [],
   "source": [
    "def first_menu():\n",
    "    print(f'Welcome to {bank.name}.')\n",
    "    print('1- New user?')\n",
    "    print('2- Login')\n",
    "    print('3- Cancel')\n",
    "    option = int(input('Please enter an available option: '))\n",
    "    return option\n"
   ]
  },
  {
   "cell_type": "code",
   "execution_count": 4,
   "metadata": {},
   "outputs": [
    {
     "name": "stdout",
     "output_type": "stream",
     "text": [
      "Welcome to CIB.\n",
      "1- New user?\n",
      "2- Login\n",
      "3- Cancel\n",
      "Please enter an available option: 3\n",
      "Thanks for using CIB\n"
     ]
    }
   ],
   "source": [
    "while True:\n",
    "    option = first_menu()\n",
    "    if option == 1:\n",
    "        username = input('Please enter a unique user name to create your account: ')\n",
    "        password = input('Enter a password: ')\n",
    "        users = bank.register(users, username, password)\n",
    "    elif option == 2:\n",
    "        username = input('Enter your username: ')\n",
    "        password = input('Enter your password: ')\n",
    "        users = bank.login(users, username, password)\n",
    "    else:\n",
    "        print(f'Thanks for using {bank.name}')\n",
    "        break\n"
   ]
  },
  {
   "cell_type": "markdown",
   "metadata": {
    "id": "adnMuaiQu1-_"
   },
   "source": [
    "### Task 2"
   ]
  },
  {
   "cell_type": "markdown",
   "metadata": {
    "id": "RacJKaSmvOAc"
   },
   "source": [
    "Defines a class named `Library` that represents a `library` system. The class has attributes for a list of games (gameslist), a dictionary of lenders (lenders), and a dictionary of donors (donors). It also includes methods for managing the library's collection of games.\n",
    "\n",
    "`games` method returns the list of games in the library.\n",
    "\n",
    "The `lend method` allows a person to borrow a game from the library by removing the game from the list of games and updating the lenders dictionary with the borrower's name and the borrowed game.\n",
    "\n",
    "The `returnb method` allows a person to return a borrowed game to the library by adding the game back to the list of games and removing the borrower's name from the lenders dictionary.\n",
    "\n",
    "The `donate method` allows a person to donate a new game to the library by adding the game to the list of games and updating the donors dictionary with the donor's name and the donated game."
   ]
  },
  {
   "cell_type": "code",
   "execution_count": 5,
   "metadata": {
    "id": "9d6mT0weuCr0"
   },
   "outputs": [],
   "source": [
    "class Library():\n",
    "    games_list = ['uno','monopoly','screw','chess']\n",
    "    lenders = []\n",
    "    donors = []\n",
    "    def __init__(self, name):\n",
    "        self.name = name\n",
    "    \n",
    "    def lend(self,person,game):\n",
    "        if game in self.games_list:\n",
    "            self.lenders.append({'name':person, 'game':game})\n",
    "            self.games_list.remove(game)\n",
    "            print('The game is yours now, Enjoy playing it')\n",
    "        else:\n",
    "            print('Someone else has the game.. SORRY')\n",
    "    \n",
    "    def return_game(self, person, game):\n",
    "        for lender in self.lenders:\n",
    "            if lender['name'] == person:\n",
    "                self.games_list.append(game)\n",
    "                self.lenders.remove(lender)\n",
    "                print('Thanks for returning it back, See you soon!')\n",
    "    def donate(self, person, game):\n",
    "        self.donors.append({'name':person, 'game':game})\n",
    "        self.games_list.append(game)\n",
    "        print('Thanks for your donation')\n",
    "        "
   ]
  },
  {
   "cell_type": "code",
   "execution_count": 6,
   "metadata": {},
   "outputs": [],
   "source": [
    "library = Library('Maadi')"
   ]
  },
  {
   "cell_type": "code",
   "execution_count": 7,
   "metadata": {},
   "outputs": [],
   "source": [
    "def library_menu():\n",
    "    print('\\n\\nEnter a servive number from the following: ')\n",
    "    print('1- Borrow a game')\n",
    "    print('2- Return a game')\n",
    "    print('3- Donate a game')\n",
    "    print('4- Cancel')\n",
    "    return int(input())"
   ]
  },
  {
   "cell_type": "code",
   "execution_count": 9,
   "metadata": {},
   "outputs": [
    {
     "name": "stdout",
     "output_type": "stream",
     "text": [
      "Welcome to Maadi Library\n",
      "\n",
      "\n",
      "Enter a servive number from the following: \n",
      "1- Borrow a game\n",
      "2- Return a game\n",
      "3- Donate a game\n",
      "4- Cancel\n",
      "4\n",
      "Thanks for using our Library System\n"
     ]
    }
   ],
   "source": [
    "print(f'Welcome to {library.name} Library')\n",
    "while True:\n",
    "    option = library_menu()\n",
    "    if option == 1:\n",
    "        name = input('Enter your Name: ')\n",
    "        game = input('Enter the game name: ')\n",
    "        library.lend(name, game)\n",
    "    elif option == 2:\n",
    "        name = input('Enter your Name: ')\n",
    "        game = input('Enter the game name: ')\n",
    "        library.return_game(name, game)\n",
    "    elif option == 3:\n",
    "        name = input('Enter your Name: ')\n",
    "        game = input('Enter the game name: ')\n",
    "        library.donate(name, game)\n",
    "    else:\n",
    "        print('Thanks for using our Library System')\n",
    "        break\n"
   ]
  },
  {
   "cell_type": "code",
   "execution_count": null,
   "metadata": {},
   "outputs": [],
   "source": []
  }
 ],
 "metadata": {
  "colab": {
   "private_outputs": true,
   "provenance": []
  },
  "kernelspec": {
   "display_name": "Python 3 (ipykernel)",
   "language": "python",
   "name": "python3"
  },
  "language_info": {
   "codemirror_mode": {
    "name": "ipython",
    "version": 3
   },
   "file_extension": ".py",
   "mimetype": "text/x-python",
   "name": "python",
   "nbconvert_exporter": "python",
   "pygments_lexer": "ipython3",
   "version": "3.9.13"
  }
 },
 "nbformat": 4,
 "nbformat_minor": 1
}
