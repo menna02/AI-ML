{
 "cells": [
  {
   "cell_type": "markdown",
   "metadata": {
    "id": "7rMJIubZGObP"
   },
   "source": [
    "#### Multiply 10 with 5, and print the result.\n",
    "\n"
   ]
  },
  {
   "cell_type": "code",
   "execution_count": 1,
   "metadata": {},
   "outputs": [
    {
     "name": "stdout",
     "output_type": "stream",
     "text": [
      "50\n"
     ]
    }
   ],
   "source": [
    "print(10*5)"
   ]
  },
  {
   "cell_type": "markdown",
   "metadata": {
    "id": "Mucrs9f5GYw3"
   },
   "source": [
    "### Divide 10 by 2, and print the result.\n",
    "\n"
   ]
  },
  {
   "cell_type": "code",
   "execution_count": 2,
   "metadata": {},
   "outputs": [
    {
     "name": "stdout",
     "output_type": "stream",
     "text": [
      "5.0\n"
     ]
    }
   ],
   "source": [
    "print(10/2)"
   ]
  },
  {
   "cell_type": "markdown",
   "metadata": {
    "id": "GhvrFFPxGkLF"
   },
   "source": [
    "### Use the correct membership operator to check if \"apple\" is present in the fruits object.\n",
    "\n"
   ]
  },
  {
   "cell_type": "code",
   "execution_count": 3,
   "metadata": {},
   "outputs": [
    {
     "name": "stdout",
     "output_type": "stream",
     "text": [
      "True\n"
     ]
    }
   ],
   "source": [
    "fruits = ['orange' , 'banana', 'apple']\n",
    "print('apple' in fruits)"
   ]
  },
  {
   "cell_type": "markdown",
   "metadata": {
    "id": "71TfNEQxGuNw"
   },
   "source": [
    "### Use the correct comparison operator to check if 5 is `not equal` to 10.\n",
    "\n"
   ]
  },
  {
   "cell_type": "code",
   "execution_count": 4,
   "metadata": {},
   "outputs": [
    {
     "name": "stdout",
     "output_type": "stream",
     "text": [
      "True\n"
     ]
    }
   ],
   "source": [
    "print(5!=10)"
   ]
  },
  {
   "cell_type": "markdown",
   "metadata": {
    "id": "_cqga3VjG9jJ"
   },
   "source": [
    "### Use the correct logical operator to check if at least one of two statements is `True`.\n",
    "\n"
   ]
  },
  {
   "cell_type": "code",
   "execution_count": 5,
   "metadata": {},
   "outputs": [
    {
     "name": "stdout",
     "output_type": "stream",
     "text": [
      "True\n"
     ]
    }
   ],
   "source": [
    "print(True or False)"
   ]
  },
  {
   "cell_type": "markdown",
   "metadata": {
    "id": "gvFm9RC4H2BJ"
   },
   "source": [
    "### Print the second item in the fruits list.\n",
    "\n"
   ]
  },
  {
   "cell_type": "code",
   "execution_count": 6,
   "metadata": {},
   "outputs": [
    {
     "name": "stdout",
     "output_type": "stream",
     "text": [
      "banana\n"
     ]
    }
   ],
   "source": [
    "print(fruits[1])"
   ]
  },
  {
   "cell_type": "markdown",
   "metadata": {
    "id": "_o7i99HGICNC"
   },
   "source": [
    "### Change the value from \"apple\" to \"kiwi\", in the fruits list.\n",
    "\n"
   ]
  },
  {
   "cell_type": "code",
   "execution_count": 8,
   "metadata": {},
   "outputs": [
    {
     "name": "stdout",
     "output_type": "stream",
     "text": [
      "['orange', 'banana', 'kiwi']\n"
     ]
    }
   ],
   "source": [
    "fruits[2] = 'kiwi'\n",
    "print(fruits)"
   ]
  },
  {
   "cell_type": "markdown",
   "metadata": {
    "id": "Wxi383HNILra"
   },
   "source": [
    "### Use the append method to add \"orange\" to the fruits list.\n",
    "\n"
   ]
  },
  {
   "cell_type": "code",
   "execution_count": 10,
   "metadata": {},
   "outputs": [
    {
     "data": {
      "text/plain": [
       "['orange', 'banana', 'kiwi', 'orange', 'orange']"
      ]
     },
     "execution_count": 10,
     "metadata": {},
     "output_type": "execute_result"
    }
   ],
   "source": [
    "fruits.append('orange')\n",
    "fruits"
   ]
  },
  {
   "cell_type": "markdown",
   "metadata": {
    "id": "z6tv8q6zIUjZ"
   },
   "source": [
    "### Use the insert method to add \"lemon\" as the second item in the fruits list.\n",
    "\n"
   ]
  },
  {
   "cell_type": "code",
   "execution_count": 11,
   "metadata": {},
   "outputs": [
    {
     "data": {
      "text/plain": [
       "['orange', 'lemon', 'banana', 'kiwi', 'orange', 'orange']"
      ]
     },
     "execution_count": 11,
     "metadata": {},
     "output_type": "execute_result"
    }
   ],
   "source": [
    "fruits.insert(1,'lemon')\n",
    "fruits"
   ]
  },
  {
   "cell_type": "markdown",
   "metadata": {
    "id": "CsyceyyBIiSw"
   },
   "source": [
    "### Use the remove method to remove `\"banana\"` from the fruits list.\n",
    "\n"
   ]
  },
  {
   "cell_type": "code",
   "execution_count": 12,
   "metadata": {},
   "outputs": [
    {
     "data": {
      "text/plain": [
       "['orange', 'lemon', 'kiwi', 'orange', 'orange']"
      ]
     },
     "execution_count": 12,
     "metadata": {},
     "output_type": "execute_result"
    }
   ],
   "source": [
    "fruits.remove('banana')\n",
    "fruits"
   ]
  },
  {
   "cell_type": "markdown",
   "metadata": {
    "id": "0fbTHlYrIrwY"
   },
   "source": [
    "### Use negative indexing to print the last item in the list.\n",
    "\n"
   ]
  },
  {
   "cell_type": "code",
   "execution_count": 13,
   "metadata": {},
   "outputs": [
    {
     "name": "stdout",
     "output_type": "stream",
     "text": [
      "orange\n"
     ]
    }
   ],
   "source": [
    "print(fruits[-1])"
   ]
  },
  {
   "cell_type": "markdown",
   "metadata": {
    "id": "rR3ORmMVI55Z"
   },
   "source": [
    "### Use a range of indexes to print the third, fourth, and fifth item in the list.\n",
    "\n"
   ]
  },
  {
   "cell_type": "code",
   "execution_count": 14,
   "metadata": {},
   "outputs": [
    {
     "name": "stdout",
     "output_type": "stream",
     "text": [
      "['kiwi', 'orange', 'orange']\n"
     ]
    }
   ],
   "source": [
    "print(fruits[2:5])"
   ]
  },
  {
   "cell_type": "markdown",
   "metadata": {
    "id": "tc0ZAGQ2JfM9"
   },
   "source": [
    "### Use the correct syntax to print the number of items in the list.\n",
    "\n"
   ]
  },
  {
   "cell_type": "code",
   "execution_count": 15,
   "metadata": {},
   "outputs": [
    {
     "name": "stdout",
     "output_type": "stream",
     "text": [
      "5\n"
     ]
    }
   ],
   "source": [
    "print(len(fruits))"
   ]
  },
  {
   "cell_type": "markdown",
   "metadata": {
    "id": "feYJq0vYKe1S"
   },
   "source": [
    "### Write a Python program to print all even numbers from a given list of numbers in the same order and stop printing any after 237 in the sequence."
   ]
  },
  {
   "cell_type": "code",
   "execution_count": 16,
   "metadata": {},
   "outputs": [
    {
     "name": "stdout",
     "output_type": "stream",
     "text": [
      "386\n",
      "462\n",
      "418\n",
      "344\n",
      "236\n",
      "566\n",
      "978\n",
      "328\n",
      "162\n",
      "758\n",
      "918\n"
     ]
    }
   ],
   "source": [
    "numbers = [\n",
    "386, 462, 47, 418, 907, 344, 236, 375, 823, 566, 597, 978, 328, 615, 953, 345,\n",
    "399, 162, 758, 219, 918, 237, 412, 566, 826, 248, 866, 950, 626, 949, 687, 217,\n",
    "815, 67, 104, 58, 512, 24, 892, 894, 767, 553, 81, 379, 843, 831, 445, 742, 717,\n",
    "958,743, 527\n",
    "]\n",
    "for i in numbers:\n",
    "    if i == 237:\n",
    "        break\n",
    "    if i%2==0:\n",
    "        print(i)"
   ]
  },
  {
   "cell_type": "markdown",
   "metadata": {
    "id": "ec1qLM7DKnea"
   },
   "source": [
    "#### numbers = [    \n",
    "    386, 462, 47, 418, 907, 344, 236, 375, 823, 566, 597, 978, 328, 615, 953, 345,\n",
    "    399, 162, 758, 219, 918, 237, 412, 566, 826, 248, 866, 950, 626, 949, 687, 217,\n",
    "    815, 67, 104, 58, 512, 24, 892, 894, 767, 553, 81, 379, 843, 831, 445, 742, 717,\n",
    "    958,743, 527\n",
    "    ]"
   ]
  },
  {
   "cell_type": "markdown",
   "metadata": {
    "id": "FX6mi5tqLb5J"
   },
   "source": [
    "### Write a Python program that will accept the base and height of a triangle and compute its area.\n",
    "\n"
   ]
  },
  {
   "cell_type": "markdown",
   "metadata": {
    "id": "mt1FKNPYLN0I"
   },
   "source": [
    "<img src=\"https://www.w3resource.com/w3r_images/python-area-triangle-basic-exercise-30.png\" alt=\"Girl in a jacket\" width=\"500\" height=\"600\">\n"
   ]
  },
  {
   "cell_type": "code",
   "execution_count": 17,
   "metadata": {},
   "outputs": [
    {
     "name": "stdout",
     "output_type": "stream",
     "text": [
      "10.0\n"
     ]
    }
   ],
   "source": [
    "def area (base , height):\n",
    "    return 0.5 * base * height\n",
    "print(area(5,4))"
   ]
  },
  {
   "cell_type": "markdown",
   "metadata": {
    "id": "tP7gY2ZCPxnU"
   },
   "source": [
    "### Sort three integers without using conditional statements\n",
    "\n"
   ]
  },
  {
   "cell_type": "markdown",
   "metadata": {
    "id": "Xwy7VRdJPtxN"
   },
   "source": [
    "<img src=\"https://www.w3resource.com/w3r_images/python-basic-image-exercise-69.png\" alt=\"Girl in a jacket\" width=\"500\" height=\"600\">\n"
   ]
  },
  {
   "cell_type": "code",
   "execution_count": 23,
   "metadata": {},
   "outputs": [
    {
     "name": "stdout",
     "output_type": "stream",
     "text": [
      "5 3 2\n"
     ]
    }
   ],
   "source": [
    "num1 = 2\n",
    "num2 = 5\n",
    "num3 = 3\n",
    "max_num = max(num1,max(num2,num3))\n",
    "min_num = min(num1,min(num2,num3))\n",
    "middle = num1 + num2 + num3 - max_num - min_num\n",
    "print(max_num,middle,min_num)"
   ]
  },
  {
   "cell_type": "markdown",
   "metadata": {
    "id": "zNKNtPGrRbvr"
   },
   "source": [
    "### Sort three integers :using conditional statements\n",
    "\n",
    "\n",
    "\n"
   ]
  },
  {
   "cell_type": "code",
   "execution_count": 24,
   "metadata": {},
   "outputs": [
    {
     "name": "stdout",
     "output_type": "stream",
     "text": [
      "5 3 2\n"
     ]
    }
   ],
   "source": [
    "if num1>num2 and num1>num3:\n",
    "    max_num = num1\n",
    "    if num2>num3:\n",
    "        min_num = num3\n",
    "        middle = num2\n",
    "    else:\n",
    "        min_num = num2\n",
    "        middle = num3\n",
    "elif num2>num1 and num2>num3:\n",
    "    max_num = num2\n",
    "    if num1>num3:\n",
    "        min_num = num3\n",
    "        middle = num1\n",
    "    else:\n",
    "        min_num = num1\n",
    "        middle = num3\n",
    "else:\n",
    "    max_num = num3\n",
    "    if num1>num2:\n",
    "        min_num = num2\n",
    "        middle = num1\n",
    "    else:\n",
    "        min_num = num1\n",
    "        middle = num2\n",
    "print(max_num,middle,min_num)"
   ]
  },
  {
   "cell_type": "markdown",
   "metadata": {
    "id": "nn6opiI8Uj1-"
   },
   "source": [
    "#### Write a Python function that takes a sequence of numbers and determines whether all the numbers are different from each other."
   ]
  },
  {
   "cell_type": "code",
   "execution_count": 26,
   "metadata": {},
   "outputs": [],
   "source": [
    "def unique(*nums):\n",
    "    u_set = set(nums)\n",
    "    return len(u_set) == len(nums)"
   ]
  },
  {
   "cell_type": "code",
   "execution_count": 28,
   "metadata": {},
   "outputs": [
    {
     "data": {
      "text/plain": [
       "False"
      ]
     },
     "execution_count": 28,
     "metadata": {},
     "output_type": "execute_result"
    }
   ],
   "source": [
    "unique(2,4,5,5,7,9)"
   ]
  },
  {
   "cell_type": "markdown",
   "metadata": {
    "id": "9LQTVtiGVJ9r"
   },
   "source": [
    "<img src=\"https://www.w3resource.com/w3r_images/python-basic-1-image-exercise-1.png\" alt=\"Girl in a jacket\" width=\"500\" height=\"600\">\n"
   ]
  },
  {
   "cell_type": "markdown",
   "metadata": {
    "id": "HHNeCzCWa3lx"
   },
   "source": [
    "#### Dictionary"
   ]
  },
  {
   "cell_type": "code",
   "execution_count": null,
   "metadata": {
    "colab": {
     "base_uri": "https://localhost:8080/"
    },
    "id": "WOrfDlTla-Lf",
    "outputId": "76889e97-c736-490b-d105-61ee74cfb137"
   },
   "outputs": [
    {
     "data": {
      "text/plain": [
       "['a', 'b', 'c']"
      ]
     },
     "execution_count": 27,
     "metadata": {},
     "output_type": "execute_result"
    }
   ],
   "source": [
    "dict1 = {'a': 100, 'b': 200, 'c': 300}\n",
    "list(dict1.keys())"
   ]
  },
  {
   "cell_type": "code",
   "execution_count": null,
   "metadata": {
    "colab": {
     "base_uri": "https://localhost:8080/"
    },
    "id": "DAdr9gOQbDng",
    "outputId": "578f6680-f1e7-49cb-eaa0-bec2445dde2d"
   },
   "outputs": [
    {
     "data": {
      "text/plain": [
       "[200, 300]"
      ]
     },
     "execution_count": 28,
     "metadata": {},
     "output_type": "execute_result"
    }
   ],
   "source": [
    "dict1 = {'a': 100, 'a': 200, 'c': 300}\n",
    "list(dict1.values())"
   ]
  },
  {
   "cell_type": "code",
   "execution_count": 31,
   "metadata": {
    "colab": {
     "base_uri": "https://localhost:8080/"
    },
    "id": "XzjcaUpqbMGc",
    "outputId": "f18592a5-dee7-41ae-8f01-621dc6a44b0f"
   },
   "outputs": [
    {
     "data": {
      "text/plain": [
       "[('a', 200), ('c', 300)]"
      ]
     },
     "execution_count": 31,
     "metadata": {},
     "output_type": "execute_result"
    }
   ],
   "source": [
    "dict1 = {'a': 100, 'a': 200, 'c': 300}\n",
    "list(dict1.items())"
   ]
  },
  {
   "cell_type": "markdown",
   "metadata": {
    "id": "6c1ld1XoZ_RK"
   },
   "source": [
    "```\n",
    "Input : {‘a’: 100, ‘b’:200, ‘c’:300}\n",
    "```\n",
    "Output : 600\n",
    "```\n",
    "# Input : {‘x’: 25, ‘y’:18, ‘z’:45}\n",
    "\n",
    "```\n",
    "Output : 88"
   ]
  },
  {
   "cell_type": "code",
   "execution_count": 29,
   "metadata": {
    "colab": {
     "base_uri": "https://localhost:8080/"
    },
    "id": "tXhL4XGdR6oE",
    "outputId": "47586d5b-1486-4989-d409-5f9b53d066f6"
   },
   "outputs": [
    {
     "name": "stdout",
     "output_type": "stream",
     "text": [
      "15\n",
      "15\n",
      "15\n",
      "15\n"
     ]
    }
   ],
   "source": [
    "print(sum([0,1,2,3,4,5]))\n",
    "print(sum((0,1,2,3,4,5)))\n",
    "print(sum({0,1,2,3,4,5}))\n",
    "print(sum({5:5,10:11}))"
   ]
  },
  {
   "cell_type": "markdown",
   "metadata": {
    "id": "6BJBp-omBEnB"
   },
   "source": [
    "### Python program to find the sum of all values in a dictionary\n"
   ]
  },
  {
   "cell_type": "code",
   "execution_count": 32,
   "metadata": {},
   "outputs": [
    {
     "name": "stdout",
     "output_type": "stream",
     "text": [
      "500\n"
     ]
    }
   ],
   "source": [
    "print(sum(dict1.values()))"
   ]
  },
  {
   "cell_type": "markdown",
   "metadata": {
    "id": "LcvPYHMNb3KI"
   },
   "source": [
    "### Filter the negative values from given dictionary"
   ]
  },
  {
   "cell_type": "code",
   "execution_count": 44,
   "metadata": {},
   "outputs": [
    {
     "data": {
      "text/plain": [
       "{'a': 1, 'c': 1}"
      ]
     },
     "execution_count": 44,
     "metadata": {},
     "output_type": "execute_result"
    }
   ],
   "source": [
    "dict1 = {'a':1 , 'b':-5 , 'c':1}\n",
    "dict1 = {key:value for key,value in dict1.items() if value>0}\n",
    "dict1"
   ]
  },
  {
   "cell_type": "markdown",
   "metadata": {
    "id": "zIj0KxvgIO58"
   },
   "source": [
    "### Test if all Values are Same in Dictionary"
   ]
  },
  {
   "cell_type": "markdown",
   "metadata": {
    "id": "-aCAiR5mktpN"
   },
   "source": [
    "### test_dict = {\"Gfg\": 8, \"is\": 5, \"Best\": 5}\n",
    "### False"
   ]
  },
  {
   "cell_type": "code",
   "execution_count": 47,
   "metadata": {},
   "outputs": [
    {
     "name": "stdout",
     "output_type": "stream",
     "text": [
      "False\n"
     ]
    }
   ],
   "source": [
    "test_dict = {\"Gfg\": 8, \"is\": 5, \"Best\": 5}\n",
    "print(len(set(test_dict.values()))==1)"
   ]
  },
  {
   "cell_type": "markdown",
   "metadata": {
    "id": "PG5Z5JNJMLTi"
   },
   "source": [
    "# `any`"
   ]
  },
  {
   "cell_type": "code",
   "execution_count": 52,
   "metadata": {
    "colab": {
     "base_uri": "https://localhost:8080/"
    },
    "id": "42838XSZMPoh",
    "outputId": "e8cb1f25-4cfb-4b2e-b77a-b3f6d8d33348"
   },
   "outputs": [
    {
     "name": "stdout",
     "output_type": "stream",
     "text": [
      "True\n"
     ]
    }
   ],
   "source": [
    "mylist = [False, True, False]\n",
    "x = any(mylist)\n",
    "print(x)\n"
   ]
  },
  {
   "cell_type": "code",
   "execution_count": 50,
   "metadata": {
    "colab": {
     "base_uri": "https://localhost:8080/"
    },
    "id": "jMcpwFY0MonY",
    "outputId": "b938cb79-c73e-452c-cc21-80b614560020"
   },
   "outputs": [
    {
     "name": "stdout",
     "output_type": "stream",
     "text": [
      "True\n"
     ]
    }
   ],
   "source": [
    "mydict = {0 : \"Apple\", 1 : \"Orange\"}\n",
    "x = any(mydict)\n",
    "print(x)"
   ]
  },
  {
   "cell_type": "code",
   "execution_count": 54,
   "metadata": {
    "colab": {
     "base_uri": "https://localhost:8080/"
    },
    "id": "sDyzrjk5MuOl",
    "outputId": "1a49c77a-6951-44f0-e799-1c77bf610544"
   },
   "outputs": [
    {
     "name": "stdout",
     "output_type": "stream",
     "text": [
      "False\n"
     ]
    }
   ],
   "source": [
    "mydict = {0 : 1, 0 : 2}\n",
    "x = any(mydict)\n",
    "print(x)"
   ]
  },
  {
   "cell_type": "markdown",
   "metadata": {
    "id": "hrg9MKDKMb0Y"
   },
   "source": [
    "#### <font color='light-blue'>Note: When used on a dictionary, the any() function checks if any of the ''key'' are true, not the values.</font>\n",
    "\n",
    "\n"
   ]
  },
  {
   "cell_type": "markdown",
   "metadata": {
    "id": "RXYELJ29BVOm"
   },
   "source": [
    "### Test if vlaue input  in dictionary value"
   ]
  },
  {
   "cell_type": "code",
   "execution_count": 56,
   "metadata": {},
   "outputs": [
    {
     "name": "stdout",
     "output_type": "stream",
     "text": [
      "4\n",
      "False\n"
     ]
    }
   ],
   "source": [
    "inp = int(input())\n",
    "print(inp in mydict.values())"
   ]
  },
  {
   "cell_type": "markdown",
   "metadata": {
    "id": "3GT4F80UOaTa"
   },
   "source": [
    "### Calculate the sum of all numbers from 0 to a given number"
   ]
  },
  {
   "cell_type": "code",
   "execution_count": 59,
   "metadata": {},
   "outputs": [
    {
     "name": "stdout",
     "output_type": "stream",
     "text": [
      "Enter number: 5\n",
      "10\n"
     ]
    }
   ],
   "source": [
    "num = int(input('Enter number: '))\n",
    "sum = 0\n",
    "for i in range(0,num):\n",
    "    sum+=i\n",
    "print(sum)"
   ]
  },
  {
   "cell_type": "markdown",
   "metadata": {
    "id": "1tHglDPNUT5J"
   },
   "source": [
    "### Find the factorial of a given number using while loop"
   ]
  },
  {
   "cell_type": "markdown",
   "metadata": {
    "id": "QT1487BDVCIU"
   },
   "source": [
    "#### For example: calculate the factorial of 5\n",
    "\n"
   ]
  },
  {
   "cell_type": "markdown",
   "metadata": {
    "id": "FCTJ9pt_VE-y"
   },
   "source": [
    "\n",
    "\n",
    "```\n",
    "# 5! = 5 × 4 × 3 × 2 × 1 = 120\n",
    "\n",
    "```\n",
    "\n"
   ]
  },
  {
   "cell_type": "code",
   "execution_count": 61,
   "metadata": {},
   "outputs": [
    {
     "name": "stdout",
     "output_type": "stream",
     "text": [
      "Enter number: 5\n",
      "120\n"
     ]
    }
   ],
   "source": [
    "num = int(input('Enter number: '))\n",
    "fact = 1\n",
    "i =1\n",
    "while i<=num:\n",
    "    fact*=i\n",
    "    i+=1\n",
    "print(fact)"
   ]
  },
  {
   "cell_type": "markdown",
   "metadata": {
    "id": "q_f9IMbDYkLm"
   },
   "source": [
    "### Use a loop to display elements from a given list present at odd index positions"
   ]
  },
  {
   "cell_type": "markdown",
   "metadata": {
    "id": "Q9gHbx7XZBFc"
   },
   "source": [
    "```\n",
    "my_list = [10, 20, 30, 40, 50, 60, 70, 80, 90, 100]\n",
    "Expected output:\n",
    "20 40 60 80 100\n",
    "```\n",
    "\n"
   ]
  },
  {
   "cell_type": "code",
   "execution_count": 62,
   "metadata": {},
   "outputs": [
    {
     "name": "stdout",
     "output_type": "stream",
     "text": [
      "20\n",
      "40\n",
      "60\n",
      "80\n",
      "100\n"
     ]
    }
   ],
   "source": [
    "my_list = [10, 20, 30, 40, 50, 60, 70, 80, 90, 100]\n",
    "for i in range(0,len(my_list)):\n",
    "    if i%2==1:\n",
    "        print(my_list[i])\n",
    "        "
   ]
  },
  {
   "cell_type": "markdown",
   "metadata": {
    "id": "otJlQghGZZnk"
   },
   "source": [
    "### Calculate the cube of all numbers from 1 to a given number"
   ]
  },
  {
   "cell_type": "code",
   "execution_count": 66,
   "metadata": {},
   "outputs": [
    {
     "name": "stdout",
     "output_type": "stream",
     "text": [
      "Enter number: 5\n",
      "[1, 8, 27, 64, 125]\n"
     ]
    }
   ],
   "source": [
    "num = int(input('Enter number: '))\n",
    "print([i*i*i for i in range(1,num+1)])"
   ]
  },
  {
   "cell_type": "markdown",
   "metadata": {
    "id": "NRZ3LLaUmtQu"
   },
   "source": [
    "### len of str in list\n",
    "### ['apple', 'orange', 'cat']"
   ]
  },
  {
   "cell_type": "code",
   "execution_count": null,
   "metadata": {
    "colab": {
     "base_uri": "https://localhost:8080/"
    },
    "id": "bIhFj4Q8ZlrW",
    "outputId": "c7a2f25b-b6c4-4289-a9c3-91b8504ed81a"
   },
   "outputs": [
    {
     "name": "stdout",
     "output_type": "stream",
     "text": [
      "[5, 6, 3]\n"
     ]
    }
   ],
   "source": [
    "l = ['apple', 'orange', 'cat']\n",
    "print([ len(i) for i in l])\n"
   ]
  },
  {
   "cell_type": "markdown",
   "metadata": {
    "id": "V05BjYlMeMjZ"
   },
   "source": [
    "### program to count number of vowels using sets in given string\n"
   ]
  },
  {
   "cell_type": "code",
   "execution_count": 68,
   "metadata": {},
   "outputs": [
    {
     "data": {
      "text/plain": [
       "6"
      ]
     },
     "execution_count": 68,
     "metadata": {},
     "output_type": "execute_result"
    }
   ],
   "source": [
    "s = 'mennaaaaa'\n",
    "v = {'a','e','i','o','u'}\n",
    "total_vowels = 0\n",
    "for i in v:\n",
    "    total_vowels+=s.count(i)\n",
    "total_vowels"
   ]
  },
  {
   "cell_type": "markdown",
   "metadata": {
    "id": "rdIZGB8kgcMQ"
   },
   "source": [
    "\n",
    "### Write a Python program to add an item to a tuple."
   ]
  },
  {
   "cell_type": "code",
   "execution_count": 76,
   "metadata": {},
   "outputs": [
    {
     "data": {
      "text/plain": [
       "(1, 2, 4, 5, 6)"
      ]
     },
     "execution_count": 76,
     "metadata": {},
     "output_type": "execute_result"
    }
   ],
   "source": [
    "t = (1,2,4,5)\n",
    "t2 = t + (6,)\n",
    "t2"
   ]
  },
  {
   "cell_type": "markdown",
   "metadata": {
    "id": "NpZ-cEhZkSlO"
   },
   "source": [
    "### Write a Python program to multiply all the items in a list."
   ]
  },
  {
   "cell_type": "code",
   "execution_count": 77,
   "metadata": {},
   "outputs": [
    {
     "name": "stdout",
     "output_type": "stream",
     "text": [
      "2100\n"
     ]
    }
   ],
   "source": [
    "list1 = [1,5,7,3,4,5]\n",
    "total = 1\n",
    "for i in list1:\n",
    "    total *=i\n",
    "print(total)"
   ]
  },
  {
   "cell_type": "markdown",
   "metadata": {
    "id": "2fwBrTI1k1XG"
   },
   "source": [
    "### Write a Python program to get the smallest number from a list."
   ]
  },
  {
   "cell_type": "code",
   "execution_count": 78,
   "metadata": {},
   "outputs": [
    {
     "name": "stdout",
     "output_type": "stream",
     "text": [
      "1\n"
     ]
    }
   ],
   "source": [
    "min_num = 1000000\n",
    "for i in list1:\n",
    "    if i<min_num:\n",
    "        min_num=i\n",
    "print(min_num)"
   ]
  },
  {
   "cell_type": "markdown",
   "metadata": {
    "id": "-k8pdXDek5IW"
   },
   "source": [
    "### Write a Python program to get the largest number from a list."
   ]
  },
  {
   "cell_type": "code",
   "execution_count": 79,
   "metadata": {},
   "outputs": [
    {
     "name": "stdout",
     "output_type": "stream",
     "text": [
      "7\n"
     ]
    }
   ],
   "source": [
    "max_num = -1000000\n",
    "for i in list1:\n",
    "    if i>max_num:\n",
    "        max_num=i\n",
    "print(max_num)"
   ]
  },
  {
   "cell_type": "markdown",
   "metadata": {
    "id": "xY1nqjlSlC7b"
   },
   "source": [
    "### Write a Python program to clone or copy a list"
   ]
  },
  {
   "cell_type": "code",
   "execution_count": 80,
   "metadata": {},
   "outputs": [
    {
     "name": "stdout",
     "output_type": "stream",
     "text": [
      "[1, 5, 7, 3, 4, 5]\n"
     ]
    }
   ],
   "source": [
    "list2 = list1\n",
    "print(list2)"
   ]
  },
  {
   "cell_type": "markdown",
   "metadata": {
    "id": "48pndthSlHSg"
   },
   "source": [
    "### Write a Python program to remove item(s) from a given set.\n",
    "\n",
    "### s = set([0, 1, 3, 4, 5])"
   ]
  },
  {
   "cell_type": "code",
   "execution_count": 81,
   "metadata": {},
   "outputs": [
    {
     "data": {
      "text/plain": [
       "{1, 3, 4, 5}"
      ]
     },
     "execution_count": 81,
     "metadata": {},
     "output_type": "execute_result"
    }
   ],
   "source": [
    "s = set([0, 1, 3, 4, 5])\n",
    "s.remove(0)\n",
    "s"
   ]
  },
  {
   "cell_type": "markdown",
   "metadata": {
    "id": "J5nHkSQ4lmlq"
   },
   "source": [
    "### Write a Python program to find the maximum and minimum values in a set."
   ]
  },
  {
   "cell_type": "code",
   "execution_count": 83,
   "metadata": {},
   "outputs": [
    {
     "name": "stdout",
     "output_type": "stream",
     "text": [
      "1 5\n"
     ]
    }
   ],
   "source": [
    "l = sorted(s)\n",
    "print(l[0],l[-1])"
   ]
  },
  {
   "cell_type": "markdown",
   "metadata": {
    "id": "ZDEKN9ulnLZO"
   },
   "source": [
    "### Write a Python program to convert a tuple to a dictionary.\n",
    "### dict1 = {}\n",
    "### tuple1 = (\"name\", \"age\", \"city\",\"city\")\n",
    "\n",
    "```\n",
    "# enumerate()\n",
    "```\n",
    "\n"
   ]
  },
  {
   "cell_type": "code",
   "execution_count": 89,
   "metadata": {},
   "outputs": [
    {
     "data": {
      "text/plain": [
       "{0: 'name', 1: 'age', 2: 'city', 3: 'city'}"
      ]
     },
     "execution_count": 89,
     "metadata": {},
     "output_type": "execute_result"
    }
   ],
   "source": [
    "dict1 = {}\n",
    "tuple1 = (\"name\", \"age\", \"city\",\"city\")\n",
    "for k,v in enumerate(tuple1):\n",
    "    dict1[k]=v\n",
    "dict1"
   ]
  },
  {
   "cell_type": "markdown",
   "metadata": {
    "id": "UN1IZCJHsWcX"
   },
   "source": [
    "### Write a Python program to replace the last value of tuples in a list.\n",
    "\n",
    "### Sample list: [(10, 20, 40), (40, 50, 60), (70, 80, 90)]\n",
    "\n",
    "### Expected Output: [(10, 20, 100), (40, 50, 100), (70, 80, 100)]\n",
    "\n"
   ]
  },
  {
   "cell_type": "code",
   "execution_count": 92,
   "metadata": {},
   "outputs": [
    {
     "data": {
      "text/plain": [
       "[(10, 20, 100), (40, 50, 100), (70, 80, 100)]"
      ]
     },
     "execution_count": 92,
     "metadata": {},
     "output_type": "execute_result"
    }
   ],
   "source": [
    "sample= [(10, 20, 40), (40, 50, 60), (70, 80, 90)]\n",
    "new = [(x, y, 100) for x, y, z in sample ]\n",
    "new"
   ]
  }
 ],
 "metadata": {
  "colab": {
   "provenance": []
  },
  "kernelspec": {
   "display_name": "Python 3 (ipykernel)",
   "language": "python",
   "name": "python3"
  },
  "language_info": {
   "codemirror_mode": {
    "name": "ipython",
    "version": 3
   },
   "file_extension": ".py",
   "mimetype": "text/x-python",
   "name": "python",
   "nbconvert_exporter": "python",
   "pygments_lexer": "ipython3",
   "version": "3.9.13"
  }
 },
 "nbformat": 4,
 "nbformat_minor": 1
}
