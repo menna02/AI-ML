{
 "cells": [
  {
   "cell_type": "markdown",
   "id": "84c65635",
   "metadata": {},
   "source": [
    "## 1. Write a NumPy program to test whether none of the elements of a given array is zero."
   ]
  },
  {
   "cell_type": "code",
   "execution_count": 1,
   "id": "ef65f044",
   "metadata": {},
   "outputs": [],
   "source": [
    "import numpy as np"
   ]
  },
  {
   "cell_type": "code",
   "execution_count": 29,
   "id": "b8d428b7",
   "metadata": {},
   "outputs": [
    {
     "data": {
      "text/plain": [
       "array([3, 7, 0, 0, 6, 2, 0, 6, 4, 5])"
      ]
     },
     "execution_count": 29,
     "metadata": {},
     "output_type": "execute_result"
    }
   ],
   "source": [
    "arr1 = np.random.randint(0,10,10)\n",
    "arr1\n"
   ]
  },
  {
   "cell_type": "code",
   "execution_count": 30,
   "id": "0a70f6b7",
   "metadata": {},
   "outputs": [],
   "source": [
    "def contains_zero(arr):\n",
    "    total_len = len(arr)\n",
    "    arr2 = arr[arr!=0]\n",
    "    partial_len = len(arr2)\n",
    "    return not(total_len == partial_len)"
   ]
  },
  {
   "cell_type": "code",
   "execution_count": 31,
   "id": "23734010",
   "metadata": {},
   "outputs": [
    {
     "name": "stdout",
     "output_type": "stream",
     "text": [
      "True\n",
      "False\n"
     ]
    }
   ],
   "source": [
    "print(contains_zero(arr1))\n",
    "arr2 = np.ones(3)\n",
    "print(contains_zero(arr2))"
   ]
  },
  {
   "cell_type": "markdown",
   "id": "1343e8e5",
   "metadata": {},
   "source": [
    "## 2. Write a NumPy program to test whether any of the elements of a given array is non-zero."
   ]
  },
  {
   "cell_type": "code",
   "execution_count": 32,
   "id": "b7a52865",
   "metadata": {},
   "outputs": [],
   "source": [
    "def contains_non_zero(arr):\n",
    "    total_len = len(arr)\n",
    "    arr2 = arr[arr==0]\n",
    "    partial_len = len(arr2)\n",
    "    return not(total_len == partial_len)"
   ]
  },
  {
   "cell_type": "code",
   "execution_count": 33,
   "id": "73c9ff07",
   "metadata": {},
   "outputs": [
    {
     "name": "stdout",
     "output_type": "stream",
     "text": [
      "False\n",
      "True\n",
      "True\n"
     ]
    }
   ],
   "source": [
    "arr1 = np.zeros(3)\n",
    "arr2 = np.ones(3)\n",
    "arr3 = np.random.randint(0,10,10)\n",
    "print(contains_non_zero(arr1))\n",
    "print(contains_non_zero(arr2))\n",
    "print(contains_non_zero(arr3))"
   ]
  },
  {
   "cell_type": "markdown",
   "id": "496ef026",
   "metadata": {},
   "source": [
    "## 3. Write a NumPy program to create an element-wise comparison (equal, equal within a tolerance) of two given "
   ]
  },
  {
   "cell_type": "code",
   "execution_count": 34,
   "id": "c838b589",
   "metadata": {},
   "outputs": [],
   "source": [
    "def is_equal(arr1, arr2):\n",
    "    return arr1==arr2"
   ]
  },
  {
   "cell_type": "code",
   "execution_count": 37,
   "id": "3493075a",
   "metadata": {},
   "outputs": [
    {
     "data": {
      "text/plain": [
       "array([False, False, False, False])"
      ]
     },
     "execution_count": 37,
     "metadata": {},
     "output_type": "execute_result"
    }
   ],
   "source": [
    "arr1 = np.ones(4)\n",
    "arr2 = np.zeros(4)\n",
    "is_equal(arr1, arr2)"
   ]
  },
  {
   "cell_type": "markdown",
   "id": "a7e3279b",
   "metadata": {},
   "source": [
    "## 4. Write a NumPy program to create an array of 10 zeros,10 ones, 10 fives."
   ]
  },
  {
   "cell_type": "code",
   "execution_count": 40,
   "id": "c5a1cc58",
   "metadata": {},
   "outputs": [
    {
     "name": "stdout",
     "output_type": "stream",
     "text": [
      "[0. 0. 0. 0. 0. 0. 0. 0. 0. 0.] [1. 1. 1. 1. 1. 1. 1. 1. 1. 1.] [5 5 5 5 5 5 5 5 5 5]\n"
     ]
    }
   ],
   "source": [
    "arr_zeros = np.zeros(10)\n",
    "arr_ones = np.ones(10)\n",
    "arr_fives = np.random.randint(5,6,10)\n",
    "print(arr_zeros, arr_ones, arr_fives)"
   ]
  },
  {
   "cell_type": "markdown",
   "id": "fd52d5f4",
   "metadata": {},
   "source": [
    "## 5. Write a NumPy program to create an array of the integers from 30 to70"
   ]
  },
  {
   "cell_type": "code",
   "execution_count": 41,
   "id": "514267bf",
   "metadata": {},
   "outputs": [
    {
     "data": {
      "text/plain": [
       "array([50, 64, 56, 58, 39, 54, 39, 35, 36, 40, 59, 67, 43, 47, 34])"
      ]
     },
     "execution_count": 41,
     "metadata": {},
     "output_type": "execute_result"
    }
   ],
   "source": [
    "arr_int = np.random.randint(30,70,15)\n",
    "arr_int"
   ]
  },
  {
   "cell_type": "markdown",
   "id": "cca6d4b0",
   "metadata": {},
   "source": [
    "## 6. Write a NumPy program to create a 3x3 identity matrix "
   ]
  },
  {
   "cell_type": "code",
   "execution_count": 43,
   "id": "003d7f15",
   "metadata": {},
   "outputs": [
    {
     "data": {
      "text/plain": [
       "array([[1., 0., 0.],\n",
       "       [0., 1., 0.],\n",
       "       [0., 0., 1.]])"
      ]
     },
     "execution_count": 43,
     "metadata": {},
     "output_type": "execute_result"
    }
   ],
   "source": [
    "identity_matrix = np.identity(3)\n",
    "identity_matrix"
   ]
  },
  {
   "cell_type": "markdown",
   "id": "1f5da84e",
   "metadata": {},
   "source": [
    "## 7. Write a NumPy program to generate a random number between 0 and 1 "
   ]
  },
  {
   "cell_type": "code",
   "execution_count": 55,
   "id": "b90edf2b",
   "metadata": {},
   "outputs": [
    {
     "data": {
      "text/plain": [
       "array([0.        , 0.16666667, 0.33333333, 0.5       , 0.66666667,\n",
       "       0.83333333, 1.        ])"
      ]
     },
     "execution_count": 55,
     "metadata": {},
     "output_type": "execute_result"
    }
   ],
   "source": [
    "arr_random = np.linspace(0,1,7)\n",
    "arr_random"
   ]
  },
  {
   "cell_type": "markdown",
   "id": "a6a1d0ff",
   "metadata": {},
   "source": [
    "## 8. Write a NumPy program to generate an array of 15 random numbers from a standard normal distribution "
   ]
  },
  {
   "cell_type": "code",
   "execution_count": 57,
   "id": "d9dc7731",
   "metadata": {},
   "outputs": [
    {
     "data": {
      "text/plain": [
       "array([-1.36934205,  0.52501725,  0.03571489, -0.40737407,  0.63650594,\n",
       "       -0.6531274 ,  1.62958801, -0.08587888,  0.24674833, -1.47644726,\n",
       "        1.35142071, -0.68582322,  0.46517689, -0.3120313 , -1.28053018])"
      ]
     },
     "execution_count": 57,
     "metadata": {},
     "output_type": "execute_result"
    }
   ],
   "source": [
    "arr_random = np.random.randn(15)\n",
    "arr_random"
   ]
  },
  {
   "cell_type": "markdown",
   "id": "ab3db3f7",
   "metadata": {},
   "source": [
    "## 9. Write a NumPy program to create a vector with values ranging from 15 to 55 and print all values except the first and last"
   ]
  },
  {
   "cell_type": "code",
   "execution_count": 60,
   "id": "c66e242b",
   "metadata": {},
   "outputs": [
    {
     "data": {
      "text/plain": [
       "array([32, 46, 21, 25, 43, 51, 54, 37])"
      ]
     },
     "execution_count": 60,
     "metadata": {},
     "output_type": "execute_result"
    }
   ],
   "source": [
    "range_vector = np.array(((np.random.randint(15,55,10))))\n",
    "range_vector[1:-1]"
   ]
  },
  {
   "cell_type": "markdown",
   "id": "d8f7384f",
   "metadata": {},
   "source": [
    "## 10. Write a NumPy program to create a vector of length 5 filled with arbitrary integers from 0 to 10 "
   ]
  },
  {
   "cell_type": "code",
   "execution_count": 63,
   "id": "e3e232e8",
   "metadata": {},
   "outputs": [
    {
     "data": {
      "text/plain": [
       "array([3, 9, 2, 4, 0])"
      ]
     },
     "execution_count": 63,
     "metadata": {},
     "output_type": "execute_result"
    }
   ],
   "source": [
    "vector_1 = np.random.randint(0,10,5)\n",
    "vector_1\n"
   ]
  },
  {
   "cell_type": "markdown",
   "id": "32338f43",
   "metadata": {},
   "source": [
    "## 11. Write a NumPy program to create a 10x10 matrix, in which the elements on the borders will be equal to 1, and inside 0."
   ]
  },
  {
   "cell_type": "raw",
   "id": "8b01f525",
   "metadata": {},
   "source": [
    "1 1 1 1 1 1 1 1 1 1 \n",
    "1 0 0 0 0 0 0 0 0 1 \n",
    "1 0 0 0 0 0 0 0 0 1\n",
    "1 0 0 0 0 0 0 0 0 1\n",
    "1 0 0 0 0 0 0 0 0 1\n",
    "1 0 0 0 0 0 0 0 0 1\n",
    "1 0 0 0 0 0 0 0 0 1\n",
    "1 0 0 0 0 0 0 0 0 1\n",
    "1 0 0 0 0 0 0 0 0 1\n",
    "1 0 0 0 0 0 0 0 0 1\n",
    "1 1 1 1 1 1 1 1 1 1"
   ]
  },
  {
   "cell_type": "code",
   "execution_count": 70,
   "id": "a263b928",
   "metadata": {},
   "outputs": [
    {
     "data": {
      "text/plain": [
       "array([[1., 1., 1., 1., 1., 1., 1., 1., 1., 1.],\n",
       "       [1., 0., 0., 0., 0., 0., 0., 0., 0., 1.],\n",
       "       [1., 0., 0., 0., 0., 0., 0., 0., 0., 1.],\n",
       "       [1., 0., 0., 0., 0., 0., 0., 0., 0., 1.],\n",
       "       [1., 0., 0., 0., 0., 0., 0., 0., 0., 1.],\n",
       "       [1., 0., 0., 0., 0., 0., 0., 0., 0., 1.],\n",
       "       [1., 0., 0., 0., 0., 0., 0., 0., 0., 1.],\n",
       "       [1., 0., 0., 0., 0., 0., 0., 0., 0., 1.],\n",
       "       [1., 0., 0., 0., 0., 0., 0., 0., 0., 1.],\n",
       "       [1., 1., 1., 1., 1., 1., 1., 1., 1., 1.]])"
      ]
     },
     "execution_count": 70,
     "metadata": {},
     "output_type": "execute_result"
    }
   ],
   "source": [
    "zero_one = np.ones((10,10))\n",
    "zero_one[1:-1 , 1:-1] = 0\n",
    "zero_one"
   ]
  },
  {
   "cell_type": "markdown",
   "id": "06647979",
   "metadata": {},
   "source": [
    "## 12. Write a NumPy program to create a 5x5 zero matrix with elements on the main diagonal equal to 1, 2, 3, 4, 5."
   ]
  },
  {
   "cell_type": "code",
   "execution_count": 74,
   "id": "949e5308",
   "metadata": {},
   "outputs": [
    {
     "data": {
      "text/plain": [
       "array([[1., 0., 0., 0., 0.],\n",
       "       [0., 2., 0., 0., 0.],\n",
       "       [0., 0., 3., 0., 0.],\n",
       "       [0., 0., 0., 4., 0.],\n",
       "       [0., 0., 0., 0., 5.]])"
      ]
     },
     "execution_count": 74,
     "metadata": {},
     "output_type": "execute_result"
    }
   ],
   "source": [
    "zero_matrix = np.zeros((5,5))\n",
    "for i in range(len(zero_matrix)):\n",
    "    zero_matrix[i, i] = i + 1\n",
    "zero_matrix"
   ]
  },
  {
   "cell_type": "markdown",
   "id": "29d1d234",
   "metadata": {},
   "source": [
    "## 13. Write a NumPy program to create a 4x4 matrix in which 0 and 1 are staggered, with zeros on the main diagonal.\n"
   ]
  },
  {
   "cell_type": "raw",
   "id": "30358722",
   "metadata": {},
   "source": [
    "0 1 0 1\n",
    "1 0 1 0\n",
    "0 1 0 1\n",
    "1 0 1 0"
   ]
  },
  {
   "cell_type": "code",
   "execution_count": 77,
   "id": "5583b6e2",
   "metadata": {},
   "outputs": [
    {
     "data": {
      "text/plain": [
       "array([[0., 1., 0., 1.],\n",
       "       [1., 0., 1., 0.],\n",
       "       [0., 1., 0., 1.],\n",
       "       [1., 0., 1., 0.]])"
      ]
     },
     "execution_count": 77,
     "metadata": {},
     "output_type": "execute_result"
    }
   ],
   "source": [
    "staggered_matrix = np.ones((4,4))\n",
    "for i in range(len(staggered_matrix)):\n",
    "    staggered_matrix[i,i]=0\n",
    "    if i+2 < 4:\n",
    "        staggered_matrix[i,i+2]=0\n",
    "    else:\n",
    "        staggered_matrix[i,i-2]=0\n",
    "staggered_matrix"
   ]
  },
  {
   "cell_type": "markdown",
   "id": "ddca3dc8",
   "metadata": {},
   "source": [
    "## 14. Write a NumPy program to save two given arrays into a single file in compressed format (.npz format) and load it"
   ]
  },
  {
   "cell_type": "code",
   "execution_count": 87,
   "id": "ffed9801",
   "metadata": {},
   "outputs": [
    {
     "name": "stdout",
     "output_type": "stream",
     "text": [
      "[7 7 5 1 2 9 8 8 3 7]\n",
      "[7 7 5 1 2 9 8 8 3 7]\n"
     ]
    }
   ],
   "source": [
    "arr1 = np.random.randint(1,10,10)\n",
    "arr2 = np.random.randint(10,20,10)\n",
    "np.savez_compressed('arrays.npz',arr1=arr1,arr2=arr2)\n",
    "loaded_data = np.load('arrays.npz')\n",
    "loaded_arr1 = loaded_data['arr1']\n",
    "print(arr1)\n",
    "print(loaded_arr1)"
   ]
  },
  {
   "cell_type": "markdown",
   "id": "3bf5056d",
   "metadata": {},
   "source": [
    "## 15. Write a NumPy program to create a one-dimensional array of forty pseudo-randomly generated values. Select "
   ]
  },
  {
   "cell_type": "code",
   "execution_count": 88,
   "id": "62e65d13",
   "metadata": {},
   "outputs": [
    {
     "data": {
      "text/plain": [
       "array([0.42126576, 0.7008643 , 0.82191095, 0.50136463, 0.60743352,\n",
       "       0.48794159, 0.27224478, 0.26352943, 0.66653806, 0.85143763,\n",
       "       0.7139832 , 0.03293814, 0.06073602, 0.38714697, 0.63339634,\n",
       "       0.08105626, 0.35512844, 0.26232693, 0.39978177, 0.55622233,\n",
       "       0.55414166, 0.9552885 , 0.79017992, 0.08800753, 0.10469658,\n",
       "       0.40014159, 0.40098875, 0.16866301, 0.90150094, 0.02863154,\n",
       "       0.80547103, 0.43572773, 0.19971096, 0.61477178, 0.18748272,\n",
       "       0.59665885, 0.13491558, 0.69464634, 0.93481797, 0.00571221])"
      ]
     },
     "execution_count": 88,
     "metadata": {},
     "output_type": "execute_result"
    }
   ],
   "source": [
    "oneD = np.random.rand(40)\n",
    "oneD"
   ]
  },
  {
   "cell_type": "markdown",
   "id": "127fc275",
   "metadata": {},
   "source": [
    "## 16. Write a NumPy program to extract all numbers from a given array which are less and greater than a specified number."
   ]
  },
  {
   "cell_type": "code",
   "execution_count": 90,
   "id": "2cb02be3",
   "metadata": {},
   "outputs": [
    {
     "name": "stdout",
     "output_type": "stream",
     "text": [
      "[31 28 53 54 32 77 78 49 58 26  4 57 31 45 33 45 14 77 46 25 25 13 51 28\n",
      " 33 16 85 99 85 64 73 39  3 24 44  4 98 42 55 86]\n",
      "The array elements that are less than 50: [31 28 32 49 26  4 31 45 33 45 14 46 25 25 13 28 33 16 39  3 24 44  4 42]\n",
      "The array elements that are greater than 50: [53 54 77 78 58 57 77 51 85 99 85 64 73 98 55 86]\n"
     ]
    }
   ],
   "source": [
    "arr1 = np.random.randint(0,100,40)\n",
    "print(arr1)\n",
    "print(f'The array elements that are less than 50: {arr1[arr1<=50]}')\n",
    "print(f'The array elements that are greater than 50: {arr1[arr1>50]}')"
   ]
  }
 ],
 "metadata": {
  "kernelspec": {
   "display_name": "Python 3 (ipykernel)",
   "language": "python",
   "name": "python3"
  },
  "language_info": {
   "codemirror_mode": {
    "name": "ipython",
    "version": 3
   },
   "file_extension": ".py",
   "mimetype": "text/x-python",
   "name": "python",
   "nbconvert_exporter": "python",
   "pygments_lexer": "ipython3",
   "version": "3.9.13"
  }
 },
 "nbformat": 4,
 "nbformat_minor": 5
}
